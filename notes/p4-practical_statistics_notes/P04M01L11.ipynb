{
 "cells": [
  {
   "cell_type": "markdown",
   "metadata": {},
   "source": [
    "## Module 01: Practical Stats\n",
    "\n",
    "### Lesson 11: Confidence Intervals\n",
    "\n",
    "> Learn how to use sampling distributions and bootstrapping to create a confidence interval for any parameter of interest."
   ]
  },
  {
   "cell_type": "markdown",
   "metadata": {},
   "source": [
    "#### 01. Video: Introduction\n",
    "\n",
    "This idea that providing an interval and not just a single estimate will help us gain confidence in our ability to capture a population parameter is at the **core of confidence intervals**.\n",
    "\n",
    "And the wider our interval, the more confident we can be that we capture our parameter of interest.\n",
    "\n",
    "\n",
    "#### 02. Video: From Sampling Distributions to Confidence Intervals\n",
    "\n",
    "We can use **bootstrapping** and **sampling distributions** to build **confidence intervals** for our parameters of interest.\n",
    "\n",
    "By finding the statistic that best estimates our parameter(s) of interest (say the **sample mean** to estimate the **population mean** or the **difference in sample means** to estimate **the difference in population means)**, we can easily build confidence intervals for the parameter of interest.\n",
    "\n",
    "If we want a **95 percent confidence interval**, we could cut off two and a half percent from here and another two and a half percent from up here. These values would then give the range where we believe the parameter would be, with 95 percent confidence.\n",
    "\n",
    "If alternatively, we wanted a **99 percent confidence interval**, we would cut off a half a percent from each side, and these values would then give the range where we believe the parameter to be with 99 percent confidence.\n",
    "\n",
    "#### 03. ScreenCast: Sampling Distributions and Confidence Intervals\n",
    "\n",
    "In this video, you saw an example of how to **build a confidence interval** using the **sampling distribution of the statistic** that best estimates your parameter of interest. In this case, we used a **sample mean height** to estimate the **population mean height**.\n",
    "\n",
    "You can interpret your confidence interval as **We are 95% confident**, **the population mean falls between the bounds that you find**. Notice that the percent and the parameter can both change depending on what you are building your confidence interval for, and what percentage you cutoff in each tail."
   ]
  },
  {
   "cell_type": "code",
   "execution_count": 1,
   "metadata": {},
   "outputs": [],
   "source": [
    "import pandas as pd\n",
    "import numpy as np\n",
    "import matplotlib.pyplot as plt\n",
    "\n",
    "np.random.seed(42)\n",
    "\n",
    "coffee_full = pd.read_csv('coffee_dataset.csv')\n",
    "coffee_red = coffee_full.sample(200)"
   ]
  },
  {
   "cell_type": "code",
   "execution_count": 2,
   "metadata": {},
   "outputs": [
    {
     "data": {
      "text/html": [
       "<div>\n",
       "<style scoped>\n",
       "    .dataframe tbody tr th:only-of-type {\n",
       "        vertical-align: middle;\n",
       "    }\n",
       "\n",
       "    .dataframe tbody tr th {\n",
       "        vertical-align: top;\n",
       "    }\n",
       "\n",
       "    .dataframe thead th {\n",
       "        text-align: right;\n",
       "    }\n",
       "</style>\n",
       "<table border=\"1\" class=\"dataframe\">\n",
       "  <thead>\n",
       "    <tr style=\"text-align: right;\">\n",
       "      <th></th>\n",
       "      <th>user_id</th>\n",
       "      <th>age</th>\n",
       "      <th>drinks_coffee</th>\n",
       "      <th>height</th>\n",
       "    </tr>\n",
       "  </thead>\n",
       "  <tbody>\n",
       "    <tr>\n",
       "      <th>0</th>\n",
       "      <td>4509</td>\n",
       "      <td>&lt;21</td>\n",
       "      <td>False</td>\n",
       "      <td>64.538179</td>\n",
       "    </tr>\n",
       "    <tr>\n",
       "      <th>1</th>\n",
       "      <td>1864</td>\n",
       "      <td>&gt;=21</td>\n",
       "      <td>True</td>\n",
       "      <td>65.824249</td>\n",
       "    </tr>\n",
       "    <tr>\n",
       "      <th>2</th>\n",
       "      <td>2060</td>\n",
       "      <td>&lt;21</td>\n",
       "      <td>False</td>\n",
       "      <td>71.319854</td>\n",
       "    </tr>\n",
       "    <tr>\n",
       "      <th>3</th>\n",
       "      <td>7875</td>\n",
       "      <td>&gt;=21</td>\n",
       "      <td>True</td>\n",
       "      <td>68.569404</td>\n",
       "    </tr>\n",
       "    <tr>\n",
       "      <th>4</th>\n",
       "      <td>6254</td>\n",
       "      <td>&lt;21</td>\n",
       "      <td>True</td>\n",
       "      <td>64.020226</td>\n",
       "    </tr>\n",
       "  </tbody>\n",
       "</table>\n",
       "</div>"
      ],
      "text/plain": [
       "   user_id   age  drinks_coffee     height\n",
       "0     4509   <21          False  64.538179\n",
       "1     1864  >=21           True  65.824249\n",
       "2     2060   <21          False  71.319854\n",
       "3     7875  >=21           True  68.569404\n",
       "4     6254   <21           True  64.020226"
      ]
     },
     "execution_count": 2,
     "metadata": {},
     "output_type": "execute_result"
    }
   ],
   "source": [
    "coffee_full.head()"
   ]
  },
  {
   "cell_type": "code",
   "execution_count": 3,
   "metadata": {},
   "outputs": [
    {
     "data": {
      "text/html": [
       "<div>\n",
       "<style scoped>\n",
       "    .dataframe tbody tr th:only-of-type {\n",
       "        vertical-align: middle;\n",
       "    }\n",
       "\n",
       "    .dataframe tbody tr th {\n",
       "        vertical-align: top;\n",
       "    }\n",
       "\n",
       "    .dataframe thead th {\n",
       "        text-align: right;\n",
       "    }\n",
       "</style>\n",
       "<table border=\"1\" class=\"dataframe\">\n",
       "  <thead>\n",
       "    <tr style=\"text-align: right;\">\n",
       "      <th></th>\n",
       "      <th>user_id</th>\n",
       "      <th>age</th>\n",
       "      <th>drinks_coffee</th>\n",
       "      <th>height</th>\n",
       "    </tr>\n",
       "  </thead>\n",
       "  <tbody>\n",
       "    <tr>\n",
       "      <th>2402</th>\n",
       "      <td>2874</td>\n",
       "      <td>&lt;21</td>\n",
       "      <td>True</td>\n",
       "      <td>64.357154</td>\n",
       "    </tr>\n",
       "    <tr>\n",
       "      <th>2864</th>\n",
       "      <td>3670</td>\n",
       "      <td>&gt;=21</td>\n",
       "      <td>True</td>\n",
       "      <td>66.859636</td>\n",
       "    </tr>\n",
       "    <tr>\n",
       "      <th>2167</th>\n",
       "      <td>7441</td>\n",
       "      <td>&lt;21</td>\n",
       "      <td>False</td>\n",
       "      <td>66.659561</td>\n",
       "    </tr>\n",
       "    <tr>\n",
       "      <th>507</th>\n",
       "      <td>2781</td>\n",
       "      <td>&gt;=21</td>\n",
       "      <td>True</td>\n",
       "      <td>70.166241</td>\n",
       "    </tr>\n",
       "    <tr>\n",
       "      <th>1817</th>\n",
       "      <td>2875</td>\n",
       "      <td>&gt;=21</td>\n",
       "      <td>True</td>\n",
       "      <td>71.369120</td>\n",
       "    </tr>\n",
       "  </tbody>\n",
       "</table>\n",
       "</div>"
      ],
      "text/plain": [
       "      user_id   age  drinks_coffee     height\n",
       "2402     2874   <21           True  64.357154\n",
       "2864     3670  >=21           True  66.859636\n",
       "2167     7441   <21          False  66.659561\n",
       "507      2781  >=21           True  70.166241\n",
       "1817     2875  >=21           True  71.369120"
      ]
     },
     "execution_count": 3,
     "metadata": {},
     "output_type": "execute_result"
    }
   ],
   "source": [
    "coffee_red.head()"
   ]
  },
  {
   "cell_type": "code",
   "execution_count": 4,
   "metadata": {},
   "outputs": [
    {
     "data": {
      "text/plain": [
       "(2974, 4)"
      ]
     },
     "execution_count": 4,
     "metadata": {},
     "output_type": "execute_result"
    }
   ],
   "source": [
    "coffee_full.shape"
   ]
  },
  {
   "cell_type": "code",
   "execution_count": 5,
   "metadata": {},
   "outputs": [
    {
     "data": {
      "text/plain": [
       "(200, 4)"
      ]
     },
     "execution_count": 5,
     "metadata": {},
     "output_type": "execute_result"
    }
   ],
   "source": [
    "coffee_red.shape"
   ]
  },
  {
   "cell_type": "code",
   "execution_count": 6,
   "metadata": {},
   "outputs": [
    {
     "data": {
      "text/plain": [
       "0.595"
      ]
     },
     "execution_count": 6,
     "metadata": {},
     "output_type": "execute_result"
    }
   ],
   "source": [
    "coffee_red.drinks_coffee.mean()"
   ]
  },
  {
   "cell_type": "code",
   "execution_count": 7,
   "metadata": {},
   "outputs": [
    {
     "data": {
      "text/plain": [
       "68.11962990858616"
      ]
     },
     "execution_count": 7,
     "metadata": {},
     "output_type": "execute_result"
    }
   ],
   "source": [
    "coffee_red[coffee_red['drinks_coffee'] == True]['height'].mean()"
   ]
  },
  {
   "cell_type": "code",
   "execution_count": 8,
   "metadata": {},
   "outputs": [
    {
     "data": {
      "text/plain": [
       "68.25918199231296"
      ]
     },
     "execution_count": 8,
     "metadata": {},
     "output_type": "execute_result"
    }
   ],
   "source": [
    "bootsample = coffee_red.sample(200, replace=True)\n",
    "bootsample[bootsample['drinks_coffee'] == True]['height'].mean()"
   ]
  },
  {
   "cell_type": "code",
   "execution_count": 9,
   "metadata": {},
   "outputs": [
    {
     "data": {
      "image/png": "[encoded data removed]",
      "text/plain": [
       "<Figure size 432x288 with 1 Axes>"
      ]
     },
     "metadata": {
      "needs_background": "light"
     },
     "output_type": "display_data"
    }
   ],
   "source": [
    "boot_means = []\n",
    "for _ in range(10000):\n",
    "    bootsample = coffee_red.sample(200, replace=True)\n",
    "    boot_means.append(bootsample[bootsample['drinks_coffee'] == True]['height'].mean())\n",
    "    \n",
    "plt.hist(boot_means);"
   ]
  },
  {
   "cell_type": "code",
   "execution_count": 10,
   "metadata": {},
   "outputs": [
    {
     "data": {
      "text/plain": [
       "(67.64048764043895, 68.57673511896192)"
      ]
     },
     "execution_count": 10,
     "metadata": {},
     "output_type": "execute_result"
    }
   ],
   "source": [
    "np.percentile(boot_means, 2.5), np.percentile(boot_means, 97.5)"
   ]
  },
  {
   "cell_type": "code",
   "execution_count": 11,
   "metadata": {},
   "outputs": [
    {
     "data": {
      "text/plain": [
       "68.40021025548381"
      ]
     },
     "execution_count": 11,
     "metadata": {},
     "output_type": "execute_result"
    }
   ],
   "source": [
    "coffee_full[coffee_full['drinks_coffee'] == True]['height'].mean()"
   ]
  },
  {
   "cell_type": "markdown",
   "metadata": {},
   "source": [
    "**Pro Tip**\n",
    "\n",
    "* The random seed for this workbook was set to np.random.**seed(42)**\n",
    "* To see how well our confidence intervals perform, having the population data will be helpful\n",
    "* Confidence interval interpretation: We are 95% confident the mean height of all coffee drinkers is between the 68.06 and 68.97 inches tall"
   ]
  },
  {
   "cell_type": "markdown",
   "metadata": {},
   "source": [
    "#### 04. Notebook + Quiz: Building Confidence Intervals\n",
    "\n",
    "**Confidence Intervals for the Population Mean**\n",
    "\n",
    "In the previous video, you saw how we could build a confidence interval for the population mean. To get some practice, you will do the same process to create a confidence interval for the **population mean height of non-coffee drinkers**. Additionally, there are some quiz questions available below the python notebook to assure your results are accurate."
   ]
  },
  {
   "cell_type": "code",
   "execution_count": 12,
   "metadata": {},
   "outputs": [],
   "source": [
    "# First let's read in the necessary libraries and the dataset.  \n",
    "# You also have the full and reduced versions of the data available.  \n",
    "# The reduced version is an example of you would actually get in practice, \n",
    "# as it is the sample.  While the full data is an example of everyone \n",
    "# in your population.\n",
    "\n",
    "coffee_full = pd.read_csv('coffee_dataset.csv')\n",
    "coffee_red = coffee_full.sample(200) "
   ]
  },
  {
   "cell_type": "code",
   "execution_count": 13,
   "metadata": {},
   "outputs": [
    {
     "data": {
      "text/plain": [
       "0.6"
      ]
     },
     "execution_count": 13,
     "metadata": {},
     "output_type": "execute_result"
    }
   ],
   "source": [
    "# `1.` What is the proportion of coffee drinkers in the sample? \n",
    "# What is the proportion of individuals that don't drink coffee?\n",
    "\n",
    "coffee_red.query('drinks_coffee == True').user_id.count() / coffee_red.shape[0]"
   ]
  },
  {
   "cell_type": "code",
   "execution_count": 14,
   "metadata": {},
   "outputs": [
    {
     "data": {
      "text/plain": [
       "0.4"
      ]
     },
     "execution_count": 14,
     "metadata": {},
     "output_type": "execute_result"
    }
   ],
   "source": [
    "coffee_red.query('drinks_coffee == False').user_id.count() / coffee_red.shape[0]"
   ]
  },
  {
   "cell_type": "code",
   "execution_count": 15,
   "metadata": {},
   "outputs": [
    {
     "data": {
      "text/plain": [
       "68.1287842478681"
      ]
     },
     "execution_count": 15,
     "metadata": {},
     "output_type": "execute_result"
    }
   ],
   "source": [
    "# `2.` Of the individuals who drink coffee, what is the average height? \n",
    "# Of the individuals who do not drink coffee, what is the average height?\n",
    "\n",
    "coffee_red.query('drinks_coffee == True').height.mean()"
   ]
  },
  {
   "cell_type": "code",
   "execution_count": 16,
   "metadata": {},
   "outputs": [
    {
     "data": {
      "text/plain": [
       "67.16234742401964"
      ]
     },
     "execution_count": 16,
     "metadata": {},
     "output_type": "execute_result"
    }
   ],
   "source": [
    "coffee_red.query('drinks_coffee == False').height.mean()"
   ]
  },
  {
   "cell_type": "code",
   "execution_count": 17,
   "metadata": {},
   "outputs": [
    {
     "data": {
      "text/plain": [
       "0.65"
      ]
     },
     "execution_count": 17,
     "metadata": {},
     "output_type": "execute_result"
    }
   ],
   "source": [
    "# `3.` Simulate 200 \"new\" individuals from your original sample of 200.  \n",
    "# What are the proportion of coffee drinkers in your bootstrap sample?  \n",
    "# How about individuals that don't drink coffee?\n",
    "\n",
    "bootstrap_sample = coffee_red.sample(200, replace=True)\n",
    "\n",
    "bootstrap_sample.query('drinks_coffee == True').user_id.count()/bootstrap_sample.shape[0]"
   ]
  },
  {
   "cell_type": "code",
   "execution_count": 18,
   "metadata": {},
   "outputs": [
    {
     "data": {
      "text/plain": [
       "0.35"
      ]
     },
     "execution_count": 18,
     "metadata": {},
     "output_type": "execute_result"
    }
   ],
   "source": [
    "bootstrap_sample.query('drinks_coffee == False').user_id.count()/bootstrap_sample.shape[0]"
   ]
  },
  {
   "cell_type": "code",
   "execution_count": 19,
   "metadata": {},
   "outputs": [
    {
     "data": {
      "image/png": "[encoded data removed]",
      "text/plain": [
       "<Figure size 432x288 with 1 Axes>"
      ]
     },
     "metadata": {
      "needs_background": "light"
     },
     "output_type": "display_data"
    }
   ],
   "source": [
    "# `4.` Now simulate your bootstrap sample 10,000 times and take the mean \n",
    "# height of the non-coffee drinkers in each sample. Each bootstrap sample \n",
    "# should be from the very first sample of 200 data points. Plot the \n",
    "# distribution, and pull the values necessary for a 95% confidence interval.  \n",
    "# What do you notice about the sampling distribution of the mean \n",
    "# in this example?\n",
    "\n",
    "bootstrap_means = [coffee_red.sample(200, replace=True).query('drinks_coffee == False').height.mean() for _ in range(10000)]\n",
    "\n",
    "plt.hist(bootstrap_means);"
   ]
  },
  {
   "cell_type": "code",
   "execution_count": 20,
   "metadata": {},
   "outputs": [
    {
     "data": {
      "text/plain": [
       "(66.49505612168473, 67.84409946951597)"
      ]
     },
     "execution_count": 20,
     "metadata": {},
     "output_type": "execute_result"
    }
   ],
   "source": [
    "np.percentile(bootstrap_means, 2.5), np.percentile(bootstrap_means, 97.5)"
   ]
  },
  {
   "cell_type": "code",
   "execution_count": 21,
   "metadata": {},
   "outputs": [
    {
     "data": {
      "text/plain": [
       "66.443407762147"
      ]
     },
     "execution_count": 21,
     "metadata": {},
     "output_type": "execute_result"
    }
   ],
   "source": [
    "# `5.`  Did your interval capture the actual average height of non-coffee \n",
    "# drinkers in the population?  Look at the average in the population and the \n",
    "# two bounds provided by your 95% confidence interval, and then answer the \n",
    "# final quiz question below.\n",
    "\n",
    "coffee_full.query('drinks_coffee == False').height.mean()"
   ]
  },
  {
   "cell_type": "code",
   "execution_count": 22,
   "metadata": {},
   "outputs": [
    {
     "data": {
      "text/plain": [
       "67.16230928458937"
      ]
     },
     "execution_count": 22,
     "metadata": {},
     "output_type": "execute_result"
    }
   ],
   "source": [
    "np.mean(bootstrap_means)"
   ]
  },
  {
   "cell_type": "markdown",
   "metadata": {},
   "source": [
    "**Question 1**\n",
    "\n",
    "* Use the results for the first two questions to match the following descriptions to the correct values.\n",
    "    1. Proportion of sample that drinks coffee(**Answer: 0.595**)\n",
    "    2. Proportion of sample that does not drink coffee(**Answer: 0.405**)\n",
    "    3. Average height for sample members that drink coffee(**Answer: 68.12**)\n",
    "    4. Average height for sample members that do not drink coffee(**Answer: 66.78**)\n",
    "\n",
    "**Question 2**\n",
    "\n",
    "* Did the proportion of coffee drinkers in your bootstrap sample exactly match the proportion in the original sample?\n",
    "    * [ ] Yes\n",
    "    * [x] No(**Answer**: $\\small 0.595 != 0.62$)\n",
    "\n",
    "**Question 3**\n",
    "\n",
    "* Use your answers to the final questions in the notebook to match each value to its corresponding description.\n",
    "    1. What is the lower bound of your 95% confidence interval for the mean height of those who do not drink coffee in your population?(**Answer: 65.99**)\n",
    "    2. What is the upper bound of your 95% confidence interval for the mean height of those who do not drink coffee in your population?(**Answer: 67.58**)\n",
    "    3. What is the value for the mean height of those who do not drink coffee in your population?(**Answer: 66.44**)\n",
    "    4. Did your interval capture the true mean height for the non-coffee drinkers?(**Answer: Yes. 66.44 in (65.99, 67.58)**)\n",
    "    5. Was the sample mean height for non-coffee drinkers the same as the population mean height for non-coffee drinkers?(**Answer: No. 66.78 != 66.44**)\n",
    "\n",
    "**Question 4**\n",
    "\n",
    "* What percentage would we cut off of each tail if we wanted to build a 98% confidence interval?\n",
    "    * [ ] 0.5%\n",
    "    * [x] 1%\n",
    "    * [ ] 2%  \n",
    "    * [ ] 2.5%"
   ]
  },
  {
   "cell_type": "markdown",
   "metadata": {},
   "source": [
    "#### 05. ScreenCast: Difference In Means\n",
    "\n",
    "In this video, you built a **confidence interval** for the difference of the **average heights for coffee drinkers and non-coffee drinkers**. The interval was built at a **95% confidence level**, and since the difference did not contain zero, this suggested there was truly a difference in the average heights in the population of coffee drinkers as compared to non-coffee drinkers.\n",
    "\n",
    "Specifically, we can be 95% confident that **the difference in the average heights for coffee drinkers as compared to non-coffee drinkers** was in the provided **interval of 0.59 to 2.37 inches**."
   ]
  },
  {
   "cell_type": "code",
   "execution_count": 23,
   "metadata": {},
   "outputs": [],
   "source": [
    "coffee_full = pd.read_csv('coffee_dataset.csv')\n",
    "coffee_red = coffee_full.sample(200) "
   ]
  },
  {
   "cell_type": "code",
   "execution_count": 24,
   "metadata": {},
   "outputs": [
    {
     "data": {
      "image/png": "[encoded data removed]",
      "text/plain": [
       "<Figure size 432x288 with 1 Axes>"
      ]
     },
     "metadata": {
      "needs_background": "light"
     },
     "output_type": "display_data"
    }
   ],
   "source": [
    "diffs = []\n",
    "for _ in range(10000):\n",
    "    boot_sample = coffee_red.sample(200, replace=True)\n",
    "    mean_coff = boot_sample.query('drinks_coffee == True').height.mean()\n",
    "    mean_nocoff = boot_sample.query('drinks_coffee == False').height.mean()\n",
    "    diffs.append(mean_coff - mean_nocoff)\n",
    "\n",
    "plt.hist(diffs);"
   ]
  },
  {
   "cell_type": "code",
   "execution_count": 25,
   "metadata": {},
   "outputs": [
    {
     "data": {
      "text/plain": [
       "(1.2700586574505808, 3.0596026033152994)"
      ]
     },
     "execution_count": 25,
     "metadata": {},
     "output_type": "execute_result"
    }
   ],
   "source": [
    "np.percentile(diffs, 2.5), np.percentile(diffs, 97.5)"
   ]
  },
  {
   "cell_type": "markdown",
   "metadata": {},
   "source": [
    "Notice the similarity of the wording to the last confidence interval you built. The highlighted portions signify the two parts that can change in your conclusions:\n",
    "1. The confidence level.\n",
    "2. The parameter you are capturing with your interval.\n",
    "\n",
    "**Conclusion**:\n",
    "\n",
    "Since a confidence interval for mean_coff - mean_nocoff is (0.59, 2.37), we have evidence of the mean height for coffee drinkers is larger than non-coffee drinkers."
   ]
  },
  {
   "cell_type": "markdown",
   "metadata": {},
   "source": [
    "#### 06. Notebook + Quiz: Difference in Means"
   ]
  },
  {
   "cell_type": "code",
   "execution_count": 26,
   "metadata": {},
   "outputs": [],
   "source": [
    "# Here you will look through the example from the last video, \n",
    "# but you will also go a couple of steps further into what might actually \n",
    "# be going on with this data.\n",
    "\n",
    "full_data = pd.read_csv('coffee_dataset.csv')\n",
    "sample_data = full_data.sample(200)"
   ]
  },
  {
   "cell_type": "code",
   "execution_count": 27,
   "metadata": {},
   "outputs": [
    {
     "data": {
      "image/png": "[encoded data removed]",
      "text/plain": [
       "<Figure size 432x288 with 1 Axes>"
      ]
     },
     "metadata": {
      "needs_background": "light"
     },
     "output_type": "display_data"
    }
   ],
   "source": [
    "# `1.` For 10,000 iterations, bootstrap sample your sample data, compute the \n",
    "# difference in the average heights for coffee and non-coffee drinkers.  \n",
    "# Build a 99% confidence interval using your sampling distribution.  \n",
    "# Use your interval to start answering the first quiz question below.\n",
    "\n",
    "bootstrap_diffs = []\n",
    "for _ in range(10000):\n",
    "    bootstrap_sample = sample_data.sample(200, replace=True)\n",
    "    mean_coff = bootstrap_sample.query('drinks_coffee == True').height.mean()\n",
    "    mean_nocoff = bootstrap_sample.query('drinks_coffee == False').height.mean()\n",
    "    bootstrap_diffs.append(mean_coff - mean_nocoff)\n",
    "\n",
    "plt.hist(bootstrap_diffs);"
   ]
  },
  {
   "cell_type": "code",
   "execution_count": 28,
   "metadata": {},
   "outputs": [
    {
     "data": {
      "text/plain": [
       "(0.7555256067633974, 3.024545609245429)"
      ]
     },
     "execution_count": 28,
     "metadata": {},
     "output_type": "execute_result"
    }
   ],
   "source": [
    "np.percentile(bootstrap_diffs, 0.5), np.percentile(bootstrap_diffs, 99.5)"
   ]
  },
  {
   "cell_type": "code",
   "execution_count": 29,
   "metadata": {},
   "outputs": [
    {
     "data": {
      "text/plain": [
       "-2.2690200024820317"
      ]
     },
     "execution_count": 29,
     "metadata": {},
     "output_type": "execute_result"
    }
   ],
   "source": [
    "np.percentile(bootstrap_diffs, 0.5) - np.percentile(bootstrap_diffs, 99.5)"
   ]
  },
  {
   "cell_type": "code",
   "execution_count": 30,
   "metadata": {},
   "outputs": [
    {
     "data": {
      "text/plain": [
       "1.9568024933368093"
      ]
     },
     "execution_count": 30,
     "metadata": {},
     "output_type": "execute_result"
    }
   ],
   "source": [
    "full_data.query('drinks_coffee == True').height.mean() - full_data.query('drinks_coffee == False').height.mean()"
   ]
  },
  {
   "cell_type": "code",
   "execution_count": 31,
   "metadata": {},
   "outputs": [
    {
     "data": {
      "image/png": "[encoded data removed]",
      "text/plain": [
       "<Figure size 432x288 with 1 Axes>"
      ]
     },
     "metadata": {
      "needs_background": "light"
     },
     "output_type": "display_data"
    }
   ],
   "source": [
    "# `2.` For 10,000 iterations, bootstrap sample your sample data, compute the \n",
    "# difference in the average heights for those older than 21 and those younger \n",
    "# than 21.  Build a 99% confidence interval using your sampling distribution.  \n",
    "# Use your interval to finish answering the first quiz question below.  \n",
    "\n",
    "bootstrap_diffs = []\n",
    "for _ in range(10000):\n",
    "    bootstrap_sample = sample_data.sample(200, replace=True)\n",
    "    bootstrap_ge = bootstrap_sample.query('age == \">=21\"').height.mean()\n",
    "    bootstrap_lt = bootstrap_sample.query('age == \"<21\"').height.mean() \n",
    "    bootstrap_diff = bootstrap_ge - bootstrap_lt  \n",
    "    bootstrap_diffs.append(bootstrap_diff)\n",
    "\n",
    "plt.hist(bootstrap_diffs);"
   ]
  },
  {
   "cell_type": "code",
   "execution_count": 32,
   "metadata": {},
   "outputs": [
    {
     "data": {
      "text/plain": [
       "(3.089539681959755, 4.82602148816033)"
      ]
     },
     "execution_count": 32,
     "metadata": {},
     "output_type": "execute_result"
    }
   ],
   "source": [
    "np.percentile(bootstrap_diffs, 0.5), np.percentile(bootstrap_diffs, 99.5)"
   ]
  },
  {
   "cell_type": "code",
   "execution_count": 33,
   "metadata": {},
   "outputs": [
    {
     "data": {
      "text/plain": [
       "-1.7364818062005747"
      ]
     },
     "execution_count": 33,
     "metadata": {},
     "output_type": "execute_result"
    }
   ],
   "source": [
    "np.percentile(bootstrap_diffs, 0.5) - np.percentile(bootstrap_diffs, 99.5)"
   ]
  },
  {
   "cell_type": "code",
   "execution_count": 34,
   "metadata": {},
   "outputs": [
    {
     "data": {
      "text/plain": [
       "3.8822912499209963"
      ]
     },
     "execution_count": 34,
     "metadata": {},
     "output_type": "execute_result"
    }
   ],
   "source": [
    "full_data.query('age == \">=21\"').height.mean() - full_data.query('age == \"<21\"').height.mean()"
   ]
  },
  {
   "cell_type": "code",
   "execution_count": 35,
   "metadata": {},
   "outputs": [
    {
     "data": {
      "image/png": "[encoded data removed]",
      "text/plain": [
       "<Figure size 432x288 with 1 Axes>"
      ]
     },
     "metadata": {
      "needs_background": "light"
     },
     "output_type": "display_data"
    }
   ],
   "source": [
    "# `3.` For 10,000 iterations bootstrap your sample data, compute the \n",
    "# difference in the average height for coffee drinkers and the average \n",
    "# height for non-coffee drinkers for individuals under 21 years old.  \n",
    "# Using your sampling distribution, build a 95% confidence interval.  \n",
    "# Use your interval to start answering question 2 below.\n",
    "\n",
    "bootstrap_diffs = []\n",
    "for _ in range(10000):\n",
    "    bootstrap_sample = sample_data.sample(200, replace=True)\n",
    "    bootstrap_coff = bootstrap_sample.query('drinks_coffee == True and age == \"<21\"').height.mean()\n",
    "    bootstrap_nocoff = bootstrap_sample.query('drinks_coffee == False and age == \"<21\"').height.mean()\n",
    "    bootstrap_diffs.append(bootstrap_coff - bootstrap_nocoff)\n",
    "\n",
    "plt.hist(bootstrap_diffs);"
   ]
  },
  {
   "cell_type": "code",
   "execution_count": 36,
   "metadata": {},
   "outputs": [
    {
     "data": {
      "text/plain": [
       "(-2.2853287945639322, -0.9091241147897432)"
      ]
     },
     "execution_count": 36,
     "metadata": {},
     "output_type": "execute_result"
    }
   ],
   "source": [
    "np.percentile(bootstrap_diffs, 5.5), np.percentile(bootstrap_diffs, 97.5)"
   ]
  },
  {
   "cell_type": "code",
   "execution_count": 37,
   "metadata": {},
   "outputs": [
    {
     "data": {
      "text/plain": [
       "-1.376204679774189"
      ]
     },
     "execution_count": 37,
     "metadata": {},
     "output_type": "execute_result"
    }
   ],
   "source": [
    "np.percentile(bootstrap_diffs, 5.5) - np.percentile(bootstrap_diffs, 97.5)"
   ]
  },
  {
   "cell_type": "code",
   "execution_count": 38,
   "metadata": {},
   "outputs": [
    {
     "data": {
      "text/plain": [
       "-1.69939009355123"
      ]
     },
     "execution_count": 38,
     "metadata": {},
     "output_type": "execute_result"
    }
   ],
   "source": [
    "full_data.query('drinks_coffee == True and age == \"<21\"').height.mean() - full_data.query('drinks_coffee == False and age == \"<21\"').height.mean()"
   ]
  },
  {
   "cell_type": "code",
   "execution_count": 39,
   "metadata": {},
   "outputs": [
    {
     "data": {
      "image/png": "[encoded data removed]",
      "text/plain": [
       "<Figure size 432x288 with 1 Axes>"
      ]
     },
     "metadata": {
      "needs_background": "light"
     },
     "output_type": "display_data"
    }
   ],
   "source": [
    "# `4.` For 10,000 iterations bootstrap your sample data, compute the \n",
    "# difference in the average height for coffee drinkers and the average height \n",
    "# for non-coffee drinkers for individuals over 21 years old.  Using your \n",
    "# sampling distribution, build a 95% confidence interval. Use your interval \n",
    "# to finish answering the second quiz question below. \n",
    "# As well as the following questions. \n",
    "# *(i'm assuming they mean 21 and over for this one...)*\n",
    "\n",
    "bootstrap_diffs = []\n",
    "for _ in range(10000):\n",
    "    bootstrap_sample = sample_data.sample(200, replace=True)\n",
    "    bootstrap_coff = bootstrap_sample.query('drinks_coffee == True and age == \">=21\"').height.mean()\n",
    "    bootstrap_nocoff = bootstrap_sample.query('drinks_coffee == False and age == \">=21\"').height.mean()\n",
    "    bootstrap_diffs.append(bootstrap_coff - bootstrap_nocoff)\n",
    "\n",
    "plt.hist(bootstrap_diffs);"
   ]
  },
  {
   "cell_type": "code",
   "execution_count": 40,
   "metadata": {},
   "outputs": [
    {
     "data": {
      "text/plain": [
       "(-3.766617978734908, -0.7257690325214319)"
      ]
     },
     "execution_count": 40,
     "metadata": {},
     "output_type": "execute_result"
    }
   ],
   "source": [
    "np.percentile(bootstrap_diffs, 5.5), np.percentile(bootstrap_diffs, 97.5)"
   ]
  },
  {
   "cell_type": "code",
   "execution_count": 41,
   "metadata": {},
   "outputs": [
    {
     "data": {
      "text/plain": [
       "-3.040848946213476"
      ]
     },
     "execution_count": 41,
     "metadata": {},
     "output_type": "execute_result"
    }
   ],
   "source": [
    "np.percentile(bootstrap_diffs, 5.5) - np.percentile(bootstrap_diffs, 97.5)"
   ]
  },
  {
   "cell_type": "code",
   "execution_count": 42,
   "metadata": {},
   "outputs": [
    {
     "data": {
      "text/plain": [
       "-1.9509354889788568"
      ]
     },
     "execution_count": 42,
     "metadata": {},
     "output_type": "execute_result"
    }
   ],
   "source": [
    "full_data.query('drinks_coffee == True and age == \">=21\"').height.mean() - full_data.query('drinks_coffee == False and age == \">=21\"').height.mean()"
   ]
  },
  {
   "cell_type": "code",
   "execution_count": 43,
   "metadata": {},
   "outputs": [],
   "source": [
    "# Within the under 21 and over 21 groups, on average, non-coffee drinkers \n",
    "# were taller.  But, when combined, we saw that on average coffee drinkers \n",
    "# were on average taller.  This is again **Simpson's paradox**, and \n",
    "# essentially there are more adults in the dataset who were coffee drinkers.  \n",
    "# So these individuals made it seem like coffee drinkers were on average \n",
    "# taller - which is a misleading result.  \n",
    "\n",
    "# A larger idea for this is the idea of confounding variables altogether.  \n",
    "# You will learn even more about these in the regression section of the course."
   ]
  },
  {
   "cell_type": "markdown",
   "metadata": {},
   "source": [
    "**Quiz 1**\n",
    "\n",
    "* Use the results from the first two questions above to answer match each **True** and False to the correct corresponding statements.\n",
    "    * [x] Based on the confidence interval in the first question, you have evidence that coffee drinkers are on average taller than non-coffee drinkers.\n",
    "    * [ ] In every bootstrapped instance in the first question, the difference in your averages suggested that coffee drinkers are on average taller than non-coffee drinkers.\n",
    "    * [x] Based on the confidence interval in the second question, you have evidence that those older than 21 are on average taller than those younger than 21.\n",
    "    * [x] In every bootstrapped instance in the second question, the difference in your averages suggested that those older than 21 are on average taller than those younger than 21.\n",
    "\n",
    "**Quiz 2**\n",
    "\n",
    "* Use the results from the last two questions above to select the single **False** statement below.\n",
    "    * [ ] The intervals in the last two questions provide statistical evidence that on average coffee drinkers are shorter than non-coffee drinkers for both age ranges.\n",
    "    * [ ] The intervals in the last two parts are narrower than the intervals from in the first parts.\n",
    "    * [x] Though those older than 21 were on average shorter when drinking coffee, those younger than 21 were on average taller when drinking coffee.\n",
    "\n",
    "\n",
    "**Quiz 3**\n",
    "\n",
    "* In the first intervals, you had evidence that the average height of coffee drinkers was taller, but in the final intervals, you had evidence that coffee drinkers in each group were actually shorter. What was this an example of:\n",
    "    * [ ] **The Empirical Rule(经验法则)**\n",
    "    * [ ] **Ocaam's Razor(奥卡姆剃刀)**\n",
    "    * [ ] Mathematical Error\n",
    "    * [x] Simpson's Paradox"
   ]
  },
  {
   "cell_type": "markdown",
   "metadata": {},
   "source": [
    "#### 07. Video: Confidence Interval Applications\n",
    "\n",
    "Though you were comparing the average heights of coffee drinkers to non-coffee drinkers, there are a number of other applications that use a comparison for the means of two groups.\n",
    "\n",
    "So what are some of the scenarios for which we would want to build a confidence interval for the difference in means?\n",
    "\n",
    "* we could look at the effectiveness of different drugs by comparing two groups who take two different drugs, or comparing a group that takes a drug to a group that did not take a drug at all. This type of testing is common for any of the health conditions around the world.\n",
    "* Another use case specific to learning could be to implement two different ways of teaching the same topic and see which way improves retention.\n",
    "\n",
    "One of the most common use cases for comparing two groups in this way is known as **A/B testing(A/B测试)**, where we compared different webpages to one another to determine which web designs drive the largest amount of traffic.\n",
    "\n",
    "A/B testing is one of the most important to businesses around the world. In this technique, you are changing something about your web layout to understand how it impacts users. You ideally want to provide a page that leads to more clicks, higher revenue, and/or higher customer satisfaction.\n",
    "\n",
    "\n",
    "#### 08. Video: Statistical vs. Practical Significance\n",
    "\n",
    "We found that creating a confidence interval for the differences in means of two groups, rather than just comparing two point value estimates, is important to assure that the differences are not just occurring due to the randomness associated with the sample that was chosen.\n",
    "\n",
    "Confidence intervals are certainly useful. But there are issues that can arise when exclusively using confidence intervals to make decisions.\n",
    "\n",
    "**practical and statistical significance**\n",
    "\n",
    "**Statistical Significance(统计显著性)** show that evidence from hypothesis tests and confidence intervals that $\\small H_1$ is True.\n",
    "\n",
    "Using **confidence intervals** and **hypothesis testing**, you are able to provide statistical significance in making decisions.\n",
    "\n",
    "However, it is also important to take into consideration **Practical Significance(实际显著性)** in making decisions. Practical significance takes into consideration other factors of your situation that might not be considered directly in the results of your hypothesis test or confidence interval. Constraints like space, time, or money are important in business decisions. However, they might not be accounted for directly in a statistical test.\n",
    "\n",
    "\n",
    "#### 09. Statistical vs. Practical Significance\n",
    "\n",
    "* If a weight loss drug helped individuals lose on average 0.5 lbs over the course of 5 years, which of the following are true statements about this result?\n",
    "\n",
    "* [ ] This would definitely not be statistically significant.\n",
    "* [x] This would definitely not be practically significant.\n",
    "* [ ] This would be more likely to be statistically significant if we had smaller sample sizes.\n",
    "* [x] This would be more likely to be statistically significant if we had larger sample sizes.\n",
    "\n",
    "\n",
    "#### 10. Video: Traditional Confidence Intervals\n",
    "\n",
    "**Why Bootstrapping**\n",
    "\n",
    "Bootstrapping doesn't have the assumptions of these intervals. Bootstrapping only assumes the sample is representative of the population. With large samples, bootstrapping and traditional methods will provide essentially the same results.\n",
    "\n",
    "\n",
    "**Traditional Confidence Interval Methods**\n",
    "\n",
    "One educated, but potentially biased opinion on the traditional methods is that these methods are no longer necessary with what is possible with statistics with modern computing, and these methods will become even less important with the future of computing. Therefore, memorizing these formulas to throw at particular situation will be a glazed over component of this class. However, there are resources below should you want to dive into a few of the 100s if not 1000s of hypothesis tests that are possible with traditional techniques.\n",
    "\n",
    "You might have seen equations like these for capturing a population mean or proportion.\n",
    "\n",
    "$\\large \\bar{x} \\pm t_{n-1}^* \\frac{s}{\\sqrt{n}}$\n",
    "$\\large p \\pm z^* \\frac{p(1-p)}{\\sqrt{n}}$\n",
    "\n",
    "Similarly, you might have seen equations like these for capturing the difference in means or the difference in proportions.\n",
    "\n",
    "$\\large \\bar{x_1}-\\bar{x_2} \\pm t_{df}^* \\sqrt{\\frac{s_1^2}{n_1} + \\frac{s_2^2}{n_2}}$\n",
    "$\\large p_1 - p_2 \\pm z^* \\sqrt{\\frac{(p_1)(1-p_1)}{n_1} + \\frac{(p_2)(1-p_2)}{n_2}}$\n",
    "\n",
    "All of these formulas have underlying assumptions that may or may not be true.\n",
    "\n",
    "To learn more about the traditional methods, see the documentation [here](http://stattrek.com/hypothesis-test/hypothesis-testing.aspx) on the corresponding hypothesis tests."
   ]
  },
  {
   "cell_type": "markdown",
   "metadata": {},
   "source": [
    "#### 11. ScreenCast: Traditional Confidence Interval Methods\n",
    "\n",
    "**Hypothesis Tests**\n",
    "\n",
    "* **T-test(T检验)**(a one sample, used for the population mean)\n",
    "* **Two sample T-test(双样本T检验)**(used for comparing two means)\n",
    "* **Paired T-test(配对T检验)**(used for comparing an individual to themselves)\n",
    "* **Z-test(Z检验)**\n",
    "* **Chi-squared Test(卡方检验)**\n",
    "* **F-test(F检验)**\n",
    "\n",
    "In this video you saw **a comparison** of the traditional method for calculating a difference of means using a python built in to the bootstrapping method you have been using throughout this lesson."
   ]
  },
  {
   "cell_type": "code",
   "execution_count": 44,
   "metadata": {},
   "outputs": [
    {
     "data": {
      "text/plain": [
       "(0.9449996060810054, 2.6727019502086264)"
      ]
     },
     "execution_count": 44,
     "metadata": {},
     "output_type": "execute_result"
    }
   ],
   "source": [
    "import statsmodels.stats.api as sms\n",
    "\n",
    "coffee_full = pd.read_csv('coffee_dataset.csv')\n",
    "coffee_red = coffee_full.sample(200) \n",
    "\n",
    "diffs = []\n",
    "for _ in range(10000):\n",
    "    boot_sample = coffee_red.sample(200, replace=True)\n",
    "    mean_coff = boot_sample.query('drinks_coffee == True').height.mean()\n",
    "    mean_nocoff = boot_sample.query('drinks_coffee == False').height.mean()\n",
    "    diffs.append(mean_coff - mean_nocoff)\n",
    "\n",
    "np.percentile(diffs, 2.5), np.percentile(diffs, 97.5)"
   ]
  },
  {
   "cell_type": "code",
   "execution_count": 45,
   "metadata": {},
   "outputs": [
    {
     "data": {
      "text/plain": [
       "(0.9425673257251523, 2.673794429588183)"
      ]
     },
     "execution_count": 45,
     "metadata": {},
     "output_type": "execute_result"
    }
   ],
   "source": [
    "X1 = coffee_red.query('drinks_coffee == True').height\n",
    "X2 = coffee_red.query('drinks_coffee == False').height\n",
    "\n",
    "cm = sms.CompareMeans(sms.DescrStatsW(X1), sms.DescrStatsW(X2))\n",
    "cm.tconfint_diff(usevar='unequal')"
   ]
  },
  {
   "cell_type": "markdown",
   "metadata": {},
   "source": [
    "With **large sample sizes**, these end up looking very similar. With **smaller sample sizes**, using a traditional methods likely has assumptions that are not true of your interval. **Small sample sizes are not ideal for bootstrapping methods though either, as they can lead to misleading results simply due to not accurately representing your entire population well**.\n",
    "\n",
    "**Pro Tip**\n",
    "\n",
    "* Understanding sampling distributions and bootstrapping means that you can simulate the results of any confidence interval you want to build.\n",
    "* For any of the other confidence intervals or hypothesis tests, you can finde how to do them with a quick search.\n"
   ]
  },
  {
   "cell_type": "markdown",
   "metadata": {},
   "source": [
    "#### 12. Video: Other Language Associated with Confidence Intervals\n",
    "\n",
    "It is important to understand the way that** your sample size** and **confidence level** relate to the **confidence interval** you achieve at the end of your analysis.\n",
    "\n",
    "Assuming you control all other items of your analysis:\n",
    "\n",
    "1. Increasing your **sample size** will decrease the **width of your confidence interval**.\n",
    "2. Increasing your **confidence level** (say 95% to 99%) will increase the **width of your confidence interval**.\n",
    "\n",
    "You saw that you can compute:\n",
    "\n",
    "1. The **Confidence Interval Width(置信区间宽度)** as the difference between your **upper and lower bounds** of your confidence interval.\n",
    "2. The **Margin of Error(误差范围,MOE)** is half the confidence interval width, and the value that you add and subtract from your sample estimate to achieve your confidence interval final results.\n",
    "\n",
    "#### 13. Other Language Associated with Confidence Intervals\n",
    "\n",
    "**QUIZ1**\n",
    "\n",
    "Imagine we build a confidence interval for a population mean to obtain a confidence interval with an upper bound of 20 and a confidence interval width of 8. Use this information to provide the value to each of the corresponding additional values.\n",
    "\n",
    "| Value | Description |\n",
    "| --- | --- |\n",
    "|20|Upper Bound of the Confidence Interval|\n",
    "|12|Lower Bound of the Confidence Interval|\n",
    "|4|The Margin of Error|\n",
    "|16|The Sample Mean|\n",
    "\n",
    "**QUIZ2**\n",
    "\n",
    "Which of the following statements are true?\n",
    "\n",
    "* [x] If you increase your sample size, holding all other items constant, your confidence interval will narrow. \n",
    "* [ ] If you increase your sample size, holding all other items constant, your confidence interval will widen.\n",
    "* [ ] If you increase your confidence level, holding all other items constant, your confidence interval will narrow.\n",
    "* [x] If you increase your confidence level, holding all other items constant, your confidence interval will widen.\n",
    "\n",
    "\n",
    "#### 14. Video: Correct Interpretations of Confidence Intervals\n",
    "\n",
    "**Confidence Intervals (&Hypothesis Testing) vs. Machine Learning**\n",
    "\n",
    "Confidence intervals take an **aggregate approach** towards the conclusions made based on data, as these tests are **aimed at understanding population parameters** (which are aggregate population values).\n",
    "\n",
    "Alternatively, machine learning techniques take an **individual approach towards making conclusions**, as they attempt to **predict an outcome for each specific data point**.\n",
    "\n",
    "In the final lessons of this class, you will learn about **two of the most fundamental machine learning approaches** used in practice: linear and logistic regression.\n",
    "\n",
    "\n",
    "#### 15. Correct Interpretations of Confidence Intervals\n",
    "\n",
    "Below are many interpretations of a confidence interval, but which is correct? What can we say from the ending results? Regardless of which page is \"better,\" only one of these interpretations is possible from the results we obtain from a confidence interval.\n",
    "\n",
    "* [ ] We are 95% confident that if a user receives Page A they are more likely to click than if they receive Page B.\n",
    "* [ ] If a user receives Page A they are more likely to click than if they receive Page B.\n",
    "* [x] We are 95% confident that the proportion of users that click through using Page A is higher than the average using Page B.\n",
    "\n",
    "As a second check, try another interpretation question about whether a clinical drug works. Which of the below is a statement that you could make about the drug?\n",
    "\n",
    "* [ ] We are 95% confident the drug will work for all patients that try it.\n",
    "* [ ] There is a 95% chance that if an individual takes a drug it will work for them.\n",
    "* [ ] We are 95% confident that on average the drug will work for the members of this specific population.\n",
    "\n",
    "\n",
    "#### 16. Video: Confidence Intervals & Hypothesis Tests\n",
    "\n",
    "The topics of confidence intervals and hypothesis testing essentially do the same thing. But depending on who you talk to or what source you're reading from, it's important to understand both.\n",
    " \n",
    "\n",
    "#### 17. Text: Recap + Next Steps\n",
    "\n",
    "**Review Quiz**\n",
    "\n",
    "Match the statements below to the most appropriate term to recap the big ideas of this lesson.\n",
    "\n",
    "| **Term** | **Statement** |\n",
    "| --- | --- |\n",
    "|97% Confidence Interval|By simulating the distribution of our statistic(s) of interest using bootstrapping, we can remove the bottom 1.5% and top 1.5% of the sampling distribution to build a _ |\n",
    "|Bootstrapping|Sampling with replacement.|\n",
    "|Sampling Distribution|The distribution of a statistic (any statistic).|\n",
    "|Parameter|Confidence intervals provide a range of values that are possible for a _ |\n",
    "\n",
    "\n",
    "**Recap**\n",
    "\n",
    "In this lesson, you learned:\n",
    "\n",
    "1. How to use your knowledge of **bootstrapping and sampling distributions** to create a **confidence interval** for any **population parameter**.\n",
    "2. You learned how to build **confidence intervals** for the **population mean** and **difference in means**, but really the same process can be done for **any parameter** you are interested in.\n",
    "3. You also learned about how to use **python built-in functions** to build confidence intervals, but that these **rely on assumptions** like the **Central Limit Theorem**.\n",
    "4. You learned about the **difference between statistical significance and practical significance**.\n",
    "5. Finally, you learned about **other language associated with confidence intervals** like **margin of error** and **confidence interval width**, and how to **correctly interpret your confidence intervals**. Remember, confidence intervals are about **parameters** in a population, and not about **individual observations**.\n",
    "\n",
    "**What's Next**\n",
    "\n",
    "The topics of confidence intervals and hypothesis testing essentially do the same thing, but depending on who you talk to or what source you are reading from, it is important to understand both.\n",
    "\n",
    "\n",
    "#### 18. Appendix: Glossary\n",
    "\n",
    "* numpy.random.seed(seed=None)\n",
    "* numpy.percentile(a, q, axis=None)\n",
    "* DataFrame.sample(n=None, replace=False, random_state=None, axis=None)\n",
    "\n",
    "* * *\n",
    "\n",
    "* The Empirical Rule(经验法则)\n",
    "* Ocaam's Razor(奥卡姆剃刀)\n",
    "\n",
    "* * *\n",
    "\n",
    "* A/B testing(A/B测试)\n",
    "* Statistical Significance(统计显著性)\n",
    "* Practical Significance(实际显著性)\n",
    "* T-test(T检验)\n",
    "* Two sample T-test(双样本T检验)\n",
    "* Paired T-test(配对T检验)\n",
    "* Z-test(Z检验)\n",
    "* Chi-squared Test(卡方检验)\n",
    "* F-test(F检验)\n",
    "\n",
    "* * *\n",
    "\n",
    "* Confidence Interval Width(置信区间宽度)\n",
    "* Margin of Error(误差范围,MOE)"
   ]
  }
 ],
 "metadata": {
  "kernelspec": {
   "display_name": "Python 3",
   "language": "python",
   "name": "python3"
  },
  "language_info": {
   "codemirror_mode": {
    "name": "ipython",
    "version": 3
   },
   "file_extension": ".py",
   "mimetype": "text/x-python",
   "name": "python",
   "nbconvert_exporter": "python",
   "pygments_lexer": "ipython3",
   "version": "3.6.10"
  }
 },
 "nbformat": 4,
 "nbformat_minor": 4
}
