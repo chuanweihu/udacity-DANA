{
 "cells": [
  {
   "cell_type": "markdown",
   "metadata": {},
   "source": [
    "## Module 01: Data Viz Lessons 2\n",
    "\n",
    "### Lesson 02: Design\n",
    "\n",
    "> In this lesson, you will learn about visual encodings, and best practices for building data visualizations."
   ]
  },
  {
   "cell_type": "markdown",
   "metadata": {},
   "source": [
    "#### 01. Introduction"
   ]
  },
  {
   "cell_type": "markdown",
   "metadata": {},
   "source": [
    "Proper design is essential to convey your story to others. Design your visualizations to be informative, accurate and visually appealing."
   ]
  },
  {
   "cell_type": "markdown",
   "metadata": {},
   "source": [
    "#### 02. Lesson Overview"
   ]
  },
  {
   "cell_type": "markdown",
   "metadata": {},
   "source": [
    "**Book**\n",
    "\n",
    "`Storytelling with data` by Cole nussbaumer knaflic"
   ]
  },
  {
   "cell_type": "markdown",
   "metadata": {},
   "source": [
    "You can see one of Cole's seminars [here](https://www.youtube.com/watch?v=8EMW7io4rSI). She stresses that six lessons of communicating with data:\n",
    "\n",
    "1. Understand the context - this means knowing your audience and conveying a clear message about what you want your audience to know or do with the information you are providing.\n",
    "2. Choose an appropriate visual display - this was covered in the last lesson. Check out the lesson titled recap in the previous section if you need a quick refresher. \n",
    "3. Eliminate clutter - you should only provide information to the user that helps convey your message.\n",
    "4. Focus attention where you want it - build visualizations that pull attention to the message you want to highlight. \n",
    "5. Think like a designer - you will learn a number of design principles in this lesson to assist as you start to put together your own data visualizations.\n",
    "6. Tell a story - your visualizations should give the audience a story. The most powerful data visualizations move people to take action."
   ]
  },
  {
   "cell_type": "markdown",
   "metadata": {},
   "source": [
    "#### 03. Exploratory vs. Explanatory Analyses"
   ]
  },
  {
   "cell_type": "markdown",
   "metadata": {},
   "source": [
    "There are two main reasons for creating visuals using data:\n",
    "\n",
    "1. **Exploratory** Analysis is done when you are searching for insights. These visualizations don't need to be perfect. You are using plots to find insights, but they don't need to be aesthetically appealing. You are the consumer, and you need to be able to find the answer to your question from these plots.\n",
    "2. **Explanatory** Analysis is done when you are providing your results for others. These visualizations need to provide you the emphasis you need to convey your message. They should be accurate, insightful, and visually appealing.\n",
    "\n",
    "The five steps of the data analysis process:\n",
    "\n",
    "1. **Extract** - Obtain the data from a spreadsheet, SQL, the web, etc.\n",
    "2. **Clean** - Here we could use exploratory visuals.\n",
    "3. **Explore** - Here we use exploratory visuals.\n",
    "4. **Analyze** - Here we might use either exploratory or explanatory visuals.\n",
    "5. **Share** - Here is where explanatory visuals live."
   ]
  },
  {
   "cell_type": "markdown",
   "metadata": {},
   "source": [
    "#### 04. Quiz: Exploratory vs. Explanatory"
   ]
  },
  {
   "cell_type": "markdown",
   "metadata": {},
   "source": [
    "`pass`"
   ]
  },
  {
   "cell_type": "markdown",
   "metadata": {},
   "source": [
    "#### 05. What Makes a Bad Visual?"
   ]
  },
  {
   "cell_type": "markdown",
   "metadata": {},
   "source": [
    "Visuals can be bad if they:\n",
    "\n",
    "1. Don't convey the message.\n",
    "2. Are misleading.\n",
    "\n",
    "This seems straightforward, but often visuals are created that do one or both of these unintentionally. There is an entire book that was published aimed at misleading visuals: [How to Lie with Statistics](http://faculty.neu.edu.cn/cc/zhangyf/papers/How-to-Lie-with-Statistics.pdf)."
   ]
  },
  {
   "cell_type": "markdown",
   "metadata": {},
   "source": [
    "#### 06. What Experts Say About Visual Encodings"
   ]
  },
  {
   "cell_type": "markdown",
   "metadata": {},
   "source": [
    "Experts and researchers have determined the visual patterns that allow humans to best identify certain patterns. In general, humans are able to `best` understand data encoded with **positional changes** (as we see with scatterplots) and **length changes** (as we see with bar charts).\n",
    "\n",
    "Alternatively, humans `struggle` with understanding data encoded with **color hue changes** (as is commonly used as an additional variable encoding in scatter plots - this is coming up in the next concepts) and **area changes** (as we see in pie charts)."
   ]
  },
  {
   "cell_type": "markdown",
   "metadata": {},
   "source": [
    "#### 07. Chart Junk"
   ]
  },
  {
   "cell_type": "markdown",
   "metadata": {},
   "source": [
    "Chart junk refers to all visual elements in charts and graphs that are not necessary to comprehend the information represented on the graph or that distract the viewer from this information.\n",
    "\n",
    "Examples of chart junk you saw in this video include:\n",
    "\n",
    "1. Heavy grid lines\n",
    "2. Unnecessary text\n",
    "3. Pictures surrounding the visual\n",
    "4. Shading or 3d components\n",
    "5. Ornamented chart axes"
   ]
  },
  {
   "cell_type": "markdown",
   "metadata": {},
   "source": [
    "#### 08. Data Ink Ratio"
   ]
  },
  {
   "cell_type": "markdown",
   "metadata": {},
   "source": [
    "The **data-ink ratio**, credited to Edward Tufte, is directly related to the idea of chart junk. The more of the ink in your visual that is related to conveying the message in the data, the better.\n",
    "\n",
    "Limiting chart junk increases the data-ink ratio."
   ]
  },
  {
   "cell_type": "markdown",
   "metadata": {},
   "source": [
    "**coloring theory**\n",
    "\n",
    "We shouldn't use more than one or two colors in a visualization unless it's encoded some value in the data, except for the thing of interest."
   ]
  },
  {
   "cell_type": "markdown",
   "metadata": {},
   "source": [
    "#### 09. Design Integrity"
   ]
  },
  {
   "cell_type": "markdown",
   "metadata": {},
   "source": [
    "**Book**\n",
    "\n",
    "`《visual display》`-Edward Tufte\n",
    "\n",
    "**Design Integrity Notes**\n",
    "\n",
    "It is key that when you build plots you maintain integrity for the underlying data.\n",
    "\n",
    "One of the main ways discussed here for looking at data integrity was with the lie factor. The lie factor is calculated in the following way\n",
    "\n",
    "$liefactor= \\frac{Δvisual/startVis}{Δdata/startData}$\n",
    " \n",
    "That is the shown relative change in the graphic divided by the actual relative change in the data.\n",
    "\n",
    "Any lie factor greater than 1 suggests that your visual is misleading. The larger the factor, the more misleading the visual.\n",
    "\n",
    "**Further Reading**\n",
    "\n",
    "Flowing Data: [How to Spot Visualization Lies](https://flowingdata.com/2017/02/09/how-to-spot-visualization-lies/)"
   ]
  },
  {
   "cell_type": "markdown",
   "metadata": {},
   "source": [
    "#### 10. Bad Visual Quizzes (Part I)"
   ]
  },
  {
   "cell_type": "markdown",
   "metadata": {},
   "source": [
    "`pass`"
   ]
  },
  {
   "cell_type": "markdown",
   "metadata": {},
   "source": [
    "#### 11. Bad Visual Quizzes (Part II)"
   ]
  },
  {
   "cell_type": "markdown",
   "metadata": {},
   "source": [
    "`pass`"
   ]
  },
  {
   "cell_type": "markdown",
   "metadata": {},
   "source": [
    "#### 12. Text: Effective Explanatory Visual Recap"
   ]
  },
  {
   "cell_type": "markdown",
   "metadata": {},
   "source": [
    "**What have you learned so far?**\n",
    "\n",
    "At this point, you have all you need to make effective **explanatory visuals**. Simplicity is the key to displaying your message to any audience. You know\n",
    "\n",
    "* The types of plots you can build with different variables.\n",
    "* The difference between exploratory and explanatory visuals.\n",
    "* Important visual components like position, size, color, and length.\n",
    "* The importance of design integrity, and how to assure your visuals maintain integrity.\n",
    "* The importance of removing chart junk.\n",
    "\n",
    "In the upcoming concepts before the end of this lesson, you will learn about some additional effects that you can add to your visualizations. Use these when necessary, but don't overdo it."
   ]
  },
  {
   "cell_type": "markdown",
   "metadata": {},
   "source": [
    "#### 13. Using Color"
   ]
  },
  {
   "cell_type": "markdown",
   "metadata": {},
   "source": [
    "Color can both help and hurt a data visualization. Three tips for using color effectively.\n",
    "\n",
    "1. Before adding color to a visualization, start with black and white.\n",
    "2. When using color, use less intense colors - not all the colors of the rainbow, which is the default in many software applications.\n",
    "3. Color for communication. Use color to highlight your message and separate groups of interest. Don't add color just to have color in your visualization."
   ]
  },
  {
   "cell_type": "markdown",
   "metadata": {},
   "source": [
    "#### 14. Designing for Color Blindness"
   ]
  },
  {
   "cell_type": "markdown",
   "metadata": {},
   "source": [
    "Humans perceive color through signals produced by cells in the retina called cones. Light comes into the eye, hits the cones and the cones set off electrical signals to the brain. There are typically three types of cones, S, M and L, for short, medium and long. They are sensitive to different frequencies or colors of light. Short cones prefer blue, medium prefer green and long prefer red.\n",
    "\n",
    "However around 10% of men and 1% of women, have mutations that affect these cones and produce what is known as colorblindness. The most common form, is a red green colorblindness, typically caused by the medium cone shifting sensitivity towards red light.\n",
    "\n",
    "To be sensitive to those with colorblindness, you should use color pallets that **do not move from red to green** without using another element to distinguish this change like shape, position, or lightness. Both of these colors appear in a yellow tint to individuals with the most common types of colorblindness. Instead, **use colors on a blue to orange pallet**.\n",
    "\n",
    "Tableau Blog: [5 tips on designing colorblind-friendly visualizations](https://www.tableau.com/about/blog/2016/4/examining-data-viz-rules-dont-use-red-green-together-53463)"
   ]
  },
  {
   "cell_type": "markdown",
   "metadata": {},
   "source": [
    "#### 15. Shape, Size, & Other Tools"
   ]
  },
  {
   "cell_type": "markdown",
   "metadata": {},
   "source": [
    "Only use these additional encodings when absolutely necessary. Often these additional encodings suggest you are providing too much information in a single plot. Instead, it might be better to break the information into multiple individual messages, so the audience can understand every aspect of your message. You can also build in each aspect one at a time, which you saw in the previous lesson with Hans Rosling. This feels less overwhelming than if you just saw this plot all at once.\n",
    "\n",
    "**Encodings**\n",
    "\n",
    "In general, **color** and **shape** are best for **categorical** variables, while the **size of marker** can assist in adding additional **quantitative** data, as we demonstrated here.\n",
    "\n",
    "**Extra: Code**\n",
    "\n",
    "Some of the plots in this presentation were created using the programming language R, and a very popular library known as ggplot2. Though this is beyond the scope of this course, the code used to create these visualizations is provided below:\n",
    "\n",
    "```\n",
    "install.packages('ggplot2')\n",
    "library(ggplot2)\n",
    "\n",
    "\n",
    "df = read.csv(file.choose()) #select your dataset \n",
    "df2 = head(df, 30)\n",
    "\n",
    "\n",
    "qplot(df2$Math.SAT, df2$Verbal.SAT, xlab = 'Math SAT Score', \n",
    "      ylab = 'Verbal SAT Score', main = 'Average SAT Scores By College')\n",
    "\n",
    "qplot(df2$Math.SAT, df2$Verbal.SAT, xlab = 'Math SAT Score', \n",
    "      ylab = 'Verbal SAT Score', main = 'Average SAT Scores By College', \n",
    "      color = as.factor(df2$Public..1...Private..2.))\n",
    "\n",
    "qplot(df2$Math.SAT, df2$Verbal.SAT, xlab = 'Math SAT Score',\n",
    "      ylab = 'Verbal SAT Score', main = 'Average SAT Scores By College',\n",
    "      shape = as.factor(df2$Public..1...Private..2.), color = df2$stud..fac..ratio)\n",
    "\n",
    "ggplot(df2, aes(x=Math.SAT, y=Verbal.SAT, group=stud..fac..ratio)) +\n",
    "  geom_point(aes(shape=stud..fac..ratio, color=as.factor(df2$Public..1...Private..2.))\n",
    "```"
   ]
  },
  {
   "cell_type": "markdown",
   "metadata": {},
   "source": [
    "#### 16. General Design Tips"
   ]
  },
  {
   "cell_type": "markdown",
   "metadata": {},
   "source": [
    "Bad visuals can be avoided by:\n",
    "\n",
    "1. Maintaining a **large data-ink ratio** and removing unnecessary items from visuals.\n",
    "2. Choosing **visual encodings** that work to highlight insights.\n",
    "3. Maintaining **data Integrity** in the visual.\n",
    "\n",
    "For explanatory visuals:\n",
    "\n",
    "1. Focus the **audience's attention** on the insight you want them to act on.\n",
    "2. Use color only when necessary. **Simple** is often better.\n",
    "3. Tell a **story**. More on this ahead!"
   ]
  },
  {
   "cell_type": "markdown",
   "metadata": {},
   "source": [
    "#### 17. Good Visual"
   ]
  },
  {
   "cell_type": "markdown",
   "metadata": {},
   "source": [
    "* Data-Ink Ratio - What do we want to have a high value of in our visuals?\n",
    "* Position - Which visual encoding is most accurate for visual perception?\n",
    "* Color - What is the most appropriate visual encoding for adding a categorical variable to a scatterplot?\n",
    "* Chart Junk - What are additional visuals that do not add to the message of the data?\n",
    "* Color Hue - The least accurate visual encoding for visual perception?"
   ]
  },
  {
   "cell_type": "markdown",
   "metadata": {},
   "source": [
    "#### 18. Tell A Story"
   ]
  },
  {
   "cell_type": "markdown",
   "metadata": {},
   "source": [
    "Telling stories with data follows these steps:\n",
    "\n",
    "1. Start with a Question\n",
    "2. Repetition is a Good Thing\n",
    "3. Highlight the Answer\n",
    "4. Call Your Audience To Action"
   ]
  },
  {
   "cell_type": "markdown",
   "metadata": {},
   "source": [
    "#### 19. Same Data, Different Stories"
   ]
  },
  {
   "cell_type": "markdown",
   "metadata": {},
   "source": [
    "Download the data and visuals for this story using the button below. You can also access a Google sheet [here](hhttps://s3.amazonaws.com/video.udacity-data.com/topher/2018/September/5b9ad8af_two-stories-data/two-stories-data.xlsx)."
   ]
  },
  {
   "cell_type": "markdown",
   "metadata": {},
   "source": [
    "#### 20. Quizzes on Data Story Telling"
   ]
  },
  {
   "cell_type": "code",
   "execution_count": 31,
   "metadata": {},
   "outputs": [],
   "source": [
    "import pandas as pd\n",
    "import matplotlib.pyplot as plt"
   ]
  },
  {
   "cell_type": "code",
   "execution_count": 34,
   "metadata": {},
   "outputs": [],
   "source": [
    "df = pd.read_excel(\"two-stories-data.xlsx\")"
   ]
  },
  {
   "cell_type": "code",
   "execution_count": 35,
   "metadata": {},
   "outputs": [
    {
     "data": {
      "text/html": [
       "<div>\n",
       "<style scoped>\n",
       "    .dataframe tbody tr th:only-of-type {\n",
       "        vertical-align: middle;\n",
       "    }\n",
       "\n",
       "    .dataframe tbody tr th {\n",
       "        vertical-align: top;\n",
       "    }\n",
       "\n",
       "    .dataframe thead th {\n",
       "        text-align: right;\n",
       "    }\n",
       "</style>\n",
       "<table border=\"1\" class=\"dataframe\">\n",
       "  <thead>\n",
       "    <tr style=\"text-align: right;\">\n",
       "      <th></th>\n",
       "      <th>Where</th>\n",
       "      <th>Count</th>\n",
       "    </tr>\n",
       "  </thead>\n",
       "  <tbody>\n",
       "    <tr>\n",
       "      <th>0</th>\n",
       "      <td>In Your Hand</td>\n",
       "      <td>50</td>\n",
       "    </tr>\n",
       "    <tr>\n",
       "      <th>1</th>\n",
       "      <td>In or Under the Couch</td>\n",
       "      <td>35</td>\n",
       "    </tr>\n",
       "    <tr>\n",
       "      <th>2</th>\n",
       "      <td>Next to the TV</td>\n",
       "      <td>30</td>\n",
       "    </tr>\n",
       "    <tr>\n",
       "      <th>3</th>\n",
       "      <td>In the Fridge</td>\n",
       "      <td>8</td>\n",
       "    </tr>\n",
       "    <tr>\n",
       "      <th>4</th>\n",
       "      <td>In Your Shirt Pocket</td>\n",
       "      <td>6</td>\n",
       "    </tr>\n",
       "  </tbody>\n",
       "</table>\n",
       "</div>"
      ],
      "text/plain": [
       "                   Where  Count\n",
       "0           In Your Hand     50\n",
       "1  In or Under the Couch     35\n",
       "2         Next to the TV     30\n",
       "3          In the Fridge      8\n",
       "4   In Your Shirt Pocket      6"
      ]
     },
     "execution_count": 35,
     "metadata": {},
     "output_type": "execute_result"
    }
   ],
   "source": [
    "df.head()"
   ]
  },
  {
   "cell_type": "code",
   "execution_count": 44,
   "metadata": {},
   "outputs": [
    {
     "data": {
      "image/png": "[encoded data removed]",
      "text/plain": [
       "<Figure size 864x432 with 1 Axes>"
      ]
     },
     "metadata": {
      "needs_background": "light"
     },
     "output_type": "display_data"
    }
   ],
   "source": [
    "plt.figure(figsize=(12, 6))\n",
    "plt.bar(df.Where, df.Count, width=0.5);"
   ]
  },
  {
   "cell_type": "markdown",
   "metadata": {},
   "source": [
    "#### 21. Recap"
   ]
  },
  {
   "cell_type": "markdown",
   "metadata": {},
   "source": [
    "In this lesson, we learned\n",
    "\n",
    "1. How to build data visualizations for explanatory purposes.\n",
    "2. How visual encodings impact our abilities as humans to accurately perceive that information. \n",
    "3. How chart junk distracts from the message - maximize your data-ink ratio.\n",
    "4. How to calculate lie factors and the importance of design integrity.\n",
    "5. How to use more advanced design features like color, shape, and size - make sure these are truly enhancing your message!\n",
    "6. The importance of story telling in communicating with data.\n",
    "\n",
    "**Looking Ahead - Using Tableau**\n",
    "\n",
    "In the next lessons you will learn to use Tableau, which will allow you to build very complex visualizations. Much of what you build with Tableau in practice will allow for you and other users to explore the data. When you find an insight using Tableau, it is important to use the techniques highlighted in this lesson to communicate your insights as this is explanatory in nature!"
   ]
  },
  {
   "cell_type": "markdown",
   "metadata": {},
   "source": [
    "#### 22. Onwards!"
   ]
  },
  {
   "cell_type": "markdown",
   "metadata": {},
   "source": [
    "So now you should be able to chose the appropriate graph for the point you want to make and design it to be both visually appealing and meaningful. It's time for you to put this into practice by actually building visualizations."
   ]
  }
 ],
 "metadata": {
  "kernelspec": {
   "display_name": "Python 3",
   "language": "python",
   "name": "python3"
  },
  "language_info": {
   "codemirror_mode": {
    "name": "ipython",
    "version": 3
   },
   "file_extension": ".py",
   "mimetype": "text/x-python",
   "name": "python",
   "nbconvert_exporter": "python",
   "pygments_lexer": "ipython3",
   "version": "3.7.3"
  }
 },
 "nbformat": 4,
 "nbformat_minor": 2
}
