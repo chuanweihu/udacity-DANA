{
 "cells": [
  {
   "cell_type": "markdown",
   "metadata": {},
   "source": [
    "## Module 01: Data Viz Lessons 2\n",
    "\n",
    "### Lesson 04: Making Dashboards & Stories in Tableau\n",
    "\n",
    "> In this lesson, you will learn from a Tableau expert, and start putting together your own dashboards and stories.\n"
   ]
  },
  {
   "cell_type": "markdown",
   "metadata": {},
   "source": [
    "#### 01. Video: Communicating With Your Data"
   ]
  },
  {
   "cell_type": "markdown",
   "metadata": {},
   "source": [
    "Now that you can make plots with Tableau, it's time use them to communicate with your data.\n",
    "\n",
    "First, I'll cover exploring your data to get a sense of what's going on. For example, it's good to know how variables are distributed and if any thing seems wrong with the data. You'll also want to look for patterns and interesting questions.\n",
    "\n",
    "You'll also want to share your data with others. Tableau is great for creating interactive dashboards and stories that let your readers play your data on their own. Dashboards collect views into one idea. Stories are narrated walkthroughs of views and dashboards. With dashboards and stories, your job is to facilitate the interaction with the data story you are trying to tell."
   ]
  },
  {
   "cell_type": "markdown",
   "metadata": {},
   "source": [
    "#### 02. Video + Text: What's Ahead?"
   ]
  },
  {
   "cell_type": "markdown",
   "metadata": {},
   "source": [
    "You already can do a ton with Tableau to explore a dataset. The ideas in this lesson will help you with tackling a dataset for the first time and putting your final products together.\n",
    "\n",
    "There are five purposes of this lesson before you move onto your project and complete your Tableau journey here at Udacity.\n",
    "\n",
    "1. We have been working with a single dataset, but it is important you can feel comfortable with lots of different types of data, so you will gain that practice in this lesson.\n",
    "2. You will learn about dashboards, which allow you to analyze multiple sheets all at the same time. And even build filters that act over all the sheets at once.\n",
    "3. You will combine items 1 and 2 above to create dashboards for some new datasets. Don’t worry, we will do this together to build your confidence. That way you get some practice for you tackle the project.\n",
    "4. You will learn about stories, a feature of tableau that allows you to link together your worksheets in dashboards to give an audience a well rounded grasp of your insights.\n",
    "5. Finally, we will point you to some additional resources for you to continue learning and keep your Tableau skills fresh.\n",
    "\n",
    "You will be using a few new datasets to complete the questions in this lesson, so they are provided in the Resources tab."
   ]
  },
  {
   "cell_type": "markdown",
   "metadata": {},
   "source": [
    "#### 03. Video: Hierarchies with Trina"
   ]
  },
  {
   "cell_type": "markdown",
   "metadata": {},
   "source": [
    "**Hierarchies & Filters**\n",
    "\n",
    "All of the information you saw in the previous lesson is important, but two things I find myself using **ALL THE TIME** are **Hierarchies & Filters**. These two components wow your audiences, and take the **interactivity** with your visual to a new level.\n",
    "\n",
    "Hopefully this video served as a great reminder. You will see both hierarchies & filters used pretty extensively in the next sections on dashboards."
   ]
  },
  {
   "cell_type": "markdown",
   "metadata": {},
   "source": [
    "#### 04. Quiz: Hierarchies with Trina"
   ]
  },
  {
   "cell_type": "markdown",
   "metadata": {},
   "source": [
    "**Task List**:\n",
    " \n",
    "* Download the **Movie** data from the resources and open Tableau. \n",
    "* From Connect on the left side choose **Text file**. Navigate to the **movie_metadata.csv** and select. \n",
    "* Create a new worksheet. Drag the **Movie Title** onto the **Genres** to create a hierarchy. \n",
    "* Move your **new hierarchy** to the **Rows**. Move **Gross** to the **Columns**. \n",
    "* **Drill down** to look at the break up in this category."
   ]
  },
  {
   "cell_type": "markdown",
   "metadata": {},
   "source": [
    "**SOLUTIONS**:\n",
    "\n",
    "1. The result isn't great here at comparing movies in terms of sales. Which of the below are reasons for this? (Select all that apply.)\n",
    "    * [x] The Genres field breaks up movies into very specific and not always useful categories. \n",
    "    * [x] It would be better for comparison to simply have one genre for each movie. \n",
    "    * [x] There are so many genres it might be easiest to look at one at a time, but some movies are in a genre of their own, which also isn't helpful."
   ]
  },
  {
   "cell_type": "markdown",
   "metadata": {},
   "source": [
    "**Task List**:\n",
    "\n",
    "* In order to improve this visual, let's use the next steps to split the Genre and add a Filter. \n",
    "* Click back to the Data Source in the bottom left of the screen. Right click the Genres column. \n",
    "* Select Custom Split.... Use the| as the separator, and select OK. This should create Genres - Split 1.  \n",
    "* Move back to the worksheet. \n",
    "* Create a new hierarchy by dragging Movie Title onto the Genres - Split 1 to create a hierarchy. \n",
    "* Remove the original hierarchy from the Rows, and add your new hierarchy to the Rows. \n",
    "* Add your new hierarchy to the Filters table as well. Select the drop down and Show Filter. \n",
    "* Quiz 2 below. A screenshot of my visual is provided at the bottom, but you will need your own to complete the quiz.\n",
    "\n",
    "**SOLUTIONS**:\n",
    "\n",
    "2. Pair each movie with its corresponding description.\n",
    "    * Poltergeist - Top grossing Fantasy movie. \n",
    "    * The Bachelor - The only Game-Show available. \n",
    "    * The Jungle Book - Top grossing Adventure movie. \n",
    "    * Despicable Me 2 - Top grossing Animation movie."
   ]
  },
  {
   "cell_type": "markdown",
   "metadata": {},
   "source": [
    "**Task List**:\n",
    "\n",
    "* Change the name of the sheet to Gross Sales and create a new worksheet.  \n",
    "* Create a Calculated Field of Net as [Gross] - [Budget]. \n",
    "* Move Net to the Columns and the same hierarchy you used in the original plot to the Rows and Filters table.  \n",
    "\n",
    "**SOLUTIONS**:\n",
    "\n",
    "3. Use your visual to match each Genre to the corresponding description.\n",
    "    * Adventure - The highest net profit genre. \n",
    "    * Comedy - This genre netted 2.8 Billion. \n",
    "    * Crime - This genre lost the most money. \n",
    "    * History - There wasn't any financial info on this genre.\n",
    "\n",
    "4. What is the issue with the dashboard you created? \n",
    "    * [ ] The filters don't work.  \n",
    "    * [x] When I update one filter, it only acts on the sheet I created it on.  \n",
    "    * [ ] When I update one filter, it works on all the sheets incorrectly.  \n",
    "    * [ ] There are no filters.\n",
    "\n",
    "5. Does your filter now update all the worksheets? \n",
    "    * [x] Yes.  \n",
    "    * [ ] No."
   ]
  },
  {
   "cell_type": "markdown",
   "metadata": {},
   "source": [
    "Below are two links to the same data but with different file types.\n",
    "\n",
    "The first file is a csv and you should try to use this one first. If it works great, continue with the exercise! If you have difficulty importing it into Tableau try using the second link which is an xlsx file. If you are still unable to import either file into Tableau please reach out to datafoundations-support@udacity.com"
   ]
  },
  {
   "cell_type": "markdown",
   "metadata": {},
   "source": [
    "#### 05. Video: Building Dashboards & Stories with Trina"
   ]
  },
  {
   "cell_type": "markdown",
   "metadata": {},
   "source": [
    "`pass`"
   ]
  },
  {
   "cell_type": "markdown",
   "metadata": {},
   "source": [
    "#### 06. Text: General Notes for Building Data Dashboards with Trina"
   ]
  },
  {
   "cell_type": "markdown",
   "metadata": {},
   "source": [
    "**Dashboards**\n",
    "\n",
    "Dashboards are used to **collect multiple sheets** that exhibit one idea. For instance, [here](http://www.tableau.com/stories/gallery/sales-and-opportunities) is an example of a dashboard about sales opportunities found in Salesforce data. You can see in the dashboard that clicking on one **view filters** the data on the other views. This is one of **the excellent interactive features** you can use to let viewers explore your data. Dashboards are also great for **building reports from various views** that you want to keep track of every day or week.\n",
    "\n",
    "Tableau has **a whole set of great dashboards** in their [gallery](https://public.tableau.com/en-us/s/gallery). Check them out for inspiration.\n",
    "\n",
    "To create a new dashboard, click on the **\"New Dashboard\" button** in the bottom bar.\n",
    "\n",
    "This brings on the dashboard interface. You create the dashboard by **dragging sheets from the left bar into the canvas**.\n",
    "\n",
    "Tableau has a great set of tutorial videos on building dashboards if you want some additional information:\n",
    "\n",
    "* [Getting started with dashboards and stories](http://www.tableau.com/learn/tutorials/on-demand/getting-started-dashboards-and-stories)\n",
    "* [Building dashboards](http://www.tableau.com/learn/tutorials/on-demand/building-dashboard)\n",
    "* [Documentation on dashboards](http://onlinehelp.tableau.com/current/pro/desktop/en-us/help.htm#dashboards.html%3FTocPath%3DPresent%2520Your%2520Work%7CDashboards%7C_____0)\n",
    "\n",
    "In the quiz on the next concept, you will get practice on your own building dashboards."
   ]
  },
  {
   "cell_type": "markdown",
   "metadata": {},
   "source": [
    "#### 07. Text: General Notes for Building Stories"
   ]
  },
  {
   "cell_type": "markdown",
   "metadata": {},
   "source": [
    "**Stories**\n",
    "\n",
    "Stories are great for a narrated walkthrough of the discoveries you made in your data. They are similar to dashboards in that you create sheets, then drag the sheets to the story. However, each sheet is displayed separately along with narrative text in sequential series.\n",
    "\n",
    "Below is a story I made looking into why the Global Superstore is losing money in some countries. You can download the workbook [here](https://s3.amazonaws.com/content.udacity-data.com/courses/ud1006/Poor+Markets+Story.twbx) or from the public story.\n",
    "\n",
    "From this story, you can see that **deep discounts** are responsible for negative profits in a fairly large number of countries. The discounts aren't really helping growth there and the negative profits are getting worse over time. It might be a good idea to stop offering as many discounts there, or to leave the markets completely.\n",
    "\n",
    "**Creating a story**\n",
    "\n",
    "To create a new story, click on the **\"New Story\" button** at the bottom.\n",
    "\n",
    "This brings up the story interface:\n",
    "\n",
    "Here you drag a sheet to the view to create the first story point. In the grey box, you can **add text to start the narrative**. To create the next story point, click on **\"New Blank Point\"**.\n",
    "\n",
    "Stories allow you to **give a personal flair to your presentation**. This can be nice if you have a presentation that can occur all in Tableau, but often there are other parts of a presentation that you might want to use another tool. In which case, Tableau might not be the best option for these cases.\n",
    "\n",
    "Additional information on stories can be found here:\n",
    "\n",
    "* This tutorial [video](http://www.tableau.com/learn/tutorials/on-demand/story-points) from Tableau.\n",
    "* Documentation is [here](https://onlinehelp.tableau.com/current/pro/online/mac/en-us/stories.html).\n",
    "\n",
    "You will get hands on practice in the next concept."
   ]
  },
  {
   "cell_type": "markdown",
   "metadata": {},
   "source": [
    "#### 08. Quiz: Building Dashboards & Stories with Trina"
   ]
  },
  {
   "cell_type": "markdown",
   "metadata": {},
   "source": [
    "**Task List**:\n",
    "\n",
    "* Download the `asylum_seekers...` data. \n",
    "* Open Tableau. Connect to the data using the `Text file` extension.  \n",
    "* Change the **Value** column to **Number of Asylum Seekers**.  \n",
    "* Click to a **new worksheet**. \n",
    "* Move **Origin** to the Columns. Move **Number of Asylums** to the Rows.\n",
    "\n",
    "**QUESTION**:\n",
    "\n",
    "1. Match each of the descriptions to the correct answer.\n",
    "    * Afghanistan - Most refugees arrived from what country? \n",
    "    * New Caledonia - Of the countries that had any refugees, which country had the least? \n",
    "    * `33,961` - The value associated with the number of refugees from Sri Lanka. \n",
    "    * `9` - The number of refugees from Switzerland. "
   ]
  },
  {
   "cell_type": "markdown",
   "metadata": {},
   "source": [
    "**Task List**:\n",
    "\n",
    "* Create a filter for the Date, which you can do by dragging to the Filters table and selecting from the drop down Show filter....\n",
    "* Change the filter to a Single Value (list).\n",
    "\n",
    "**QUESTION**:\n",
    "\n",
    "2. Match each Country to the correct corresponding description.\n",
    "    * Mexico - This country had the most refugees in 2007. \n",
    "    * Russian Federation - This country had the most refugees in 2005. \n",
    "    * Iraq - This country had the most refugees in 2002. \n",
    "    * Afghanistan - This country has the largest number of refugees across all years."
   ]
  },
  {
   "cell_type": "markdown",
   "metadata": {},
   "source": [
    "**Task List**:\n",
    "\n",
    "* Create a new worksheet. \n",
    "* Double click Country and move Number of Refugees to Color in the Marks table.  \n",
    "* Notice our data isn't exactly the same as Trina's data.\n",
    "\n",
    "**QUESTION**:\n",
    "\n",
    "3. Which country took in the most refugees? \n",
    "    * [ ] Australia  \n",
    "    * [x] Canada  \n",
    "    * [ ] Belgium  \n",
    "    * [ ] Austria"
   ]
  },
  {
   "cell_type": "markdown",
   "metadata": {},
   "source": [
    "**Task List**:\n",
    "\n",
    "* Create a new worksheet.  \n",
    "* Change the Date to continuous. \n",
    "* Move Date to the Columns and Number of Refugees to the Rows.  \n",
    "* Drill down to the month level.\n",
    "\n",
    "**QUESTION**:\n",
    "\n",
    "4. Which of these months below had the the largest number of refugees? \n",
    "    * [ ] September 2015  \n",
    "    * [x] October 2015  \n",
    "    * [ ] November 2015  \n",
    "    * [ ] December 2015"
   ]
  },
  {
   "cell_type": "markdown",
   "metadata": {},
   "source": [
    "**Task List**:\n",
    " \n",
    "* Create a new dashboard.  \n",
    "* Drag each of your worksheets onto the dashboard.  \n",
    "* Change the size width to fit your screen. \n",
    "* Use the drop down in the top right of each of your worksheets to remove all the titles. \n",
    "* Click the drop down in the map worksheet to select Use as filter. \n",
    "* Click the drop down on your Year of Date filter to select Apply to Worksheets > All Using Related Data Sources.\n",
    "\n",
    "**QUESTION**:\n",
    "\n",
    "5. Match each value to the appropriate description.\n",
    "    * Austria - The top country seekers traveled to in 2016. \n",
    "    * Afghanistan - The top country seekers are moving from in 2016. \n",
    "    * January - The month for the highest number of refugees in 2001. \n",
    "    * Mexico - The top country that seekers are moving from in 2006. \n",
    "    * Canada - The top country for seekers to travel to in 2006. "
   ]
  },
  {
   "cell_type": "markdown",
   "metadata": {},
   "source": [
    "**Task List**:\n",
    "\n",
    "* Select the story button at the bottom of Tableau.  \n",
    "* Drag a worksheet into the main screen and add a caption. \n",
    "* Click and drag an additional worksheet to the right of your first. Add a second caption. \n",
    "* Click and drag your dashboard to the right of those two worksheets.  \n",
    "* Click the presentation tool at the top, so you can play your story. \n",
    "* Here is the story I created from our data [here](https://public.tableau.com/profile/josh2979#!/vizhome/MyFirstTableauStory_0/Story1?publish=yes)\n",
    "\n",
    "**QUESTION**:\n",
    "\n",
    "6. Select all the below that are true. \n",
    "    * [ ] Tableau stories should be used for all data visualization cases. \n",
    "    * [x] Stories may not be useful if you are creating elements to a presentation outside of Tableau.  \n",
    "    * [x] Stories can incorporate both dashboards and worksheets.  \n",
    "    * [x] You are now capable of building all the things in Tableau."
   ]
  },
  {
   "cell_type": "markdown",
   "metadata": {},
   "source": [
    "#### 09. Video: Extra Practice with Dashboards"
   ]
  },
  {
   "cell_type": "markdown",
   "metadata": {},
   "source": [
    "`pass`"
   ]
  },
  {
   "cell_type": "markdown",
   "metadata": {},
   "source": [
    "#### 10. Quiz: Extra Practice with Dashboards"
   ]
  },
  {
   "cell_type": "markdown",
   "metadata": {},
   "source": [
    "**Task List**:\n",
    "\n",
    "* Load the dataset using the Excel connector. \n",
    "* Change the Date to a Date datatype in Tableau using the upper left drop down for the column.  \n",
    "* Create a new worksheet. \n",
    "* From the Team drop down change to Geographical Role > Country/Region.  \n",
    "* Double click the new geographical Team. \n",
    "* Drag the Goals to the Color portion of the Marks table, and select the map with shading. \n",
    "* Create a filter using Year and show the filter for your visualization.\n",
    "\n",
    "**QUESTION**:\n",
    "\n",
    "1. Match each country to the corresponding description.\n",
    "    * Brazil - Which country has the most goals for all years? \n",
    "    * Argentina - Which country had the most goals in 1930? \n",
    "    * Germany - Which country had the most goals in 2006? \n",
    "    * France - Which country had the most goals in 1998? "
   ]
  },
  {
   "cell_type": "markdown",
   "metadata": {},
   "source": [
    "**Task List**:\n",
    "\n",
    "* Create a new worksheet.  \n",
    "* Create a map similar to the previous worksheet. \n",
    "* Create a group for all of the countries in North and South America. Make sure to use all the data when you create the group. \n",
    "* Re-create the map based on these two groups, rather than by country.  \n",
    "* Color by the SUM of the Goals and add a Filter for Year.  \n",
    "\n",
    "**QUESTION**:\n",
    "\n",
    "2. Which of the following years were years where North and South America outscored the rest of the world. (Check all that apply). \n",
    "    * [x] 1930  \n",
    "    * [ ] 1934  \n",
    "    * [ ] 1938  \n",
    "    * [x] 1950  \n",
    "    * [ ] 2002"
   ]
  },
  {
   "cell_type": "markdown",
   "metadata": {},
   "source": [
    "**Task List**:\n",
    "\n",
    "* Move Date to the Columns (Make sure this has been changed to a date datatype).  \n",
    "* Move Goals to the Rows.  \n",
    "* Color by your Team (group).  \n",
    "* Change your plot on Show Me to a Line Chart.\n",
    "\n",
    "**QUESTION**:\n",
    "\n",
    "3. Which of the below are true regarding your new plot?\n",
    "    * [x] It is much easier to use the line plot to see which years which group had more points.  \n",
    "    * [x] The map is still pretty.  \n",
    "    * [x] We can technically use either plot to get the same information. \n",
    "    * [x] The line plot makes it easier to see the overall trends in goals scored by each group."
   ]
  },
  {
   "cell_type": "markdown",
   "metadata": {},
   "source": [
    "**Task List**:\n",
    "\n",
    "* Create a new dashboard. \n",
    "* Put your datasets working with the two grouped data on the same dashboard (you should have two worksheets).  \n",
    "* Assure the filter applies for both worksheets.  \n",
    "* Remove the titles.  \n",
    "* Save your dashboard to Tableau Public."
   ]
  },
  {
   "cell_type": "markdown",
   "metadata": {},
   "source": [
    "**Solutions**:\n",
    "\n",
    "* [Quiz 1](https://public.tableau.com/profile/josh2979#!/vizhome/GoalsbyCountry/Sheet2?publish=yes)\n",
    "* [Quiz 2](https://public.tableau.com/profile/josh2979#!/vizhome/GoalsbyGroup/Sheet1?publish=yes)\n",
    "* [Quiz 3](https://public.tableau.com/profile/josh2979#!/vizhome/Lines_13/Sheet3?publish=yes)\n",
    "* [Final Dashboard](https://public.tableau.com/profile/josh2979#!/vizhome/DashboardSolution/Dashboard1?publish=yes)\n"
   ]
  },
  {
   "cell_type": "markdown",
   "metadata": {},
   "source": [
    "#### 11. Text: Lesson Recap"
   ]
  },
  {
   "cell_type": "markdown",
   "metadata": {},
   "source": [
    "**Lesson Recap**\n",
    "\n",
    "In this lesson, you learned how to use Tableau with both `.xls` files and `.csv` files by analyzing:\n",
    "\n",
    "* The **Movie** data.\n",
    "* The **Asylum Seekers** data.\n",
    "* The **World Cup** data.\n",
    "\n",
    "You completed **three mini projects** with each dataset that required a strong understanding of **worksheets**, **dashboards**, and **stories** in Tableau.\n",
    "\n",
    "Additionally, you learned how to put together:\n",
    "\n",
    "* Tableau **Dashboards**\n",
    "* Tableau **Stories**\n",
    "\n",
    "You are now ready to **TAKE ON THE PROJECT**!\n",
    "\n",
    "Though there is always more to learn with every tool, you are able to tackle tons of questions using Tableau! I cannot wait to see what you create for your projects."
   ]
  },
  {
   "cell_type": "markdown",
   "metadata": {},
   "source": [
    "#### 12. Video: Congratulations!"
   ]
  },
  {
   "cell_type": "markdown",
   "metadata": {},
   "source": [
    "In the previous lesson, you learned about the ins and outs of putting together a visualization in Tableau.\n",
    "\n",
    "In this lesson, you practice putting these individual worksheets together into dashboards and stories."
   ]
  }
 ],
 "metadata": {
  "kernelspec": {
   "display_name": "Python 3",
   "language": "python",
   "name": "python3"
  },
  "language_info": {
   "codemirror_mode": {
    "name": "ipython",
    "version": 3
   },
   "file_extension": ".py",
   "mimetype": "text/x-python",
   "name": "python",
   "nbconvert_exporter": "python",
   "pygments_lexer": "ipython3",
   "version": "3.7.3"
  }
 },
 "nbformat": 4,
 "nbformat_minor": 2
}
