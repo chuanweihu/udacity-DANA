{
 "cells": [
  {
   "cell_type": "markdown",
   "metadata": {},
   "source": [
    "## Module 01: Practical Stats\n",
    "\n",
    "### Lesson 12: Hypothesis Testing\n",
    "\n",
    "> Learn the necessary skills to create and analyze the results in hypothesis testing."
   ]
  },
  {
   "cell_type": "markdown",
   "metadata": {},
   "source": [
    "### 01. Introduction\n",
    "\n",
    "**Hypothesis Testing Introduction**\n",
    "\n",
    "Hypothesis testing is one of my favorite topics, because it really does bring an art to the way that we think about statistics.\n",
    "\n",
    "This can bring a lot of complexity. And you may need to watch videos in the section multiple times, or practice the quizzes multiple times. But this is a really rewarding subject to master.\n",
    "\n",
    "\n",
    "#### 02. Hypothesis Testing\n",
    "\n",
    "As data analysts, we try to help them answer these questions. But first, we need to translate the questions into what are known as **Hypothesis(假设)**. Then, we need to be able to collect data to justify which hypothesis are likely to be true.\n",
    "\n",
    "Well, it turns out, you can use hypothesis testing, or confidence intervals which you just saw in the last lesson, to **draw conclusions about a population, only using sample data**.\n",
    "\n",
    "The hypothesis could go **lots of different ways**. As an example, Is the drug helpful if it makes patients feel better? Is it helpful if they live longer? Is it helpful if it reduces the tumor sizes?\n",
    "\n",
    "\n",
    "#### 03. Setting Up Hypothesis Tests - Part I\n",
    "\n",
    "In this video, you learned a few rules for setting up **Null(零假设)** and **Alternative Hypotheses(备择假设,对立假设)**:\n",
    "\n",
    "1. The $\\small H_0$ is true before you collect any data.\n",
    "2. The $\\small H_0$ usually states there is no effect or that two groups are equal.\n",
    "3. The $\\small H_0$ and $\\small H_1$ are competing, non-overlapping hypotheses.\n",
    "4. $\\small H_1$ is what we would like to prove to be true.\n",
    "5. $\\small H_0$ contains an equal sign of some kind - either $\\small =, \\le or \\ge$\n",
    "6. $\\small H_1$ contains the opposition of the null - either $\\small \\ne, \\lt or \\gt$ \n",
    "\n",
    "You saw that the statement, \"Innocent until proven guilty\" is one that suggests the following hypotheses are true:\n",
    "\n",
    "$\\small H_0$: Innocent\n",
    "$\\small H_1$: Guilty\n",
    "\n",
    "We can relate this to the idea that \"innocent\" is true before we collect any data. Then the alternative must be a competing, non-overlapping hypothesis. Hence, the alternative hypothesis is that an individual is guilty.\n",
    "\n",
    "\n",
    "#### 04. Setting Up Hypothesis Tests - Part II\n",
    "\n",
    "Because we wanted to test if a new page was better than an existing page, we set that up in the alternative. Two indicators are that the null should hold the equality, and the statement we would like to be true should be in the alternative. Therefore, it would look like this:\n",
    "\n",
    "$\\small H_0: \\mu_1 \\le \\mu_2$\n",
    "$\\small H_1: \\mu_1 \\gt \\mu_2$\n",
    "\n",
    "Here $\\small \\mu_1$ represents the population mean return from the new page. Similarly, $\\small \\mu_2$ represents the population mean return from the old page.\n",
    "\n",
    "Depending on your question of interest, you would change your null and alternative hypotheses to match.\n",
    "\n",
    "\n",
    "#### 05. Quiz: Setting Up Hypothesis Tests\n",
    "\n",
    "\n",
    "| **Statement** | **Hypothesis** |\n",
    "| --- | --- |\n",
    "|The average height of all people in the world is different than 68 inches tall.|Alternative|\n",
    "|The average height of all people in the world is less than 68 inches tall.|Alternative|\n",
    "|The average height of all people in the world is less than or equal to 68 inches|Null|\n",
    "|The impact of Drug A is on average the same as Drug B.|Null|\n",
    "|Drug A will on average have a larger impact than Drug B.|Alternative|\n",
    "\n",
    "\n",
    "#### 06. Types of Errors - Part I\n",
    "\n",
    "why does all this null and alternative stuff really matter?\n",
    "\n",
    "In either of these other two, the jury has made a mistake as the truth doesn't match the jury decision. This provides us with two potential errors that are possible in hypothesis testing.\n",
    "\n",
    "\n",
    "#### 07. Quiz: Types of Errors - Part I\n",
    "\n",
    "**QUIZ**\n",
    "\n",
    "There are two types of errors that are possible in hypothesis testing: **Type I Errors(第一型错误)** and **Type II Errors(第二型错误)**. Type I Errors are considered the worst type of error. Just based on this information, can you guess which truth/decision combo is each type of error?\n",
    "\n",
    "| **Truth/Decision** | **Error Type** |\n",
    "| --- | --- |\n",
    "|Truth: Guilty, Decision: Guilty|No Error|\n",
    "|Truth: Innocent, Decision: Guilty|Type I Error|\n",
    "|Truth: Guilty, Decision: Innocent|Type II Error|\n",
    "|Truth: Innocent, Decision: Innocent|No Error|\n",
    "\n",
    "\n",
    "#### 08. Types of Errors - Part II\n",
    "\n",
    "**Type I Errors**\n",
    "\n",
    "**Type I errors** have the following features:\n",
    "\n",
    "1. You should set up your null and alternative hypotheses, so that the worse of your errors is the type I error.\n",
    "2. They are denoted by the symbol $\\small \\alpha$.\n",
    "3. The definition of a type I error is: Deciding the alternative ($\\small H_1$) is true, when actually ($\\small H_0$) is true.\n",
    "4. Type I errors are often called **False Positives(假正)**.\n",
    "\n",
    "**Type II Errors**\n",
    "\n",
    "1. They are denoted by the symbol $\\small \\beta$.\n",
    "2. The definition of a type II error is: Deciding the null ($\\small H_0$) is true, when actually ($\\small H_1$) is true.\n",
    "3. Type II errors are often called **False Negatives(假负)**.\n",
    "\n",
    "In the most extreme case, we can always choose **one hypothesis** (say always choosing the **null**) to ensure that a **particular error** never occurs (never a **type I error** assuming we always choose the null). However, more generally, there is a **relationship** where with a single set of data **decreasing** your chance of one type of error, **increases** the chance of the other error occurring.\n",
    "\n",
    "Because of this relationship between type one and type two errors, professionals frequently just set a **Threshold(阈值)** for how many type one errors they're willing to commit. And then, they try to keep the type two errors as low as possible while still meeting this threshold.\n",
    "\n",
    "Common type one error rates are **one percent** from medical field, while they're **five percent** for research journals and other business applications. But really, this rate should be contingent on your application.\n",
    "\n",
    "\n",
    "#### 09. Quiz: Types of Errors - Part II\n",
    "\n",
    "**Types of Errors - Part II**\n",
    "\n",
    "In the following set of quizzes, you will be doing a recap and combination of the ideas that have been covered so far. Putting all of these pieces together is important for fully understanding hypothesis testing.\n",
    "\n",
    "Consider we are interested in testing if the **average revenue** for a new marketing campaign is **better than** the previous marketing campaign.\n",
    "\n",
    "We set up the null and alternative hypotheses in the following way:\n",
    "\n",
    "$\\small H_0: \\mu_n - \\mu_0 \\le 0$\n",
    "and\n",
    "$\\small H_1: \\mu_n - \\mu_0 \\gt 0$\n",
    "\n",
    "where $\\small \\mu_0$ is the **mean revenue of the old campaign**, and $\\small \\mu_n$ is the **mean revenue of the new campaign**.\n",
    "\n",
    "**QUIZ1**\n",
    "\n",
    "Use the setup of the above null and alternative hypotheses to match the error statements to the correct errors.\n",
    "\n",
    "| Statement  | Error Type |\n",
    "| --- | --- |\n",
    "|Deciding the new page is better.|Not enough information to provide an error.|\n",
    "|Deciding the old page is better.|Not enough information to provide an error.|\n",
    "|Deciding the new page is better, but really the old page is better.|Type I Error|\n",
    "|Deciding the old page is better, but really the new page is better.|Type II Error|\n",
    "\n",
    "**QUIZ2**\n",
    "\n",
    "Let's try another situation. Consider you are testing a new cancer drug to see if it reduces tumor sizes in patients. Let $\\small \\mu_n$ be the **average reduction in tumor size under the new drug**. Let $\\small \\mu_0$ be the **average reduction in tumor size under the old drug**.\n",
    "\n",
    "We set up the null and alternative hypotheses in the following way:\n",
    "\n",
    "$\\small H_0: \\mu_n - \\mu_0 \\le 0$\n",
    "and\n",
    "$\\small H_1: \\mu_n - \\mu_0 \\gt 0$\n",
    "\n",
    "1. What does the null hypothesis suggest?\n",
    "    * [ ] The new treatment will reduce tumors as well or better than old treatments (on average).\n",
    "    * [x] The old treatment will reduce tumors as well or better than new treatments (on average).\n",
    "    * [ ] The old treatment and new treatments will reduce tumors in the exact same ways (on average).\n",
    "\n",
    "2. Which of the following statements is another way to state the null hypothesis in this situation?\n",
    "    * [x] The null is that the old drug works as well or better than the new drug.\n",
    "    * [ ] The null is that the new drug works as well or better than the new drug.\n",
    "    * [ ] The null is that the two drugs work equally as well.\n",
    "    * [ ] The null is that the old drug works better than the new drug.\n",
    "\n",
    "3. Use the setup of the above null and alternative hypotheses to match the error statements to the correct errors.\n",
    "\n",
    "| Statement | Error |\n",
    "| --- | --- |\n",
    "|The new drug is better at reducing tumor sizes.|Not enough information to provide an error.|\n",
    "|The old drug is better at reducing tumor sizes.|Not enough information to provide an error.|\n",
    "|Based on the study results we decide the new drug is better, but really the old drug is better at reducing tumor sizes.|Type I Error|\n",
    "|Based on the study results we decide the old drug is better, but really the new drug is better at reducing tumor sizes.|Type II Error|\n",
    "\n",
    "\n",
    "#### 10. Types of Errors - Part III\n",
    "\n",
    "**Parachute Example**\n",
    "\n",
    "This example let you see one of the most extreme cases of errors that might be committed in hypothesis testing. In a type I error an individual died. In a type II error, you lost 30 dollars.\n",
    "\n",
    "In the hypothesis tests you build in the upcoming lessons, you will be able to choose a type I error threshold, and your hypothesis tests will be created to minimize the type II errors after ensuring the type I error rate is met.\n",
    "\n",
    "\n",
    "#### 11. Quiz: Types of Errors - Part III\n",
    "\n",
    "**Quiz**\n",
    "\n",
    "In the previous video, you saw another example of error types in hypothesis testing. Use the ideas of the previous video to answer the following quiz questions. The quizzes will attempt to connect the specifics of the previous example to the general rules of setting up hypotheses.\n",
    "\n",
    "1. Use what you know about hypothesis testing to select each of the below statements that are true.\n",
    "    * [x] The null hypothesis is what we believe before we collect any data.\n",
    "    * [x] The null hypothesis in the previous example was that the parachute doesn't open, as it is safer to assume none of the parachutes open until enough data suggests that they do open.\n",
    "    * [ ] The null hypothesis in the previous example was that the parachute does open, as it is safer to assume all of the parachutes open until enough data suggests that they don't open.\n",
    "    * [x] The alternative hypothesis is generally what we want to prove to be true: that a drug is effective, that a new page performs better, or that the parachute is safe.\n",
    "    * [x] The alternative is that the parachute opens, which makes sense as it is what we would like to prove.\n",
    "    * [ ] The alternative is that the parachute doesn't open, which makes sense as it is what we would like to prove.\n",
    "\n",
    "2. Match each value to the correct description.\n",
    "\n",
    "| **Description** | **Value** |\n",
    "| --- | --- |\n",
    "|The threshold for type I errors.|alpha|\n",
    "|Deciding the alternative is correct when really the null is true.|Type I Error|\n",
    "|Deciding the null is correct when really the alternative is correct.|Type II Error|\n",
    "|Choosing the parachute doesn't open, when actually it does.|Type II Error|\n",
    "|Choosing the parachute opens, when actually it doesn't.|Type I Error|"
   ]
  },
  {
   "cell_type": "markdown",
   "metadata": {},
   "source": [
    "#### 12. Common Types of Hypothesis Tests\n",
    "\n",
    "You are always **performing hypothesis tests on population parameters**, never on statistics. Statistics are values that you already have from the data, so it does not make sense to perform hypothesis tests on these values.\n",
    "\n",
    "If we really wanted to test if a new campaign was better than an old campaign, we might use a **One Sided Hypothesis Test(单侧假设检验)** like this one, where the **greater than** here, suggests that the proportion of individuals that travel to our site will be higher for the new campaign.\n",
    "\n",
    "* Common hypothesis tests include:\n",
    "    1. Testing a **population mean** ([One sample t-test](http://sites.utexas.edu/sos/guided/inferential/numeric/claim/one-sample-t/)).\n",
    "    2. Testing the **difference in means** ([Two sample t-test](https://www.isixsigma.com/tools-templates/hypothesis-testing/making-sense-two-sample-t-test/))\n",
    "    3. Testing the difference before and after some treatment on the same individual ([Paired t-test](http://www.statstutor.ac.uk/resources/uploaded/paired-t-test.pdf))\n",
    "    4. Testing a population proportion ([One sample z-test](http://stattrek.com/statistics/dictionary.aspx?definition=one-sample%20z-test))\n",
    "    5. Testing the difference between population proportions ([Two sample z-test](https://onlinecourses.science.psu.edu/stat414/node/268))\n",
    "\n",
    "You can use one of these sites to provide a t-table or z-table to support one of the above approaches:  [t-table](https://s3.amazonaws.com/udacity-hosted-downloads/t-table.jpg), [t-table or z-table](http://www.z-table.com/t-value-table.html)\n",
    "\n",
    "**There are literally 100s of different hypothesis tests**! However, instead of memorizing how to perform all of these tests, you can find the statistic(s) that best estimates the parameter(s) you want to estimate, you can bootstrap to simulate the sampling distribution. Then you can use your sampling distribution to assist in choosing the appropriate hypothesis.\n",
    "\n",
    "\n",
    "#### 13. How Do We Choose Between Hypotheses?\n",
    "\n",
    "Once we set up our **null and alternative hypotheses**, we need to use data to figure out which hypothesis we actually think is more likely to be true. And there are **two ways** we might approach choosing one of these hypotheses.\n",
    "\n",
    "* One is the approach that we saw using confidence intervals, where we **simulate the sampling distribution of our statistic**, and then we could see if our hypothesis is consistent with what we observe in the sampling distribution.\n",
    "* The second way we could approach choosing a hypothesis is **simulating what we believe to be possible under the null** and then seeing if our data is actually consistent with that. This is what professionals tend to do in a hypothesis testing.\n",
    "\n",
    "\n",
    "#### 14. Video: Simulating from the Null\n",
    "\n",
    "A second approach that is commonly done for making decisions in hypothesis testing is the following, **we assume that the null is true and we know what the sampling distribution would look like if we were to simulate from the closest value under the null to the alternative**. That is, this value of 70. That's the **closest value under this hypothesis** to our alternative hypothesis.\n",
    "\n",
    "We could use the **standard deviation of the sampling distribution** to determine what the sampling distribution would look like if it came from the **null hypothesis**. We'll simulate from a **normal distribution** in this case.\n",
    "\n",
    "I'm going to pull over the code that we used before to get the standard deviation of our sampling distribution. So the **standard deviation of our sampling distribution** is equal to 0.2658. And we know that if it came from this null hypothesized value of 70 what it would look like. By the **central limit theorem**, we know that it would follow a normal distribution."
   ]
  },
  {
   "cell_type": "markdown",
   "metadata": {},
   "source": [
    "$$\\small H_0: \\mu \\le 70$$\n",
    "$$\\small H_1: \\mu \\gt 70$$"
   ]
  },
  {
   "cell_type": "code",
   "execution_count": 1,
   "metadata": {
    "scrolled": true
   },
   "outputs": [
    {
     "data": {
      "text/plain": [
       "0.26580395144180324"
      ]
     },
     "execution_count": 1,
     "metadata": {},
     "output_type": "execute_result"
    }
   ],
   "source": [
    "import pandas as pd\n",
    "import numpy as np\n",
    "\n",
    "import matplotlib.pyplot as plt\n",
    "%matplotlib inline\n",
    "\n",
    "np.random.seed(42)\n",
    "\n",
    "df = pd.read_csv('coffee_dataset.csv')\n",
    "\n",
    "sample_df = df.sample(150)\n",
    "\n",
    "means = []\n",
    "for _ in range(10000):\n",
    "    boot_sample = sample_df.sample(150, replace=True)\n",
    "    means.append(boot_sample.height.mean())\n",
    "\n",
    "np.std(means)"
   ]
  },
  {
   "cell_type": "code",
   "execution_count": 2,
   "metadata": {},
   "outputs": [
    {
     "data": {
      "image/png": "[encoded data removed]",
      "text/plain": [
       "<Figure size 432x288 with 1 Axes>"
      ]
     },
     "metadata": {
      "needs_background": "light"
     },
     "output_type": "display_data"
    }
   ],
   "source": [
    "null_vals = np.random.normal(70, np.std(means), 10000)\n",
    "\n",
    "plt.hist(null_vals);\n",
    "plt.axvline(x=70, color='red');"
   ]
  },
  {
   "cell_type": "code",
   "execution_count": 3,
   "metadata": {
    "scrolled": true
   },
   "outputs": [
    {
     "data": {
      "text/plain": [
       "67.63297688228059"
      ]
     },
     "execution_count": 3,
     "metadata": {},
     "output_type": "execute_result"
    }
   ],
   "source": [
    "sample_df.height.mean()"
   ]
  },
  {
   "cell_type": "markdown",
   "metadata": {},
   "source": [
    "It is suggested that **we do not believe that our null hypothesis value of 70 would be supported, which is true**. However, since our null is that the **population mean** is less than or equal to 70, we do have evidence to support this claim with our sample mean of approximately 67. This would suggest not rejecting our one-sided null alternative.\n",
    "\n",
    "If we had a null where we asked if the population mean was equal to 70, then we would be able to reject this null in favor of an alternative that suggested **the population mean** was actually different from 70.\n",
    "\n",
    "#### 15. Notebook + Quiz: Simulating from the Null\n",
    "\n",
    "**Simulating From the Null Hypothesis**\n",
    "\n",
    "In the previous lesson on confidence intervals, we saw how we could simulate a sampling distribution for a statistic by **bootstrapping our sample data**. Alternatively, in hypothesis testing, we could **simulate a sampling distribution from the null hypothesis using characteristics that would be true** if our data were to have come from the null."
   ]
  },
  {
   "cell_type": "markdown",
   "metadata": {},
   "source": [
    " `1.` If you were interested in if the average height for coffee drinkers is the same as for non-coffee drinkers, what would the null and alternative be?   Place them in the cell below, and use your answer to answer the first quiz question below.\n",
    "\n",
    "$$H_{0}: \\mu_{c} = \\mu_{nc}$$<br/>\n",
    "$$H_{1}: \\mu_{c} \\neq \\mu_{nc}$$\n",
    "\n",
    "**Since there is no directional component associated with this statement, a not equal to seems most reasonable.**\n",
    "\n",
    "$$H_0: \\mu_{coff} - \\mu_{no} = 0$$\n",
    "\n",
    "\n",
    "$$H_0: \\mu_{coff} - \\mu_{no} \\neq 0$$\n",
    "\n",
    "\n",
    "**$\\mu_{coff}$ and $\\mu_{no}$ are the population mean values for coffee drinkers and non-coffee drinkers, respectivley.**\n",
    "\n",
    "`2.` If you were interested in if the average height for coffee drinkers is less than non-coffee drinkers, what would the null and alternative be? Place them in the cell below, and use your answer to answer the second quiz question below.\n",
    "\n",
    "$$H_{0}: \\mu_{c} \\geq \\mu_{nc}$$<br/>\n",
    "$$H_{1}: \\mu_{c} < \\mu_{nc}$$\n",
    "\n",
    "**In this case, there is a question associated with a direction - that is the average height for coffee drinkers is less than non-coffee drinkers.  Below is one of the ways you could write the null and alternative.  Since the mean for coffee drinkers is listed first here, the alternative would suggest that this is negative.**\n",
    "\n",
    "$$H_0: \\mu_{coff} - \\mu_{no} \\geq 0$$\n",
    "\n",
    "$$H_0: \\mu_{coff} - \\mu_{no} < 0$$\n",
    "\n",
    "**$\\mu_{coff}$ and $\\mu_{no}$ are the population mean values for coffee drinkers and non-coffee drinkers, respectivley.**\n",
    "\n",
    "`3.` For 10,000 iterations: bootstrap the sample data, calculate the mean height for coffee drinkers and non-coffee drinkers, and calculate the difference in means for each sample.  You will want to have three arrays at the end of the iterations - one for each mean and one for the difference in means. Use the results of your sampling distribution, to answer the third quiz question below."
   ]
  },
  {
   "cell_type": "code",
   "execution_count": 4,
   "metadata": {},
   "outputs": [],
   "source": [
    "full_data = pd.read_csv('coffee_dataset.csv')\n",
    "sample_data = full_data.sample(200)"
   ]
  },
  {
   "cell_type": "code",
   "execution_count": 5,
   "metadata": {},
   "outputs": [
    {
     "data": {
      "text/plain": [
       "(0.23993886273983905, 0.4313580869309563, 0.4933379220431081)"
      ]
     },
     "execution_count": 5,
     "metadata": {},
     "output_type": "execute_result"
    }
   ],
   "source": [
    "diffs, coffs, nocoffs = [], [], []\n",
    "\n",
    "for _ in range(10000):\n",
    "    boots_sample = sample_data.sample(200, replace=True)\n",
    "    mean_coff = boots_sample.query('drinks_coffee == True').height.mean()\n",
    "    mean_nocoff = boots_sample.query('drinks_coffee == False').height.mean()\n",
    "    coffs.append(mean_coff)\n",
    "    nocoffs.append(mean_nocoff)\n",
    "    diffs.append(mean_coff - mean_nocoff)\n",
    "\n",
    "np.std(coffs), np.std(nocoffs), np.std(diffs)"
   ]
  },
  {
   "cell_type": "code",
   "execution_count": 6,
   "metadata": {},
   "outputs": [
    {
     "data": {
      "image/png": "[encoded data removed]",
      "text/plain": [
       "<Figure size 432x288 with 1 Axes>"
      ]
     },
     "metadata": {
      "needs_background": "light"
     },
     "output_type": "display_data"
    }
   ],
   "source": [
    "plt.hist(coffs, alpha=0.5)\n",
    "plt.hist(nocoffs, alpha=0.5);"
   ]
  },
  {
   "cell_type": "code",
   "execution_count": 7,
   "metadata": {
    "scrolled": true
   },
   "outputs": [
    {
     "data": {
      "image/png": "[encoded data removed]",
      "text/plain": [
       "<Figure size 432x288 with 1 Axes>"
      ]
     },
     "metadata": {
      "needs_background": "light"
     },
     "output_type": "display_data"
    }
   ],
   "source": [
    "plt.hist(diffs, alpha=0.5);"
   ]
  },
  {
   "cell_type": "markdown",
   "metadata": {},
   "source": [
    "`4.` Now, use your observed sampling distribution for the difference in means and [the docs](numpy.random.normal) to simulate what you would expect the sampling distribution to be if the null hypothesis is true. You can do this be recentering your distribution at zero. Also, calculate the observed sample mean difference in `sample_data`. Use your solutions to answer the last questions in the quiz below."
   ]
  },
  {
   "cell_type": "code",
   "execution_count": 8,
   "metadata": {},
   "outputs": [
    {
     "data": {
      "image/png": "[encoded data removed]",
      "text/plain": [
       "<Figure size 432x288 with 1 Axes>"
      ]
     },
     "metadata": {
      "needs_background": "light"
     },
     "output_type": "display_data"
    }
   ],
   "source": [
    "null_vals = np.random.normal(0, np.std(diffs), 10000)\n",
    "plt.hist(null_vals)\n",
    "plt.axvline(x=0, color='red');"
   ]
  },
  {
   "cell_type": "markdown",
   "metadata": {},
   "source": [
    "**Quiz**\n",
    "\n",
    "1. Quiz 1: Use the first question above to match the null and alternative to the appropriate statements.\n",
    "    * **Null**: The average height for all coffee drinkers is the same as the average height for all non-coffee drinkers.\n",
    "    * **Alternative**: The average height for all coffee drinkers is not the same as the average height for all non-coffee drinkers.\n",
    "\n",
    "2. Quiz 2: Use the second question above to match the null and alternative to the appropriate statements.\n",
    "    * **Null**: The average height for all coffee drinkers is the same or greater than the average height for all non-coffee drinkers.\n",
    "    * **Alternative**: The average height for all coffee drinkers is less than the average height for all non-coffee drinkers.\n",
    "\n",
    "3. Quiz 3: Use the results of your sampling distributions for question 3 above to match the following values to the correct description.\n",
    "\n",
    "| **Description** | **Value** |\n",
    "| --- | --- |\n",
    "|The standard deviation of the sampling distribution for the mean of those that do **not drink coffee**.|0.41|\n",
    "|The standard deviation of the sampling distribution for the mean of those that **drink coffee**.|0.24|\n",
    "|The standard deviation of the sampling distribution for the **difference** in means of those that drink coffee and those that do not.|0.47|\n",
    "|What is the shape of each sampling distribution?|Normal|\n",
    "|What is the reason for the shape of each of these distributions?|The Central Limit Theorem|\n",
    "\n",
    "\n",
    "4. Use your solutions about the sampling distribution, and what difference in means would be likely from the null hypothesis to mark all of the below that are true.\n",
    "    * [x] We can expect the standard deviation of the sampling distribution for differences from the null to be essentially the same as what we observed from the data.\n",
    "    * [x] If the null hypothesis is true, we would expect the difference in means of coffee drinkers and non-drinkers to be zero.\n",
    "    * [ ] The observed sample mean difference between coffee drinkers and non-coffee drinkers in **sample_data** appears as though it came from the sampling distribution you simulated for the null hypothesis."
   ]
  },
  {
   "cell_type": "markdown",
   "metadata": {},
   "source": [
    "#### 16. What is a p-value Anyway?\n",
    "\n",
    "**What Is A P-value Anyway?**\n",
    "\n",
    "The definition of a **p-value(p值)** is the **probability of observing your statistic** (or one more extreme in favor of the alternative) if **the null hypothesis is true**.\n",
    "\n",
    "what is the probability of obtaining the statistic we observed in our data or one more extreme in favor of the alternative hypothesis? This probability is what is called a P-value.\n",
    "\n",
    "There are two parts to understand: \n",
    "* First, you have to fully conceptualize the definition of a P-value, which is the conditional probability of your data given that the null hypothesis is true.\n",
    "* Then, you need to figure out what to compute, which is visually summarized by these three images.\n",
    "\n",
    "#### 17. Video: Calculating the p-value\n",
    "\n",
    "You saw how we could simulate draws from the **null hypothesis**, and that if our **statistic** was **in the bulk** of the distribution, this suggested that the statistic was likely from that null. However, if the **statistic** was **farther out from the bulk** of the distribution, this suggested that the null wasn't likely to have generated our statistic. \n",
    "\n",
    "Then you saw that we can calculate p-values based on the **shaded region starting at the value of our observed statistic** through the tail of the distribution, where the shaded region is dependent on our alternative.\n",
    "\n",
    "$\\small H_0: \\mu \\le 70$\n",
    "\n",
    "$\\small H_1: \\mu \\gt 70$"
   ]
  },
  {
   "cell_type": "markdown",
   "metadata": {},
   "source": [
    "Let's highlight the process:\n",
    "\n",
    "1. **Simulate** the values of your statistic that are possible from the null.\n",
    "2. **Calculate** the value of the statistic you actually obtained in your data.\n",
    "3. **Compare** your statistic to the values from the null.\n",
    "4. **Calculate** the proportion of null values that are considered **extreme** based on your alternative."
   ]
  },
  {
   "cell_type": "code",
   "execution_count": 9,
   "metadata": {},
   "outputs": [
    {
     "data": {
      "text/plain": [
       "0.27942224422003875"
      ]
     },
     "execution_count": 9,
     "metadata": {},
     "output_type": "execute_result"
    }
   ],
   "source": [
    "df = pd.read_csv('coffee_dataset.csv')\n",
    "sample_df = df.sample(150)\n",
    "\n",
    "means = []\n",
    "for _ in range(10000):\n",
    "    boot_sample = sample_df.sample(150, replace=True)\n",
    "    means.append(boot_sample.height.mean())\n",
    "\n",
    "np.std(means)"
   ]
  },
  {
   "cell_type": "code",
   "execution_count": 10,
   "metadata": {},
   "outputs": [
    {
     "data": {
      "image/png": "[encoded data removed]",
      "text/plain": [
       "<Figure size 432x288 with 1 Axes>"
      ]
     },
     "metadata": {
      "needs_background": "light"
     },
     "output_type": "display_data"
    }
   ],
   "source": [
    "null_vals = np.random.normal(70, np.std(means), 10000)\n",
    "plt.hist(null_vals);"
   ]
  },
  {
   "cell_type": "code",
   "execution_count": 12,
   "metadata": {},
   "outputs": [
    {
     "data": {
      "text/plain": [
       "(1.0, 0.0)"
      ]
     },
     "execution_count": 12,
     "metadata": {},
     "output_type": "execute_result"
    }
   ],
   "source": [
    "sample_mean = sample_df.height.mean()\n",
    "(null_vals > sample_mean).mean(), (null_vals < sample_mean).mean()"
   ]
  },
  {
   "cell_type": "code",
   "execution_count": 15,
   "metadata": {},
   "outputs": [
    {
     "data": {
      "text/plain": [
       "(0.0, 0.0)"
      ]
     },
     "execution_count": 15,
     "metadata": {},
     "output_type": "execute_result"
    }
   ],
   "source": [
    "null_mean = 70\n",
    "(null_vals < sample_mean).mean() , (null_vals > null_mean + (null_mean - sample_mean)).mean()"
   ]
  },
  {
   "cell_type": "code",
   "execution_count": 14,
   "metadata": {},
   "outputs": [
    {
     "data": {
      "image/png": "[encoded data removed]",
      "text/plain": [
       "<Figure size 432x288 with 1 Axes>"
      ]
     },
     "metadata": {
      "needs_background": "light"
     },
     "output_type": "display_data"
    }
   ],
   "source": [
    "low = sample_mean\n",
    "high = null_mean + (null_mean - sample_mean)\n",
    "\n",
    "plt.hist(null_vals)\n",
    "plt.axvline(x=low, color='r', linewidth=2)\n",
    "plt.axvline(x=high, color='r', linewidth=2);"
   ]
  },
  {
   "cell_type": "markdown",
   "metadata": {},
   "source": [
    "#### 18. Quiz: What is a p-value Anyway?\n",
    "\n",
    "**QUIZ1**\n",
    "\n",
    "Consider you have implemented a new program in the office to improve company morale. You measure employee morale for each employee via an assessment before and after the program. You want to see if the program was successful. Use this scenario to complete the matches below.\n",
    "\n",
    "| **Description** | **Value** |\n",
    "| --- | --- |\n",
    "|Deciding there was no change in morale, but there actually was an increase.|Type II Error|\n",
    "|Deciding the program increased morale, but it actually didn't.|Type I Error|\n",
    "|There was no change in the average morale of the company.|Null Hypothesis|\n",
    "|The new program on average increased morale.|Alternative Hypothesis|\n",
    "|The probability of the observed change in average morale occurring or an average change even more in favor of an increase in morale given there was actually no change in morale.|p-value|\n",
    "\n",
    "\n",
    "**QUIZ2**\n",
    "\n",
    "Using the same example from the first quiz, match each of the below alternative hypothesis with the way the distribution would be shaded. **The statistic we compute is the sample mean after the program minus the sample mean before the program**.\n",
    "\n",
    "| **Alternative Hypothesis** | **Value** |\n",
    "| --- | --- |\n",
    "|The average morale after the program is lower than before the program.|Shade less than the observed statistic to obtain the p-value.|\n",
    "|The average morale after the program is higher than before the program.|Shade greater than the observed statistic to obtain the p-value.|\n",
    "|There is no difference in the average morale.|Shade greater than the positive of our observed statistic and below the negative of our observed statistic to obtain the p-value.|\n",
    "\n",
    "\n",
    "#### 19. Quiz: Calculating a p-value\n",
    "\n",
    "Quiz 1 and Quiz 2 and Quiz 3\n",
    "The quizzes on this page and the next page are to assure you understand conceptually how the pieces fit together.\n",
    "\n",
    "Use the following to answer the three quiz questions below. Imagine we have the following null and alternative hypotheses:\n",
    "\n",
    "$$\\large H_0: \\mu \\ge 5$$\n",
    "$$\\large H_1: \\mu \\lt 5$$\n",
    "\n",
    "And you collect data that provides you with a sample mean of 10.\n",
    "\n",
    "1. Based on the above, select the statement that is true.\n",
    "    * [x] We would expect the population mean to be greater than 5. \n",
    "    * [ ] We would expect the population mean to be less than 5. \n",
    "    * [ ] We have no idea where the population mean would be.\n",
    "\n",
    "2. Which of the following would be true regarding the p-value in this case.\n",
    "    * [ ] We expect the p-value to be less than 50%. \n",
    "    * [x] We expect the p-value to be greater than 50%. \n",
    "    * [ ] We cannot have any idea what the p-value would be in this case.\n",
    "\n",
    "3. Based on your sample mean of 10, which hypothesis seems more likely to be true?\n",
    "    * [x] The null. \n",
    "    * [ ] The alternative. \n",
    "    * [ ] We cannot know.\n",
    "\n",
    "\n",
    "#### 20. Connecting Errors and P-Values\n",
    "\n",
    "The **p-value** is the probability of getting our statistic or a more extreme value if the null is true.\n",
    "\n",
    "Therefore, **small p-values suggest our null is not true**. Rather, our statistic is likely to have come from a different distribution than the null.\n",
    "\n",
    "When the p-value is large, we have evidence that our statistic was likely to come from the null hypothesis. Therefore, we do not have evidence to reject the null.\n",
    "\n",
    "By comparing our p-value to our type I error threshold ($\\large \\alpha$), we can make our decision about which hypothesis we will choose.\n",
    "\n",
    "$$pval \\le \\alpha \\to Reject \\space H_0$$\n",
    "$$pval \\gt \\alpha \\to \\text{Fail to Reject} \\space H_0$$\n",
    "\n",
    "\n",
    "#### 21. Conclusions in Hypothesis Testing\n",
    "\n",
    "The word **Accept(接受)** is one that is avoided when making statements regarding the null and alternative. You are not stating that one of the hypotheses is true. Rather, you are **making a decision** based on the likelihood of your data coming from the null hypothesis with regard to your **type I error threshold**.\n",
    "\n",
    "Therefore, the wording used in conclusions of hypothesis testing includes: **We reject the null hypothesis or We fail to reject the null hypothesis**. This lends itself to the idea that you start with the null hypothesis true by default, and \"choosing\" the null at the end of the test would have been the choice even if no data were collected.\n",
    "\n",
    "\n",
    "#### 22. Quiz: Connecting Errors and P-Values\n",
    "\n",
    "**QUIZ**\n",
    "\n",
    "1. For each p-value, alpha pair below; provide whether you would reject the null or fail to reject.\n",
    "\n",
    "| **p-value/alpha** | **Conclusion** |\n",
    "| --- | --- |\n",
    "|$p-value = 0.03$, $alpha = 0.05$|Reject the null|\n",
    "|$p-value = 0.20$, $alpha = 0.01$|Fail to reject the null|\n",
    "|$p-value = 0.10$, $alpha = 0.05$|Fail to reject the null|\n",
    "\n",
    "2. Use what you know about p-values and errors to match each term to the correct definition.\n",
    "\n",
    "\n",
    "| **Definition** | **Term** |\n",
    "| --- | --- |\n",
    "|The threshold for type I errors.|alpha|\n",
    "|The worst type of error.|Type I error|\n",
    "|Deciding the null is true, but really the alternative is true.|Type II error|\n",
    "|Deciding the alternative is true but really the null is true.|Type I error|\n",
    "|The choice made when the p-value is less than alpha|Reject the null hypothesis|\n",
    "\n",
    "#### 23. Notebook + Quiz: Drawing Conclusions"
   ]
  },
  {
   "cell_type": "code",
   "execution_count": 17,
   "metadata": {},
   "outputs": [],
   "source": [
    "# Here are two datasets that represent two of the examples you have seen in \n",
    "# this lesson.  \n",
    "\n",
    "# One dataset is based on the parachute example, and the second is based on \n",
    "# the judicial example.  Neither of these datasets are based on real people.\n",
    "\n",
    "# Use the questions below to assist in answering the quiz questions at the \n",
    "# bottom of this page.\n",
    "\n",
    "jud_data = pd.read_csv('judicial_dataset_predictions.csv')\n",
    "par_data = pd.read_csv('parachute_dataset.csv')"
   ]
  },
  {
   "cell_type": "code",
   "execution_count": 18,
   "metadata": {},
   "outputs": [
    {
     "data": {
      "text/plain": [
       "guilty      3994\n",
       "innocent    3289\n",
       "Name: actual, dtype: int64"
      ]
     },
     "execution_count": 18,
     "metadata": {},
     "output_type": "execute_result"
    }
   ],
   "source": [
    "jud_data.actual.value_counts()"
   ]
  },
  {
   "cell_type": "code",
   "execution_count": 19,
   "metadata": {},
   "outputs": [
    {
     "data": {
      "text/plain": [
       "Index(['defendant_id', 'actual', 'predicted'], dtype='object')"
      ]
     },
     "execution_count": 19,
     "metadata": {},
     "output_type": "execute_result"
    }
   ],
   "source": [
    "jud_data.columns"
   ]
  },
  {
   "cell_type": "code",
   "execution_count": 20,
   "metadata": {},
   "outputs": [
    {
     "data": {
      "text/plain": [
       "opens    5781\n",
       "fails      48\n",
       "Name: actual, dtype: int64"
      ]
     },
     "execution_count": 20,
     "metadata": {},
     "output_type": "execute_result"
    }
   ],
   "source": [
    "par_data.actual.value_counts()"
   ]
  },
  {
   "cell_type": "code",
   "execution_count": 21,
   "metadata": {},
   "outputs": [
    {
     "data": {
      "text/plain": [
       "Index(['parachute_id', 'actual', 'predicted'], dtype='object')"
      ]
     },
     "execution_count": 21,
     "metadata": {},
     "output_type": "execute_result"
    }
   ],
   "source": [
    "par_data.columns"
   ]
  },
  {
   "cell_type": "code",
   "execution_count": 22,
   "metadata": {},
   "outputs": [
    {
     "data": {
      "text/plain": [
       "0.001510366607167376"
      ]
     },
     "execution_count": 22,
     "metadata": {},
     "output_type": "execute_result"
    }
   ],
   "source": [
    "# `1.` Above, you can see the actual and predicted columns for each of the \n",
    "# datasets.  Using the **jud_data**, find the proportion of errors for the \n",
    "# dataset, and furthermore, the percentage of errors of each type.  \n",
    "# Use the results to answer the questions in quiz 1 below.  \n",
    "\n",
    "# Type I error\n",
    "len(jud_data.query('actual == \"innocent\" and predicted == \"guilty\"'))/len(jud_data)"
   ]
  },
  {
   "cell_type": "code",
   "execution_count": 23,
   "metadata": {},
   "outputs": [
    {
     "data": {
      "text/plain": [
       "0.04064259233832212"
      ]
     },
     "execution_count": 23,
     "metadata": {},
     "output_type": "execute_result"
    }
   ],
   "source": [
    "# Type II error\n",
    "len(jud_data.query('actual == \"guilty\" and predicted == \"innocent\"'))/len(jud_data)"
   ]
  },
  {
   "cell_type": "code",
   "execution_count": 24,
   "metadata": {},
   "outputs": [
    {
     "data": {
      "text/plain": [
       "0.45159961554304545"
      ]
     },
     "execution_count": 24,
     "metadata": {},
     "output_type": "execute_result"
    }
   ],
   "source": [
    "# Type I error while everyone was predicted to be guilty\n",
    "len(jud_data.query('actual == \"innocent\"'))/len(jud_data)"
   ]
  },
  {
   "cell_type": "code",
   "execution_count": 25,
   "metadata": {},
   "outputs": [
    {
     "data": {
      "text/plain": [
       "0.0"
      ]
     },
     "execution_count": 25,
     "metadata": {},
     "output_type": "execute_result"
    }
   ],
   "source": [
    "# Type II error while everyone was predicted to be guilty\n",
    "0/len(jud_data)"
   ]
  },
  {
   "cell_type": "code",
   "execution_count": 26,
   "metadata": {},
   "outputs": [
    {
     "data": {
      "text/plain": [
       "0.00017155601303825698"
      ]
     },
     "execution_count": 26,
     "metadata": {},
     "output_type": "execute_result"
    }
   ],
   "source": [
    "# `2.` Using the **par_data**, find the proportion of errors for the dataset, \n",
    "# and furthermore, the percentage of errors of each type.  \n",
    "# Use the results to answer the questions in quiz 2 below.\n",
    "\n",
    "# These should be very similar operations to those you performed in the \n",
    "# previous question.\n",
    "\n",
    "# Type I error\n",
    "len(par_data.query('actual == \"fails\" and predicted == \"opens\"'))/len(par_data)"
   ]
  },
  {
   "cell_type": "code",
   "execution_count": 27,
   "metadata": {},
   "outputs": [
    {
     "data": {
      "text/plain": [
       "0.03980099502487562"
      ]
     },
     "execution_count": 27,
     "metadata": {},
     "output_type": "execute_result"
    }
   ],
   "source": [
    "# Type II error\n",
    "len(par_data.query('actual == \"opens\" and predicted == \"fails\"'))/len(par_data)"
   ]
  },
  {
   "cell_type": "code",
   "execution_count": 28,
   "metadata": {},
   "outputs": [
    {
     "data": {
      "text/plain": [
       "0.0"
      ]
     },
     "execution_count": 28,
     "metadata": {},
     "output_type": "execute_result"
    }
   ],
   "source": [
    "# Type I error while every parachute was predicted to not open\n",
    "0/len(par_data)"
   ]
  },
  {
   "cell_type": "code",
   "execution_count": 29,
   "metadata": {},
   "outputs": [
    {
     "data": {
      "text/plain": [
       "0.9917653113741637"
      ]
     },
     "execution_count": 29,
     "metadata": {},
     "output_type": "execute_result"
    }
   ],
   "source": [
    "# Type II error while every parachute was predicted to not open\n",
    "len(par_data.query('actual == \"opens\"'))/len(par_data)"
   ]
  },
  {
   "cell_type": "markdown",
   "metadata": {},
   "source": [
    "**Quiz 1**: Use your results from the judicial dataset to match each description to the correct corresponding value.\n",
    "\n",
    "| **Description** | **Value** |\n",
    "| --- | --- |\n",
    "|Total percentage of errors |0.042|\n",
    "|Percentage of Type I Errors|0.0015|\n",
    "|Percentage of Type II Errors|0.04|\n",
    "|If everyone was predicted to be guilty, the proportion of Type I Errors made.|0.45|\n",
    "|If everyone was predicted to be guilty, the proportion of Type II Errors made.|0|\n",
    "\n",
    "**Quiz 2**: Use your results from the parachute dataset to match each description to the correct corresponding value.\n",
    "\n",
    "| **Description** | **Value** |\n",
    "| --- | --- |\n",
    "|Total percentage of errors |0.03997|\n",
    "|Percentage of Type I Errors|0.00017|\n",
    "|Percentage of Type II Errors|0.03980|\n",
    "|If every parachute was predicted to not open, the proportion of Type I Errors made.|00|\n",
    "|If every parachute was predicted to not open, the proportion of Type II Errors made.|0.99177|\n",
    "\n",
    "\n",
    "#### 24. Other Things to Consider - What if Our Sample is Large?\n",
    "\n",
    "**Facotrs to consider in hypothesis testing**\n",
    "\n",
    "1. Is my sample representative of the population?(without a representative sample, your result are unreliable.\n",
    "2. What is the impact of sample size on my results?(with large sample size, everything is statistically significant)\n",
    "\n",
    "One of the most important aspects of interpreting any statistical results (and one that is frequently overlooked) is assuring that your sample is truly representative of your **population of interest**.\n",
    "\n",
    "Particularly in the way that data is collected today in the age of computers, **Response Bias(反应偏向)** is so important to keep in mind. In the 2016 U.S election, polls conducted by many news media suggested a staggering difference from the reality of poll results. You can read about how response bias played a role [here](http://www.pewresearch.org/fact-tank/2016/11/09/why-2016-election-polls-missed-their-mark/).\n",
    "\n",
    "**Hypothesis Testing vs. Machine Learning**\n",
    "\n",
    "With large sample sizes, hypothesis testing leads to even the smallest of findings as statistically significant. However, **these findings might not be practically significant at all**.\n",
    "\n",
    "For example, Imagine you find that statistically more people prefer beverage 1 to beverage 2 on a study of more than one million people. Based on this you decide to open a shop to sell beverage 1. You then find out that beverage 1 is only more popular than beverage 2 by 0.0002% (but a statistically significant amount with your large sample size). Practically, maybe you should have opened a store that sold both.\n",
    "\n",
    "Hypothesis testing takes an **aggregate approach** towards the conclusions made based on data, as these tests are **aimed at understanding population parameters** (which are aggregate population values).\n",
    "\n",
    "Alternatively, machine learning techniques take an **individual approach** towards making conclusions, as they attempt to **predict an outcome for each specific data point**.\n",
    "\n",
    "\n",
    "#### 25. Other Things to Consider - What if Test More Than Once?\n",
    "\n",
    "When performing more than one hypothesis test, your type I error compounds. In order to correct for this, a common technique is called the **Bonferroni Correction(邦费罗尼校正)**. This correction is very **conservative**, but says that your new type I error rate should be the error rate you actually want divided by the number of tests you are performing.\n",
    "\n",
    "Therefore, if you would like to hold a type I error rate of 1% for each of 20 hypothesis tests, the Bonferroni corrected rate would be 0.01/20 = 0.0005. This would be the new rate you should use as your comparison to the p-value for each of the 20 tests to make your decision.\n",
    "\n",
    "Additional techniques to protect against compounding type I errors include:\n",
    "\n",
    "1. [Tukey correction](http://www.itl.nist.gov/div898/handbook/prc/section4/prc471.htm)\n",
    "2. [Q-values](http://www.nonlinear.com/support/progenesis/comet/faq/v2.0/pq-values.aspx)\n",
    "\n",
    "### 26. Other Things to Consider - How Do CIs and HTs Compare?\n",
    "\n",
    "A two-sided hypothesis test (that is a test involving a $\\ne$  in the alternative) is the same in terms of the conclusions made as a confidence interval as long as:\n",
    "\n",
    "$$1- CI = \\alpha$$\n",
    "\n",
    "For example, a 95% confidence interval will draw the same conclusions as a hypothesis test with a type I error rate of 0.05 in terms of which hypothesis to choose, because:\n",
    "\n",
    "$$1-0.95=0.05$$\n",
    "\n",
    "assuming that the alternative hypothesis is a two sided test. \n",
    "\n",
    "Video on effect size [here](https://www.youtube.com/watch?v=z98xODInLCQ).\n",
    "\n",
    "**A hypothesis test** that contains a not equal in **alternative hypothesis**, your conclusions are identical to a confidence interval, as long as 100 minus your confidence interval level is the same as the type one error rate in your hypothesis test.\n",
    "\n",
    "With this in mind, many academic journals are moving away from hypothesis tests as they find the results are often **misinterpreted**.\n",
    "\n",
    "Instead, more and more confidence intervals and other statistics like **Effect Size(效应量)** or machine learning techniques are being used.\n",
    "\n",
    "\n",
    "#### 27. Notebook + Quiz: Other Things to Consider\n",
    "\n",
    "$H_{0}: \\mu_{height} = 67.6~in$ <br/>\n",
    "$H_{1}: \\mu_{height} \\neq 67.6~in$"
   ]
  },
  {
   "cell_type": "code",
   "execution_count": 31,
   "metadata": {},
   "outputs": [
    {
     "data": {
      "text/html": [
       "<div>\n",
       "<style scoped>\n",
       "    .dataframe tbody tr th:only-of-type {\n",
       "        vertical-align: middle;\n",
       "    }\n",
       "\n",
       "    .dataframe tbody tr th {\n",
       "        vertical-align: top;\n",
       "    }\n",
       "\n",
       "    .dataframe thead th {\n",
       "        text-align: right;\n",
       "    }\n",
       "</style>\n",
       "<table border=\"1\" class=\"dataframe\">\n",
       "  <thead>\n",
       "    <tr style=\"text-align: right;\">\n",
       "      <th></th>\n",
       "      <th>user_id</th>\n",
       "      <th>age</th>\n",
       "      <th>drinks_coffee</th>\n",
       "      <th>height</th>\n",
       "    </tr>\n",
       "  </thead>\n",
       "  <tbody>\n",
       "    <tr>\n",
       "      <th>0</th>\n",
       "      <td>4509</td>\n",
       "      <td>&lt;21</td>\n",
       "      <td>False</td>\n",
       "      <td>64.538179</td>\n",
       "    </tr>\n",
       "    <tr>\n",
       "      <th>1</th>\n",
       "      <td>1864</td>\n",
       "      <td>&gt;=21</td>\n",
       "      <td>True</td>\n",
       "      <td>65.824249</td>\n",
       "    </tr>\n",
       "    <tr>\n",
       "      <th>2</th>\n",
       "      <td>2060</td>\n",
       "      <td>&lt;21</td>\n",
       "      <td>False</td>\n",
       "      <td>71.319854</td>\n",
       "    </tr>\n",
       "    <tr>\n",
       "      <th>3</th>\n",
       "      <td>7875</td>\n",
       "      <td>&gt;=21</td>\n",
       "      <td>True</td>\n",
       "      <td>68.569404</td>\n",
       "    </tr>\n",
       "    <tr>\n",
       "      <th>4</th>\n",
       "      <td>6254</td>\n",
       "      <td>&lt;21</td>\n",
       "      <td>True</td>\n",
       "      <td>64.020226</td>\n",
       "    </tr>\n",
       "  </tbody>\n",
       "</table>\n",
       "</div>"
      ],
      "text/plain": [
       "   user_id   age  drinks_coffee     height\n",
       "0     4509   <21          False  64.538179\n",
       "1     1864  >=21           True  65.824249\n",
       "2     2060   <21          False  71.319854\n",
       "3     7875  >=21           True  68.569404\n",
       "4     6254   <21           True  64.020226"
      ]
     },
     "execution_count": 31,
     "metadata": {},
     "output_type": "execute_result"
    }
   ],
   "source": [
    "### The Impact of Large Sample Sizes\n",
    "\n",
    "# When we increase our sample size, even the smallest of differences may \n",
    "# seem significant.  \n",
    "# To illustrate this point, work through this notebook and the quiz questions \n",
    "# that follow below.\n",
    "# Start by reading in the libraries and data.\n",
    "\n",
    "full_data = pd.read_csv('coffee_dataset.csv')\n",
    "full_data.head()"
   ]
  },
  {
   "cell_type": "code",
   "execution_count": 32,
   "metadata": {},
   "outputs": [
    {
     "data": {
      "text/plain": [
       "(67.59748697307934, 3.118908711682146)"
      ]
     },
     "execution_count": 32,
     "metadata": {},
     "output_type": "execute_result"
    }
   ],
   "source": [
    "# `1.` In this case, imagine we are interested in testing if the mean height \n",
    "# of all individuals in `full_data` is equal to 67.60 inches.  \n",
    "# First, use **quiz 1** below to identify the null and alternative hypotheses \n",
    "# for these cases. \n",
    "\n",
    "# `2.` What is the population mean height?  What is the standard deviation of \n",
    "# the population heights?  Create a sample set of data using the code below.  \n",
    "# What is the sample mean height?  Simulate the sampling distribution for the \n",
    "# mean of five values to see the shape and plot a histogram.  \n",
    "# What is the standard deviation of the sampling distribution of the mean of \n",
    "# five draws? Use **quiz 2** below to assure your answers are correct.  \n",
    "\n",
    "# The population mean and standard deviation height\n",
    "full_data.height.mean(), np.std(full_data.height)"
   ]
  },
  {
   "cell_type": "code",
   "execution_count": 33,
   "metadata": {},
   "outputs": [
    {
     "data": {
      "text/plain": [
       "68.90647194293354"
      ]
     },
     "execution_count": 33,
     "metadata": {},
     "output_type": "execute_result"
    }
   ],
   "source": [
    "sample_data = full_data.sample(5)\n",
    "np.mean(sample_data.height)"
   ]
  },
  {
   "cell_type": "code",
   "execution_count": 34,
   "metadata": {},
   "outputs": [
    {
     "data": {
      "text/plain": [
       "1.483222475172849"
      ]
     },
     "execution_count": 34,
     "metadata": {},
     "output_type": "execute_result"
    },
    {
     "data": {
      "image/png": "[encoded data removed]",
      "text/plain": [
       "<Figure size 432x288 with 1 Axes>"
      ]
     },
     "metadata": {
      "needs_background": "light"
     },
     "output_type": "display_data"
    }
   ],
   "source": [
    "means_five = []\n",
    "for _ in range(10000):\n",
    "    boots_sample = sample_data.sample(5, replace=True)\n",
    "    mean_five = boots_sample.height.mean()\n",
    "    means_five.append(mean_five)\n",
    "plt.hist(means_five);\n",
    "\n",
    "np.std(means_five)"
   ]
  },
  {
   "cell_type": "code",
   "execution_count": 36,
   "metadata": {},
   "outputs": [
    {
     "data": {
      "image/png": "[encoded data removed]",
      "text/plain": [
       "<Figure size 432x288 with 1 Axes>"
      ]
     },
     "metadata": {
      "needs_background": "light"
     },
     "output_type": "display_data"
    }
   ],
   "source": [
    "# `3.` Using the null and alternative set up in question 1 and the results of \n",
    "# your sampling distribution in question 2, simulate the mean values you would\n",
    "# expect from the null hypothesis.  Use these simulated values to determine a \n",
    "# p-value to make a decision about your null and alternative hypotheses.  \n",
    "# Check your solution using **quiz 3** and **quiz 4** below.\n",
    "\n",
    "# **Hint:** Use the numpy documentation [here](numpy.random.normal.html) to \n",
    "# assist with your solution.\n",
    "\n",
    "null_mean = 67.6\n",
    "null_vals = np.random.normal(null_mean, np.std(means_five), 10000)\n",
    "plt.hist(null_vals)\n",
    "\n",
    "# where our sample mean falls on null distribution\n",
    "plt.axvline(x=sample_data.height.mean(), color='r');"
   ]
  },
  {
   "cell_type": "code",
   "execution_count": 38,
   "metadata": {},
   "outputs": [
    {
     "data": {
      "text/plain": [
       "0.3895"
      ]
     },
     "execution_count": 38,
     "metadata": {},
     "output_type": "execute_result"
    }
   ],
   "source": [
    "# for a two sided hypothesis, we want to look at anything \n",
    "# more extreme from the null in both directions\n",
    "obs_mean = sample_data.height.mean()\n",
    "\n",
    "prob_more_extreme_high = (null_vals > obs_mean).mean()\n",
    "prob_more_extreme_low = (null_vals < null_mean - (obs_mean - null_mean)).mean()\n",
    "\n",
    "pval = prob_more_extreme_low + prob_more_extreme_high\n",
    "pval"
   ]
  },
  {
   "cell_type": "code",
   "execution_count": 39,
   "metadata": {},
   "outputs": [
    {
     "data": {
      "image/png": "[encoded data removed]",
      "text/plain": [
       "<Figure size 432x288 with 1 Axes>"
      ]
     },
     "metadata": {
      "needs_background": "light"
     },
     "output_type": "display_data"
    }
   ],
   "source": [
    "# let's see where our sample mean falls on the null distribution\n",
    "lower_bound = null_mean - (obs_mean - null_mean)\n",
    "upper_bound = obs_mean\n",
    "\n",
    "plt.hist(null_vals);\n",
    "plt.axvline(x=lower_bound, color = 'red')\n",
    "plt.axvline(x=upper_bound, color = 'red');"
   ]
  },
  {
   "cell_type": "code",
   "execution_count": 40,
   "metadata": {},
   "outputs": [
    {
     "data": {
      "text/plain": [
       "0.16415261079193616"
      ]
     },
     "execution_count": 40,
     "metadata": {},
     "output_type": "execute_result"
    }
   ],
   "source": [
    "# `4.` Now, imagine you received the same sample mean you calculated from the \n",
    "# sample in question 2 above, but with a sample of 1000.  \n",
    "# What would the new standard deviation be for your sampling distribution for \n",
    "# the mean of 1000 values?  Additionally, what would your new p-value be for \n",
    "# choosing between the null and alternative hypotheses you set up? \n",
    "# Simulate the sampling distribution for the mean of five values to see the \n",
    "# shape and plot a histogram.  Use your solutions here to answer the second \n",
    "# to last quiz question below.\n",
    "\n",
    "# **Hint:**  If you get stuck, notice you can use the solution from the quiz \n",
    "# regarding finding the p-value earlier to assist with obtaining this answer \n",
    "# with just a few small changes.\n",
    "\n",
    "sample_data_300 = full_data.sample(300)\n",
    "means_300 = []\n",
    "for _ in range(300):\n",
    "    boots_sample = sample_data_300.sample(300, replace=True)\n",
    "    mean_300 = boots_sample.height.mean()\n",
    "    means_300.append(mean_300)\n",
    "np.std(means_300)"
   ]
  },
  {
   "cell_type": "code",
   "execution_count": 41,
   "metadata": {},
   "outputs": [
    {
     "data": {
      "text/plain": [
       "0.10302344554752009"
      ]
     },
     "execution_count": 41,
     "metadata": {},
     "output_type": "execute_result"
    }
   ],
   "source": [
    "sample_data_1000 = full_data.sample(1000)\n",
    "means_1000 = []\n",
    "for _ in range(1000):\n",
    "    boots_sample = sample_data_1000.sample(1000, replace=True)\n",
    "    mean_1000 = boots_sample.height.mean()\n",
    "    means_1000.append(mean_1000)\n",
    "\n",
    "np.std(means_1000)"
   ]
  },
  {
   "cell_type": "code",
   "execution_count": 42,
   "metadata": {},
   "outputs": [
    {
     "data": {
      "text/plain": [
       "0.0"
      ]
     },
     "execution_count": 42,
     "metadata": {},
     "output_type": "execute_result"
    },
    {
     "data": {
      "image/png": "[encoded data removed]",
      "text/plain": [
       "<Figure size 432x288 with 1 Axes>"
      ]
     },
     "metadata": {
      "needs_background": "light"
     },
     "output_type": "display_data"
    }
   ],
   "source": [
    "null_vals = np.random.normal(null_mean, np.std(means_1000), 1000)\n",
    "\n",
    "plt.hist(null_vals);\n",
    "plt.axvline(x=lower_bound, color = 'red')\n",
    "plt.axvline(x=upper_bound, color = 'red');\n",
    "\n",
    "# for a two sided hypothesis, we want to look at anything \n",
    "# more extreme from the null in both directions\n",
    "\n",
    "prob_more_extreme_low = (null_vals < lower_bound).mean()\n",
    "prob_more_extreme_high = (upper_bound < null_vals).mean()\n",
    "\n",
    "pval = prob_more_extreme_low + prob_more_extreme_high\n",
    "pval"
   ]
  },
  {
   "cell_type": "code",
   "execution_count": 43,
   "metadata": {},
   "outputs": [],
   "source": [
    "# `5.` Reflect on what happened by answering the final quiz in this concept.\n",
    "\n",
    "# Even the smallest of differences between a sample mean and a hypothesized \n",
    "# population mean are significant when we have large sample sizes."
   ]
  },
  {
   "cell_type": "markdown",
   "metadata": {},
   "source": [
    "**QUIZ**\n",
    "\n",
    "1. Use the first statement in the notebook above to set up the null and alternative hypotheses.\n",
    "\n",
    "| **Statement** | **Hypotheses** |\n",
    "| --- | --- |\n",
    "|The mean height of everyone in the population is equal to 67.60 inches.|Null|\n",
    "|The mean height of everyone in the population is different from 67.60 inches.|Alternative|\n",
    "\n",
    "2. Use the information from question 2 in the notebook to match each description to the correct value.\n",
    "\n",
    "| **Description** | **Value** |\n",
    "| --- | --- |\n",
    "|The population mean|67.60|\n",
    "|The population standard deviation|3.12|\n",
    "|The sample mean|67.88|\n",
    "|The standard deviation of the sampling distribution for the mean of 5 values|1.14|\n",
    "|The shape of the sampling distribution for the mean of 5 values|looks normally distributed|\n",
    "\n",
    "3. The p-value that you obtain using the null from part 1 and the sample mean and sampling distribution standard deviation for a sample mean of size 5 from part 2 is:\n",
    "    * [x] Greater than 0.50 \n",
    "    * [ ] Between 0.50 and 0.05 \n",
    "    * [ ] Less than 0.05 \n",
    "    * [ ] We cannot know.\n",
    "\n",
    "4. Based on the p-value retrieved using the sample size of size 5 and any reasonable type I error rate (say 5%)\n",
    "    * [ ] We have statistically significant evidence to suggest the population mean is not equal to 67.60 inches. (Reject the null)\n",
    "    * [x] We do not have statistically significant evidence to suggest the population mean is different from 67.60 inches. (Fail to reject the null) \n",
    "    * [ ] We do not have enough data to draw any sort of conclusion.\n",
    "\n",
    "5. Use your new sampling distribution to match each of the following values to the corresponding statement.\n",
    "\n",
    "| **Description** | **Value** |\n",
    "| --- | --- |\n",
    "|The p-value associated with your hypothesis test.|0.0|\n",
    "|The conclusion for your hypothesis at alpha of 0.1 level.|Reject the null - we have evidence the population mean isn't 67.60 inches.|\n",
    "|The standard deviation of the sampling distribution for the mean of 300 draws.|0.18|\n",
    "|The value of the sample mean used.|No change.|\n",
    "\n",
    "6. In this concept the big take away is:\n",
    "    * [ ] Statistics are confusing.\n",
    "    * [x] Even the smallest of differences between a sample mean and a hypothesized population mean are significant when we have large sample sizes. \n",
    "    * [ ] With large sample sizes, we can do anything we want!\n",
    "    * [ ] Sampling distributions are the distribution of a sample statistic, and the distribution of a sample mean has a standard deviation of the population divided by the square root of the sample size.\n",
    "    \n",
    "#### 28. Notebook + Quiz: Other Things to Consider"
   ]
  },
  {
   "cell_type": "code",
   "execution_count": 45,
   "metadata": {},
   "outputs": [
    {
     "data": {
      "text/html": [
       "<div>\n",
       "<style scoped>\n",
       "    .dataframe tbody tr th:only-of-type {\n",
       "        vertical-align: middle;\n",
       "    }\n",
       "\n",
       "    .dataframe tbody tr th {\n",
       "        vertical-align: top;\n",
       "    }\n",
       "\n",
       "    .dataframe thead th {\n",
       "        text-align: right;\n",
       "    }\n",
       "</style>\n",
       "<table border=\"1\" class=\"dataframe\">\n",
       "  <thead>\n",
       "    <tr style=\"text-align: right;\">\n",
       "      <th></th>\n",
       "      <th>defendant_id</th>\n",
       "      <th>actual</th>\n",
       "      <th>pvalue</th>\n",
       "    </tr>\n",
       "  </thead>\n",
       "  <tbody>\n",
       "    <tr>\n",
       "      <th>0</th>\n",
       "      <td>22574</td>\n",
       "      <td>innocent</td>\n",
       "      <td>0.294126</td>\n",
       "    </tr>\n",
       "    <tr>\n",
       "      <th>1</th>\n",
       "      <td>35637</td>\n",
       "      <td>innocent</td>\n",
       "      <td>0.417981</td>\n",
       "    </tr>\n",
       "    <tr>\n",
       "      <th>2</th>\n",
       "      <td>39919</td>\n",
       "      <td>innocent</td>\n",
       "      <td>0.177542</td>\n",
       "    </tr>\n",
       "    <tr>\n",
       "      <th>3</th>\n",
       "      <td>29610</td>\n",
       "      <td>guilty</td>\n",
       "      <td>0.015023</td>\n",
       "    </tr>\n",
       "    <tr>\n",
       "      <th>4</th>\n",
       "      <td>38273</td>\n",
       "      <td>innocent</td>\n",
       "      <td>0.075371</td>\n",
       "    </tr>\n",
       "  </tbody>\n",
       "</table>\n",
       "</div>"
      ],
      "text/plain": [
       "   defendant_id    actual    pvalue\n",
       "0         22574  innocent  0.294126\n",
       "1         35637  innocent  0.417981\n",
       "2         39919  innocent  0.177542\n",
       "3         29610    guilty  0.015023\n",
       "4         38273  innocent  0.075371"
      ]
     },
     "execution_count": 45,
     "metadata": {},
     "output_type": "execute_result"
    }
   ],
   "source": [
    "### Multiple Tests\n",
    "\n",
    "# In this notebook, you will work with a similar dataset to the judicial \n",
    "# dataset you were working with before.  However, instead of working with \n",
    "# decisions already being provided, you are provided with a p-value associated \n",
    "# with each individual.  \n",
    "\n",
    "# Use the questions in the notebook and the dataset to answer the questions \n",
    "# at the bottom of this page.\n",
    "\n",
    "# Here is a glimpse of the data you will be working with:\n",
    "\n",
    "df = pd.read_csv('judicial_dataset_pvalues.csv')\n",
    "df.head()"
   ]
  },
  {
   "cell_type": "code",
   "execution_count": 46,
   "metadata": {},
   "outputs": [
    {
     "data": {
      "text/plain": [
       "6.86530275985171e-06"
      ]
     },
     "execution_count": 46,
     "metadata": {},
     "output_type": "execute_result"
    }
   ],
   "source": [
    "# `1.` Remember back to the null and alternative hypotheses for this example. \n",
    "# Use that information to determine the answer for Quiz 1 and Quiz 2 below.\n",
    "\n",
    "# A pvalue is the probability of observing your data or more extreme data, \n",
    "# if the null is true. \n",
    "# Type I errors are when you choose the alternative when the null is true, \n",
    "# and vice-versa for Type II.  \n",
    "# Therefore, deciding an individual is guilty when they are actually innocent \n",
    "# is a Type I error.  \n",
    "# The alpha level is a threshold for the percent of the time you are willing \n",
    "# to commit a Type I error.\n",
    "\n",
    "# `2.` If we consider each individual as a single hypothesis test, find the \n",
    "# conservative Bonferroni corrected p-value we should use to \n",
    "# maintain a 5% type I error rate.\n",
    "\n",
    "bonf_alpha = 0.05/len(df)\n",
    "bonf_alpha"
   ]
  },
  {
   "cell_type": "code",
   "execution_count": 47,
   "metadata": {},
   "outputs": [
    {
     "data": {
      "text/plain": [
       "0.001510366607167376"
      ]
     },
     "execution_count": 47,
     "metadata": {},
     "output_type": "execute_result"
    }
   ],
   "source": [
    "# `3.` What is the proportion of type I errors made if the \n",
    "# correction isn't used?  How about if it is used?  \n",
    "# Use your answers to find the solution to Quiz 3 below.\n",
    "\n",
    "df.query(\"actual == 'innocent' and pvalue < 0.05\").count()[0]/df.shape[0] # If not used"
   ]
  },
  {
   "cell_type": "code",
   "execution_count": 48,
   "metadata": {},
   "outputs": [
    {
     "data": {
      "text/plain": [
       "0.0"
      ]
     },
     "execution_count": 48,
     "metadata": {},
     "output_type": "execute_result"
    }
   ],
   "source": [
    "df.query(\"actual == 'innocent' and pvalue < @bonf_alpha\").count()[0]/df.shape[0] # If used"
   ]
  },
  {
   "cell_type": "code",
   "execution_count": 49,
   "metadata": {},
   "outputs": [],
   "source": [
    "# In order to find the number of type I errors made in without the correction\n",
    "# we need to find all those that are actually innocent with pvalues less than 0.05.\n",
    "\n",
    "# `4.` Think about how hypothesis tests can be used, \n",
    "# and why this example wouldn't exactly work in terms of being able to \n",
    "# use hypothesis testing in this way.  Check your answer with Quiz 4 below.\n",
    "\n",
    "# This is looking at individuals, and that is more of the aim for \n",
    "# machine learning techniques.  \n",
    "# Hypothesis testing and confidence intervals are for population parameters. \n",
    "# Therefore, they are not meant to tell us about individual cases, \n",
    "# and we wouldn't obtain pvalues for individuals in this way. \n",
    "# We could get probabilities, but that isn't the same as the probabilities \n",
    "# associated with the relationship to sampling distributions as you have seen \n",
    "# in these lessons."
   ]
  },
  {
   "cell_type": "markdown",
   "metadata": {},
   "source": [
    "**Quiz**\n",
    "\n",
    "1. **Quiz 1**: What does a p-value signify in this example?\n",
    "    * [ ] The probability of an individual being guilty. \n",
    "    * [ ] The probability of an individual being innocent.\n",
    "    * [x] The probability of us deciding an individual is guilty when they are actually innocent.\n",
    "    * [ ] The probability of us observing the facts about an individual's case that are in favor of them being guilty, assuming they are truly innocent.\n",
    "\n",
    "2. **Quiz 2**: Match the description to each correct value for this case.\n",
    "\n",
    "| **Description** | **Value** |\n",
    "| --- | --- |\n",
    "|Deciding an individual is guilty, but they are actually innocent.|Type I Error|\n",
    "|Deciding an individual is innocent, but they are actually guilty.|Type II Error|\n",
    "|The threshold for the percentage of type I errors we are willing to commit.|alpha|\n",
    "|The probability of us observing the facts about an individual's case that are in favor of them being guilty, assuming they are truly innocent.|p-value|\n",
    "\n",
    "3. **Quiz 3**: Match the description to each correct value for this case.\n",
    "The new Type I Error rate after the Bonferroni correction.\n",
    "\n",
    "| **Description** | **Value** |\n",
    "| --- | --- |\n",
    "|The new Type I Error rate after the Bonferroni correction.|0.0000069|\n",
    "|The proportion of p-values less than the Bonferroni corrected Type I Error rate.|0|\n",
    "|The proportion of Type I Errors committed if the Bonferroni correction is used.|0|\n",
    "|The proportion of Type I Errors committed if the Bonferroni correction isn't used.|0.002|\n",
    "\n",
    "4. **Quiz 4**: Why is it the case that this isn't how multiple comparison tests work in practice\n",
    "    * [ ] The updated Bonferroni rate is clearly smaller than any rate we would see in the real world. \n",
    "    * [ ] The alpha rate starting at 0.05 is too low to begin with.\n",
    "    * [ ] We cannot associate a p-value with the real world of judicial cases.\n",
    "    * [x] Hypothesis testing is used on parameters. This is looking at individuals in a population, not aggregates.\n",
    "\n",
    "\n",
    "#### 29. Hypothesis Testing Conclusion\n",
    "\n",
    "The ideas associated with hypothesis tests are central to A/B testing and making database business decisions.\n",
    "\n",
    "#### 30. Quiz + Text: Recap\n",
    "\n",
    "**Recap**\n",
    "\n",
    "Wow! That was a ton. You learned:\n",
    "\n",
    "1. How to **set up hypothesis tests**. You learned the **null hypothesis** is what we **assume to be true** before we collect any data, and the **alternative** is usually what we want to **try and prove to be true**.\n",
    "2. You learned about **Type I and Type II errors**. You learned that Type I errors are **the worst type of errors**, and these are associated with **choosing the alternative** when the **null hypothesis is actually true**.\n",
    "3. You learned that **p-values** are the probability of observing your data or something more extreme in favor of the alternative **given the null hypothesis is true**. You learned that using a **confidence interval** from the **bootstrapping samples**, you can essentially make the same decisions as in hypothesis testing (without all of the confusion of p-values).\n",
    "4. You learned how to **make decisions based on p-values**. That is, if the p-value is **less than** your Type I error threshold, then you have evidence to **reject the null** and choose the alternative. Otherwise, you **fail to reject** the null hypothesis.\n",
    "5. You learned that when **sample sizes** are really large, everything appears **statistically significant** (that is you end up rejecting essentially every null), but these results may not be practically significant. \n",
    "6. You learned that when **performing multiple hypothesis tests**, your errors will **compound**. Therefore, using some sort of correction to maintain your true Type I error rate is important. A simple, but very conservative approach is to use what is known as a **Bonferroni correction**, which says you should just divide your α level (or Type I error threshold) by the number of tests performed.\n",
    "\n",
    "**Review Quiz1**\n",
    "Match the best related term to the definitions below regarding the lesson topics.\n",
    "\n",
    "| **Definition** | **Term** |\n",
    "| --- | --- |\n",
    "|What we assume to be true before collecting any data.|null hypothesis|\n",
    "|The threshold for the percent of type I errors we are willing to commit.|alpha|\n",
    "|The probability of observing our statistic or a more extreme statistic from the null hypothesis.|p-value|\n",
    "|An alternative (and conceptually more simple for most) method of obtaining the results of a hypothesis test.|confidence intervals|\n",
    "\n",
    "**Review Quiz2**\n",
    "\n",
    "| **Definition** | **Term** |\n",
    "| --- | --- |\n",
    "|These statistical techniques are generally aimed at helping us understand population parameters.|Hypothesis Testing & Confidence Intervals|\n",
    "|Techniques in this area are aimed at helping us draw conclusions about individuals in our population.|Machine Learning|\n",
    "|One method for correcting our type I error threshold when we perform more than one hypothesis test.|Bonferroni Correction|\n",
    "|With larger sample sizes, this becomes less relevant.|Statistical Significance|\n",
    "\n",
    "\n",
    "#### 31. Appendix: Glossary\n",
    "\n",
    "* Hypothesis(假设)\n",
    "* Null Hypotheses(零假设)\n",
    "* Alternative Hypotheses(备择假设,对立假设)\n",
    "* One Sided Hypothesis Test(单侧假设检验)\n",
    "* Type I Errors(第一型错误)\n",
    "* Type II Errors(第二型错误)\n",
    "* False Positives(假正)\n",
    "* False Negatives(假负)\n",
    "* Threshold(阈值)\n",
    "* p-value(p值)\n",
    "* Accept(接受)\n",
    "* Bonferroni Correction(邦费罗尼校正)\n",
    "* Response Bias(反应偏向)\n",
    "* Effect Size(效应量)\n",
    "\n",
    "* * *\n",
    "\n",
    "* numpy.random.normal(loc=0.0, scale=1.0, size=None)"
   ]
  },
  {
   "cell_type": "code",
   "execution_count": null,
   "metadata": {},
   "outputs": [],
   "source": []
  }
 ],
 "metadata": {
  "kernelspec": {
   "display_name": "Python 3",
   "language": "python",
   "name": "python3"
  },
  "language_info": {
   "codemirror_mode": {
    "name": "ipython",
    "version": 3
   },
   "file_extension": ".py",
   "mimetype": "text/x-python",
   "name": "python",
   "nbconvert_exporter": "python",
   "pygments_lexer": "ipython3",
   "version": "3.6.10"
  }
 },
 "nbformat": 4,
 "nbformat_minor": 4
}
