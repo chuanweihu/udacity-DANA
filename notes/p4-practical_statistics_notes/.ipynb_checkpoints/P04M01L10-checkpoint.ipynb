{
 "cells": [
  {
   "cell_type": "markdown",
   "metadata": {},
   "source": [
    "## Module 01: Practical Stats\n",
    "\n",
    "### Lesson 10: Sampling distributions and the Central Limit Theorem\n",
    "\n",
    "> Learn all about the underpinning of confidence intervals and hypothesis testing - sampling distributions."
   ]
  },
  {
   "cell_type": "markdown",
   "metadata": {},
   "source": [
    "#### 01. Introduction\n",
    "\n",
    "**Inferential Statistics**\n",
    "\n",
    "In order to assure you are comfortable with the ideas surrounding inferential statistics. The next 4 concepts are aimed at **the difference between Descriptive and Inferential Statistics**. Actually applying inferential statistics techniques to data will be taught in later lessons.\n",
    "\n",
    "**Probability to Statistics**\n",
    "This begins a set of lessons that will be more data oriented in the way that you are applying ideas, and less probability oriented.\n",
    "\n",
    "Often we use statistics to verify conclusions of probability through simulation. Therefore, simulation (similar to the python lesson you completed earlier) will be a large part of the way we show mathematical ideas moving forward.\n",
    "\n",
    "**Solutions**\n",
    "\n",
    "It is in your best interest to work through the solution notebooks on your own before looking at the solutions available for this course. However, if you get stuck or would like to double check your solutions, notice all of the solutions and data are available in the resources tab of this course. This is true for all of the following lessons as well.\n",
    "\n",
    "\n",
    "#### 02. Video: Descriptive vs. Inferential Statistics\n",
    "\n",
    "In this section, we learned about how Inferential Statistics differs from Descriptive Statistics.\n",
    "\n",
    "**Descriptive Statistics**\n",
    "\n",
    "**Descriptive statistics** is about describing our collected data.\n",
    "\n",
    "**Inferential Statistics**\n",
    "\n",
    "**Inferential Statistics** is about using our collected data to draw conclusions to a larger population.\n",
    "\n",
    "We looked at specific examples that allowed us to identify the\n",
    "\n",
    "1. **Population** - our entire group of interest.\n",
    "2. **Parameter** - numeric summary about a population\n",
    "3. **Sample** - subset of the population\n",
    "4. **Statistic** - numeric summary about a sample\n",
    "\n",
    "\n",
    "#### 03. Quiz: Descriptive vs. Inferential (Udacity Students)\n",
    "\n",
    "**QUIZ**\n",
    "\n",
    "Identify the population, parameter, sample, and statistic for the below scenario:\n",
    "\n",
    "Consider we are interested in the average number of hours slept by all Udacity students (100,000 students). I send an email to all Udacity students, but I only receive 5,000 response emails. The average amount of sleep of those that responded was 6.8 hours of sleep.\n",
    "\n",
    "1. **Population** - All Udacity students\n",
    "2. **Parameter** - We cannot know for sure\n",
    "3. **Sample** - 5,000 Udacity students\n",
    "4. **Statistic** - 6.8 hours of sleep\n",
    "\n",
    "\n",
    "#### 04. Quiz: Descriptive vs. Inferential (Bagels)\n",
    "\n",
    "**QUIZ1**\n",
    "\n",
    "Identify the population(s), parameter(s), sample(s), and statistic(s) for the below scenario:\n",
    "\n",
    "Consider we own a bagel shop. We know that the average diameter of all of our bagels is 5.5 inches. A competitor moves right next door to us! We are interested in if they make larger bagels than us. We obtain 100 of their bagels, and we find they have an average diameter of 6 inches.\n",
    "\n",
    "1. **Population** - All the bagels at our bagel shop. | All the bagels at our competitor's bagel shop.\n",
    "2. **Parameter** - 5.5 inches\n",
    "3. **Sample** - The 100 bagels from the competitor's bagel shop.\n",
    "4. **Statistic** - 6 inches\n",
    "\n",
    "**QUIZ2**\n",
    "\n",
    "1. **Population** - Our entire group of interest.\n",
    "2. **Parameter** - A numeric summary of a population. | Frequently we do not know this value, so we must try and estimate.\n",
    "3. **Sample** - A subset of a population.\n",
    "4. **Statistic** - A numeric summary of a sample.\n",
    "5. **Inference** - Drawing conclusions regarding a population using information from a sample.\n",
    "6. **None** - Drawing conclusions regarding a sample using information from a population.\n",
    "\n",
    "\n",
    "#### 05. Text: Descriptive vs. Inferential Statistics\n",
    "\n",
    "**Descriptive vs. Inferential Statistics**\n",
    "\n",
    "In this section, we learned about how Inferential Statistics differs from Descriptive Statistics.\n",
    "\n",
    "**Descriptive Statistics**\n",
    "\n",
    "**Descriptive statistics is about describing our collected data** using the measures discussed throughout this lesson: **measures of center**, **measures of spread**, **shape of our distribution**, and **outliers**. We can also use **plots of our data** to gain a better understanding.\n",
    "\n",
    "**Inferential Statistics**\n",
    "\n",
    "**Inferential Statistics is about using our collected data** to draw conclusions to a larger population. Performing inferential statistics well requires that we take a sample that accurately represents our population of interest.\n",
    "\n",
    "A common way to collect data is **via a survey**. However, **surveys may be extremely biased** depending on the types of questions that are asked, and the way the questions are asked. This is a topic you should think about when tackling the the first project.\n",
    "\n",
    "We looked at specific examples that allowed us to identify the\n",
    "\n",
    "1. **Population** - our entire group of interest.\n",
    "2. **Parameter** - numeric summary about a population\n",
    "3. **Sample** - subset of the population\n",
    "4. **Statistic** - numeric summary about a sample"
   ]
  },
  {
   "cell_type": "markdown",
   "metadata": {},
   "source": [
    "#### 06. Video + Quiz: Introduction to Sampling Distributions Part I\n",
    "\n",
    "**Define of Sampling Distribution**\n",
    "\n",
    "A **Sampling Distribution(抽样分布)** is the distribution of a statistic(any statistic).\n",
    "\n",
    "**Example of Sampling Distribution**\n",
    "\n",
    "Consider again the coffee drinking habits of all Udacity students.\n",
    "\n",
    "Let's say, each of these cups represents a student, and a green cup represents a student that drinks coffee, while a red cup represents a student that doesn't drink coffee. And even though there are more students than we represent here, pretend that this represents all Udacity students.\n",
    "\n",
    "**QUIZ**\n",
    "\n",
    "If we were to select this group of students to ask about their coffee drinking habits, what would our population, parameter, sample and statistic be?\n",
    "\n",
    "1. **Population** - 21 students\n",
    "2. **Parameter** - 71% of students drink coffee\n",
    "3. **Sample** -  | 5 students\n",
    "4. **Statistic** - 20% of students drink coffee\n",
    "\n",
    "\n",
    "#### 07. Video + Quiz: Introduction to Sampling Distributions Part II\n",
    "\n",
    "**QUIZ**\n",
    "\n",
    "If we were to select this group of students to ask about their coffee drinking habits, what would our population, parameter, sample and statistic be?\n",
    "\n",
    "1. **Population** - 21 students\n",
    "2. **Parameter** - 71% of students drink coffee\n",
    "3. **Sample** -  | 5 students\n",
    "4. **Statistic** - 60% of students drink coffee\n",
    "\n",
    "\n",
    "#### 08. Video: Introduction to Sampling Distributions Part III\n",
    "\n",
    "A **sampling distribution** is the distribution of a statistic. Here we looked the distribution of the proportion for samples of 5 students. \n",
    "\n",
    "We could **select all possible combinations of five cups**, and we could **recompute the proportion of coffee drinkers for each** of these samples. If we were to **look at how these statistics change** from one sample to the next, that is, if we **looked at the distribution** of the proportions across all samples of size five, this is what is known as the **sampling distribution**.\n",
    "\n",
    "\n",
    "#### 09. Notebook + Quiz: Sampling Distributions & Python\n",
    "\n",
    "**Create Your Own Sampling Distribution**\n",
    "\n",
    "Use the notebook below, along with the following quizzes to create your own sampling distribution."
   ]
  },
  {
   "cell_type": "code",
   "execution_count": 1,
   "metadata": {},
   "outputs": [],
   "source": [
    "import numpy as np\n",
    "np.random.seed(42)\n",
    "\n",
    "students = np.array([1,0,1,1,1,1,0,0,0,0,1,1,1,1,1,1,1,1,1,1,0])"
   ]
  },
  {
   "cell_type": "code",
   "execution_count": 2,
   "metadata": {},
   "outputs": [],
   "source": [
    "#`1.` Find the proportion of students who drink coffee in the above array. Store this value in a variable **p**.\n",
    "\n",
    "p = round(students.mean(), 3)"
   ]
  },
  {
   "cell_type": "code",
   "execution_count": 3,
   "metadata": {},
   "outputs": [
    {
     "data": {
      "text/plain": [
       "0.6"
      ]
     },
     "execution_count": 3,
     "metadata": {},
     "output_type": "execute_result"
    }
   ],
   "source": [
    "#`2.` Use numpy's **random.choice** to simulate 5 draws from the `students` array.  What is proportion of your sample drink coffee?\n",
    "\n",
    "np.random.choice(students, 5).mean()"
   ]
  },
  {
   "cell_type": "code",
   "execution_count": 4,
   "metadata": {},
   "outputs": [
    {
     "data": {
      "text/plain": [
       "[0.6, 0.4, 0.4, 0.8, 1.0, 0.8, 0.4, 0.4, 0.6, 1.0]"
      ]
     },
     "execution_count": 4,
     "metadata": {},
     "output_type": "execute_result"
    }
   ],
   "source": [
    "#`3.` Repeat the above to obtain 10,000 additional proportions, where each sample was of size 5.  Store these in a variable called `sample_props`.\n",
    "\n",
    "sample_props = [np.random.choice(students, 5).mean() for _ in range(10000)] \n",
    "sample_props[:10]"
   ]
  },
  {
   "cell_type": "code",
   "execution_count": 5,
   "metadata": {},
   "outputs": [
    {
     "data": {
      "text/plain": [
       "0.714"
      ]
     },
     "execution_count": 5,
     "metadata": {},
     "output_type": "execute_result"
    }
   ],
   "source": [
    "#`4.` What is the mean proportion of all 10,000 of these proportions?  This is often called **the mean of the sampling distribution**.\n",
    "\n",
    "np.mean(sample_props)"
   ]
  },
  {
   "cell_type": "code",
   "execution_count": 6,
   "metadata": {},
   "outputs": [
    {
     "data": {
      "text/plain": [
       "(0.20408163265306126, 0.45175395145262565)"
      ]
     },
     "execution_count": 6,
     "metadata": {},
     "output_type": "execute_result"
    }
   ],
   "source": [
    "#`5.` What are the variance and standard deviation for the original 21 data values?\n",
    "\n",
    "np.var(students), np.std(students)"
   ]
  },
  {
   "cell_type": "code",
   "execution_count": 7,
   "metadata": {},
   "outputs": [
    {
     "data": {
      "text/plain": [
       "(0.041763999999999996, 0.2043624231604235)"
      ]
     },
     "execution_count": 7,
     "metadata": {},
     "output_type": "execute_result"
    }
   ],
   "source": [
    "#`6.` What are the variance and standard deviation for the 10,000 proportions you created?\n",
    "\n",
    "np.var(sample_props), np.std(sample_props)"
   ]
  },
  {
   "cell_type": "code",
   "execution_count": 8,
   "metadata": {},
   "outputs": [
    {
     "data": {
      "text/plain": [
       "0.2042"
      ]
     },
     "execution_count": 8,
     "metadata": {},
     "output_type": "execute_result"
    }
   ],
   "source": [
    "#`7.` Compute p(1-p), which of your answers does this most closely match?\n",
    "\n",
    "round(p*(1-p), 4)"
   ]
  },
  {
   "cell_type": "code",
   "execution_count": 9,
   "metadata": {},
   "outputs": [
    {
     "data": {
      "text/plain": [
       "0.0408"
      ]
     },
     "execution_count": 9,
     "metadata": {},
     "output_type": "execute_result"
    }
   ],
   "source": [
    "#`8.` Compute p(1-p)/n, which of your answers does this most closely match?\n",
    "\n",
    "round(p*(1-p) / 5, 4)"
   ]
  },
  {
   "cell_type": "code",
   "execution_count": 10,
   "metadata": {},
   "outputs": [
    {
     "name": "stdout",
     "output_type": "stream",
     "text": [
      "[0.75, 0.75, 0.7, 0.75, 0.7, 0.7, 0.75, 0.7, 0.65, 0.8] \n",
      "\n",
      "0.0103 0.1015\n"
     ]
    },
    {
     "data": {
      "text/plain": [
       "0.0102"
      ]
     },
     "execution_count": 10,
     "metadata": {},
     "output_type": "execute_result"
    }
   ],
   "source": [
    "#`9.` Notice that your answer to `8.` is commonly called the **variance of the sampling distribution**.  If you were to change your first sample to be 20, what would this do for the variance of the sampling distribution?  Simulate and calculate the new answers in `6.` and `8.` to check that the consistency you found before still holds.\n",
    "\n",
    "sample_props_20 = [np.random.choice(students, 20).mean() for _ in range(10000)] \n",
    "\n",
    "print(sample_props_20[:10], '\\n')\n",
    "print(round(np.var(sample_props_20), 4), round(np.std(sample_props_20), 4))\n",
    "round(p*(1-p)/20, 4)"
   ]
  },
  {
   "cell_type": "code",
   "execution_count": 11,
   "metadata": {},
   "outputs": [
    {
     "data": {
      "image/png": "[encoded data removed]",
      "text/plain": [
       "<Figure size 432x288 with 1 Axes>"
      ]
     },
     "metadata": {
      "needs_background": "light"
     },
     "output_type": "display_data"
    }
   ],
   "source": [
    "#`10.` Finally, plot a histgram of the 10,000 draws from both the proportions with a sample size of 5 and the proportions with a sample size of 20.  Each of these distributions is a sampling distribution.  One is for the proportions of sample size 5 and the other a sampling distribution for proportions with sample size 20.\n",
    "\n",
    "import matplotlib.pyplot as plt\n",
    "\n",
    "plt.hist(sample_props, alpha=0.5, label=\"Sample 5\")\n",
    "plt.hist(sample_props_20, alpha=0.5, label=\"Sample 20\")\n",
    "plt.grid(True)\n",
    "plt.title(\"Sampling Distributions\")\n",
    "plt.xlabel(\"Probability\")\n",
    "plt.ylabel(\"Numbers\")\n",
    "plt.legend();"
   ]
  },
  {
   "cell_type": "markdown",
   "metadata": {},
   "source": [
    "**Quiz1**\n",
    "\n",
    "1. The center of each sampling distribution, which should be the same as the proportion of all 21 students that drink coffee(0.71428)\n",
    "2. The proportion of your first sample of 5 students that drink coffee(0.60)\n",
    "3. The variance associated with the original proportion of all 21 students coffee drinking habits(0.20408)\n",
    "4. The variance of the sampling distribution for the proportion computed with sample size of 5(0.0408)\n",
    "5. The variance of the sampling distribution for the proportion computed with sample size 20(0.0102)\n",
    "\n",
    "**Quiz2**\n",
    "\n",
    "1. The mean of the sampling distribution\n",
    "$\\normalsize p$\n",
    "2. The variance of the original 1,0 values.\n",
    "$\\normalsize p(1-p)$\n",
    "3. The variance of the proportions calculated from 20 randomly selected values iterated 10,000 times.\n",
    "$\\Large \\frac{p(1-p)}{20}$\n",
    "\n",
    "#### 10. Text: Sampling Distribution Notes\n",
    "\n",
    "**Sampling Distributions Notes**\n",
    "\n",
    "We have already learned some really valuable ideas about sampling distributions:\n",
    "\n",
    "First, we have defined **sampling distributions** as the **distribution of a statistic**.\n",
    "\n",
    "This is fundamental - I cannot stress the importance of this idea. We simulated the creation of sampling distributions in the previous ipython notebook for samples of size 5 and size 20, which is something you will do more than once in the upcoming concepts and lessons.\n",
    "\n",
    "Second, we found out some interesting ideas about sampling distributions that will be iterated later in this lesson as well. We found that **for proportions** (and also means, as proportions are just the mean of 1 and 0 values), the following characteristics hold.\n",
    "\n",
    "1. The sampling distribution is **centered on the original parameter value**.\n",
    "2. The sampling distribution **decreases its variance depending on the sample size used**. Specifically, the variance of the sampling distribution is **equal** to the variance of the original data divided by the **sample size** used. This is always true for the variance of a sample mean!\n",
    "\n",
    "In notation, we say if we have a **random variable**, $\\normalsize X$, with **variance** of $\\large \\sigma^2$, then the **distribution** of $\\normalsize \\bar X$ (the sampling distribution of the sample mean) has a variance of $\\Large \\frac{\\sigma^2}{n}$\n",
    "\n",
    "**Looking Ahead**\n",
    "\n",
    "The rest of this lesson will reinforce some of these ideas that you saw at work in this notebook, but you are already being introduced to some big ideas that will continue to show up again and again."
   ]
  },
  {
   "cell_type": "markdown",
   "metadata": {},
   "source": [
    "#### 11. Video: Introduction to Notation\n",
    "\n",
    "**Notation**\n",
    "\n",
    "Notation is a common math language used to communicate.\n",
    "\n",
    "\n",
    "#### 12. Video: Notation for Parameters vs. Statistics\n",
    "\n",
    "As you saw in this video, we commonly use **Greek symbols** as parameters and **lowercase letters** as the corresponding statistics. Sometimes in the **literature**, you might also see the same **Greek symbols** with a \"**hat**\" to represent that this is an estimate of the corresponding parameter.\n",
    "\n",
    "Below is a table that provides some of the most common parameters and corresponding statistics, as shown in the video.\n",
    "\n",
    "Remember that all **parameters** pertain to a **population**, while all **statistics** pertain to a **sample**.\n",
    "\n",
    "|Parameter|Statistic|Description|\n",
    "| --- | --- | --- |\n",
    "| $\\large \\mu$ | $\\large \\bar x$ | \"The mean of a dataset\" |\n",
    "| $\\large \\pi$ | $\\large p$ | \"The mean of a dataset with only 0 and 1 values - a proportion\" |\n",
    "| $\\large \\mu_1 - \\mu_2$ | $\\large \\bar x_1 - \\bar x_2$ | \"The difference in means\" |\n",
    "| $\\large \\pi_1 - \\pi_2$ | $\\large p_1 - p_2$ | \"The difference in proportions\" |\n",
    "| $\\large \\beta$ | $\\large b$ | \"A regression coefficient - frequently used with subscripts\" |\n",
    "| $\\large \\sigma$ | $\\large s$ | \"The standard deviation\" |\n",
    "| $\\large \\sigma^2$ | $\\large s^2$ | \"The variance\" |\n",
    "| $\\large \\rho$ | $\\large r$ | \"The correlation coefficient\" |\n",
    "\n",
    "\n",
    "#### 13. Quiz: Notation\n",
    "\n",
    "Let's see if you can use the following list of parameters and statistics to their corresponding description."
   ]
  },
  {
   "cell_type": "code",
   "execution_count": 12,
   "metadata": {},
   "outputs": [
    {
     "data": {
      "image/png": "[encoded data removed]",
      "text/plain": [
       "<Figure size 432x288 with 1 Axes>"
      ]
     },
     "metadata": {
      "needs_background": "light"
     },
     "output_type": "display_data"
    }
   ],
   "source": [
    "# Use the information in this notebook to assist with answering the following quiz questions below the notebook.  Let's begin by creating a **population dataset** stored in **pop_data** and importing some libraries.\n",
    "\n",
    "pop_data = np.random.gamma(1,100, 3000)\n",
    "plt.hist(pop_data);"
   ]
  },
  {
   "cell_type": "code",
   "execution_count": 13,
   "metadata": {},
   "outputs": [
    {
     "data": {
      "text/plain": [
       "100.66749376950402"
      ]
     },
     "execution_count": 13,
     "metadata": {},
     "output_type": "execute_result"
    }
   ],
   "source": [
    "# `1.` What is the population mean?\n",
    "\n",
    "pop_data.mean()"
   ]
  },
  {
   "cell_type": "code",
   "execution_count": 14,
   "metadata": {},
   "outputs": [
    {
     "data": {
      "text/plain": [
       "46.324210103694305"
      ]
     },
     "execution_count": 14,
     "metadata": {},
     "output_type": "execute_result"
    }
   ],
   "source": [
    "# `2.` Randomly select 10 draws from the population using **numpy's random.choice**.  What is the sample mean for these 10 values?\n",
    "\n",
    "np.random.choice(pop_data, 10).mean()"
   ]
  },
  {
   "cell_type": "code",
   "execution_count": 15,
   "metadata": {},
   "outputs": [
    {
     "data": {
      "text/plain": [
       "72.28553967240553"
      ]
     },
     "execution_count": 15,
     "metadata": {},
     "output_type": "execute_result"
    }
   ],
   "source": [
    "# `3.` What is the sample standard deviation of your 10 draws?\n",
    "\n",
    "np.std(np.random.choice(pop_data, 10))"
   ]
  },
  {
   "cell_type": "code",
   "execution_count": 16,
   "metadata": {},
   "outputs": [
    {
     "data": {
      "text/plain": [
       "97.66820229386639"
      ]
     },
     "execution_count": 16,
     "metadata": {},
     "output_type": "execute_result"
    }
   ],
   "source": [
    "# `4.` What is the population standard deviation?\n",
    "\n",
    "np.std(pop_data)"
   ]
  },
  {
   "cell_type": "code",
   "execution_count": 17,
   "metadata": {},
   "outputs": [
    {
     "data": {
      "text/plain": [
       "9539.077739315608"
      ]
     },
     "execution_count": 17,
     "metadata": {},
     "output_type": "execute_result"
    }
   ],
   "source": [
    "# `5.` What is the population variance?\n",
    "\n",
    "np.var(pop_data)"
   ]
  },
  {
   "cell_type": "code",
   "execution_count": 18,
   "metadata": {},
   "outputs": [
    {
     "data": {
      "text/plain": [
       "11851.447232117996"
      ]
     },
     "execution_count": 18,
     "metadata": {},
     "output_type": "execute_result"
    }
   ],
   "source": [
    "# `6.` What is the sample variance?\n",
    "\n",
    "np.var(np.random.choice(pop_data, 10))"
   ]
  },
  {
   "cell_type": "markdown",
   "metadata": {},
   "source": [
    "**Solution**\n",
    "\n",
    "* $\\large \\bar{x}$: 103.48\n",
    "* $\\large \\sigma$: 99.78\n",
    "* $\\large \\sigma^2$: 9956\n",
    "* $\\large s$: 138.38\n",
    "* $\\large s^2$: 12365.0"
   ]
  },
  {
   "cell_type": "markdown",
   "metadata": {},
   "source": [
    "#### 14. Video: Other Sampling Distributions\n",
    "\n",
    "The **parameter** that is a numeric summary of a population is a fixed value, so these values do not change. However, statistics will change based on a sample you select from the population.\n",
    "\n",
    "#### 15. Video: Two Useful Theorems - Law of Large Numbers\n",
    "\n",
    "Two important **mathematical theorems** for working with sampling distributions include:\n",
    "\n",
    "1. **Law of Large Numbers(大数定律)**\n",
    "2. **Central Limit Theorem**\n",
    "\n",
    "The **Law of Large Numbers** says that **as our sample size increases, the sample mean gets closer to the population mean**, but how did we determine that the sample mean would estimate a population mean in the first place? How would we identify another relationship between parameter and statistic like this in the future?\n",
    "\n",
    "Three of the most common ways are with the following estimation techniques:\n",
    "1. [Maximum Likelihood Estimation](https://en.wikipedia.org/wiki/Maximum_likelihood_estimation)(**极大似然估计**)\n",
    "2. [Method of Moments Estimation](https://en.wikipedia.org/wiki/Method_of_moments_%28statistics%29)(**矩估计**)\n",
    "3. [Bayesian Estimation](https://en.wikipedia.org/wiki/Bayes_estimator)(**贝叶斯估计**)\n",
    "\n",
    "Though these are beyond the scope of what is covered in this course, these are techniques that should be well understood for Data Scientist's that may need to understand how to estimate some value that isn't as common as a mean or variance. Using one of these methods to determine a \"best estimate\", would be a necessity.\n",
    "\n",
    "\n",
    "#### 16. Notebook + Quiz: Law of Large Numbers"
   ]
  },
  {
   "cell_type": "code",
   "execution_count": 19,
   "metadata": {},
   "outputs": [
    {
     "data": {
      "image/png": "[encoded data removed]",
      "text/plain": [
       "<Figure size 432x288 with 1 Axes>"
      ]
     },
     "metadata": {
      "needs_background": "light"
     },
     "output_type": "display_data"
    }
   ],
   "source": [
    "# Use the dataset below stored in `pop_data` to answer the following questions, and complete the following quiz questions.\n",
    "\n",
    "pop_data = np.random.gamma(1,100,3000)\n",
    "plt.hist(pop_data);"
   ]
  },
  {
   "cell_type": "code",
   "execution_count": 20,
   "metadata": {},
   "outputs": [
    {
     "data": {
      "text/plain": [
       "3000"
      ]
     },
     "execution_count": 20,
     "metadata": {},
     "output_type": "execute_result"
    }
   ],
   "source": [
    "# `1.` What is the the number of data values in our population dataset?\n",
    "len(pop_data)"
   ]
  },
  {
   "cell_type": "code",
   "execution_count": 21,
   "metadata": {},
   "outputs": [
    {
     "data": {
      "text/plain": [
       "101.02922192398864"
      ]
     },
     "execution_count": 21,
     "metadata": {},
     "output_type": "execute_result"
    }
   ],
   "source": [
    "# `2.` What is the population mean?\n",
    "np.mean(pop_data)"
   ]
  },
  {
   "cell_type": "code",
   "execution_count": 22,
   "metadata": {},
   "outputs": [
    {
     "data": {
      "text/plain": [
       "126.99718058310373"
      ]
     },
     "execution_count": 22,
     "metadata": {},
     "output_type": "execute_result"
    }
   ],
   "source": [
    "# `3.` Use numpy's **random.choice** to simulate 5 draws from the `pop_data` array.  What is sample mean?\n",
    "\n",
    "np.random.choice(pop_data, 5).mean()"
   ]
  },
  {
   "cell_type": "code",
   "execution_count": 23,
   "metadata": {},
   "outputs": [
    {
     "data": {
      "text/plain": [
       "99.54833361175312"
      ]
     },
     "execution_count": 23,
     "metadata": {},
     "output_type": "execute_result"
    }
   ],
   "source": [
    "# `4.` Use numpy's **random.choice** to simulate 20 draws from the `pop_data` array.  What is sample mean?\n",
    "\n",
    "np.random.choice(pop_data, 20).mean()"
   ]
  },
  {
   "cell_type": "code",
   "execution_count": 24,
   "metadata": {},
   "outputs": [
    {
     "data": {
      "text/plain": [
       "109.0194693973301"
      ]
     },
     "execution_count": 24,
     "metadata": {},
     "output_type": "execute_result"
    }
   ],
   "source": [
    "# `5.` Use numpy's **random.choice** to simulate 100 draws from the `pop_data` array.  What is sample mean?\n",
    "\n",
    "np.random.choice(pop_data, 100).mean()"
   ]
  },
  {
   "cell_type": "markdown",
   "metadata": {},
   "source": [
    "* Which of the following statements were true regarding the values you computed?\n",
    "    * [x] The larger the sample size, the closer the sample mean was to the population mean.\n",
    "    * [ ] The sample mean values were always less than the population mean.\n",
    "    * [ ] The sample mean values were always greater than the population mean.\n",
    "\n",
    "\n",
    "#### 17. Video: Two Useful Theorems - Central Limit Theorem\n",
    "\n",
    "The **Central Limit Theorem** states that with a large enough sample size the sampling distribution of the mean will be normally distributed.\n",
    "\n",
    "The Central Limit Theorem actually applies for these well known statistics:\n",
    "\n",
    "1. Sample means ($\\large \\bar{x}$)\n",
    "2. Sample proportions ($\\large p$)\n",
    "3. Difference in sample means ($\\large \\bar x_1 - \\bar x_2$)\n",
    "4. Difference in sample proportions ($\\large \\bar p_1 - \\bar p_2$)\n",
    "\n",
    "And it applies for additional statistics, but it doesn't apply for all statistics! You will see more on this towards the end of this lesson.\n",
    "\n",
    "\n",
    "#### 18. Notebook + Quiz: Central Limit Theorem\n",
    "\n",
    "**Central Limit Theorem**\n",
    "\n",
    "In the previous concept, you were introduced to the Central Limit Theorem. In order to get some practice with this idea, you will work through the next two concepts, which have Ipython notebooks and quizzes to assist you with how this idea works."
   ]
  },
  {
   "cell_type": "code",
   "execution_count": 25,
   "metadata": {},
   "outputs": [
    {
     "data": {
      "image/png": "[encoded data removed]",
      "text/plain": [
       "<Figure size 432x288 with 1 Axes>"
      ]
     },
     "metadata": {
      "needs_background": "light"
     },
     "output_type": "display_data"
    }
   ],
   "source": [
    "# Work through the questions and use the created variables to answer the \n",
    "# questions that follow below the notebook. \n",
    "# Run the below cell to get started.\n",
    "\n",
    "pop_data = np.random.gamma(1,100,3000)\n",
    "plt.hist(pop_data);"
   ]
  },
  {
   "cell_type": "code",
   "execution_count": 26,
   "metadata": {},
   "outputs": [
    {
     "data": {
      "text/plain": [
       "array([ 14.39987114,  46.5689929 , 332.64912232])"
      ]
     },
     "execution_count": 26,
     "metadata": {},
     "output_type": "execute_result"
    }
   ],
   "source": [
    "# In order to create the sampling distribution for the average of 3 draws of \n",
    "# this distribution, follow these steps:\n",
    "\n",
    "# `a.` Use numpy's random.choice to simulate 3 draws from the `pop_data` array.\n",
    "\n",
    "np.random.choice(pop_data, 3)"
   ]
  },
  {
   "cell_type": "code",
   "execution_count": 27,
   "metadata": {},
   "outputs": [
    {
     "data": {
      "text/plain": [
       "146.15950825473791"
      ]
     },
     "execution_count": 27,
     "metadata": {},
     "output_type": "execute_result"
    }
   ],
   "source": [
    "# `b.` Compute the mean of these 3 draws.\n",
    "\n",
    "np.random.choice(pop_data, 3).mean()"
   ]
  },
  {
   "cell_type": "code",
   "execution_count": 28,
   "metadata": {},
   "outputs": [],
   "source": [
    "# `c.` Write a loop to simulate this process 10,000 times, and store each \n",
    "# mean into an array called means_size_3.\n",
    "\n",
    "means_size_3 = [np.random.choice(pop_data, 3).mean() for _ in range(10000)]"
   ]
  },
  {
   "cell_type": "code",
   "execution_count": 29,
   "metadata": {},
   "outputs": [
    {
     "data": {
      "image/png": "[encoded data removed]",
      "text/plain": [
       "<Figure size 432x288 with 1 Axes>"
      ]
     },
     "metadata": {
      "needs_background": "light"
     },
     "output_type": "display_data"
    }
   ],
   "source": [
    "# `d.` Plot a histogram of your sample means.\n",
    "\n",
    "plt.hist(means_size_3);"
   ]
  },
  {
   "cell_type": "code",
   "execution_count": 30,
   "metadata": {},
   "outputs": [
    {
     "data": {
      "text/plain": [
       "102.5"
      ]
     },
     "execution_count": 30,
     "metadata": {},
     "output_type": "execute_result"
    }
   ],
   "source": [
    "#`e.` Use means_size_3 and pop_data to answer the quiz questions below.\n",
    "#1. The mean of the sampling distribution\n",
    "#2. The mean of the population\n",
    "#3. The standard deviation of the population\n",
    "#4. The standard deviation of the sampling distribution\n",
    "\n",
    "# The mean of the sampling distribution\n",
    "round(np.mean(means_size_3), 2)"
   ]
  },
  {
   "cell_type": "code",
   "execution_count": 31,
   "metadata": {},
   "outputs": [
    {
     "data": {
      "text/plain": [
       "101.05"
      ]
     },
     "execution_count": 31,
     "metadata": {},
     "output_type": "execute_result"
    }
   ],
   "source": [
    "# The mean of the population\n",
    "round(np.mean(pop_data),2)"
   ]
  },
  {
   "cell_type": "code",
   "execution_count": 32,
   "metadata": {},
   "outputs": [
    {
     "data": {
      "text/plain": [
       "104.11"
      ]
     },
     "execution_count": 32,
     "metadata": {},
     "output_type": "execute_result"
    }
   ],
   "source": [
    "# The standard deviation of the population\n",
    "round(np.std(pop_data), 2)"
   ]
  },
  {
   "cell_type": "code",
   "execution_count": 33,
   "metadata": {},
   "outputs": [
    {
     "data": {
      "text/plain": [
       "61.14"
      ]
     },
     "execution_count": 33,
     "metadata": {},
     "output_type": "execute_result"
    }
   ],
   "source": [
    "# The standard deviation of the population\n",
    "round(np.std(means_size_3), 2)"
   ]
  },
  {
   "cell_type": "markdown",
   "metadata": {},
   "source": [
    "**Quiz**\n",
    "\n",
    "1. The mean of the sampling distribution(100.89)\n",
    "2. The mean of the population(100.36)\n",
    "3. The standard deviation of the population(99.78)\n",
    "4. The standard deviation of the sampling distribution(58.66)\n",
    "\n",
    "\n",
    "#### 19. Notebook + Quiz: Central Limit Theorem - Part II\n",
    "\n",
    "**Central Limit Theorem - Part II**\n",
    "\n",
    "In the previous concept, you saw that a sample size of 3 wasn't large enough for the Central Limit Theorem to \"kick-in\". In this notebook, you will try a larger sample size. Work through the notebook below to see the impact of the increased sample size."
   ]
  },
  {
   "cell_type": "code",
   "execution_count": 34,
   "metadata": {},
   "outputs": [
    {
     "data": {
      "image/png": "[encoded data removed]",
      "text/plain": [
       "<Figure size 432x288 with 1 Axes>"
      ]
     },
     "metadata": {
      "needs_background": "light"
     },
     "output_type": "display_data"
    }
   ],
   "source": [
    "# Work through the questions and use the created variables to answer the\n",
    "# questions that follow below the notebook.\n",
    "\n",
    "# Run the below cell to get started.\n",
    "\n",
    "pop_data = np.random.gamma(1,100,3000)\n",
    "plt.hist(pop_data);"
   ]
  },
  {
   "cell_type": "code",
   "execution_count": 35,
   "metadata": {},
   "outputs": [
    {
     "data": {
      "text/plain": [
       "array([1.97902404e+02, 9.86404139e-02, 5.47987689e+02, 9.70198322e+01,\n",
       "       1.96669058e+02])"
      ]
     },
     "execution_count": 35,
     "metadata": {},
     "output_type": "execute_result"
    }
   ],
   "source": [
    "# In order to create the sampling distribution for the average of 100 draws \n",
    "# of this distribution, follow these steps:\n",
    "\n",
    "# `a.` Use numpy's random.choice to simulate 100 draws \n",
    "# from the `pop_data` array.\n",
    "np.random.choice(pop_data, 100)[:5]"
   ]
  },
  {
   "cell_type": "code",
   "execution_count": 36,
   "metadata": {},
   "outputs": [
    {
     "data": {
      "text/plain": [
       "85.97941103513651"
      ]
     },
     "execution_count": 36,
     "metadata": {},
     "output_type": "execute_result"
    }
   ],
   "source": [
    "# `b.` Compute the mean of these 100 draws.\n",
    "np.random.choice(pop_data, 100).mean()"
   ]
  },
  {
   "cell_type": "code",
   "execution_count": 37,
   "metadata": {},
   "outputs": [],
   "source": [
    "# `c.` Write a loop to simulate this process 10,000 times, \n",
    "# and store each mean into an array called means_size_100.\n",
    "means_size_100 = [np.random.choice(pop_data, 100).mean() for _ in range(10000)]"
   ]
  },
  {
   "cell_type": "code",
   "execution_count": 38,
   "metadata": {},
   "outputs": [
    {
     "data": {
      "image/png": "[encoded data removed]",
      "text/plain": [
       "<Figure size 432x288 with 1 Axes>"
      ]
     },
     "metadata": {
      "needs_background": "light"
     },
     "output_type": "display_data"
    }
   ],
   "source": [
    "# `d.` Plot a histogram of your sample means.\n",
    "plt.hist(means_size_100);"
   ]
  },
  {
   "cell_type": "markdown",
   "metadata": {},
   "source": []
  },
  {
   "cell_type": "code",
   "execution_count": 39,
   "metadata": {},
   "outputs": [
    {
     "data": {
      "text/plain": [
       "99.97"
      ]
     },
     "execution_count": 39,
     "metadata": {},
     "output_type": "execute_result"
    }
   ],
   "source": [
    "# `e.` Use **means_size_100** and **pop_data** to answer the quiz questions \n",
    "# below.\n",
    "# 1. The mean of the sampling distribution\n",
    "# 2. The mean of the population\n",
    "# 3. The variance of the population\n",
    "# 4. The variance of the sampling distribution\n",
    "\n",
    "# The mean of the sampling distribution\n",
    "round(np.mean(means_size_100), 2)"
   ]
  },
  {
   "cell_type": "code",
   "execution_count": 40,
   "metadata": {},
   "outputs": [
    {
     "data": {
      "text/plain": [
       "100.12"
      ]
     },
     "execution_count": 40,
     "metadata": {},
     "output_type": "execute_result"
    }
   ],
   "source": [
    "# The mean of the population\n",
    "round(np.mean(pop_data),2)"
   ]
  },
  {
   "cell_type": "code",
   "execution_count": 41,
   "metadata": {},
   "outputs": [
    {
     "data": {
      "text/plain": [
       "10186.94"
      ]
     },
     "execution_count": 41,
     "metadata": {},
     "output_type": "execute_result"
    }
   ],
   "source": [
    "# The variance of the population\n",
    "round(np.var(pop_data), 2)"
   ]
  },
  {
   "cell_type": "code",
   "execution_count": 42,
   "metadata": {},
   "outputs": [
    {
     "data": {
      "text/plain": [
       "98.93"
      ]
     },
     "execution_count": 42,
     "metadata": {},
     "output_type": "execute_result"
    }
   ],
   "source": [
    "# The standard deviation of the population\n",
    "round(np.var(means_size_100), 2)"
   ]
  },
  {
   "cell_type": "markdown",
   "metadata": {},
   "source": [
    "**Quiz**\n",
    "\n",
    "1. The mean of the sampling distribution(100.47)\n",
    "2. The mean of the population(100.36)\n",
    "3. The variance of the population(9955.77)\n",
    "4. The variance of the sampling distribution(99.44)"
   ]
  },
  {
   "cell_type": "markdown",
   "metadata": {},
   "source": [
    "#### 20. Video: When Does the Central Limit Theorem Not Work?\n",
    "\n",
    "In the previous example, you saw how the Central Limit Theorem applies to the **sample mean of 100** draws from a **right-skewed distribution**. However, it did not apply to a **sample size of 3** draws from this same distribution.\n",
    "\n",
    "In the next concepts, you will see that the with large sample sizes the sampling distribution of certain statistics will never become normally distributed. So how do we know which statistics will follow normal distributions, and which will not?\n",
    "\n",
    "So, you might be wondering already why is the Central Limit Theorem such a big deal? In our new age of computers, it probably isn't as big of a deal, but more on this coming up soon!\n",
    "\n",
    "\n",
    "#### 21. Notebook + Quiz: Central Limit Theorem - Part III\n",
    "\n",
    "You saw how the **Central Limit Theorem** worked for the sample mean in the earlier concept. The Central Limit Theorem states that with a large enough sample size the sampling distribution of the mean will be normally distributed.\n",
    "\n",
    "The **Central Limit Theorem** actually applies for these well known statistics:\n",
    "\n",
    "1. Sample means ($\\large \\bar{x}$)\n",
    "2. Sample proportions ($\\large p$)\n",
    "3. Difference in sample means ($\\large \\bar x_1 - \\bar x_2$)\n",
    "4. Difference in sample proportions ($\\large \\bar p_1 - \\bar p_2$)\n",
    "\n",
    "And it applies for additional statistics, but **it doesn't apply for all statistics**! Here, you will simulate the sampling distribution for the sample variance. Try out the notebook and quizzes."
   ]
  },
  {
   "cell_type": "code",
   "execution_count": 43,
   "metadata": {},
   "outputs": [
    {
     "data": {
      "image/png": "[encoded data removed]",
      "text/plain": [
       "<Figure size 432x288 with 1 Axes>"
      ]
     },
     "metadata": {
      "needs_background": "light"
     },
     "output_type": "display_data"
    }
   ],
   "source": [
    "# Work through the questions and use the created variables to answer the \n",
    "# questions that follow below the notebook.\n",
    "\n",
    "# Run the below cell to get started.\n",
    "\n",
    "pop_data = np.random.gamma(1,100,3000)\n",
    "plt.hist(pop_data);"
   ]
  },
  {
   "cell_type": "code",
   "execution_count": 44,
   "metadata": {},
   "outputs": [
    {
     "data": {
      "text/plain": [
       "array([ 20.05668199, 162.43268373,  33.82889002,  59.73673202,\n",
       "        45.29859119])"
      ]
     },
     "execution_count": 44,
     "metadata": {},
     "output_type": "execute_result"
    }
   ],
   "source": [
    "# In order to create the sampling distribution for the average of 100 draws \n",
    "# of this distribution, follow these steps:\n",
    "\n",
    "# `a.` Use numpy's random.choice to simulate 100 draws \n",
    "# from the `pop_data` array.\n",
    "np.random.choice(pop_data, 100)[:5]"
   ]
  },
  {
   "cell_type": "code",
   "execution_count": 45,
   "metadata": {},
   "outputs": [
    {
     "data": {
      "text/plain": [
       "95.30439871587527"
      ]
     },
     "execution_count": 45,
     "metadata": {},
     "output_type": "execute_result"
    }
   ],
   "source": [
    "# `b.` Compute the mean of these 100 draws.\n",
    "np.random.choice(pop_data, 100).mean()"
   ]
  },
  {
   "cell_type": "code",
   "execution_count": 46,
   "metadata": {},
   "outputs": [],
   "source": [
    "# `c.` Write a loop to simulate this process 10,000 times, \n",
    "# and store each mean into an array called var_size_100.\n",
    "var_size_100 = [np.random.choice(pop_data, 100).var() for _ in range(10000)]"
   ]
  },
  {
   "cell_type": "code",
   "execution_count": 47,
   "metadata": {},
   "outputs": [
    {
     "data": {
      "image/png": "[encoded data removed]",
      "text/plain": [
       "<Figure size 432x288 with 1 Axes>"
      ]
     },
     "metadata": {
      "needs_background": "light"
     },
     "output_type": "display_data"
    }
   ],
   "source": [
    "# `d.` Plot a histogram of your sample means.\n",
    "plt.hist(var_size_100);"
   ]
  },
  {
   "cell_type": "code",
   "execution_count": 48,
   "metadata": {},
   "outputs": [
    {
     "data": {
      "text/plain": [
       "8974.81"
      ]
     },
     "execution_count": 48,
     "metadata": {},
     "output_type": "execute_result"
    }
   ],
   "source": [
    "#`e.` Use var_size_100 and pop_data to answer the quiz questions below.\n",
    "#1. The variance of the population\n",
    "#2. The mean of the sampling distribution for the sample variance\n",
    "#3. The variance of the sampling distribution for the sample variance\n",
    "\n",
    "# The variance of the population\n",
    "round(np.var(pop_data), 2)"
   ]
  },
  {
   "cell_type": "code",
   "execution_count": 49,
   "metadata": {},
   "outputs": [
    {
     "data": {
      "text/plain": [
       "8884.21"
      ]
     },
     "execution_count": 49,
     "metadata": {},
     "output_type": "execute_result"
    }
   ],
   "source": [
    "# The mean of the sampling distribution for the sample variance\n",
    "round(np.mean(var_size_100), 2)"
   ]
  },
  {
   "cell_type": "code",
   "execution_count": 50,
   "metadata": {},
   "outputs": [
    {
     "data": {
      "text/plain": [
       "5432704.75"
      ]
     },
     "execution_count": 50,
     "metadata": {},
     "output_type": "execute_result"
    }
   ],
   "source": [
    "# The variance of the sampling distribution for the sample variance\n",
    "round(np.var(var_size_100), 2)"
   ]
  },
  {
   "cell_type": "markdown",
   "metadata": {},
   "source": [
    "**Quiz**\n",
    "\n",
    "1. The variance of the population(9955.77)\n",
    "2. The mean of the sampling distribution for the sample variance(9836.98) \n",
    "3. The variance of the sampling distribution for the sample variance(6417706.25)"
   ]
  },
  {
   "cell_type": "markdown",
   "metadata": {},
   "source": [
    "#### 22. Video: Bootstrapping\n",
    "\n",
    "**Bootstrapping(自助抽样法)** is sampling with replacement. \n",
    "\n",
    "Using **random.choice** in python actually samples in this way. Where the probability of any number in our set **stays the same regardless of how many times** it has been chosen. Flipping a coin and rolling a die are kind of like bootstrap sampling as well, as rolling a 6 in one scenario doesn't mean that 6 is less likely later.\n",
    "\n",
    "\n",
    "#### 23. Video: Bootstrapping & The Central Limit Theorem\n",
    "\n",
    "You actually have been bootstrapping to create sampling distributions in earlier parts of this lesson, but this can be extended to a bigger idea.\n",
    "\n",
    "It turns out, we can do a pretty good job of finding out where a parameter is by using a sampling distribution created from bootstrapping from only a sample. This will be covered in depth in the next lessons.\n",
    "\n",
    "Three of the most common ways are with the following estimation techniques for finding \"good statistics\" are as shown previously:\n",
    "\n",
    "1. [Maximum Likelihood Estimation](https://en.wikipedia.org/wiki/Maximum_likelihood_estimation)\n",
    "2. [Method of Moments Estimation](https://en.wikipedia.org/wiki/Method_of_moments_%28statistics%29)\n",
    "3. [Bayesian Estimation](https://en.wikipedia.org/wiki/Bayes_estimator)\n",
    "\n",
    "\n",
    "#### 24. Notebook + Quiz: Bootstrapping\n",
    "\n",
    "**Bootstrapping**\n",
    "\n",
    "So, you may not have noticed that you have already been performing bootstrap sampling throughout this lesson. As well as in earlier lessons with Binomial events and die rolls. The fact that once you flip a head or roll a 6, you can continue to flip or roll that value again means that it is replaced even after being selected.\n",
    "\n",
    "To make this more explicit, you will perform some tasks in this notebook that use bootstrap sampling, as well as some that involve sampling without replacement."
   ]
  },
  {
   "cell_type": "code",
   "execution_count": 51,
   "metadata": {},
   "outputs": [],
   "source": [
    "# Below is an array of the possible values you can obtain from a die.  \n",
    "# Let's consider different methods of sampling from these values.\n",
    "\n",
    "np.random.seed(42)\n",
    "die_vals = np.array([1,2,3,4,5,6])"
   ]
  },
  {
   "cell_type": "code",
   "execution_count": 52,
   "metadata": {},
   "outputs": [
    {
     "data": {
      "text/plain": [
       "array([4, 5, 3, 5, 5, 2, 3, 3, 3, 5, 4, 3, 6, 5, 2, 4, 6, 6, 2, 4])"
      ]
     },
     "execution_count": 52,
     "metadata": {},
     "output_type": "execute_result"
    }
   ],
   "source": [
    "# 1. Take a random sample of 20 values from **die_vals** using the code below, \n",
    "# then answer the question in the first quiz below.\n",
    "\n",
    "np.random.choice(die_vals, 20)"
   ]
  },
  {
   "cell_type": "code",
   "execution_count": 53,
   "metadata": {},
   "outputs": [],
   "source": [
    "# `2.` Use the code below to choose another sample from **die_vals**, \n",
    "# then answer the question in the first quiz below.\n",
    "\n",
    "# np.random.choice(die_vals, 20, replace=False)"
   ]
  },
  {
   "cell_type": "markdown",
   "metadata": {},
   "source": [
    "**Question 1**. Use the resulting values from 1. in the notebook above to select all of the statements here that are true.\n",
    "\n",
    "* [ ] Once a value is chosen, it was not able to be selected again.\n",
    "* [x] This sampling is an example of bootstrap sampling.\n",
    "* [ ] All of the values were randomly chosen in this sample\n",
    "\n",
    "**Question 2**. Select all of the statements that are true about the code you ran in 2. above.\n",
    "\n",
    "* [ ] This was an example of bootstrap sampling.\n",
    "* [x] The code broke.\n",
    "* [x] The **replace=False** portion did not allow us to select 20 times from an array of only 6 values.\n",
    "* [x] This was an example of sampling without replacement."
   ]
  },
  {
   "cell_type": "markdown",
   "metadata": {},
   "source": [
    "#### 25. Video: The Background of Bootstrapping\n",
    "\n",
    "\n",
    "**The Application of Bootstrapping**\n",
    "\n",
    "* Leading machine learning algorithms\n",
    "* Random Forest\n",
    "* Stochastic Gradient Boosting\n",
    "\n",
    "**The Background of Bootstrapping**\n",
    "\n",
    "This technique is credited to **Bradley Efron** in 1979, a Minnesota born statistician.\n",
    "\n",
    "The name bootstrapping was given to the technique because of the amazement and how well it works is similar to the idea of being able to walk into quicksand and pull yourself out of the quicksand to safety by your own bootstraps.\n",
    "\n",
    "The way we can draw inference about a population parameter by only performing repeated sampling within our existing sample is just as amazing.\n",
    "\n",
    "We actually gain confidence about where parameter is likely to exist without having to collect any additional data.\n",
    "\n",
    "**Two helpful links**\n",
    "\n",
    "* You can learn more about Bradley Efron [here](https://en.wikipedia.org/wiki/Bradley_Efron). \n",
    "* Additional notes on why bootstrapping works as a technique for inference can be found [here](https://stats.stackexchange.com/questions/26088/explaining-to-laypeople-why-bootstrapping-works).\n",
    "\n",
    "\n",
    "#### 26. Video: Why are Sampling Distributions Important\n",
    "\n",
    "When looking at these techniques online, you might find a lot of formulas and built-in calculators for computing the final results for these techniques.\n",
    "\n",
    "However, these built-in calculators hide the assumptions and potential biases.\n",
    "\n",
    "With your new understanding of sampling distributions and bootstrapping, you're ready to tackle not only using the built-in techniques, but to extend these techniques to a multitude of other situations.\n",
    "\n",
    "\n",
    "#### 27. Quiz + Text: Recap & Next Steps\n",
    "\n",
    "**Recap Quiz**\n",
    "\n",
    "1. **statistic** - A numeric summary of a sample.\n",
    "2. **parameter** - A numeric summary of a population.\n",
    "3. **sampling distribution** - The distribution of a statistic.\n",
    "4. **Greek symbols** - Used to notate parameters.\n",
    "5. **bootstrapping** - Sampling with replacement.\n",
    "6. **The Central Limit Theorem** - A theorem that states: if our sample size is large enough, the sample mean will be normally distributed.\n",
    "7. **Inferential Statistics** - Using the data we have collected to draw conclusions about our population of interest.\n",
    "8. **Law of Large Numbers** - A theorem that states: the larger the sample size, the closer our statistic gets to the parameter.\n",
    "9. **Descriptive Statistics** - Describing the data we have collected.\n",
    "\n",
    "* * *\n",
    "\n",
    "**Recap**\n",
    "\n",
    "In this lesson, you have learned a ton! You learned:\n",
    "\n",
    "**Sampling Distributions**\n",
    "\n",
    "* **Sampling Distributions** are the distribution of a statistic (any statistic).\n",
    "* There are two very important mathematical theorems that are related to sampling distributions: **The Law of Large Numbers** and **The Central Limit Theorem**.\n",
    "* **The Law of Large Numbers** states that as a sample size increases, the **sample mean** will get closer to the **population mean**. In general, if our statistic is a \"good\" estimate of a parameter, it will approach our parameter with larger sample sizes.\n",
    "* **The Central Limit Theorem** states that with large enough sample sizes our sample mean will follow a normal distribution, but it turns out this is true for more than just the sample mean.\n",
    "\n",
    "**Bootstrapping**\n",
    "\n",
    "* **Bootstrapping** is a technique where we sample from a group with replacement.\n",
    "* We can use bootstrapping to simulate the **creation of sampling distribution**, which you did many times in this lesson. \n",
    "* By bootstrapping and then **calculating repeated values** of our statistics, we can gain an understanding of the sampling distribution of our statistics.\n",
    "\n",
    "**Looking Ahead**\n",
    "\n",
    "In this lesson you gained the fundamental ideas that will help you with the next two lessons by learning about sampling distributions and bootstrapping. These are going provide the basis for confidence intervals and hypothesis testing in the next two lessons.\n",
    "\n",
    "\n",
    "#### 28. Appendix: Glossary\n",
    "\n",
    "* Sampling Distribution(抽样分布)\n",
    "* Bootstrapping(自助抽样法)\n",
    "* Law of Large Numbers(大数定律)\n",
    "\n",
    "* * *\n",
    "\n",
    "\n",
    "* Maximum Likelihood Estimation(极大似然估计)\n",
    "* Method of Moments Estimation(矩估计)\n",
    "* Bayesian Estimator(贝叶斯估计)\n",
    "\n",
    "* * *\n",
    "\n",
    "* numpy.random.gamma(shape, scale=1.0, size=None)"
   ]
  }
 ],
 "metadata": {
  "kernelspec": {
   "display_name": "Python 3",
   "language": "python",
   "name": "python3"
  },
  "language_info": {
   "codemirror_mode": {
    "name": "ipython",
    "version": 3
   },
   "file_extension": ".py",
   "mimetype": "text/x-python",
   "name": "python",
   "nbconvert_exporter": "python",
   "pygments_lexer": "ipython3",
   "version": "3.6.10"
  }
 },
 "nbformat": 4,
 "nbformat_minor": 4
}
