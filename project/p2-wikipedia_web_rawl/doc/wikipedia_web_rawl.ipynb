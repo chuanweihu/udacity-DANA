{
 "cells": [
  {
   "cell_type": "markdown",
   "metadata": {},
   "source": [
    "# Wikipedia Web Crawl\n",
    "\n",
    "> In this lesson we will apply the skills learned previously by writing a web crawler that explores Wikipedia."
   ]
  },
  {
   "cell_type": "markdown",
   "metadata": {},
   "source": [
    "## Case Introduction\n",
    "\n",
    "**Automating the Wikipedia Crawl**\n",
    "\n",
    "Go to a Wikipedia page you find interesting, or just a random one and click the first link. Then on that page click the first link in the main body of the article text and just keep going. You could try it multiple times for different pages and see whether you get different behaviour. We're going to work on automating this process, ending up with a program that will go through Wikipedia for us."
   ]
  },
  {
   "cell_type": "markdown",
   "metadata": {},
   "source": [
    "## Laying the Groundwork\n",
    "\n",
    "1. Source Code\n",
    "\n",
    "The HTML(HyperText Markup Language) source code of Wikipedia.\n",
    "\n",
    "2. Target Tags\n",
    "\n",
    "*Anchor tags* (denoted by <a></a> are used to create links. The link's destination is specified in the *href attribute*, and the text in between the opening and closing tags is the link's text.\n",
    "\n",
    "`<a href=\"https://en.wikipedia.org/wiki/Cat\">Learn more about cats!</a>`\n",
    "\n",
    "3. Get HTML\n",
    "\n",
    "Tool: requests library(python)\n",
    "\n",
    "```\n",
    "# Install requests with pip\n",
    "# $ pip3 install requests\n",
    "\n",
    "# Get html with requests\n",
    "url = 'https://en.wikipedia.org/wiki/Dead_Parrot_sketch'\n",
    "response = requests.get(url)\n",
    "html = response.text\n",
    "```\n",
    "\n",
    "4. Parse HTML\n",
    "\n",
    "Tool: Beautiful Soup\n",
    "\n",
    "```\n",
    "# Install Beautiful Soup with pip\n",
    "# $ pip3 install beautifulsoup4\n",
    "\n",
    "# Find the article's link\n",
    "soup = bs4.BeautifulSoup(html, \"html.parser\")\n",
    "article_link = soup.find(id='mw-content-text').find(class_=\"mw-parser-output\").p.a.get('href')\n",
    "```"
   ]
  },
  {
   "cell_type": "markdown",
   "metadata": {},
   "source": [
    "## Designing the Program\n",
    "\n",
    "**Design**\n",
    "\n",
    "* Looping\n",
    "* Data structures\n",
    "* Steps to perform\n",
    "* Specific extra(slowing dow)\n",
    "\n",
    "**The Sequence of Steps**\n",
    "\n",
    "1. Open an article\n",
    "2. Find the first link in the article\n",
    "3. Follow the link\n",
    "4. Record the link in the article_chain data structure.\n",
    "5. Repeat this process until we reach the Philosophy article, or get stuck in an article cycle\n",
    "\n",
    "**loop**\n",
    "\n",
    "Steps of loop:\n",
    "1. Find the first link in the current article's HTML\n",
    "2. Download the HTML for the current article\n",
    "3. Add the first link from the current article to article_chain\n",
    "4. Pause for a couple seconds so we don't flood Wikipedia with requests.\n",
    "\n",
    "The program should end the while loop when:\n",
    "1. we reach Philosophy,\n",
    "2. we reach a page we've already visited, hence find ourselves in a cycle of articles (like the case of Chair,\n",
    "3. we go on for too long (we think that 25 steps is plenty, but you can adjust this if you like), or \n",
    "4. we find a page that has no links on it - we simply can't keep going in this case.\n",
    "\n",
    "**Pseudo Code**\n",
    "\n",
    "```\n",
    "page = a random starting page\n",
    "article_chain = []\n",
    "while title of page isn't 'Philosophy' and we have not discovered a cycle:\n",
    "    append page to article_chain\n",
    "    download the page content\n",
    "    find the first link in the content\n",
    "    page = that link\n",
    "    pause for a second\n",
    "```"
   ]
  },
  {
   "cell_type": "code",
   "execution_count": null,
   "metadata": {},
   "outputs": [],
   "source": []
  },
  {
   "cell_type": "markdown",
   "metadata": {},
   "source": [
    "## Implementing the Program\n",
    "\n",
    "**Write code** \n",
    "\n",
    "* Code to control loop\n",
    "* Steps inside loop\n",
    "* Planned find_first_link\n",
    "* Wrote find_first_link\n",
    "* Test"
   ]
  }
 ],
 "metadata": {
  "kernelspec": {
   "display_name": "Python 3",
   "language": "python",
   "name": "python3"
  },
  "language_info": {
   "codemirror_mode": {
    "name": "ipython",
    "version": 3
   },
   "file_extension": ".py",
   "mimetype": "text/x-python",
   "name": "python",
   "nbconvert_exporter": "python",
   "pygments_lexer": "ipython3",
   "version": "3.7.3"
  }
 },
 "nbformat": 4,
 "nbformat_minor": 2
}
