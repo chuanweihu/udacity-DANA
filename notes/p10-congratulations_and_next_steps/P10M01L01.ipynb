{
 "cells": [
  {
   "cell_type": "markdown",
   "metadata": {},
   "source": [
    "## Module 01: Congratulations\n",
    "\n",
    "### Lesson 01: Congratulations & Next Steps\n",
    "\n",
    "> Congratulations on completing all your projects!"
   ]
  },
  {
   "cell_type": "markdown",
   "metadata": {},
   "source": [
    "#### 01. Congratulations!\n",
    "\n",
    "This is not a small accomplishment. The projects you completed were difficult, time-intensive, and required perseverance. So, first, take a moment to give yourself a pat on the back and revel in the satisfaction of a job well done.\n",
    "\n",
    "But don’t forget this is just a beginning. You have acquired an amazing set of data analysis skills: **from analyzing data in Python and SQL to statistical techniques like A/B testing and regression, completing an entire data analysis projects from data wrangling to visualizing the results using Python libraries**.\n",
    "\n",
    "**This is absolutely impressive along with the amazing projects you have built for your portfolio! You are ready to apply for data analyst positions.** We encourage you to explore our Career Services listed on the left side.\n",
    "\n"
   ]
  },
  {
   "cell_type": "markdown",
   "metadata": {},
   "source": [
    "#### 02. Next Steps"
   ]
  },
  {
   "cell_type": "markdown",
   "metadata": {},
   "source": [
    "**Next Steps**\n",
    "\n",
    "As you consider your next steps in your journey in the field of data science, you are now very well positioned for our next course in Data Science: the **[Data Scientist Nanodegree](https://www.udacity.com/course/data-scientist-nanodegree--nd025)!!**\n",
    "\n",
    "You have now mastered several of the foundational concepts that you require to succeed in the Data Scientist Nanodegree. In this nanodegree, you’ll work on real-world data science projects designed by industry leaders, such as IBM Watson, Starbucks, Kaggle and many more! So, check out the following video:"
   ]
  },
  {
   "cell_type": "markdown",
   "metadata": {},
   "source": [
    "#### 03. Projects"
   ]
  },
  {
   "cell_type": "markdown",
   "metadata": {},
   "source": [
    "**Projects**\n",
    "\n",
    "To get a glimpse of the **three projects** you will create as a part of the first term of the **Data Scientist Nanodegree program**, take a look at the three videos below. Completing the projects will not only help you build your skills with what is taught in the lessons, but also show you how those skills are used in practice and build out your technical portfolio.\n",
    "\n",
    "Don't worry if you are not familiar with how you would even approach some of the items discussed below, you will be learning the needed skills in the lessons ahead!\n",
    "\n",
    "* Project 1: Find Donors for CharityML with Kaggle (Supervised Machine Learning)\n",
    "* Project 2: Create an Image Classifier (Deep Learning)\n",
    "* Project 3: Creating Customer Segments with Arvato (Unsupervised Machine Learning)"
   ]
  },
  {
   "cell_type": "markdown",
   "metadata": {},
   "source": [
    "#### 04. What's Next in Your Journey!"
   ]
  },
  {
   "cell_type": "markdown",
   "metadata": {},
   "source": [
    "By completing the Data Analyst Nanodegree you have now demonstrated your ability to learn programming, inferential statistics, and to use Python data libraries for data analysis and data visualization, like Matplotlib, Seaborn, Pandas, Sci-kit Learn.\n",
    "\n",
    "The **Data Scientist Nanodegree** program builds on this excellent foundation to teach you the following skills that companies look for in Data Scientist job candidates:\n",
    "\n",
    "* Knowledge of how to build supervised machine learning models and making data-driven solutions\n",
    "* Strong understanding of neural networks, deep learning, and PyTorch\n",
    "* Ability to build unsupervised machine learning models\n",
    "* Software engineering and data engineering skills\n",
    "* Knowledge of how to design experiments and analyze A/B test results.\n",
    "* You will connect directly with **Udacity Experts-in-Residence**, an elite group of data science practitioners working at some of the most data-driven organizations in the world, including Google, Airbnb, IBM Watson, and more.\n",
    "\n",
    "If you would like to learn more, check out our **[Data Scientist Nanodegree](https://www.udacity.com/course/data-scientist-nanodegree--nd025)** program.\n",
    "\n",
    "We wish you the very best as you make the most of your learning experience in the Data Analyst Nanodegree program, and CONGRATULATIONS again!!"
   ]
  }
 ],
 "metadata": {
  "kernelspec": {
   "display_name": "Python 3",
   "language": "python",
   "name": "python3"
  },
  "language_info": {
   "codemirror_mode": {
    "name": "ipython",
    "version": 3
   },
   "file_extension": ".py",
   "mimetype": "text/x-python",
   "name": "python",
   "nbconvert_exporter": "python",
   "pygments_lexer": "ipython3",
   "version": "3.7.3"
  }
 },
 "nbformat": 4,
 "nbformat_minor": 2
}
