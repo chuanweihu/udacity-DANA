{
 "cells": [
  {
   "cell_type": "markdown",
   "metadata": {},
   "source": [
    "## Module 01: Introduction to Data Wrangling\n",
    "\n",
    "\n",
    "### Lesson 01: Introduction to Data Wrangling\n",
    "\n",
    "> Identify each step of the data wrangling process (gathering, assessing, cleaning) through a brief walkthrough of the process. The dataset for this lesson is an online job postings dataset from Kaggle."
   ]
  },
  {
   "cell_type": "markdown",
   "metadata": {},
   "source": [
    "#### 01. Introduction\n",
    "\n",
    "Data wrangling is the process of **gathering your data**, **assessing its quality and structure**, and **cleaning it** before you do things like analysis, visualization, or build predictive models using machine learning.\n",
    "\n",
    "* Sometimes, it's as simple as downloading a file, spotting a few typos, and fixing those typos.\n",
    "* But other times, your data really isn't clean. That is, you'll have missing records, duplicates, and inaccurate data.\n",
    "* Sometimes, the data itself is fine but structurally, it's difficult to work with."
   ]
  },
  {
   "cell_type": "markdown",
   "metadata": {},
   "source": [
    "#### 02. Course Outline\n",
    "\n",
    "Data wrangling is a core skill that everyone who works with data should be familiar with since so much of the world's data isn't clean. Though this course is geared towards those who use Python to analyze data, the high-level concepts can be applied in all programming languages and software applications for data analysis.\n",
    "\n",
    "* Lesson 1: The Walkthrough\n",
    "\n",
    "In the first lesson of this course, we'll walk through an example of data wrangling so you get a feel for the full process. We'll introduce gathering data, then download a file from the web and import it into a Jupyter Notebook. We'll then introduce assessing data and assess the dataset we just downloaded both visually and programmatically. We'll be looking for quality and structural issues. Finally, we'll introduce cleaning data and use code to clean a few of the issues we identified while assessing.\n",
    "\n",
    "The goal of this walkthrough is awareness rather than mastery, so you'll be able to start wrangling your own data even after just this first lesson.\n",
    "\n",
    "* Lessons 2-4: Gathering, Assessing, and Cleaning Data (in Detail)\n",
    "\n",
    "In the following lessons, you'll master gathering, assessing, and cleaning data. We'll cover the full data wrangling process with real datasets too, so think of this course as a series of wrangling journeys. You'll learn by doing and leave each lesson with tangible skills."
   ]
  },
  {
   "cell_type": "markdown",
   "metadata": {},
   "source": [
    "#### 03. A Definition and An Analogy\n",
    "\n",
    "Wrangling means to round up, herd, or take charge of livestock, like horses or sheep. Let's focus in on the sheep example.\n",
    "\n",
    "A shepherd's main goals are to get their sheep to their pastures to let them graze, guide them to market to shear them, and put them in the barn to sleep. Before any of that though, they must be rounded up in a nice and organized group. "
   ]
  },
  {
   "cell_type": "markdown",
   "metadata": {},
   "source": [
    "#### 04. Examples\n",
    "\n",
    "Has Toronto's goal-scoring ability actually improved that much since last year? Have other teams improved similarly?\n",
    "\n",
    "As you saw my personal example I had to download three datasets and scrape data off of a web page to fill in missing values."
   ]
  },
  {
   "cell_type": "markdown",
   "metadata": {},
   "source": [
    "#### 05. Walkthrough and Dataset\n",
    "\n",
    "We’ll start with brief introductions to gathering, then assessing, and then cleaning our data, which are our three core steps in the data wrangling process. Keep in mind our end goal—to make awesome analyses and visualizations—throughout the whole process.\n",
    "\n",
    "* Dataset\n",
    "\n",
    "The dataset you'll be wrangling is [a dataset of 19,000 online job posts from 2004 to 2015](https://www.kaggle.com/udacity/armenian-online-job-postings) that were posted through an Armenian human resource portal. It is hosted on Kaggle, which is an extremely popular website for exploratory data analyses and machine learning competitions. The dataset is dirty and messy enough that you'll have wrangling work to do, but also clean enough that it won't give you a headache. "
   ]
  },
  {
   "cell_type": "markdown",
   "metadata": {},
   "source": [
    "**Step 01: Gather**"
   ]
  },
  {
   "cell_type": "markdown",
   "metadata": {},
   "source": [
    "#### 06. Gather (Intro)\n",
    "\n",
    "Collect data from files and databases or scrape data off a website or get it from an API(access data from applications like Twitter and Facebook)"
   ]
  },
  {
   "cell_type": "markdown",
   "metadata": {},
   "source": [
    "#### 07. Template and Software\n",
    "\n",
    "* Jupyter Notebook\n",
    "\n",
    "A Jupyter Notebook is a web application that allows you to combine explanatory text, math equations, code, visualizations, and more all in one easily shareable document. \n",
    "\n",
    "Jupyter Notebooks were originally known as IPython notebooks, and when you download one of these files, you’ll see it has an .ipynb (IPython notebook) extension.\n",
    "\n",
    "* Anaconda\n",
    "\n",
    "Mat writes \"by far the easiest way to install Jupyter is with Anaconda.\" Anaconda is a distribution of packages built for data science. "
   ]
  },
  {
   "cell_type": "markdown",
   "metadata": {},
   "source": [
    "#### 08. Quiz: Gather (Download)\n",
    "\n",
    "* The best practice is actually to download files programmatically, i.e. with code, for two reasons: scalability and reproducibility.\n",
    "    1. Scalability\n",
    "    2. Reproducibility"
   ]
  },
  {
   "cell_type": "markdown",
   "metadata": {},
   "source": [
    "#### 09. Quiz: Gather (Open Jupyter Notebook)\n",
    "\n",
    "`data-wrangling-template.ipynb`"
   ]
  },
  {
   "cell_type": "markdown",
   "metadata": {},
   "source": [
    "#### 10. Quiz: Gather (Unzip File)"
   ]
  },
  {
   "cell_type": "code",
   "execution_count": 1,
   "metadata": {},
   "outputs": [],
   "source": [
    "# import zipfile\n",
    "# with zipfile.Zipfile('online-job-posting.zip', 'r') as myzip:\n",
    "#    myzip.extractall()"
   ]
  },
  {
   "cell_type": "markdown",
   "metadata": {},
   "source": [
    "#### 11. Gather (CSV Files)\n",
    "\n",
    "CSV stands for comma separated values, and is a common file format to representing tabular data. A CSV file is actually a text file, it can be created and edited using any text editor. More frequently, however, a CSV file is created by exporting data from a spreadsheet or database.\n",
    "\n",
    "There are tons of other file formats like JSON, txt, and html among others."
   ]
  },
  {
   "cell_type": "markdown",
   "metadata": {},
   "source": [
    "#### 12. Quiz: Gather (Import)\n",
    "\n",
    "Pandas, created by West McKinney, is an open source library providing high performance, easy to use data structures and data analysis tools for the Python programming language. Using Pandas is standard and best practice for data analysis in Python nowadays."
   ]
  },
  {
   "cell_type": "code",
   "execution_count": 2,
   "metadata": {},
   "outputs": [],
   "source": [
    "import pandas as pd\n",
    "df = pd.read_csv('online-job-postings.csv')"
   ]
  },
  {
   "cell_type": "markdown",
   "metadata": {},
   "source": [
    "#### 13. Gather (Summary)\n",
    "\n",
    "**gathering data**:\n",
    "\n",
    "* downloading a file from the internet, which in this case was a zip file from Kaggle,\n",
    "* opening a Jupyter Notebook,\n",
    "* unzipping the zip file using Python,\n",
    "* then importing the extracted CSV file into a pandas DataFrame in the Jupyter Notebook.\n",
    "\n",
    "----------------------"
   ]
  },
  {
   "cell_type": "markdown",
   "metadata": {},
   "source": [
    "**Step 02: Assess**"
   ]
  },
  {
   "cell_type": "markdown",
   "metadata": {},
   "source": [
    "#### 14. Assess (Intro)\n",
    "\n",
    "So what are we assessing? What is dirty data? What is messy data?\n",
    "We're looking for two main things: Our data's quality and it's tidiness. Low quality data is dirty. Untidy data is messy.\n",
    "\n",
    "1. Quality\n",
    "\n",
    "* Low quality data is commonly referred to as dirty data. Dirty data has issues with its content.\n",
    "    * Common data quality issues include:\n",
    "    * missing data, like the missing height value for Juan.\n",
    "    * invalid data, like a cell having an impossible value, e.g., like negative height value for Kwasi. Having \"inches\" and \"centimetres\" in the height entries is technically invalid as well, since the datatype for height becomes a string when those are present. The datatype for height should be integer or float.\n",
    "    * inaccurate data, like Jane actually being 58 inches tall, not 55 inches tall.\n",
    "    * inconsistent data, like using different units for height (inches and centimetres).\n",
    "\n",
    "2. Tidiness\n",
    "\n",
    "* Untidy data is commonly referred to as \"messy\" data. Messy data has issues with its structure. A dataset is messy or tidy depending on how rows, columns, and tables are matched up with observations, variables, and types. In tidy data:\n",
    "    * Each variable forms a column.\n",
    "    * Each observation forms a row.\n",
    "    * Each type of observational unit forms a table."
   ]
  },
  {
   "cell_type": "markdown",
   "metadata": {},
   "source": [
    "#### 15. Quiz: Assess (Visual)\n",
    "\n",
    "* Problems\n",
    "    * Missing values (NaN, Not a Number)\n",
    "    * StartDate inconsistencies\n",
    "    * Nondescriptive column headers (ApplicationP, AboutC, RequiredQual ... and JobRequirment\n",
    "    \n",
    "* The data wrangling template is displayed in the Jupyter Notebook below with empty cells for four common programmatic assessment methods in pandas (documention pages linked below):\n",
    "    * `head`\n",
    "    * `tail`\n",
    "    * `info`\n",
    "    * `value_counts`"
   ]
  },
  {
   "cell_type": "code",
   "execution_count": 5,
   "metadata": {},
   "outputs": [
    {
     "name": "stdout",
     "output_type": "stream",
     "text": [
      "<class 'pandas.core.frame.DataFrame'>\n",
      "RangeIndex: 19001 entries, 0 to 19000\n",
      "Data columns (total 24 columns):\n",
      "jobpost             19001 non-null object\n",
      "date                19001 non-null object\n",
      "Title               18973 non-null object\n",
      "Company             18994 non-null object\n",
      "AnnouncementCode    1208 non-null object\n",
      "Term                7676 non-null object\n",
      "Eligibility         4930 non-null object\n",
      "Audience            640 non-null object\n",
      "StartDate           9675 non-null object\n",
      "Duration            10798 non-null object\n",
      "Location            18969 non-null object\n",
      "JobDescription      15109 non-null object\n",
      "JobRequirment       16479 non-null object\n",
      "RequiredQual        18517 non-null object\n",
      "Salary              9622 non-null object\n",
      "ApplicationP        18941 non-null object\n",
      "OpeningDate         18295 non-null object\n",
      "Deadline            18936 non-null object\n",
      "Notes               2211 non-null object\n",
      "AboutC              12470 non-null object\n",
      "Attach              1559 non-null object\n",
      "Year                19001 non-null int64\n",
      "Month               19001 non-null int64\n",
      "IT                  19001 non-null bool\n",
      "dtypes: bool(1), int64(2), object(21)\n",
      "memory usage: 3.4+ MB\n"
     ]
    }
   ],
   "source": [
    "# Use SHIFT + TAB to explore the Signature and Docstring\n",
    "df.info()"
   ]
  },
  {
   "cell_type": "markdown",
   "metadata": {},
   "source": [
    "#### 16. Quiz: Assess (Programmatic)\n",
    "\n",
    "1. Get your code, using pandas' head function, to work in the Jupyter Notebook workspace above, then provide that one line of code in the space below. Your code should display the first five rows of the DataFrame only.\n",
    "2. Get your code, using pandas' tail function, to work in the Jupyter Notebook workspace above, then provide that one line of code below. Your code should display the last five rows of the DataFrame only.\n",
    "3. Get your code, using pandas' info function, to work in the Jupyter Notebook workspace above, then provide that one line of code below.\n",
    "4. Get your code, using pandas' value_counts function (with no parameters) applied to the ' Year' column, to work in the Jupyter Notebook workspace above, then provide that one line of code below."
   ]
  },
  {
   "cell_type": "code",
   "execution_count": 7,
   "metadata": {},
   "outputs": [
    {
     "data": {
      "text/html": [
       "<div>\n",
       "<style scoped>\n",
       "    .dataframe tbody tr th:only-of-type {\n",
       "        vertical-align: middle;\n",
       "    }\n",
       "\n",
       "    .dataframe tbody tr th {\n",
       "        vertical-align: top;\n",
       "    }\n",
       "\n",
       "    .dataframe thead th {\n",
       "        text-align: right;\n",
       "    }\n",
       "</style>\n",
       "<table border=\"1\" class=\"dataframe\">\n",
       "  <thead>\n",
       "    <tr style=\"text-align: right;\">\n",
       "      <th></th>\n",
       "      <th>jobpost</th>\n",
       "      <th>date</th>\n",
       "      <th>Title</th>\n",
       "      <th>Company</th>\n",
       "      <th>AnnouncementCode</th>\n",
       "      <th>Term</th>\n",
       "      <th>Eligibility</th>\n",
       "      <th>Audience</th>\n",
       "      <th>StartDate</th>\n",
       "      <th>Duration</th>\n",
       "      <th>...</th>\n",
       "      <th>Salary</th>\n",
       "      <th>ApplicationP</th>\n",
       "      <th>OpeningDate</th>\n",
       "      <th>Deadline</th>\n",
       "      <th>Notes</th>\n",
       "      <th>AboutC</th>\n",
       "      <th>Attach</th>\n",
       "      <th>Year</th>\n",
       "      <th>Month</th>\n",
       "      <th>IT</th>\n",
       "    </tr>\n",
       "  </thead>\n",
       "  <tbody>\n",
       "    <tr>\n",
       "      <th>0</th>\n",
       "      <td>AMERIA Investment Consulting Company\\r\\nJOB TI...</td>\n",
       "      <td>Jan 5, 2004</td>\n",
       "      <td>Chief Financial Officer</td>\n",
       "      <td>AMERIA Investment Consulting Company</td>\n",
       "      <td>NaN</td>\n",
       "      <td>NaN</td>\n",
       "      <td>NaN</td>\n",
       "      <td>NaN</td>\n",
       "      <td>NaN</td>\n",
       "      <td>NaN</td>\n",
       "      <td>...</td>\n",
       "      <td>NaN</td>\n",
       "      <td>To apply for this position, please submit a\\r\\...</td>\n",
       "      <td>NaN</td>\n",
       "      <td>26 January 2004</td>\n",
       "      <td>NaN</td>\n",
       "      <td>NaN</td>\n",
       "      <td>NaN</td>\n",
       "      <td>2004</td>\n",
       "      <td>1</td>\n",
       "      <td>False</td>\n",
       "    </tr>\n",
       "    <tr>\n",
       "      <th>1</th>\n",
       "      <td>International Research &amp; Exchanges Board (IREX...</td>\n",
       "      <td>Jan 7, 2004</td>\n",
       "      <td>Full-time Community Connections Intern (paid i...</td>\n",
       "      <td>International Research &amp; Exchanges Board (IREX)</td>\n",
       "      <td>NaN</td>\n",
       "      <td>NaN</td>\n",
       "      <td>NaN</td>\n",
       "      <td>NaN</td>\n",
       "      <td>NaN</td>\n",
       "      <td>3 months</td>\n",
       "      <td>...</td>\n",
       "      <td>NaN</td>\n",
       "      <td>Please submit a cover letter and resume to:\\r\\...</td>\n",
       "      <td>NaN</td>\n",
       "      <td>12 January 2004</td>\n",
       "      <td>NaN</td>\n",
       "      <td>The International Research &amp; Exchanges Board (...</td>\n",
       "      <td>NaN</td>\n",
       "      <td>2004</td>\n",
       "      <td>1</td>\n",
       "      <td>False</td>\n",
       "    </tr>\n",
       "    <tr>\n",
       "      <th>2</th>\n",
       "      <td>Caucasus Environmental NGO Network (CENN)\\r\\nJ...</td>\n",
       "      <td>Jan 7, 2004</td>\n",
       "      <td>Country Coordinator</td>\n",
       "      <td>Caucasus Environmental NGO Network (CENN)</td>\n",
       "      <td>NaN</td>\n",
       "      <td>NaN</td>\n",
       "      <td>NaN</td>\n",
       "      <td>NaN</td>\n",
       "      <td>NaN</td>\n",
       "      <td>Renewable annual contract\\r\\nPOSITION</td>\n",
       "      <td>...</td>\n",
       "      <td>NaN</td>\n",
       "      <td>Please send resume or CV toursula.kazarian@......</td>\n",
       "      <td>NaN</td>\n",
       "      <td>20 January 2004\\r\\nSTART DATE:  February 2004</td>\n",
       "      <td>NaN</td>\n",
       "      <td>The Caucasus Environmental NGO Network is a\\r\\...</td>\n",
       "      <td>NaN</td>\n",
       "      <td>2004</td>\n",
       "      <td>1</td>\n",
       "      <td>False</td>\n",
       "    </tr>\n",
       "    <tr>\n",
       "      <th>3</th>\n",
       "      <td>Manoff Group\\r\\nJOB TITLE:  BCC Specialist\\r\\n...</td>\n",
       "      <td>Jan 7, 2004</td>\n",
       "      <td>BCC Specialist</td>\n",
       "      <td>Manoff Group</td>\n",
       "      <td>NaN</td>\n",
       "      <td>NaN</td>\n",
       "      <td>NaN</td>\n",
       "      <td>NaN</td>\n",
       "      <td>NaN</td>\n",
       "      <td>NaN</td>\n",
       "      <td>...</td>\n",
       "      <td>NaN</td>\n",
       "      <td>Please send cover letter and resume to Amy\\r\\n...</td>\n",
       "      <td>NaN</td>\n",
       "      <td>23 January 2004\\r\\nSTART DATE:  Immediate</td>\n",
       "      <td>NaN</td>\n",
       "      <td>NaN</td>\n",
       "      <td>NaN</td>\n",
       "      <td>2004</td>\n",
       "      <td>1</td>\n",
       "      <td>False</td>\n",
       "    </tr>\n",
       "    <tr>\n",
       "      <th>4</th>\n",
       "      <td>Yerevan Brandy Company\\r\\nJOB TITLE:  Software...</td>\n",
       "      <td>Jan 10, 2004</td>\n",
       "      <td>Software Developer</td>\n",
       "      <td>Yerevan Brandy Company</td>\n",
       "      <td>NaN</td>\n",
       "      <td>NaN</td>\n",
       "      <td>NaN</td>\n",
       "      <td>NaN</td>\n",
       "      <td>NaN</td>\n",
       "      <td>NaN</td>\n",
       "      <td>...</td>\n",
       "      <td>NaN</td>\n",
       "      <td>Successful candidates should submit\\r\\n- CV; \\...</td>\n",
       "      <td>NaN</td>\n",
       "      <td>20 January 2004, 18:00</td>\n",
       "      <td>NaN</td>\n",
       "      <td>NaN</td>\n",
       "      <td>NaN</td>\n",
       "      <td>2004</td>\n",
       "      <td>1</td>\n",
       "      <td>True</td>\n",
       "    </tr>\n",
       "  </tbody>\n",
       "</table>\n",
       "<p>5 rows × 24 columns</p>\n",
       "</div>"
      ],
      "text/plain": [
       "                                             jobpost          date  \\\n",
       "0  AMERIA Investment Consulting Company\\r\\nJOB TI...   Jan 5, 2004   \n",
       "1  International Research & Exchanges Board (IREX...   Jan 7, 2004   \n",
       "2  Caucasus Environmental NGO Network (CENN)\\r\\nJ...   Jan 7, 2004   \n",
       "3  Manoff Group\\r\\nJOB TITLE:  BCC Specialist\\r\\n...   Jan 7, 2004   \n",
       "4  Yerevan Brandy Company\\r\\nJOB TITLE:  Software...  Jan 10, 2004   \n",
       "\n",
       "                                               Title  \\\n",
       "0                            Chief Financial Officer   \n",
       "1  Full-time Community Connections Intern (paid i...   \n",
       "2                                Country Coordinator   \n",
       "3                                     BCC Specialist   \n",
       "4                                 Software Developer   \n",
       "\n",
       "                                           Company AnnouncementCode Term  \\\n",
       "0             AMERIA Investment Consulting Company              NaN  NaN   \n",
       "1  International Research & Exchanges Board (IREX)              NaN  NaN   \n",
       "2        Caucasus Environmental NGO Network (CENN)              NaN  NaN   \n",
       "3                                     Manoff Group              NaN  NaN   \n",
       "4                           Yerevan Brandy Company              NaN  NaN   \n",
       "\n",
       "  Eligibility Audience StartDate                               Duration  ...  \\\n",
       "0         NaN      NaN       NaN                                    NaN  ...   \n",
       "1         NaN      NaN       NaN                               3 months  ...   \n",
       "2         NaN      NaN       NaN  Renewable annual contract\\r\\nPOSITION  ...   \n",
       "3         NaN      NaN       NaN                                    NaN  ...   \n",
       "4         NaN      NaN       NaN                                    NaN  ...   \n",
       "\n",
       "  Salary                                       ApplicationP OpeningDate  \\\n",
       "0    NaN  To apply for this position, please submit a\\r\\...         NaN   \n",
       "1    NaN  Please submit a cover letter and resume to:\\r\\...         NaN   \n",
       "2    NaN  Please send resume or CV toursula.kazarian@......         NaN   \n",
       "3    NaN  Please send cover letter and resume to Amy\\r\\n...         NaN   \n",
       "4    NaN  Successful candidates should submit\\r\\n- CV; \\...         NaN   \n",
       "\n",
       "                                        Deadline Notes  \\\n",
       "0                                26 January 2004   NaN   \n",
       "1                                12 January 2004   NaN   \n",
       "2  20 January 2004\\r\\nSTART DATE:  February 2004   NaN   \n",
       "3      23 January 2004\\r\\nSTART DATE:  Immediate   NaN   \n",
       "4                         20 January 2004, 18:00   NaN   \n",
       "\n",
       "                                              AboutC Attach  Year Month     IT  \n",
       "0                                                NaN    NaN  2004     1  False  \n",
       "1  The International Research & Exchanges Board (...    NaN  2004     1  False  \n",
       "2  The Caucasus Environmental NGO Network is a\\r\\...    NaN  2004     1  False  \n",
       "3                                                NaN    NaN  2004     1  False  \n",
       "4                                                NaN    NaN  2004     1   True  \n",
       "\n",
       "[5 rows x 24 columns]"
      ]
     },
     "execution_count": 7,
     "metadata": {},
     "output_type": "execute_result"
    }
   ],
   "source": [
    "df.head(5)"
   ]
  },
  {
   "cell_type": "code",
   "execution_count": 8,
   "metadata": {},
   "outputs": [
    {
     "data": {
      "text/html": [
       "<div>\n",
       "<style scoped>\n",
       "    .dataframe tbody tr th:only-of-type {\n",
       "        vertical-align: middle;\n",
       "    }\n",
       "\n",
       "    .dataframe tbody tr th {\n",
       "        vertical-align: top;\n",
       "    }\n",
       "\n",
       "    .dataframe thead th {\n",
       "        text-align: right;\n",
       "    }\n",
       "</style>\n",
       "<table border=\"1\" class=\"dataframe\">\n",
       "  <thead>\n",
       "    <tr style=\"text-align: right;\">\n",
       "      <th></th>\n",
       "      <th>jobpost</th>\n",
       "      <th>date</th>\n",
       "      <th>Title</th>\n",
       "      <th>Company</th>\n",
       "      <th>AnnouncementCode</th>\n",
       "      <th>Term</th>\n",
       "      <th>Eligibility</th>\n",
       "      <th>Audience</th>\n",
       "      <th>StartDate</th>\n",
       "      <th>Duration</th>\n",
       "      <th>...</th>\n",
       "      <th>Salary</th>\n",
       "      <th>ApplicationP</th>\n",
       "      <th>OpeningDate</th>\n",
       "      <th>Deadline</th>\n",
       "      <th>Notes</th>\n",
       "      <th>AboutC</th>\n",
       "      <th>Attach</th>\n",
       "      <th>Year</th>\n",
       "      <th>Month</th>\n",
       "      <th>IT</th>\n",
       "    </tr>\n",
       "  </thead>\n",
       "  <tbody>\n",
       "    <tr>\n",
       "      <th>18996</th>\n",
       "      <td>Technolinguistics NGO\\r\\n\\r\\n\\r\\nTITLE:  Senio...</td>\n",
       "      <td>Dec 28, 2015</td>\n",
       "      <td>Senior Creative UX/ UI Designer</td>\n",
       "      <td>Technolinguistics NGO</td>\n",
       "      <td>NaN</td>\n",
       "      <td>Full-time</td>\n",
       "      <td>NaN</td>\n",
       "      <td>NaN</td>\n",
       "      <td>NaN</td>\n",
       "      <td>Long-term</td>\n",
       "      <td>...</td>\n",
       "      <td>Competitive</td>\n",
       "      <td>To apply for this position, please send your\\r...</td>\n",
       "      <td>29 December 2015</td>\n",
       "      <td>28 January 2016</td>\n",
       "      <td>NaN</td>\n",
       "      <td>As a company Technolinguistics has a mandate t...</td>\n",
       "      <td>NaN</td>\n",
       "      <td>2015</td>\n",
       "      <td>12</td>\n",
       "      <td>False</td>\n",
       "    </tr>\n",
       "    <tr>\n",
       "      <th>18997</th>\n",
       "      <td>\"Coca-Cola Hellenic Bottling Company Armenia\" ...</td>\n",
       "      <td>Dec 30, 2015</td>\n",
       "      <td>Category Development Manager</td>\n",
       "      <td>\"Coca-Cola Hellenic Bottling Company Armenia\" ...</td>\n",
       "      <td>NaN</td>\n",
       "      <td>Full-time</td>\n",
       "      <td>All interested professionals.</td>\n",
       "      <td>NaN</td>\n",
       "      <td>ASAP</td>\n",
       "      <td>Long-term with a probation period of 3 months.</td>\n",
       "      <td>...</td>\n",
       "      <td>NaN</td>\n",
       "      <td>All interested candidates are kindly requested...</td>\n",
       "      <td>30 December 2015</td>\n",
       "      <td>20 January 2016</td>\n",
       "      <td>NaN</td>\n",
       "      <td>NaN</td>\n",
       "      <td>NaN</td>\n",
       "      <td>2015</td>\n",
       "      <td>12</td>\n",
       "      <td>False</td>\n",
       "    </tr>\n",
       "    <tr>\n",
       "      <th>18998</th>\n",
       "      <td>\"Coca-Cola Hellenic Bottling Company Armenia\" ...</td>\n",
       "      <td>Dec 30, 2015</td>\n",
       "      <td>Operational Marketing Manager</td>\n",
       "      <td>\"Coca-Cola Hellenic Bottling Company Armenia\" ...</td>\n",
       "      <td>NaN</td>\n",
       "      <td>Full-time</td>\n",
       "      <td>All interested professionals.</td>\n",
       "      <td>NaN</td>\n",
       "      <td>ASAP</td>\n",
       "      <td>Long-term with a probation period of 3 months.</td>\n",
       "      <td>...</td>\n",
       "      <td>NaN</td>\n",
       "      <td>All interested candidates are kindly requested...</td>\n",
       "      <td>30 December 2015</td>\n",
       "      <td>20 January 2016</td>\n",
       "      <td>NaN</td>\n",
       "      <td>NaN</td>\n",
       "      <td>NaN</td>\n",
       "      <td>2015</td>\n",
       "      <td>12</td>\n",
       "      <td>False</td>\n",
       "    </tr>\n",
       "    <tr>\n",
       "      <th>18999</th>\n",
       "      <td>San Lazzaro   LLC\\r\\n\\r\\n\\r\\nTITLE:  Head of O...</td>\n",
       "      <td>Dec 30, 2015</td>\n",
       "      <td>Head of Online Sales Department</td>\n",
       "      <td>San Lazzaro   LLC</td>\n",
       "      <td>NaN</td>\n",
       "      <td>NaN</td>\n",
       "      <td>NaN</td>\n",
       "      <td>NaN</td>\n",
       "      <td>NaN</td>\n",
       "      <td>Long-term</td>\n",
       "      <td>...</td>\n",
       "      <td>Highly competitive</td>\n",
       "      <td>Interested candidates can send their CVs to:\\r...</td>\n",
       "      <td>30 December 2015</td>\n",
       "      <td>29 January 2016</td>\n",
       "      <td>NaN</td>\n",
       "      <td>San Lazzaro LLC works with several internation...</td>\n",
       "      <td>NaN</td>\n",
       "      <td>2015</td>\n",
       "      <td>12</td>\n",
       "      <td>False</td>\n",
       "    </tr>\n",
       "    <tr>\n",
       "      <th>19000</th>\n",
       "      <td>\"Kamurj\" UCO CJSC\\r\\n\\r\\n\\r\\nTITLE:  Lawyer in...</td>\n",
       "      <td>Dec 30, 2015</td>\n",
       "      <td>Lawyer in Legal Department</td>\n",
       "      <td>\"Kamurj\" UCO CJSC</td>\n",
       "      <td>NaN</td>\n",
       "      <td>Full-time</td>\n",
       "      <td>NaN</td>\n",
       "      <td>NaN</td>\n",
       "      <td>NaN</td>\n",
       "      <td>Indefinite</td>\n",
       "      <td>...</td>\n",
       "      <td>NaN</td>\n",
       "      <td>All qualified applicants are encouraged to\\r\\n...</td>\n",
       "      <td>30 December 2015</td>\n",
       "      <td>20 January 2016</td>\n",
       "      <td>NaN</td>\n",
       "      <td>\"Kamurj\" UCO CJSC is providing micro and small...</td>\n",
       "      <td>NaN</td>\n",
       "      <td>2015</td>\n",
       "      <td>12</td>\n",
       "      <td>False</td>\n",
       "    </tr>\n",
       "  </tbody>\n",
       "</table>\n",
       "<p>5 rows × 24 columns</p>\n",
       "</div>"
      ],
      "text/plain": [
       "                                                 jobpost          date  \\\n",
       "18996  Technolinguistics NGO\\r\\n\\r\\n\\r\\nTITLE:  Senio...  Dec 28, 2015   \n",
       "18997  \"Coca-Cola Hellenic Bottling Company Armenia\" ...  Dec 30, 2015   \n",
       "18998  \"Coca-Cola Hellenic Bottling Company Armenia\" ...  Dec 30, 2015   \n",
       "18999  San Lazzaro   LLC\\r\\n\\r\\n\\r\\nTITLE:  Head of O...  Dec 30, 2015   \n",
       "19000  \"Kamurj\" UCO CJSC\\r\\n\\r\\n\\r\\nTITLE:  Lawyer in...  Dec 30, 2015   \n",
       "\n",
       "                                 Title  \\\n",
       "18996  Senior Creative UX/ UI Designer   \n",
       "18997     Category Development Manager   \n",
       "18998    Operational Marketing Manager   \n",
       "18999  Head of Online Sales Department   \n",
       "19000       Lawyer in Legal Department   \n",
       "\n",
       "                                                 Company AnnouncementCode  \\\n",
       "18996                              Technolinguistics NGO              NaN   \n",
       "18997  \"Coca-Cola Hellenic Bottling Company Armenia\" ...              NaN   \n",
       "18998  \"Coca-Cola Hellenic Bottling Company Armenia\" ...              NaN   \n",
       "18999                                  San Lazzaro   LLC              NaN   \n",
       "19000                                  \"Kamurj\" UCO CJSC              NaN   \n",
       "\n",
       "            Term                    Eligibility Audience StartDate  \\\n",
       "18996  Full-time                            NaN      NaN       NaN   \n",
       "18997  Full-time  All interested professionals.      NaN      ASAP   \n",
       "18998  Full-time  All interested professionals.      NaN      ASAP   \n",
       "18999        NaN                            NaN      NaN       NaN   \n",
       "19000  Full-time                            NaN      NaN       NaN   \n",
       "\n",
       "                                             Duration  ...  \\\n",
       "18996                                       Long-term  ...   \n",
       "18997  Long-term with a probation period of 3 months.  ...   \n",
       "18998  Long-term with a probation period of 3 months.  ...   \n",
       "18999                                       Long-term  ...   \n",
       "19000                                      Indefinite  ...   \n",
       "\n",
       "                   Salary                                       ApplicationP  \\\n",
       "18996         Competitive  To apply for this position, please send your\\r...   \n",
       "18997                 NaN  All interested candidates are kindly requested...   \n",
       "18998                 NaN  All interested candidates are kindly requested...   \n",
       "18999  Highly competitive  Interested candidates can send their CVs to:\\r...   \n",
       "19000                 NaN  All qualified applicants are encouraged to\\r\\n...   \n",
       "\n",
       "            OpeningDate         Deadline Notes  \\\n",
       "18996  29 December 2015  28 January 2016   NaN   \n",
       "18997  30 December 2015  20 January 2016   NaN   \n",
       "18998  30 December 2015  20 January 2016   NaN   \n",
       "18999  30 December 2015  29 January 2016   NaN   \n",
       "19000  30 December 2015  20 January 2016   NaN   \n",
       "\n",
       "                                                  AboutC Attach  Year Month  \\\n",
       "18996  As a company Technolinguistics has a mandate t...    NaN  2015    12   \n",
       "18997                                                NaN    NaN  2015    12   \n",
       "18998                                                NaN    NaN  2015    12   \n",
       "18999  San Lazzaro LLC works with several internation...    NaN  2015    12   \n",
       "19000  \"Kamurj\" UCO CJSC is providing micro and small...    NaN  2015    12   \n",
       "\n",
       "          IT  \n",
       "18996  False  \n",
       "18997  False  \n",
       "18998  False  \n",
       "18999  False  \n",
       "19000  False  \n",
       "\n",
       "[5 rows x 24 columns]"
      ]
     },
     "execution_count": 8,
     "metadata": {},
     "output_type": "execute_result"
    }
   ],
   "source": [
    "df.tail(5)"
   ]
  },
  {
   "cell_type": "code",
   "execution_count": 9,
   "metadata": {},
   "outputs": [
    {
     "name": "stdout",
     "output_type": "stream",
     "text": [
      "<class 'pandas.core.frame.DataFrame'>\n",
      "RangeIndex: 19001 entries, 0 to 19000\n",
      "Data columns (total 24 columns):\n",
      "jobpost             19001 non-null object\n",
      "date                19001 non-null object\n",
      "Title               18973 non-null object\n",
      "Company             18994 non-null object\n",
      "AnnouncementCode    1208 non-null object\n",
      "Term                7676 non-null object\n",
      "Eligibility         4930 non-null object\n",
      "Audience            640 non-null object\n",
      "StartDate           9675 non-null object\n",
      "Duration            10798 non-null object\n",
      "Location            18969 non-null object\n",
      "JobDescription      15109 non-null object\n",
      "JobRequirment       16479 non-null object\n",
      "RequiredQual        18517 non-null object\n",
      "Salary              9622 non-null object\n",
      "ApplicationP        18941 non-null object\n",
      "OpeningDate         18295 non-null object\n",
      "Deadline            18936 non-null object\n",
      "Notes               2211 non-null object\n",
      "AboutC              12470 non-null object\n",
      "Attach              1559 non-null object\n",
      "Year                19001 non-null int64\n",
      "Month               19001 non-null int64\n",
      "IT                  19001 non-null bool\n",
      "dtypes: bool(1), int64(2), object(21)\n",
      "memory usage: 3.4+ MB\n"
     ]
    }
   ],
   "source": [
    "df.info()"
   ]
  },
  {
   "cell_type": "code",
   "execution_count": 10,
   "metadata": {},
   "outputs": [
    {
     "data": {
      "text/plain": [
       "2012    2149\n",
       "2015    2009\n",
       "2013    2009\n",
       "2014    1983\n",
       "2008    1785\n",
       "2011    1697\n",
       "2007    1538\n",
       "2010    1511\n",
       "2009    1191\n",
       "2005    1138\n",
       "2006    1116\n",
       "2004     875\n",
       "Name: Year, dtype: int64"
      ]
     },
     "execution_count": 10,
     "metadata": {},
     "output_type": "execute_result"
    }
   ],
   "source": [
    "df['Year'].value_counts()"
   ]
  },
  {
   "cell_type": "markdown",
   "metadata": {},
   "source": [
    "#### 17. Quiz: Assess (Tidiness)\n",
    "\n",
    "* Inspect the dataset in the Jupyter Notebook below for tidiness and answer the next quiz: is this dataset tidy?\n",
    "    * we have duplicate representation of data, such as (date) vs. (month, day, year)\n",
    "    * two types of observational units in this dataset, such as job posting data and then company data.\n",
    "\n",
    "* Take my word that forth this walkthrough and the analyses and visualizations that you are going to create are data in a non tidy format works.\n",
    "\n",
    "So I thought I’d talk about a couple of reasons why data are usefully non-tidy. The basic reason is that I usually take a problem first, not solution backward approach to my scientific research. In other words, the goal is to solve a particular problem and the format I chose is the one that makes it most direct/easy to solve that problem, rather than one that is theoretically optimal.   "
   ]
  },
  {
   "cell_type": "markdown",
   "metadata": {},
   "source": [
    "#### 18. Assess (Summary)\n",
    "\n",
    "You assessed data, both visually and programmatically, and identified data quality and tidiness issues. The issues you identified were:\n",
    "\n",
    "* Nondescriptive column headers\n",
    "* Missing values (i.e. NaNs)\n",
    "* Inconsistent representations of values, specifically \"As soon as possible\" and other similar values to \"ASAP\" in the StartDate column for this dataset\n",
    "* A messy (i.e. untidy) dataset\n",
    "\n",
    "----------------------"
   ]
  },
  {
   "cell_type": "markdown",
   "metadata": {},
   "source": [
    "**Step 03: Clean**"
   ]
  },
  {
   "cell_type": "markdown",
   "metadata": {},
   "source": [
    "#### 19. Clean (Intro)\n",
    "\n",
    "Cleaning means acting on the assessments we made to improve quality and tidiness.\n",
    "\n",
    "Improving quality doesn't mean changing the data to make it say something different. That would be data fraud. Instead, we're talking about things like correcting it when it's inaccurate or removing data when it's wrong or irrelevant. Yeah, or replacing, like filling in missing values; or merging, like combining gather datasets that were split up.\n",
    "\n",
    "Examples of improving quality include:\n",
    "\n",
    "* Correcting when inaccurate, like correcting the mouse's body weight to 0.023 kg instead of 230 kg\n",
    "* Removing when irrelevant, like removing the row with \"Apple\" since an apple is a fruit and not an animal\n",
    "* Replacing when missing, like filling in the missing value for brain weight for Brachiosaurus\n",
    "* Combining, like concatenating the missing rows in the more_animals DataFrame displayed below\n",
    "\n",
    "The programmatic data cleaning process:\n",
    "\n",
    "1. Define\n",
    "\n",
    "Defining means defining a data cleaning plan in writing, where we turn our assessments into defined cleaning tasks. This plan will also serve as an instruction list so others (or us in the future) can look at our work and reproduce it.\n",
    "\n",
    "2. Code\n",
    "\n",
    "Coding means translating these definitions to code and executing that code.\n",
    "\n",
    "3. Test\n",
    "\n",
    "Testing means testing our dataset, often using code, to make sure our cleaning operations worked."
   ]
  },
  {
   "cell_type": "markdown",
   "metadata": {},
   "source": [
    "#### 20. Clean (Define)\n",
    "\n",
    "**Define**\n",
    "\n",
    "* Select all records in the StartDate column that have \"As soon as possible\", \"Immediately\", etc. and replace the text in those cells with \"ASAP\"\n",
    "* Select all nondescriptive and misspelled column headers (ApplicationP, AboutC, RequireQual ... and JobRequirement) and replace them with full words (ApplicationProcedure, AboutCompany, RequiredQualifications, JobRequirements)\n",
    "\n",
    "Note:\n",
    "\n",
    "> Dot notation means accessing columns in your data frame like so. If the actual start date column header had a space, we wouldn't be able to do this. And we would only be able to access it using bracket notation."
   ]
  },
  {
   "cell_type": "markdown",
   "metadata": {},
   "source": [
    "#### 21. Quiz: Clean (Code 1)\n",
    "\n",
    "**Code**"
   ]
  },
  {
   "cell_type": "code",
   "execution_count": 3,
   "metadata": {
    "scrolled": true
   },
   "outputs": [],
   "source": [
    "df_clean = df.copy()"
   ]
  },
  {
   "cell_type": "code",
   "execution_count": 4,
   "metadata": {},
   "outputs": [
    {
     "data": {
      "text/plain": [
       "Index(['jobpost', 'date', 'Title', 'Company', 'AnnouncementCode', 'Term',\n",
       "       'Eligibility', 'Audience', 'StartDate', 'Duration', 'Location',\n",
       "       'JobDescription', 'JobRequirment', 'RequiredQual', 'Salary',\n",
       "       'ApplicationP', 'OpeningDate', 'Deadline', 'Notes', 'AboutC', 'Attach',\n",
       "       'Year', 'Month', 'IT'],\n",
       "      dtype='object')"
      ]
     },
     "execution_count": 4,
     "metadata": {},
     "output_type": "execute_result"
    }
   ],
   "source": [
    "df_clean.columns"
   ]
  },
  {
   "cell_type": "code",
   "execution_count": 5,
   "metadata": {},
   "outputs": [],
   "source": [
    "# Fix nondescriptive column headers\n",
    "df_clean = df_clean.rename(columns={\"RequiredQual\": \"RequiredQualifications\", \n",
    "                                    \"ApplicationP\": \"ApplicationProcedure\",\n",
    "                                    \"AboutC\": \"AboutCompany\", \n",
    "                                    \"JobRequirement\": \"JobRequirements\"})"
   ]
  },
  {
   "cell_type": "markdown",
   "metadata": {},
   "source": [
    "#### 22. Quiz: Clean (Code 2)"
   ]
  },
  {
   "cell_type": "code",
   "execution_count": 7,
   "metadata": {},
   "outputs": [
    {
     "data": {
      "text/plain": [
       "ASAP                                                                                                                        4754\n",
       "Immediately                                                                                                                  773\n",
       "As soon as possible                                                                                                          543\n",
       "Upon hiring                                                                                                                  261\n",
       "Immediate                                                                                                                    259\n",
       "Immediate employment                                                                                                         140\n",
       "As soon as possible.                                                                                                          32\n",
       "01 September 2012                                                                                                             31\n",
       "March 2006                                                                                                                    27\n",
       "November 2006                                                                                                                 22\n",
       "January 2010                                                                                                                  19\n",
       "01 February 2005                                                                                                              17\n",
       "February 2014                                                                                                                 17\n",
       "Immediate job opportunity                                                                                                     17\n",
       "February 2011                                                                                                                 16\n",
       "September 2010                                                                                                                16\n",
       "TBD                                                                                                                           16\n",
       "March 2011                                                                                                                    15\n",
       "September 2008                                                                                                                15\n",
       "February 2007                                                                                                                 14\n",
       "01 February 2015                                                                                                              14\n",
       "01 July 2014                                                                                                                  14\n",
       "01 September 2008                                                                                                             13\n",
       "01 March 2006                                                                                                                 13\n",
       "January 2016                                                                                                                  13\n",
       "01 September 2010                                                                                                             13\n",
       "01 October 2008                                                                                                               12\n",
       "June 2008                                                                                                                     12\n",
       "Fall 2010                                                                                                                     12\n",
       "September 2013                                                                                                                12\n",
       "                                                                                                                            ... \n",
       "13 March 2008                                                                                                                  1\n",
       "First contract will be concluded for up to 3 months,\\r\\nand then the successful candidate will be hired for longer term.       1\n",
       "This position starts in May 2004                                                                                               1\n",
       "Latest  March 2009                                                                                                             1\n",
       "Begining of November 2005                                                                                                      1\n",
       "25 October 2004                                                                                                                1\n",
       "18 April 2007                                                                                                                  1\n",
       "17 August 2004                                                                                                                 1\n",
       "01 October , 2006-June 2007                                                                                                    1\n",
       "August, 2013                                                                                                                   1\n",
       "March 25, 2005                                                                                                                 1\n",
       "03-07 July 2006                                                                                                                1\n",
       "April 29-30, 2008 at 16:30                                                                                                     1\n",
       "01 March  2009                                                                                                                 1\n",
       "20 July 04                                                                                                                     1\n",
       "04 April 2011                                                                                                                  1\n",
       "10 January 2007                                                                                                                1\n",
       "Immidietly                                                                                                                     1\n",
       "September 2014 or ASAP                                                                                                         1\n",
       "10 October 2013 (negotiable)                                                                                                   1\n",
       "14 September 2009                                                                                                              1\n",
       "14 July 2014                                                                                                                   1\n",
       "July-August 2005                                                                                                               1\n",
       "17 September 2005                                                                                                              1\n",
       "15 November 2011                                                                                                               1\n",
       "February  2007                                                                                                                 1\n",
       "06 March 2006                                                                                                                  1\n",
       "13 December 2008                                                                                                               1\n",
       "December  2008                                                                                                                 1\n",
       "01 October 2005 or earlier                                                                                                     1\n",
       "Name: StartDate, Length: 1186, dtype: int64"
      ]
     },
     "execution_count": 7,
     "metadata": {},
     "output_type": "execute_result"
    }
   ],
   "source": [
    "df_clean.StartDate.value_counts()"
   ]
  },
  {
   "cell_type": "code",
   "execution_count": 13,
   "metadata": {},
   "outputs": [],
   "source": [
    "# Fix inconsistent representations of values\n",
    "asap_lists = ['Immediately', 'As soon as possible', 'Upon hiring',\n",
    "              'Immediate', 'Immediate employment', 'As soon as possible.', \n",
    "              'Immediate job opportunity', '\"Immediate employment, after passing the interview.\"',\n",
    "              'ASAP preferred', 'Employment contract signature date',\n",
    "              'Immediate employment opportunity', 'Immidiately', 'ASA', 'Asap', \n",
    "              '\"The position is open immediately but has a flexible start date depending on the candidates earliest availability.\"',\n",
    "              'Immediately upon agreement', '20 November 2014 or ASAP', 'immediately', 'Immediatelly',\n",
    "              '\"Immediately upon selection or no later than November 15, 2009.\"',\n",
    "              'Immediate job opening', 'Immediate hiring', 'Upon selection',\n",
    "              'As soon as practical', 'Immadiate', 'As soon as posible',\n",
    "              'Immediately with 2 months probation period',\n",
    "              '12 November 2012 or ASAP', 'Immediate employment after passing the interview',\n",
    "              'Immediately/ upon agreement', '01 September 2014 or ASAP',\n",
    "              'Immediately or as per agreement', 'as soon as possible',\n",
    "              'As soon as Possible', 'in the nearest future', 'immediate',\n",
    "              '01 April 2014 or ASAP', 'Immidiatly', 'Urgent',\n",
    "              'Immediate or earliest possible', 'Immediate hire',\n",
    "              'Earliest  possible', 'ASAP with 3 months probation period.',\n",
    "              'Immediate employment opportunity.', 'Immediate employment.',\n",
    "              'Immidietly', 'Imminent', 'September 2014 or ASAP', 'Imediately']\n",
    "\n",
    "for asap in asap_lists:\n",
    "    df_clean.replace(asap, \"ASAP\", inplace=True)"
   ]
  },
  {
   "cell_type": "markdown",
   "metadata": {},
   "source": [
    "#### 23. Quiz: Clean (Test)\n",
    "\n",
    "**Test**"
   ]
  },
  {
   "cell_type": "code",
   "execution_count": 15,
   "metadata": {},
   "outputs": [
    {
     "data": {
      "text/plain": [
       "Index(['jobpost', 'date', 'Title', 'Company', 'AnnouncementCode', 'Term',\n",
       "       'Eligibility', 'Audience', 'StartDate', 'Duration', 'Location',\n",
       "       'JobDescription', 'JobRequirment', 'RequiredQualifications', 'Salary',\n",
       "       'ApplicationProcedure', 'OpeningDate', 'Deadline', 'Notes',\n",
       "       'AboutCompany', 'Attach', 'Year', 'Month', 'IT'],\n",
       "      dtype='object')"
      ]
     },
     "execution_count": 15,
     "metadata": {},
     "output_type": "execute_result"
    }
   ],
   "source": [
    "# Validate nondescriptive column headers\n",
    "df_clean.columns"
   ]
  },
  {
   "cell_type": "code",
   "execution_count": 23,
   "metadata": {},
   "outputs": [],
   "source": [
    "# Validate inconsistent representations of values\n",
    "df_clean[\"StartDate\"].value_counts()\n",
    "for asap in asap_lists:\n",
    "    assert asap not in df_clean[\"StartDate\"].values"
   ]
  },
  {
   "cell_type": "markdown",
   "metadata": {},
   "source": [
    "#### 24. Clean (Summary)\n",
    "\n",
    "You converted your observations from the assess step into defined problems, translated these definitions to sophisticated code to fix these problems, then tested your dataset using code—even using something software engineers use, assert statements—to make sure the operations worked."
   ]
  },
  {
   "cell_type": "markdown",
   "metadata": {},
   "source": [
    "#### 25. Reassess and Iterate\n",
    "\n",
    "After reassessing your data and revisiting any steps of the data wrangling process deemed necessary, storing your cleaned data can be the next logical step. Storing data is important if you need to use your cleaned data in the future."
   ]
  },
  {
   "cell_type": "markdown",
   "metadata": {},
   "source": [
    "#### 26. Wrangling vs. EDA vs. ETL\n",
    "\n",
    "In practice, wrangling and EDA can and often do occur together, but we're going to separate them for teaching purposes.\n",
    "\n",
    "**Data Wrangling** is about gathering the right pieces of data, assessing your data's quality and structure, then modifying your data to make it clean. But the assessments you make and convert to cleaning operations won't make your analysis, viz, or model better, though. The goal is to just make them possible, i.e., functional.\n",
    "\n",
    "**Exploratory Data Analysis (EDA)** is about exploring your data to later augment it to maximize the potential of our analyses, visualizations, and models. When exploring, simple visualizations are often used to summarize your data's main characteristics. From there you can do things like remove outliers and create new and more descriptive features from existing data, also known as feature engineering. Or detect and remove outliers so your model's fit is better.\n",
    "\n",
    "**Extract-transform-load process (ETL)** differs from data wrangling in three main ways:\n",
    "\n",
    "1. The users are different\n",
    "2. The data is different\n",
    "3. The use cases are different"
   ]
  },
  {
   "cell_type": "markdown",
   "metadata": {},
   "source": [
    "#### 27. Analysis and Visualization\n"
   ]
  },
  {
   "cell_type": "markdown",
   "metadata": {},
   "source": [
    "**After**"
   ]
  },
  {
   "cell_type": "code",
   "execution_count": 28,
   "metadata": {
    "scrolled": true
   },
   "outputs": [
    {
     "data": {
      "text/plain": [
       "0.7085271317829457"
      ]
     },
     "execution_count": 28,
     "metadata": {},
     "output_type": "execute_result"
    }
   ],
   "source": [
    "# Percentage of position with an urgent start date i.e. \"ASAP\"\n",
    "asap_counts = df_clean.StartDate.value_counts()['ASAP']\n",
    "non_empty_counts = df_clean.StartDate.count()\n",
    "asap_counts / non_empty_counts"
   ]
  },
  {
   "cell_type": "code",
   "execution_count": 29,
   "metadata": {},
   "outputs": [
    {
     "data": {
      "image/png": "[encoded data removed]",
      "text/plain": [
       "<Figure size 432x288 with 1 Axes>"
      ]
     },
     "metadata": {},
     "output_type": "display_data"
    }
   ],
   "source": [
    "# Plot percentage of position with an urgent start date i.e. \"ASAP\"\n",
    "%matplotlib inline\n",
    "import numpy as np\n",
    "labels = np.full(len(df_clean.StartDate.value_counts()), \"\", dtype=object)\n",
    "labels[0] = \"ASAP\"\n",
    "df_clean.StartDate.value_counts().plot(kind='pie', labels=labels);"
   ]
  },
  {
   "cell_type": "markdown",
   "metadata": {},
   "source": [
    "**Before**"
   ]
  },
  {
   "cell_type": "code",
   "execution_count": 30,
   "metadata": {},
   "outputs": [
    {
     "data": {
      "text/plain": [
       "0.4913695090439276"
      ]
     },
     "execution_count": 30,
     "metadata": {},
     "output_type": "execute_result"
    }
   ],
   "source": [
    "# Percentage of position with an urgent start date i.e. \"ASAP\"\n",
    "asap_counts = df.StartDate.value_counts()['ASAP']\n",
    "non_empty_counts = df.StartDate.count()\n",
    "asap_counts / non_empty_counts"
   ]
  },
  {
   "cell_type": "code",
   "execution_count": 31,
   "metadata": {},
   "outputs": [
    {
     "data": {
      "image/png": "[encoded data removed]",
      "text/plain": [
       "<Figure size 432x288 with 1 Axes>"
      ]
     },
     "metadata": {},
     "output_type": "display_data"
    }
   ],
   "source": [
    "# Plot percentage of position with an urgent start date i.e. \"ASAP\"\n",
    "%matplotlib inline\n",
    "import numpy as np\n",
    "labels = np.full(len(df.StartDate.value_counts()), \"\", dtype=object)\n",
    "labels[0] = \"ASAP\"\n",
    "df.StartDate.value_counts().plot(kind='pie', labels=labels);"
   ]
  },
  {
   "cell_type": "markdown",
   "metadata": {},
   "source": [
    "#### 28. Data Wrangling Summary\n",
    "\n",
    "Always make copies of the original pieces of data before cleaning!\n",
    "\n",
    "**Gather**\n",
    "\n",
    "* Depending on the source of your data, and what format it's in, the steps in gathering data vary.\n",
    "* High-level gathering process: obtaining data (downloading a file from the internet, scraping a web page, querying an API, etc.) and importing that data into your programming environment (e.g., Jupyter Notebook).\n",
    "\n",
    "**Assess**\n",
    "\n",
    "* Assess data for:\n",
    "    * Quality: issues with content. Low quality data is also known as dirty data.\n",
    "    * Tidiness: issues with structure that prevent easy analysis. Untidy data is also known as messy data. Tidy data requirements:\n",
    "        1. Each variable forms a column.\n",
    "        2. Each observation forms a row.\n",
    "        3. Each type of observational unit forms a table.\n",
    "* Types of assessment:\n",
    "    * Visual assessment: scrolling through the data in your preferred software application (Google Sheets, Excel, a text editor, etc.).\n",
    "    * Programmatic assessment: using code to view specific portions and summaries of the data (pandas' head, tail, and info methods, for example).\n",
    "    \n",
    "**Clean**\n",
    "\n",
    "* Types of cleaning:\n",
    "    * Manual (not recommended unless the issues are single occurrences)\n",
    "    * Programmatic\n",
    "* The programmatic data cleaning process:\n",
    "    * Define: convert our assessments into defined cleaning tasks. These definitions also serve as an instruction list so others (or yourself in the future) can look at your work and reproduce it.\n",
    "    * Code: convert those definitions to code and run that code.\n",
    "    * Test: test your dataset, visually or with code, to make sure your cleaning operations worked.\n",
    "    \n",
    "**Reassess and Iterate**\n",
    "\n",
    "After cleaning, always reassess and iterate on any of the data wrangling steps if necessary.\n",
    "\n",
    "**Store (Optional)**\n",
    "\n",
    "Store data, in a file or database for example, if you need to use it in the future."
   ]
  },
  {
   "cell_type": "markdown",
   "metadata": {},
   "source": [
    "#### 29. Conclusion\n",
    "\n",
    "You've reached the end of the first lesson of our Data Wrangling course. You experience the Data Wrangling process first hand and exercise your coding skills to gather assess and clean a real data set from Kaggle. You've also caught a glimpse into the remainder of the course but you'll mastered gathering, assessing, and cleaning data in the three lessons ahead."
   ]
  }
 ],
 "metadata": {
  "kernelspec": {
   "display_name": "Python 3",
   "language": "python",
   "name": "python3"
  },
  "language_info": {
   "codemirror_mode": {
    "name": "ipython",
    "version": 3
   },
   "file_extension": ".py",
   "mimetype": "text/x-python",
   "name": "python",
   "nbconvert_exporter": "python",
   "pygments_lexer": "ipython3",
   "version": "3.7.3"
  }
 },
 "nbformat": 4,
 "nbformat_minor": 2
}
