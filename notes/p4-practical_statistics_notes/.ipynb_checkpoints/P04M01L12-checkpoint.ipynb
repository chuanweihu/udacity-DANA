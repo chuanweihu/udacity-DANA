{
 "cells": [
  {
   "cell_type": "markdown",
   "metadata": {},
   "source": [
    "## Module 01: Practical Stats\n",
    "\n",
    "### Lesson 12: Hypothesis Testing\n",
    "\n",
    "> Learn the necessary skills to create and analyze the results in hypothesis testing."
   ]
  },
  {
   "cell_type": "markdown",
   "metadata": {},
   "source": [
    "### 01. Introduction\n",
    "\n",
    "**Hypothesis Testing Introduction**\n",
    "\n",
    "Hypothesis testing is one of my favorite topics, because it really does bring an art to the way that we think about statistics.\n",
    "\n",
    "This can bring a lot of complexity. And you may need to watch videos in the section multiple times, or practice the quizzes multiple times. But this is a really rewarding subject to master.\n",
    "\n",
    "\n",
    "#### 02. Hypothesis Testing\n",
    "\n",
    "As data analysts, we try to help them answer these questions. But first, we need to translate the questions into what are known as **Hypothesis(假设)**. Then, we need to be able to collect data to justify which hypothesis are likely to be true.\n",
    "\n",
    "Well, it turns out, you can use hypothesis testing, or confidence intervals which you just saw in the last lesson, to **draw conclusions about a population, only using sample data**.\n",
    "\n",
    "The hypothesis could go **lots of different ways**. As an example, Is the drug helpful if it makes patients feel better? Is it helpful if they live longer? Is it helpful if it reduces the tumor sizes?\n",
    "\n",
    "\n",
    "#### 03. Setting Up Hypothesis Tests - Part I\n",
    "\n",
    "In this video, you learned a few rules for setting up **Null(零假设)** and **Alternative Hypotheses(备择假设,对立假设)**:\n",
    "\n",
    "1. The $\\small H_0$ is true before you collect any data.\n",
    "2. The $\\small H_0$ usually states there is no effect or that two groups are equal.\n",
    "3. The $\\small H_0$ and $\\small H_1$ are competing, non-overlapping hypotheses.\n",
    "4. $\\small H_1$ is what we would like to prove to be true.\n",
    "5. $\\small H_0$ contains an equal sign of some kind - either $\\small =, \\le or \\ge$\n",
    "6. $\\small H_1$ contains the opposition of the null - either $\\small \\ne, \\lt or \\gt$ \n",
    "\n",
    "You saw that the statement, \"Innocent until proven guilty\" is one that suggests the following hypotheses are true:\n",
    "\n",
    "$\\small H_0$: Innocent\n",
    "$\\small H_1$: Guilty\n",
    "\n",
    "We can relate this to the idea that \"innocent\" is true before we collect any data. Then the alternative must be a competing, non-overlapping hypothesis. Hence, the alternative hypothesis is that an individual is guilty.\n",
    "\n",
    "\n",
    "#### 04. Setting Up Hypothesis Tests - Part II\n",
    "\n",
    "Because we wanted to test if a new page was better than an existing page, we set that up in the alternative. Two indicators are that the null should hold the equality, and the statement we would like to be true should be in the alternative. Therefore, it would look like this:\n",
    "\n",
    "$\\small H_0: \\mu_1 \\le \\mu_2$\n",
    "$\\small H_1: \\mu_1 \\gt \\mu_2$\n",
    "\n",
    "Here $\\small \\mu_1$ represents the population mean return from the new page. Similarly, $\\small \\mu_2$ represents the population mean return from the old page.\n",
    "\n",
    "Depending on your question of interest, you would change your null and alternative hypotheses to match.\n",
    "\n",
    "\n",
    "#### 05. Quiz: Setting Up Hypothesis Tests\n",
    "\n",
    "\n",
    "| **Statement** | **Hypothesis** |\n",
    "| --- | --- |\n",
    "|The average height of all people in the world is different than 68 inches tall.|Alternative|\n",
    "|The average height of all people in the world is less than 68 inches tall.|Alternative|\n",
    "|The average height of all people in the world is less than or equal to 68 inches|Null|\n",
    "|The impact of Drug A is on average the same as Drug B.|Null|\n",
    "|Drug A will on average have a larger impact than Drug B.|Alternative|\n",
    "\n",
    "\n",
    "#### 06. Types of Errors - Part I\n",
    "\n",
    "why does all this null and alternative stuff really matter?\n",
    "\n",
    "In either of these other two, the jury has made a mistake as the truth doesn't match the jury decision. This provides us with two potential errors that are possible in hypothesis testing.\n",
    "\n",
    "\n",
    "#### 07. Quiz: Types of Errors - Part I\n",
    "\n",
    "**QUIZ**\n",
    "\n",
    "There are two types of errors that are possible in hypothesis testing: **Type I Errors(第一型错误)** and **Type II Errors(第二型错误)**. Type I Errors are considered the worst type of error. Just based on this information, can you guess which truth/decision combo is each type of error?\n",
    "\n",
    "| **Truth/Decision** | **Error Type** |\n",
    "| --- | --- |\n",
    "|Truth: Guilty, Decision: Guilty|No Error|\n",
    "|Truth: Innocent, Decision: Guilty|Type I Error|\n",
    "|Truth: Guilty, Decision: Innocent|Type II Error|\n",
    "|Truth: Innocent, Decision: Innocent|No Error|\n",
    "\n",
    "\n",
    "#### 08. Types of Errors - Part II\n",
    "\n",
    "**Type I Errors**\n",
    "\n",
    "**Type I errors** have the following features:\n",
    "\n",
    "1. You should set up your null and alternative hypotheses, so that the worse of your errors is the type I error.\n",
    "2. They are denoted by the symbol $\\small \\alpha$.\n",
    "3. The definition of a type I error is: Deciding the alternative ($\\small H_1$) is true, when actually ($\\small H_0$) is true.\n",
    "4. Type I errors are often called **False Positives(假正)**.\n",
    "\n",
    "**Type II Errors**\n",
    "\n",
    "1. They are denoted by the symbol $\\small \\beta$.\n",
    "2. The definition of a type II error is: Deciding the null ($\\small H_0$) is true, when actually ($\\small H_1$) is true.\n",
    "3. Type II errors are often called **False Negatives(假负)**.\n",
    "\n",
    "In the most extreme case, we can always choose **one hypothesis** (say always choosing the **null**) to ensure that a **particular error** never occurs (never a **type I error** assuming we always choose the null). However, more generally, there is a **relationship** where with a single set of data **decreasing** your chance of one type of error, **increases** the chance of the other error occurring.\n",
    "\n",
    "Because of this relationship between type one and type two errors, professionals frequently just set a **Threshold(阈值)** for how many type one errors they're willing to commit. And then, they try to keep the type two errors as low as possible while still meeting this threshold.\n",
    "\n",
    "Common type one error rates are **one percent** from medical field, while they're **five percent** for research journals and other business applications. But really, this rate should be contingent on your application.\n",
    "\n",
    "\n",
    "#### 09. Quiz: Types of Errors - Part II\n",
    "\n",
    "**Types of Errors - Part II**\n",
    "\n",
    "In the following set of quizzes, you will be doing a recap and combination of the ideas that have been covered so far. Putting all of these pieces together is important for fully understanding hypothesis testing.\n",
    "\n",
    "Consider we are interested in testing if the **average revenue** for a new marketing campaign is **better than** the previous marketing campaign.\n",
    "\n",
    "We set up the null and alternative hypotheses in the following way:\n",
    "\n",
    "$\\small H_0: \\mu_n - \\mu_0 \\le 0$\n",
    "and\n",
    "$\\small H_1: \\mu_n - \\mu_0 \\gt 0$\n",
    "\n",
    "where $\\small \\mu_0$ is the **mean revenue of the old campaign**, and $\\small \\mu_n$ is the **mean revenue of the new campaign**.\n",
    "\n",
    "**QUIZ1**\n",
    "\n",
    "Use the setup of the above null and alternative hypotheses to match the error statements to the correct errors.\n",
    "\n",
    "| Statement  | Error Type |\n",
    "| --- | --- |\n",
    "|Deciding the new page is better.|Not enough information to provide an error.|\n",
    "|Deciding the old page is better.|Not enough information to provide an error.|\n",
    "|Deciding the new page is better, but really the old page is better.|Type I Error|\n",
    "|Deciding the old page is better, but really the new page is better.|Type II Error|\n",
    "\n",
    "**QUIZ2**\n",
    "\n",
    "Let's try another situation. Consider you are testing a new cancer drug to see if it reduces tumor sizes in patients. Let $\\small \\mu_n$ be the **average reduction in tumor size under the new drug**. Let $\\small \\mu_0$ be the **average reduction in tumor size under the old drug**.\n",
    "\n",
    "We set up the null and alternative hypotheses in the following way:\n",
    "\n",
    "$\\small H_0: \\mu_n - \\mu_0 \\le 0$\n",
    "and\n",
    "$\\small H_1: \\mu_n - \\mu_0 \\gt 0$\n",
    "\n",
    "1. What does the null hypothesis suggest?\n",
    "    * [ ] The new treatment will reduce tumors as well or better than old treatments (on average).\n",
    "    * [x] The old treatment will reduce tumors as well or better than new treatments (on average).\n",
    "    * [ ] The old treatment and new treatments will reduce tumors in the exact same ways (on average).\n",
    "\n",
    "2. Which of the following statements is another way to state the null hypothesis in this situation?\n",
    "    * [x] The null is that the old drug works as well or better than the new drug.\n",
    "    * [ ] The null is that the new drug works as well or better than the new drug.\n",
    "    * [ ] The null is that the two drugs work equally as well.\n",
    "    * [ ] The null is that the old drug works better than the new drug.\n",
    "\n",
    "3. Use the setup of the above null and alternative hypotheses to match the error statements to the correct errors.\n",
    "\n",
    "| Statement | Error |\n",
    "| --- | --- |\n",
    "|The new drug is better at reducing tumor sizes.|Not enough information to provide an error.|\n",
    "|The old drug is better at reducing tumor sizes.|Not enough information to provide an error.|\n",
    "|Based on the study results we decide the new drug is better, but really the old drug is better at reducing tumor sizes.|Type I Error|\n",
    "|Based on the study results we decide the old drug is better, but really the new drug is better at reducing tumor sizes.|Type II Error|\n",
    "\n",
    "\n",
    "#### 10. Types of Errors - Part III\n",
    "\n",
    "**Parachute Example**\n",
    "\n",
    "This example let you see one of the most extreme cases of errors that might be committed in hypothesis testing. In a type I error an individual died. In a type II error, you lost 30 dollars.\n",
    "\n",
    "In the hypothesis tests you build in the upcoming lessons, you will be able to choose a type I error threshold, and your hypothesis tests will be created to minimize the type II errors after ensuring the type I error rate is met.\n",
    "\n",
    "\n",
    "#### 11. Quiz: Types of Errors - Part III\n",
    "\n",
    "**Quiz**\n",
    "\n",
    "In the previous video, you saw another example of error types in hypothesis testing. Use the ideas of the previous video to answer the following quiz questions. The quizzes will attempt to connect the specifics of the previous example to the general rules of setting up hypotheses.\n",
    "\n",
    "1. Use what you know about hypothesis testing to select each of the below statements that are true.\n",
    "    * [x] The null hypothesis is what we believe before we collect any data.\n",
    "    * [x] The null hypothesis in the previous example was that the parachute doesn't open, as it is safer to assume none of the parachutes open until enough data suggests that they do open.\n",
    "    * [ ] The null hypothesis in the previous example was that the parachute does open, as it is safer to assume all of the parachutes open until enough data suggests that they don't open.\n",
    "    * [x] The alternative hypothesis is generally what we want to prove to be true: that a drug is effective, that a new page performs better, or that the parachute is safe.\n",
    "    * [x] The alternative is that the parachute opens, which makes sense as it is what we would like to prove.\n",
    "    * [ ] The alternative is that the parachute doesn't open, which makes sense as it is what we would like to prove.\n",
    "\n",
    "2. Match each value to the correct description.\n",
    "\n",
    "| **Description** | **Value** |\n",
    "| --- | --- |\n",
    "|The threshold for type I errors.|alpha|\n",
    "|Deciding the alternative is correct when really the null is true.|Type I Error|\n",
    "|Deciding the null is correct when really the alternative is correct.|Type II Error|\n",
    "|Choosing the parachute doesn't open, when actually it does.|Type II Error|\n",
    "|Choosing the parachute opens, when actually it doesn't.|Type I Error|"
   ]
  },
  {
   "cell_type": "markdown",
   "metadata": {},
   "source": [
    "#### 12. Common Types of Hypothesis Tests\n",
    "\n",
    "You are always **performing hypothesis tests on population parameters**, never on statistics. Statistics are values that you already have from the data, so it does not make sense to perform hypothesis tests on these values.\n",
    "\n",
    "If we really wanted to test if a new campaign was better than an old campaign, we might use a **One Sided Hypothesis Test(单侧假设检验)** like this one, where the **greater than** here, suggests that the proportion of individuals that travel to our site will be higher for the new campaign.\n",
    "\n",
    "* Common hypothesis tests include:\n",
    "    1. Testing a **population mean** ([One sample t-test](http://sites.utexas.edu/sos/guided/inferential/numeric/claim/one-sample-t/)).\n",
    "    2. Testing the **difference in means** ([Two sample t-test](https://www.isixsigma.com/tools-templates/hypothesis-testing/making-sense-two-sample-t-test/))\n",
    "    3. Testing the difference before and after some treatment on the same individual ([Paired t-test](http://www.statstutor.ac.uk/resources/uploaded/paired-t-test.pdf))\n",
    "    4. Testing a population proportion ([One sample z-test](http://stattrek.com/statistics/dictionary.aspx?definition=one-sample%20z-test))\n",
    "    5. Testing the difference between population proportions ([Two sample z-test](https://onlinecourses.science.psu.edu/stat414/node/268))\n",
    "\n",
    "You can use one of these sites to provide a t-table or z-table to support one of the above approaches:  [t-table](https://s3.amazonaws.com/udacity-hosted-downloads/t-table.jpg), [t-table or z-table](http://www.z-table.com/t-value-table.html)\n",
    "\n",
    "**There are literally 100s of different hypothesis tests**! However, instead of memorizing how to perform all of these tests, you can find the statistic(s) that best estimates the parameter(s) you want to estimate, you can bootstrap to simulate the sampling distribution. Then you can use your sampling distribution to assist in choosing the appropriate hypothesis.\n",
    "\n",
    "\n",
    "#### 13. How Do We Choose Between Hypotheses?\n",
    "\n",
    "Once we set up our **null and alternative hypotheses**, we need to use data to figure out which hypothesis we actually think is more likely to be true. And there are **two ways** we might approach choosing one of these hypotheses.\n",
    "\n",
    "* One is the approach that we saw using confidence intervals, where we **simulate the sampling distribution of our statistic**, and then we could see if our hypothesis is consistent with what we observe in the sampling distribution.\n",
    "* The second way we could approach choosing a hypothesis is **simulating what we believe to be possible under the null** and then seeing if our data is actually consistent with that. This is what professionals tend to do in a hypothesis testing.\n",
    "\n",
    "\n",
    "#### 14. Video: Simulating from the Null\n",
    "\n",
    "A second approach that is commonly done for making decisions in hypothesis testing is the following, **we assume that the null is true and we know what the sampling distribution would look like if we were to simulate from the closest value under the null to the alternative**. That is, this value of 70. That's the **closest value under this hypothesis** to our alternative hypothesis.\n",
    "\n",
    "We could use the **standard deviation of the sampling distribution** to determine what the sampling distribution would look like if it came from the **null hypothesis**. We'll simulate from a **normal distribution** in this case.\n",
    "\n",
    "I'm going to pull over the code that we used before to get the standard deviation of our sampling distribution. So the **standard deviation of our sampling distribution** is equal to 0.2658. And we know that if it came from this null hypothesized value of 70 what it would look like. By the **central limit theorem**, we know that it would follow a normal distribution."
   ]
  },
  {
   "cell_type": "markdown",
   "metadata": {},
   "source": [
    "$$\\small H_0: \\mu \\le 70$$\n",
    "$$\\small H_1: \\mu \\gt 70$$"
   ]
  },
  {
   "cell_type": "code",
   "execution_count": 1,
   "metadata": {
    "scrolled": true
   },
   "outputs": [
    {
     "data": {
      "text/plain": [
       "0.26580395144180324"
      ]
     },
     "execution_count": 1,
     "metadata": {},
     "output_type": "execute_result"
    }
   ],
   "source": [
    "import pandas as pd\n",
    "import numpy as np\n",
    "\n",
    "import matplotlib.pyplot as plt\n",
    "%matplotlib inline\n",
    "\n",
    "np.random.seed(42)\n",
    "\n",
    "df = pd.read_csv('coffee_dataset.csv')\n",
    "\n",
    "sample_df = df.sample(150)\n",
    "\n",
    "means = []\n",
    "for _ in range(10000):\n",
    "    boot_sample = sample_df.sample(150, replace=True)\n",
    "    means.append(boot_sample.height.mean())\n",
    "\n",
    "np.std(means)"
   ]
  },
  {
   "cell_type": "code",
   "execution_count": 2,
   "metadata": {},
   "outputs": [
    {
     "data": {
      "image/png": "[encoded data removed]",
      "text/plain": [
       "<Figure size 432x288 with 1 Axes>"
      ]
     },
     "metadata": {
      "needs_background": "light"
     },
     "output_type": "display_data"
    }
   ],
   "source": [
    "null_vals = np.random.normal(70, np.std(means), 10000)\n",
    "\n",
    "plt.hist(null_vals);\n",
    "plt.axvline(x=70, color='red');"
   ]
  },
  {
   "cell_type": "code",
   "execution_count": 3,
   "metadata": {
    "scrolled": true
   },
   "outputs": [
    {
     "data": {
      "text/plain": [
       "67.63297688228059"
      ]
     },
     "execution_count": 3,
     "metadata": {},
     "output_type": "execute_result"
    }
   ],
   "source": [
    "sample_df.height.mean()"
   ]
  },
  {
   "cell_type": "markdown",
   "metadata": {},
   "source": [
    "It is suggested that **we do not believe that our null hypothesis value of 70 would be supported, which is true**. However, since our null is that the **population mean** is less than or equal to 70, we do have evidence to support this claim with our sample mean of approximately 67. This would suggest not rejecting our one-sided null alternative.\n",
    "\n",
    "If we had a null where we asked if the population mean was equal to 70, then we would be able to reject this null in favor of an alternative that suggested **the population mean** was actually different from 70.\n",
    "\n",
    "#### 15. Notebook + Quiz: Simulating from the Null\n",
    "\n",
    "**Simulating From the Null Hypothesis**\n",
    "\n",
    "In the previous lesson on confidence intervals, we saw how we could simulate a sampling distribution for a statistic by **bootstrapping our sample data**. Alternatively, in hypothesis testing, we could **simulate a sampling distribution from the null hypothesis using characteristics that would be true** if our data were to have come from the null."
   ]
  },
  {
   "cell_type": "markdown",
   "metadata": {},
   "source": [
    " `1.` If you were interested in if the average height for coffee drinkers is the same as for non-coffee drinkers, what would the null and alternative be?   Place them in the cell below, and use your answer to answer the first quiz question below.\n",
    "\n",
    "$$H_{0}: \\mu_{c} = \\mu_{nc}$$<br/>\n",
    "$$H_{1}: \\mu_{c} \\neq \\mu_{nc}$$\n",
    "\n",
    "**Since there is no directional component associated with this statement, a not equal to seems most reasonable.**\n",
    "\n",
    "$$H_0: \\mu_{coff} - \\mu_{no} = 0$$\n",
    "\n",
    "\n",
    "$$H_0: \\mu_{coff} - \\mu_{no} \\neq 0$$\n",
    "\n",
    "\n",
    "**$\\mu_{coff}$ and $\\mu_{no}$ are the population mean values for coffee drinkers and non-coffee drinkers, respectivley.**\n",
    "\n",
    "`2.` If you were interested in if the average height for coffee drinkers is less than non-coffee drinkers, what would the null and alternative be? Place them in the cell below, and use your answer to answer the second quiz question below.\n",
    "\n",
    "$$H_{0}: \\mu_{c} \\geq \\mu_{nc}$$<br/>\n",
    "$$H_{1}: \\mu_{c} < \\mu_{nc}$$\n",
    "\n",
    "**In this case, there is a question associated with a direction - that is the average height for coffee drinkers is less than non-coffee drinkers.  Below is one of the ways you could write the null and alternative.  Since the mean for coffee drinkers is listed first here, the alternative would suggest that this is negative.**\n",
    "\n",
    "$$H_0: \\mu_{coff} - \\mu_{no} \\geq 0$$\n",
    "\n",
    "$$H_0: \\mu_{coff} - \\mu_{no} < 0$$\n",
    "\n",
    "**$\\mu_{coff}$ and $\\mu_{no}$ are the population mean values for coffee drinkers and non-coffee drinkers, respectivley.**\n",
    "\n",
    "`3.` For 10,000 iterations: bootstrap the sample data, calculate the mean height for coffee drinkers and non-coffee drinkers, and calculate the difference in means for each sample.  You will want to have three arrays at the end of the iterations - one for each mean and one for the difference in means. Use the results of your sampling distribution, to answer the third quiz question below."
   ]
  },
  {
   "cell_type": "code",
   "execution_count": 4,
   "metadata": {},
   "outputs": [],
   "source": [
    "full_data = pd.read_csv('coffee_dataset.csv')\n",
    "sample_data = full_data.sample(200)"
   ]
  },
  {
   "cell_type": "code",
   "execution_count": 5,
   "metadata": {},
   "outputs": [
    {
     "data": {
      "text/plain": [
       "(0.23993886273983905, 0.4313580869309563, 0.4933379220431081)"
      ]
     },
     "execution_count": 5,
     "metadata": {},
     "output_type": "execute_result"
    }
   ],
   "source": [
    "diffs, coffs, nocoffs = [], [], []\n",
    "\n",
    "for _ in range(10000):\n",
    "    boots_sample = sample_data.sample(200, replace=True)\n",
    "    mean_coff = boots_sample.query('drinks_coffee == True').height.mean()\n",
    "    mean_nocoff = boots_sample.query('drinks_coffee == False').height.mean()\n",
    "    coffs.append(mean_coff)\n",
    "    nocoffs.append(mean_nocoff)\n",
    "    diffs.append(mean_coff - mean_nocoff)\n",
    "\n",
    "np.std(coffs), np.std(nocoffs), np.std(diffs)"
   ]
  },
  {
   "cell_type": "code",
   "execution_count": 6,
   "metadata": {},
   "outputs": [
    {
     "data": {
      "image/png": "[encoded data removed]",
      "text/plain": [
       "<Figure size 432x288 with 1 Axes>"
      ]
     },
     "metadata": {
      "needs_background": "light"
     },
     "output_type": "display_data"
    }
   ],
   "source": [
    "plt.hist(coffs, alpha=0.5)\n",
    "plt.hist(nocoffs, alpha=0.5);"
   ]
  },
  {
   "cell_type": "code",
   "execution_count": 7,
   "metadata": {
    "scrolled": true
   },
   "outputs": [
    {
     "data": {
      "image/png": "[encoded data removed]",
      "text/plain": [
       "<Figure size 432x288 with 1 Axes>"
      ]
     },
     "metadata": {
      "needs_background": "light"
     },
     "output_type": "display_data"
    }
   ],
   "source": [
    "plt.hist(diffs, alpha=0.5);"
   ]
  },
  {
   "cell_type": "markdown",
   "metadata": {},
   "source": [
    "`4.` Now, use your observed sampling distribution for the difference in means and [the docs](numpy.random.normal) to simulate what you would expect the sampling distribution to be if the null hypothesis is true. You can do this be recentering your distribution at zero. Also, calculate the observed sample mean difference in `sample_data`. Use your solutions to answer the last questions in the quiz below."
   ]
  },
  {
   "cell_type": "code",
   "execution_count": 8,
   "metadata": {},
   "outputs": [
    {
     "data": {
      "image/png": "[encoded data removed]",
      "text/plain": [
       "<Figure size 432x288 with 1 Axes>"
      ]
     },
     "metadata": {
      "needs_background": "light"
     },
     "output_type": "display_data"
    }
   ],
   "source": [
    "null_vals = np.random.normal(0, np.std(diffs), 10000)\n",
    "plt.hist(null_vals)\n",
    "plt.axvline(x=0, color='red');"
   ]
  },
  {
   "cell_type": "markdown",
   "metadata": {},
   "source": [
    "**Quiz**\n",
    "\n",
    "1. Quiz 1: Use the first question above to match the null and alternative to the appropriate statements.\n",
    "    * **Null**: The average height for all coffee drinkers is the same as the average height for all non-coffee drinkers.\n",
    "    * **Alternative**: The average height for all coffee drinkers is not the same as the average height for all non-coffee drinkers.\n",
    "\n",
    "2. Quiz 2: Use the second question above to match the null and alternative to the appropriate statements.\n",
    "    * **Null**: The average height for all coffee drinkers is the same or greater than the average height for all non-coffee drinkers.\n",
    "    * **Alternative**: The average height for all coffee drinkers is less than the average height for all non-coffee drinkers.\n",
    "\n",
    "3. Quiz 3: Use the results of your sampling distributions for question 3 above to match the following values to the correct description.\n",
    "\n",
    "| **Description** | **Value** |\n",
    "| --- | --- |\n",
    "|The standard deviation of the sampling distribution for the mean of those that do **not drink coffee**.|0.41|\n",
    "|The standard deviation of the sampling distribution for the mean of those that **drink coffee**.|0.24|\n",
    "|The standard deviation of the sampling distribution for the **difference** in means of those that drink coffee and those that do not.|0.47|\n",
    "|What is the shape of each sampling distribution?|Normal|\n",
    "|What is the reason for the shape of each of these distributions?|The Central Limit Theorem|\n",
    "\n",
    "\n",
    "4. Use your solutions about the sampling distribution, and what difference in means would be likely from the null hypothesis to mark all of the below that are true.\n",
    "    * [x] We can expect the standard deviation of the sampling distribution for differences from the null to be essentially the same as what we observed from the data.\n",
    "    * [x] If the null hypothesis is true, we would expect the difference in means of coffee drinkers and non-drinkers to be zero.\n",
    "    * [ ] The observed sample mean difference between coffee drinkers and non-coffee drinkers in **sample_data** appears as though it came from the sampling distribution you simulated for the null hypothesis."
   ]
  }
 ],
 "metadata": {
  "kernelspec": {
   "display_name": "Python 3",
   "language": "python",
   "name": "python3"
  },
  "language_info": {
   "codemirror_mode": {
    "name": "ipython",
    "version": 3
   },
   "file_extension": ".py",
   "mimetype": "text/x-python",
   "name": "python",
   "nbconvert_exporter": "python",
   "pygments_lexer": "ipython3",
   "version": "3.6.10"
  }
 },
 "nbformat": 4,
 "nbformat_minor": 4
}
