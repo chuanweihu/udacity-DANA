{
 "cells": [
  {
   "cell_type": "markdown",
   "metadata": {},
   "source": [
    "## Module 01: Practical Stats\n",
    "\n",
    "###  Lesson 08: Python Probability Practice\n",
    "\n",
    "> Take what you have learned in the last lessons and put it to practice in Python."
   ]
  },
  {
   "cell_type": "markdown",
   "metadata": {},
   "source": [
    "#### 01. Introduction\n",
    "\n",
    "Now that you've seen some examples and the math involved with them, you're going to apply this knowledge to problems using Python.\n",
    "\n",
    "This lesson includes screencast and Jupyter notebooks to help you practice using Python to explore the topics of probability you just learned. "
   ]
  },
  {
   "cell_type": "markdown",
   "metadata": {},
   "source": [
    "#### 02. Simulating Coin Flips\n",
    "\n",
    "**Simulating Coin Flips**"
   ]
  },
  {
   "cell_type": "code",
   "execution_count": 1,
   "metadata": {},
   "outputs": [
    {
     "data": {
      "text/plain": [
       "0.5071"
      ]
     },
     "execution_count": 1,
     "metadata": {},
     "output_type": "execute_result"
    }
   ],
   "source": [
    "import numpy as np\n",
    "\n",
    "# Flip 10000 with fair coin, and P(0)=0.5 and P(1)=0.5\n",
    "np.random.randint(2, size=10000).mean()"
   ]
  },
  {
   "cell_type": "code",
   "execution_count": 2,
   "metadata": {},
   "outputs": [
    {
     "data": {
      "text/plain": [
       "0.1925"
      ]
     },
     "execution_count": 2,
     "metadata": {},
     "output_type": "execute_result"
    }
   ],
   "source": [
    "# Flip 10000 with oaded Coin and P(0)=0.8 and P(1)=0.2\n",
    "np.random.choice([0,1], size=10000, p=[0.8, 0.2]).mean()"
   ]
  },
  {
   "cell_type": "markdown",
   "metadata": {},
   "source": [
    "#### 03. Probability Quiz\n",
    "\n",
    "**Probability Quiz**\n",
    "\n",
    "In this quiz, you will **simulate coin flips** and **die rolls** to compute proportions for the following outcomes.\n",
    "\n",
    "1. Two fair coin flips produce exactly two heads\n",
    "2. Three fair coin flips produce exactly one head\n",
    "3. Three biased coin flips with P(H) = 0.6 produce exactly one head\n",
    "4. A die rolls an even number\n",
    "5. Two dice roll a double\n",
    "\n",
    "Then, you'll compare these proportions with probabilities in the quizzes below.\n",
    "\n",
    "When simulating coin flips, use 0 to represent heads and 1 to represent tails. When simulating die rolls, use the correct integers to match the numbers on the sides of a standard 6 sided die.\n",
    "\n",
    "Also, notice that you can look at the solutions if you get stuck by clicking the orange button in the top left.\n",
    "\n",
    "**Solution**"
   ]
  },
  {
   "cell_type": "code",
   "execution_count": 3,
   "metadata": {},
   "outputs": [
    {
     "name": "stdout",
     "output_type": "stream",
     "text": [
      "Proportion: 24.96%\n"
     ]
    }
   ],
   "source": [
    "# Two fair coin flips produce exactly two heads\n",
    "coins = np.random.randint(2, size=(int(1e5), 2))\n",
    "prop = (coins.sum(axis=1) == 0).mean()\n",
    "print(\"Proportion: {}%\".format(round(prop*100, 2)))"
   ]
  },
  {
   "cell_type": "code",
   "execution_count": 4,
   "metadata": {},
   "outputs": [
    {
     "name": "stdout",
     "output_type": "stream",
     "text": [
      "Proportion: 37.72%\n"
     ]
    }
   ],
   "source": [
    "# Three fair coin flips produce exactly one head\n",
    "coins = np.random.randint(2, size=(int(1e5), 3))\n",
    "prop = (coins.sum(axis=1) == 2).mean()\n",
    "print(\"Proportion: {}%\".format(round(prop*100, 2)))"
   ]
  },
  {
   "cell_type": "code",
   "execution_count": 5,
   "metadata": {},
   "outputs": [
    {
     "name": "stdout",
     "output_type": "stream",
     "text": [
      "Proportion: 28.53%\n"
     ]
    }
   ],
   "source": [
    "# Three biased coin flips with P(H) = 0.6 produce exactly one head\n",
    "coins = np.random.choice(2, size=(int(1e5), 3), p=[0.6, 0.4])\n",
    "prop = (coins.sum(axis=1) == 2).mean()\n",
    "print(\"Proportion: {}%\".format(round(prop*100, 2)))"
   ]
  },
  {
   "cell_type": "code",
   "execution_count": 6,
   "metadata": {},
   "outputs": [
    {
     "name": "stdout",
     "output_type": "stream",
     "text": [
      "Proportion: 50.0%\n"
     ]
    }
   ],
   "source": [
    "# A die rolls an even number\n",
    "dice = np.random.randint(1, 7, size=int(1e5))\n",
    "prop = (dice%2 == 0).mean()\n",
    "print(\"Proportion: {}%\".format(round(prop*100, 2)))"
   ]
  },
  {
   "cell_type": "code",
   "execution_count": 7,
   "metadata": {},
   "outputs": [
    {
     "name": "stdout",
     "output_type": "stream",
     "text": [
      "Proportion: 16.71%\n"
     ]
    }
   ],
   "source": [
    "# Two dice roll a double\n",
    "dice = np.random.randint(1, 7, size=(int(1e5), 2))\n",
    "dice[:,0] = -dice[:, 0]\n",
    "prop = (dice.sum(axis=1) == 0).mean()\n",
    "print(\"Proportion: {}%\".format(round(prop*100, 2)))"
   ]
  },
  {
   "cell_type": "markdown",
   "metadata": {},
   "source": [
    "#### 04. Simulating Many Coin Flips\n",
    "\n",
    "**Simulating Many Coin Flips**"
   ]
  },
  {
   "cell_type": "code",
   "execution_count": 8,
   "metadata": {},
   "outputs": [
    {
     "data": {
      "text/plain": [
       "4.9896"
      ]
     },
     "execution_count": 8,
     "metadata": {},
     "output_type": "execute_result"
    }
   ],
   "source": [
    "import matplotlib.pyplot as plt\n",
    "%matplotlib inline\n",
    "\n",
    "# Samples are drawn from a binomial distribution with specified\n",
    "# parameters, n trials and p probability of success where\n",
    "# n an integer >= 0 and p is in the interval [0,1].\n",
    "np.random.binomial(n=10, p=0.5, size=10000).mean()"
   ]
  },
  {
   "cell_type": "code",
   "execution_count": 9,
   "metadata": {},
   "outputs": [
    {
     "data": {
      "image/png": "[encoded data removed]",
      "text/plain": [
       "<Figure size 432x288 with 1 Axes>"
      ]
     },
     "metadata": {
      "needs_background": "light"
     },
     "output_type": "display_data"
    }
   ],
   "source": [
    "# Plot a histogram of the outcomes in this simulation\n",
    "plt.hist(np.random.binomial(n=10, p=0.5, size=10000));"
   ]
  },
  {
   "cell_type": "markdown",
   "metadata": {},
   "source": [
    "#### 05. Binomial Distributions Quiz\n",
    "\n",
    "**Binomial Distributions Quiz**\n",
    "\n",
    "In this quiz, you will simulate coin flips using **np.random.binomial** compute proportions for the following outcomes.\n",
    "\n",
    "1. A fair coin flip produces heads\n",
    "2. Five fair coin flips produce exactly one head\n",
    "3. Ten fair coin flips produce exactly four heads\n",
    "4. Five biased coin flips with P(H) = 0.8 produce exactly five heads\n",
    "5. Ten biased coin flips with P(H) = 0.15 produce exactly three heads\n",
    "\n",
    "Then, you'll compare these proportions with probabilities in the quizzes below.\n",
    "\n",
    "Used the proportions you observed in your simulation data in order to guess the probabilities of the following outcomes.\n",
    "\n",
    "**Solution**"
   ]
  },
  {
   "cell_type": "code",
   "execution_count": 10,
   "metadata": {},
   "outputs": [
    {
     "data": {
      "text/plain": [
       "0.4992"
      ]
     },
     "execution_count": 10,
     "metadata": {},
     "output_type": "execute_result"
    }
   ],
   "source": [
    "# A fair coin flip produces heads\n",
    "(np.random.binomial(1, p=0.5, size=int(1e5)) == 1).mean()"
   ]
  },
  {
   "cell_type": "code",
   "execution_count": 11,
   "metadata": {},
   "outputs": [
    {
     "data": {
      "text/plain": [
       "0.1569"
      ]
     },
     "execution_count": 11,
     "metadata": {},
     "output_type": "execute_result"
    }
   ],
   "source": [
    "# Five fair coin flips produce exactly one head\n",
    "(np.random.binomial(5, p=0.5, size=int(1e5)) == 1).mean()"
   ]
  },
  {
   "cell_type": "code",
   "execution_count": 12,
   "metadata": {},
   "outputs": [
    {
     "data": {
      "text/plain": [
       "0.20398"
      ]
     },
     "execution_count": 12,
     "metadata": {},
     "output_type": "execute_result"
    }
   ],
   "source": [
    "# Ten fair coin flips produce exactly four heads\n",
    "(np.random.binomial(10, p=0.5, size=int(1e5)) == 4).mean()"
   ]
  },
  {
   "cell_type": "code",
   "execution_count": 13,
   "metadata": {},
   "outputs": [
    {
     "data": {
      "text/plain": [
       "0.32775"
      ]
     },
     "execution_count": 13,
     "metadata": {},
     "output_type": "execute_result"
    }
   ],
   "source": [
    "# Five biased coin flips with P(H) = 0.8 produce exactly five heads\n",
    "(np.random.binomial(5, p=0.8, size=int(1e5)) == 5).mean()"
   ]
  },
  {
   "cell_type": "code",
   "execution_count": 14,
   "metadata": {},
   "outputs": [
    {
     "data": {
      "text/plain": [
       "0.12871"
      ]
     },
     "execution_count": 14,
     "metadata": {},
     "output_type": "execute_result"
    }
   ],
   "source": [
    "# Ten biased coin flips with P(H) = 0.15 produce exactly three heads\n",
    "(np.random.binomial(10, p=0.15, size=int(1e5)) == 3).mean()"
   ]
  },
  {
   "cell_type": "markdown",
   "metadata": {},
   "source": [
    "#### 06. Cancer Test Results\n",
    "\n",
    "**Cancer Test Results**\n",
    "\n",
    "In this section, you'll find a simulated dataset on cancer test results for patients and whether they really have cancer. Explore cancer_test_data.csv in the Jupyter notebook to answer the following questions.\n",
    "\n",
    "* How many patients are there in total?\n",
    "* How many patients have cancer?\n",
    "* How many patients do not have cancer?\n",
    "* What proportion of patients have cancer?\n",
    "* What proportion of patients don't have cancer?\n",
    "* What proportion of patients with cancer test positive?\n",
    "* What proportion of patients with cancer test negative?\n",
    "* What proportion of patients without cancer test positive?\n",
    "* What proportion of patients without cancer test negative?\n",
    "\n",
    "**Solution**"
   ]
  },
  {
   "cell_type": "code",
   "execution_count": 15,
   "metadata": {},
   "outputs": [],
   "source": [
    "import pandas as pd\n",
    "\n",
    "df = pd.read_csv('cancer_test_data.csv')"
   ]
  },
  {
   "cell_type": "code",
   "execution_count": 16,
   "metadata": {},
   "outputs": [
    {
     "data": {
      "text/plain": [
       "2914"
      ]
     },
     "execution_count": 16,
     "metadata": {},
     "output_type": "execute_result"
    }
   ],
   "source": [
    "# How many patients are there in total?\n",
    "df.patient_id.count()"
   ]
  },
  {
   "cell_type": "code",
   "execution_count": 17,
   "metadata": {},
   "outputs": [
    {
     "data": {
      "text/plain": [
       "306"
      ]
     },
     "execution_count": 17,
     "metadata": {},
     "output_type": "execute_result"
    }
   ],
   "source": [
    "# How many patients have cancer?\n",
    "df.query('has_cancer == True').has_cancer.count()"
   ]
  },
  {
   "cell_type": "code",
   "execution_count": 18,
   "metadata": {},
   "outputs": [
    {
     "data": {
      "text/plain": [
       "2608"
      ]
     },
     "execution_count": 18,
     "metadata": {},
     "output_type": "execute_result"
    }
   ],
   "source": [
    "# How many patients do not have cancer?\n",
    "df.query('has_cancer == False').patient_id.count()"
   ]
  },
  {
   "cell_type": "code",
   "execution_count": 19,
   "metadata": {},
   "outputs": [
    {
     "data": {
      "text/plain": [
       "0.105"
      ]
     },
     "execution_count": 19,
     "metadata": {},
     "output_type": "execute_result"
    }
   ],
   "source": [
    "# What proportion of patients have cancer?\n",
    "round(df.query('has_cancer == True').patient_id.count() / df.patient_id.count(), 3)"
   ]
  },
  {
   "cell_type": "code",
   "execution_count": 20,
   "metadata": {},
   "outputs": [
    {
     "data": {
      "text/plain": [
       "0.895"
      ]
     },
     "execution_count": 20,
     "metadata": {},
     "output_type": "execute_result"
    }
   ],
   "source": [
    "# What proportion of patients don't have cancer?\n",
    "round(df.query('has_cancer == False').patient_id.count() / df.patient_id.count(), 3)"
   ]
  },
  {
   "cell_type": "code",
   "execution_count": 21,
   "metadata": {},
   "outputs": [
    {
     "data": {
      "text/plain": [
       "0.905"
      ]
     },
     "execution_count": 21,
     "metadata": {},
     "output_type": "execute_result"
    }
   ],
   "source": [
    "# What proportion of patients with cancer test positive?\n",
    "round(df.query('has_cancer == True and test_result == \"Positive\"').patient_id.count() / df.query('has_cancer == True').patient_id.count(), 3)"
   ]
  },
  {
   "cell_type": "code",
   "execution_count": 22,
   "metadata": {},
   "outputs": [
    {
     "data": {
      "text/plain": [
       "0.095"
      ]
     },
     "execution_count": 22,
     "metadata": {},
     "output_type": "execute_result"
    }
   ],
   "source": [
    "# What proportion of patients with cancer test negative?\n",
    "round(df.query('has_cancer == True and test_result == \"Negative\"').patient_id.count() / df.query('has_cancer == True').patient_id.count(), 3)"
   ]
  },
  {
   "cell_type": "code",
   "execution_count": 23,
   "metadata": {},
   "outputs": [
    {
     "data": {
      "text/plain": [
       "0.204"
      ]
     },
     "execution_count": 23,
     "metadata": {},
     "output_type": "execute_result"
    }
   ],
   "source": [
    "# What proportion of patients without cancer test positive?\n",
    "round(df.query('has_cancer == False and test_result == \"Positive\"').patient_id.count() / df.query('has_cancer == False').patient_id.count(), 3)"
   ]
  },
  {
   "cell_type": "code",
   "execution_count": 24,
   "metadata": {},
   "outputs": [
    {
     "data": {
      "text/plain": [
       "0.796"
      ]
     },
     "execution_count": 24,
     "metadata": {},
     "output_type": "execute_result"
    }
   ],
   "source": [
    "# What proportion of patients without cancer test negative?\n",
    "round(df.query('has_cancer == False and test_result == \"Negative\"').patient_id.count() / df.query('has_cancer == False').patient_id.count(), 3)"
   ]
  },
  {
   "cell_type": "markdown",
   "metadata": {},
   "source": [
    "#### 07. Conditional Probability & Bayes Rule Quiz\n",
    "\n",
    "**Conditional Probability & Bayes Rule Quiz**\n",
    "\n",
    "In the previous section, you found the following proportions from the cancer results dataset.\n",
    "\n",
    "Patients with cancer: **0.105**\n",
    "Patients without cancer: **0.895**\n",
    "Patients with cancer who tested positive: **0.905**\n",
    "Patients with cancer who tested negative: **0.095**\n",
    "Patients without cancer who tested positive: **0.204**\n",
    "Patients without cancer who tested negative: **0.796**\n",
    "\n",
    "Based on the above proportions observed in the data, we can assume the following probabilities.\n",
    "\n",
    "\n",
    "| **Probability** | **Meaning** |\n",
    "| --- | --- |\n",
    "| $ P(cancer) = 0.105$ | Probability a patient has cancer |\n",
    "| $ P(~cancer) = 0.895$ | Probability a patient does not have cancer |\n",
    "| $ P(positive \\vert cancer)=0.905$ | Probability a patient with cancer tests positive |\n",
    "| $ P(negative \\vert cancer) = 0.095$ | Probability a patient with cancer tests negative |\n",
    "| $ P(positive \\vert \\neg{cancer}) = 0.204$ | Probability a patient without cancer tests positive | \n",
    "| $ P(negative \\vert \\neg{cancer}) = 0.796$    | Probability a patient without cancer tests negative |\n",
    "\n",
    "**Quiz Questions**\n",
    "\n",
    "Use the probabilities given above and Bayes rule to compute the following probabilities.\n",
    "\n",
    "1. Probability a patient who tested positive has cancer, or $ P(cancer \\vert positive)$\n",
    "2. Probability a patient who tested positive doesn't have cancer, or $ P(\\neg{cancer} \\vert positive)$\n",
    "3. Probability a patient who tested negative has cancer, or $ P(cancer \\vert negative)$\n",
    "4. Probability a patient who tested negative doesn't have cancer, or $ P(\\neg{cancer} \\vert negative)$"
   ]
  },
  {
   "cell_type": "code",
   "execution_count": 25,
   "metadata": {},
   "outputs": [
    {
     "data": {
      "text/plain": [
       "0.343"
      ]
     },
     "execution_count": 25,
     "metadata": {},
     "output_type": "execute_result"
    }
   ],
   "source": [
    "# Probability a patient who tested positive has cancer, or P(cancer|positive)\n",
    "round(df.query('has_cancer == True and test_result == \"Positive\"').patient_id.count()/df.query('test_result == \"Positive\"').patient_id.count(), 3)"
   ]
  },
  {
   "cell_type": "code",
   "execution_count": 26,
   "metadata": {},
   "outputs": [
    {
     "data": {
      "text/plain": [
       "0.657"
      ]
     },
     "execution_count": 26,
     "metadata": {},
     "output_type": "execute_result"
    }
   ],
   "source": [
    "# Probability a patient who tested positive doesn't have cancer, or P(~cancer|positive)\n",
    "round(df.query('has_cancer == False and test_result == \"Positive\"').patient_id.count()/df.query('test_result == \"Positive\"').patient_id.count(), 3)"
   ]
  },
  {
   "cell_type": "code",
   "execution_count": 27,
   "metadata": {},
   "outputs": [
    {
     "data": {
      "text/plain": [
       "0.014"
      ]
     },
     "execution_count": 27,
     "metadata": {},
     "output_type": "execute_result"
    }
   ],
   "source": [
    "# Probability a patient who tested negative has cancer, or P(cancer|negative)\n",
    "round(df.query('has_cancer == True and test_result == \"Negative\"').patient_id.count()/df.query('test_result == \"Negative\"').patient_id.count(), 3)"
   ]
  },
  {
   "cell_type": "code",
   "execution_count": 28,
   "metadata": {},
   "outputs": [
    {
     "data": {
      "text/plain": [
       "0.986"
      ]
     },
     "execution_count": 28,
     "metadata": {},
     "output_type": "execute_result"
    }
   ],
   "source": [
    "# Probability a patient who tested negative doesn't have cancer, or P(~cancer|negative)\n",
    "round(df.query('has_cancer == False and test_result == \"Negative\"').patient_id.count()/df.query('test_result == \"Negative\"').patient_id.count(), 3)"
   ]
  },
  {
   "cell_type": "markdown",
   "metadata": {},
   "source": [
    "#### 08. Conclusion\n",
    "\n",
    "**Python Probability Conclusion**\n",
    "\n",
    "In this lesson, you put your new probability skills to practice using Python. In order to gain an understanding of some of the complex topics in the next sections, we'll be working with Python more and more.\n",
    "\n",
    "It's often easier to understand these complex ideas through simulations and Python than it is to prove them mathematically.\n",
    "\n",
    "You will see a bit of both in the upcoming lessons. So your practice here will definitely come in handy.\n",
    "\n",
    "\n",
    "#### 09. Appendix: Glossary\n",
    "\n",
    "* numpy.random.**randint**(low, high=None, size=None, dtype='l')\n",
    "* numpy.random.**choice**(a, size=None, replace=True, p=None)\n",
    "* numpy.random.**binomial**(n, p, size=None)"
   ]
  }
 ],
 "metadata": {
  "kernelspec": {
   "display_name": "Python 3",
   "language": "python",
   "name": "python3"
  },
  "language_info": {
   "codemirror_mode": {
    "name": "ipython",
    "version": 3
   },
   "file_extension": ".py",
   "mimetype": "text/x-python",
   "name": "python",
   "nbconvert_exporter": "python",
   "pygments_lexer": "ipython3",
   "version": "3.6.10"
  }
 },
 "nbformat": 4,
 "nbformat_minor": 4
}
