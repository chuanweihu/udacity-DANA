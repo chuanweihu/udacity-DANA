{
 "cells": [
  {
   "cell_type": "markdown",
   "metadata": {},
   "source": [
    "## Module 01: Data Viz Lessons 2\n",
    "\n",
    "### Lesson 03: Data Visualizations in Tableau\n",
    "\n",
    "> In this lesson, you will learn how to make visualizations in Tableau. Get excited - it is about to get awesome!"
   ]
  },
  {
   "cell_type": "markdown",
   "metadata": {},
   "source": [
    "#### 01. Video: What is Tableau?"
   ]
  },
  {
   "cell_type": "markdown",
   "metadata": {},
   "source": [
    "> [Tableau Training](https://www.tableau.com/zh-cn/learn/training/20201)\n",
    "\n",
    "* Tableau makes it simple to import data from Excel, a text file, a database and many other sources. Then you can easily build interactive dashboards. Unlike software such as matplotlib or d3, you don't need to know how to program to make awesome plots.\n",
    "* Tableau is designed as an exploratory tool, a way to quickly see and understand your data, and do analysis and really move things around, change things, iterate and ask deep questions of your data."
   ]
  },
  {
   "cell_type": "markdown",
   "metadata": {},
   "source": [
    "#### 02. Text: Installing Tableau"
   ]
  },
  {
   "cell_type": "markdown",
   "metadata": {},
   "source": [
    "**Installing Tableau (Public)**\n",
    "\n",
    "You can use Tableau Public for this course. It's the free version that doesn't connect to as many data sources as the personal or professional versions, but it's more than capable to do most work with. It can read data from text (CSV) files and Excel files which you'll be using in this course. Also, you can't save to workbooks on your computer, but instead save to a public workbook. You can then download the workbook from there, so it isn't much of an issue.\n",
    "\n",
    "Go to https://public.tableau.com/s/, should look like this:"
   ]
  },
  {
   "cell_type": "markdown",
   "metadata": {},
   "source": [
    "#### 03. Video: How This Lesson Is Structured?"
   ]
  },
  {
   "cell_type": "markdown",
   "metadata": {},
   "source": [
    "Therefore, this class is structured in a way, where you will first watch one of us here at Udacity demonstrate a task in Tableau.\n",
    "\n",
    "The next concept following each video, will hold text and images about the previous video. Many students prefer this because it's easier to search using control F, or some other text finding functionality, rather than finding the right spot in a video.\n",
    "\n",
    "However, if you're ready to jump in and explore directly following the video, feel free to skip the text, and dive right into the quizzes on the next concept.\n",
    "\n",
    "The quiz portions are the key to your mastery of Tableau. The more you are doing, the better you will get at Tableau. This is the essential element to gaining confidence with this tool."
   ]
  },
  {
   "cell_type": "markdown",
   "metadata": {},
   "source": [
    "#### 04. Text: Outline of Topics Covered"
   ]
  },
  {
   "cell_type": "markdown",
   "metadata": {},
   "source": [
    "Here are the areas this lesson will cover:\n",
    "\n",
    "**I. Connecting to Data**\n",
    "\n",
    "In this section, you will get started with importing data into Tableau. Tableau public has fewer options, but paid versions of Tableau are quite extensive connecting directly to databases and cloud based data storage systems.\n",
    "\n",
    "**II. Combining Data**\n",
    "\n",
    "In this section, you will learn how to connect data from multiple sources for use in your visuals. If you are comfortable with SQL joins, this section should be second nature.\n",
    "\n",
    "**III. Worksheets**\n",
    "\n",
    "The visuals you create will be stored in worksheets. This is the template we will be working in for this course.\n",
    "\n",
    "**IV. Aggregations**\n",
    "\n",
    "Tableau performs aggregations of our data by default. In this section, you will learn more about how to work with different aggregations, as well as how to break your aggregations into a more granular level of the data.\n",
    "\n",
    "**V. Hierarchies**\n",
    "\n",
    "Hierarchies allow you to 'drill' into your data and questions at different levels. One of the easiest ways to think of hierarchies is in relation to time. You could look at your data at a year, month, day, hour, or another level. Moving across these levels is considered working with hierarchies.\n",
    "\n",
    "You can also perform hierarchical calculations in other ways. Imagine you have different companies, with different departments, and teams within those departments. This creates a hierarchy that you might want to analyze at different levels.\n",
    "\n",
    "**VI. Marks & Filters**\n",
    "\n",
    "Filtering is one of the most powerful techniques in creating dashboards. This relates to the marks portion of a dashboard, which controls the colors, shapes and other attributes of our data. You can think of this like a WHERE statement in SQL used to filter your data to only the parts you are interested in for a specific question.\n",
    "\n",
    "**VII. Show Me**\n",
    "\n",
    "The Show Me portion of Tableau controls what your ending visual looks like. There are a lot of options here. In most cases, Tableau will guess what visual you want to create, but sometimes you might have your own ideas for implementation.\n",
    "\n",
    "**VIII. Small Multiples & Dual Axis**\n",
    "\n",
    "Small multiples & dual charts are a way to visualize data that needs to share an axis for comparison purposes. [This](http://www.evolytics.com/blog/tableau-201-how-to-make-small-multiples/) and [this](http://kb.tableau.com/articles/HowTo/dual-axis-bar-chart-multiple-measures) are great articles for explaining how these two parts of Tableau work and why you might use them.\n",
    "\n",
    "**IX. Groups & Sets**\n",
    "\n",
    "Groups and sets are two ways to categorize our data within a visualization. The difference between these two can be confusing, but we will see when and why you would use each.\n",
    "\n",
    "**X. Calculated Fields**\n",
    "\n",
    "Often you might add these fields to your dataset before adding your data to Tableau, but sometimes you want to add them to a visualization on the fly. Many of these calculated fields are things you have probably done in a spreadsheet application like finding a total or a cost per item.\n",
    "\n",
    "**XI. Table Calculations**\n",
    "\n",
    "Table calculations are often used to perform comparisons of our data over time or between groups. A great article on table calculations is available [here](https://www.tableau.com/about/blog/2017/2/top-10-tableau-table-calculations-65417).\n",
    "\n",
    "**Final Thoughts**\n",
    "\n",
    "Again, don't worry if this seems daunting right now. Use this as a resource for what to Google if you get stuck (as the headings are the names Tableau uses - for example `Tableau Table Calculations` will provide more information on the final part we will discuss) and also as a guide for what is to come!"
   ]
  },
  {
   "cell_type": "markdown",
   "metadata": {},
   "source": [
    "#### 05. Commas vs Periods"
   ]
  },
  {
   "cell_type": "markdown",
   "metadata": {},
   "source": [
    "Depending on your location, decimals and commas may be treated differently (mostly in European countries) than what you will see in this course.\n",
    "\n",
    "For this course, we will be using a convention where commas separate large values - like 1,000.00 or 1,000,000.00. On the other hand, the period will be used as the decimal separator, as you can see from these previous numbers.\n",
    "\n",
    "Potential Solutions: After importing the data set into Tableau click Sheet 1 tab. Then Click File -> Workbook Locale -> English (United States)"
   ]
  },
  {
   "cell_type": "markdown",
   "metadata": {},
   "source": [
    "#### 06. Video: Connecting to Data"
   ]
  },
  {
   "cell_type": "markdown",
   "metadata": {},
   "source": [
    "Superstore is a dataset of sales for a global retail chain that sells furniture, office supplies, and technology goods. Each row of data represents a single item in a transaction."
   ]
  },
  {
   "cell_type": "markdown",
   "metadata": {},
   "source": [
    "#### 07. Text: Connecting to Data Recap"
   ]
  },
  {
   "cell_type": "markdown",
   "metadata": {},
   "source": [
    "Time to get started using Tableau. The first step is to load some data.\n",
    "\n",
    "I’ve provided a data set you'll use for the rest of this lesson. The data set consists of transaction records for the **Global Superstore**, as well as returns, and a list of the members of the sales team. \n",
    "\n",
    "**Open Data**\n",
    "\n",
    "In the left sidebar you'll see the data sources you can connect to. For file sources, you can connect to an **Excel file**, a **text file** such as a **CSV**, or **statistical files** such as from **SAS**, **SPSS**, and **R**.\n",
    "\n",
    "You can also connect to some **remote sources (To a Server) with OData**. You can also connect to **Google Sheets** (click through More…).\n",
    "\n",
    "Time to load the Global Superstore data. Click on \"Excel\", then select the Global Superstore Excel file.\n",
    "\n",
    "**Introduction**\n",
    "\n",
    "With Tableau connected to the data, you should see **the sheets in the Excel file** (Orders, People, and Returns) **in the left sidebar**. There's big orange letters tell you to drag a sheet over there, so **drag the Orders sheet** onto the **top panel**.\n",
    "\n",
    "You should see a **preview of the data from the orders** in the **lower panel** now. I also used the [Data Interpreter](https://onlinehelp.tableau.com/current/pro/desktop/en-us/qs_data_interpreter.html) here (it's the checkbox on the left). The **Data Interpreter** attempts to **clean and format the data** so that it's easier to use in Tableau.\n",
    "\n",
    "Tableau **automatically finds the columns labels** in the header row. It also attempts to **detect the data type for each column**. The **little icons in the header bar** indicate the **data type of the column**. **Row ID** is n**umerical data**, **Order ID** is **text**, **Order Date** is a **date**, and so on.\n",
    "\n",
    "Tableau also finds **geo spatial data** as you can see below.\n",
    "\n",
    "You might have noticed that the **numerical icons (#)** in the headers are **blue** in the first image but **green** in the one above. Tableau guesses if numerical data is discrete or continuous and indicates this with color, **blue for discrete** and **green for continuous**. You'll see this color coding again later.\n",
    "\n",
    "Tableau doesn't always make the best guess for the data type, so you can set it **manually** by clicking on the **data type symbol**."
   ]
  },
  {
   "cell_type": "markdown",
   "metadata": {},
   "source": [
    "#### 08. Quiz: Connecting to Data"
   ]
  },
  {
   "cell_type": "markdown",
   "metadata": {},
   "source": [
    "**Task List**:\n",
    "\n",
    "* Download the data.\n",
    "* Connect to the dataset in Tableau.\n",
    "* Drag in the Orders Table.\n",
    "* Change Row ID to a String.\n",
    "* Split the Order ID into three parts.\n",
    "* Use View Data to look at the People and Returns tables."
   ]
  },
  {
   "cell_type": "markdown",
   "metadata": {},
   "source": [
    "**QUIZ QUESTION**\n",
    "\n",
    "`Quiz 1`\n",
    "\n",
    "Match each of the below columns to the corresponding data type.\n",
    "\n",
    "* Order Date - Date\n",
    "* Postal Code - string\n",
    "* Sales - Number (decimal)\n",
    "* Quantity - Number (whole)\n",
    "\n",
    "`Quiz 2`\n",
    "\n",
    "What is the difference between Split and Custom Split? \n",
    "\n",
    "* [ ] Split splits columns, but Custom Split can split columns and rows.\n",
    "* [x] Split splits on a Tableau \"guessed\" character, but Custom Split can split on a value you specify.\n",
    "* [ ] Split splits rows, but Custom Split can split columns and rows.\n",
    "* [ ] There is no difference.\n",
    "\n",
    "`Quiz 3`\n",
    "\n",
    "Using the Table View, select the statements below that are true.\n",
    "\n",
    "* [x] There are 2 columns in the People table.\n",
    "* [x] There are 13 rows in the People table.\n",
    "* [x] There are 1,173 rows in the Returns table.\n",
    "* [x] There are 3 columns in the Returns table.\n",
    "\n",
    "`Quiz 4`\n",
    "\n",
    "One of the major differences between Tableau Public and a paid Tableau account is that Tableau Public connects to far fewer data sources than a paid account.\n",
    "\n",
    "* [x] True \n",
    "* [ ] False"
   ]
  },
  {
   "cell_type": "markdown",
   "metadata": {},
   "source": [
    "#### 09. Video: Combining Data"
   ]
  },
  {
   "cell_type": "markdown",
   "metadata": {},
   "source": [
    "The tables should be joined on order_id."
   ]
  },
  {
   "cell_type": "markdown",
   "metadata": {},
   "source": [
    "#### 10. Text: Combining Data Recap"
   ]
  },
  {
   "cell_type": "markdown",
   "metadata": {},
   "source": [
    "**Combining data**\n",
    "\n",
    "Often you're going to want to **combine data from multiple sources**, such as different tables in a database or sheets in an Excel file. For example, you might want to include the information from the People sheet with the Orders sheet so you can analyze the performance of each salesperson.\n",
    "\n",
    "In Tableau, you can do this by **dragging multiple sheets into the top panel**. You get two different outcomes depending on where you drag it, a union or a join.\n",
    "\n",
    "**Union**\n",
    "\n",
    "If you **drag People below Orders**, you get a **union**. Unions stack the data on top of each other, the second sheet ends up being **appended to** the end of the first sheet. This works great if you have **multiple sheets with columns in common as the columns will match up**. However if the **columns are different**, then you'll get **a lot of \"nulls\"** because columns are created for both sheets, but the first sheet doesn't have data for the second sheet's columns.\n",
    "\n",
    "**Joins**\n",
    "\n",
    "If you drag the **second sheet or table** to the **top panel** but **not on top of the first sheet**, you'll get a **join**. Instead of stacking the data on top of each other, joins **combines data** from the sheets **based on common values**. In our case, both Orders and People have a column Region that we can use for the common values.\n",
    "\n",
    "Tableau does an \"**inner join**\" by default. This combines the data wherever there is a common value. So when Region in Orders is \"East\", it takes the data from People where Region is \"East\". Above you can see the Person column from People has been added to the data from Orders.\n",
    "\n",
    "You can **click on the join symbol** to change the **type of join** being performed. In this case you can also select the \"**left inner join**.\" The **normal inner join** combines only data that is **common**, but the **left inner join** returns all the data in the original sheet setting rows not common to null.\n",
    "\n",
    "It's important to understand joins because you'll be combining data often. Here's the [Tableau documentation](https://onlinehelp.tableau.com/current/pro/desktop/en-us/joining_tables.html) on joins, which I suggest you read if you haven't encountered joins before."
   ]
  },
  {
   "cell_type": "markdown",
   "metadata": {},
   "source": [
    "#### 11. Quiz: Combining Data"
   ]
  },
  {
   "cell_type": "markdown",
   "metadata": {},
   "source": [
    "**Task List**:\n",
    "\n",
    "* Drag the Returns table into the active sheets area next to Orders.\n",
    "* Change the connection, so that it states Order ID = Order ID (Returns) as an INNER JOIN.\n",
    "* Find the returned column and assure Yes is shown as you scroll through the column.\n",
    "* Drag the People table into the active sheets area next to Orders."
   ]
  },
  {
   "cell_type": "markdown",
   "metadata": {},
   "source": [
    "**QUIZ QUESTION**\n",
    "\n",
    "`Quiz 1`\n",
    "\n",
    "Which of the below is a case when you would want to use a UNION instead of a JOIN?\n",
    "\n",
    "* [ ] To combine two sheets with different columns on a primary key - foreign key match, and keep all of the rows from one sheet but only matching rows from the other sheet. \n",
    "* [ ] To combine two sheets with different columns on a primary key - foreign key match, and keep all of the rows from both sheets even if they don't match. \n",
    "* [ ] To combine two sheets with different columns on a primary key - foreign key match, and keep all of the rows from both sheets only if they match.  \n",
    "* [x] To combine two sheets stacked on top of one another that have all the same columns.\n",
    "\n",
    "`Quiz 2`\n",
    "\n",
    "Match the column to the correct description below regarding the People and Orders JOIN.\n",
    "\n",
    "* Region - Primary Key\n",
    "* Region (People) - Foreign Key\n",
    "\n",
    "`Quiz 3`\n",
    "\n",
    "If we wanted all of the rows pertaining to the Orders table, as well as the connected rows in the People table, how would we combine the tables? \n",
    "\n",
    "* [ ] INNER JOIN  \n",
    "* [ ] UNION  \n",
    "* [ ] FULL OUTER JOIN  \n",
    "* [x] LEFT JOIN"
   ]
  },
  {
   "cell_type": "markdown",
   "metadata": {},
   "source": [
    "#### 12. Video: What Can You Create In Tableau?"
   ]
  },
  {
   "cell_type": "markdown",
   "metadata": {},
   "source": [
    "There are three main products that you can create using Tableau:\n",
    "\n",
    "1. Worksheets\n",
    "2. Dashboards\n",
    "3. Stories\n",
    "\n",
    "This lesson is focused on creating worksheets, which are the core of creating dashboards and stories. You will learn to create dashboards and stories in the final lesson of this course."
   ]
  },
  {
   "cell_type": "markdown",
   "metadata": {},
   "source": [
    "#### 13. Video: Worksheets"
   ]
  },
  {
   "cell_type": "markdown",
   "metadata": {},
   "source": [
    "`pass`"
   ]
  },
  {
   "cell_type": "markdown",
   "metadata": {},
   "source": [
    "#### 14. Text: Worksheets"
   ]
  },
  {
   "cell_type": "markdown",
   "metadata": {},
   "source": [
    "**Sheet interface**\n",
    "\n",
    "Alright! Now that you have your data loaded, time to make a graph. **Click on “Sheet1”** in the **bottom bar**. First I'll introduce you to the sheet interface.\n",
    "\n",
    "On the left you’ll see your data columns (also called \"**fields**\"), split between **dimensions** and **measures**. **Categorical**, **qualitative**, and **time** data are listed as **dimensions**. **Quantitative numerical** data is listed as **measure**. Tableau automatically detects the data type in each column and splits them up accordingly.\n",
    "\n",
    "You'll notice the **dimensions are colored blue** and the **measures are green**. This is the same color coding you've seen before, **blue for discrete data** and **green for continuous data**. Remember that **discrete data** can only be certain values like **integers or categories**, while **continuous data can be any value**.\n",
    "\n",
    "Dimensions aren't required to be **discrete** and measures aren't required to be **continuous**. You can convert discrete data to continuous in some cases, such as with time. Right click the field, or click the **little triangle** to bring up the menu. You can’t do this with categorical data because it can’t be continuous. You can also convert continuous data to discrete.\n",
    "\n",
    "Tableau **automatically aggregates measures**, but **not dimensions**. That is, it does calculations like sums and means. Dimensions are used to group the data and set the level of granularity. You’ll learn about aggregation and granularity next, so don’t worry if you don't know what these mean yet.\n",
    "\n",
    "**Making your first plot**\n",
    "\n",
    "You can select the data you want to plot by **dragging the fields to the columns or rows shelves** (see below). When you drag a discrete field to Columns, it creates a discrete axis. When you use a continuous field, it creates a continuous axis. You can also drag the fields directly onto the sheet.\n",
    "\n",
    "To start with, you can look at the number of records for each market. Drag the **Market field** to the **Columns shelf**.\n",
    "\n",
    "You can see the axis in the sheet panel showing labels for each market. Now drag **Number of Records** from the **measures** to the **rows shelf**.\n",
    "\n",
    "You'll see in the rows shelf the Number of Records field turned into a little pill that says **SUM(Number of Records)**. This is called an **aggregation**, it is **aggregating the data for each market and summing the values**. You can **hover over the bars** to see the **exact sum** for each market. (Try this yourself!)\n",
    "\n",
    "In general, this is how you will make most of your plots, **dragging dimension and measure fields to the shelves**. You can also remove fields from the plot by **dragging the pills off the shelves**.\n",
    "\n",
    "From here you can also **sort the bars** by clicking on the **sort icon on the axis**.\n",
    "\n",
    "Finally, as you can see above, there are **tabs at the bottom** to create **new sheets, dashboards, and stories**."
   ]
  },
  {
   "cell_type": "markdown",
   "metadata": {},
   "source": [
    "#### 15. Quiz: Worksheets"
   ]
  },
  {
   "cell_type": "markdown",
   "metadata": {},
   "source": [
    "Before creating our visualization, let's add all the data connected by INNER JOINs. Assure the **Orders table** is joined to the **Returns table** on **Order ID**. Additionally, assure that the **Orders table** is joined to the **People table** on the **Region**. Below are two images that should help you verify!"
   ]
  },
  {
   "cell_type": "markdown",
   "metadata": {},
   "source": [
    "**Task List**:\n",
    "\n",
    "* Join all three tables using INNER JOINs as shown in the image above. \n",
    "* Select Sheet 1 in the lower left corner to start building your first visualization!  \n",
    "* Drag Market to the Columns and Number of Records to the Rows  \n",
    "* Click the left margin to sort the bars.  \n",
    "* Click and drag Market and Number of Records, so they are no longer shown in the display. Drag Longitude to Columns and Latitude to Rows. \n",
    "* Double click Country and double click Profit. You should see them move into the Marks box. \n",
    "* In the panel labeled Show Me click the map that looks shaded, not the one with dots.  \n",
    "* Change SUM(Profit) to AVERAGE(Profit)."
   ]
  },
  {
   "cell_type": "markdown",
   "metadata": {},
   "source": [
    "**QUIZ QUESTION**:\n",
    "\n",
    "`Quiz 1`\n",
    "\n",
    "Match the below Tableau name to the correct definition.\n",
    "\n",
    "* Dimension - Categorical Data Type\n",
    "* Measure - Quantitative Data Type\n",
    "\n",
    "`Quiz 2`\n",
    "\n",
    "Which market had the highest number of returns? \n",
    "\n",
    "* [ ] APAC  \n",
    "* [x] LATAM (SUM([Number of Records])=824)\n",
    "* [ ] EU  \n",
    "* [ ] US  \n",
    "* [ ] EMEA  \n",
    "* [ ] Africa  \n",
    "* [ ] Canada\n",
    "\n",
    "`Quiz 3`\n",
    "\n",
    "Match each total profit to its appropriate country. Remember these are the profits on the returns. Countries not listed may not have had orders, or may not have had returns.\n",
    "\n",
    "* China - `27,395`\n",
    "* India - `3,580`\n",
    "* Sweden - `-496`\n",
    "* Argentina - `-608`\n",
    "* Taiwan - `1`\n",
    "\n",
    "`Quiz 4`\n",
    "\n",
    "Match each average profit to its appropriate country. Remember these are the profits on the returns. Countries not listed may not have had orders, or may not have had returns.\n",
    "\n",
    "* United States - `28.8`\n",
    "* Pakistan - `-91.6` \n",
    "* Ireland - `-101.2`\n",
    "* Austria - `101.34`\n",
    "* Norway - `92.2`"
   ]
  },
  {
   "cell_type": "markdown",
   "metadata": {},
   "source": [
    "#### 16. Text: Saving to Tableau Public"
   ]
  },
  {
   "cell_type": "markdown",
   "metadata": {},
   "source": [
    "If you are using **Tableau Public**, you will not be able to save to your local machine. In order to save your work, you must save to Tableau Public. In order to do this, you will select `File > Save to Tableau Public`. Then you will need to `create an account`, and `name the workbook`. After saving, your visual should appear in your browser."
   ]
  },
  {
   "cell_type": "markdown",
   "metadata": {},
   "source": [
    "If you are using **Tableau Desktop** (only if you have a Tableau License Key), in order to save your work to Tableau Public select **Server > Tableau Public > Save to Tableau Public**. Then you will need to create an account, and name the workbook. After saving, your visual should appear in your browser."
   ]
  },
  {
   "cell_type": "markdown",
   "metadata": {},
   "source": [
    "**Common Issues with Saving Files**\n",
    "\n",
    "If you are experiencing an issue saving to Tableau Public, the most common issue is fixed by logging out from your profile clicking on your name at the bottom bar, but do not exit tableau. After that click save, login once again, and it should work.\n",
    "\n",
    "If you are still getting an error, go to data source tab, click the update button and then save.\n",
    "\n",
    "**Opening Saved Files**\n",
    "\n",
    "In order to open your saved visuals, you will be able to access them from the home screen of Tableau via the Open from Tableau Public link."
   ]
  },
  {
   "cell_type": "markdown",
   "metadata": {},
   "source": [
    "#### 17. Video: Aggregations"
   ]
  },
  {
   "cell_type": "markdown",
   "metadata": {},
   "source": [
    "**Two ways to explore data**\n",
    "\n",
    "* Jump in and start exploring\n",
    "* Ask questions of your data and attempt to answer them\n",
    "\n",
    "\n",
    "1. Question: What are our sales like over time?\n",
    "    * Columns - Order Date\n",
    "    * Rows - Sales\n",
    "\n",
    "2. Question: What is the relationship between shipping costs and profit?\n",
    "    * Columns - Profit\n",
    "    * Rows - Shipping Cost\n",
    "\n",
    "**Notes**\n",
    "\n",
    "* The default in tableau is to aggregate. Specifically, the default aggregation is sum.\n",
    "* It is important to practice working with the marks card. It is a key tool in creating visualizations."
   ]
  },
  {
   "cell_type": "markdown",
   "metadata": {},
   "source": [
    "#### 18. Text: Aggregations"
   ]
  },
  {
   "cell_type": "markdown",
   "metadata": {},
   "source": [
    "**Aggregation and Granularity**\n",
    "\n",
    "Let's start making some more complex plots. The first thing we'll do is **create a simple scatter plot** to see how **some measures** are related. I expect that the more **items** sold, the higher the **profit** will be, so let’s look at **profit vs quantity**.\n",
    "\n",
    "Try it out yourself. You see just one point! What’s going on? Why isn’t there a point for each record in the data set?\n",
    "\n",
    "**Aggregation**\n",
    "\n",
    "When I was first learning Tableau, I couldn't understand why I was only seeing **one point** when I thought I'd see a bunch of points. The answer is how Tableau aggregates the data. You should see in the pills that Tableau is taking the sums of Quantity and Profit. This is called an **aggregation**. It is **summing Quantity and Profit over all records** in the data set, this is why you are seeing only one dot. There is one sum over all the records for Quantity and one sum over all the records for Profit.\n",
    "\n",
    "The kind of aggregation you're doing can be selected by right clicking on the pill or clicking the triangle. To change the aggregation method, select Measure then Sum, Average, Median, and others."
   ]
  },
  {
   "cell_type": "markdown",
   "metadata": {},
   "source": [
    "#### 19. Quiz: Aggregations"
   ]
  },
  {
   "cell_type": "markdown",
   "metadata": {},
   "source": [
    "**Task List**:\n",
    "\n",
    "* Create a new workspace using only the Orders table. None of the JOINed tables we saw earlier. \n",
    "* Open a blank sheet where we can begin creating our visualization.  \n",
    "* Drag Shipping Cost to the Rows and Profit to the Columns.  \n",
    "* Drag Category to Color in the Marks table.  \n",
    "* Drag Market to the Shape in the Marks table.  \n",
    "* Drag Category and Market off the Marks table.  \n",
    "* Drag Row ID to the Marks table.\n",
    "* Notice how the aggregations can sometimes assist in our ability to draw insights, but other times having a point for every row in the dataset might be better."
   ]
  },
  {
   "cell_type": "markdown",
   "metadata": {},
   "source": [
    "**QUIZ QUESTION**:\n",
    "\n",
    "1. Mark all of the below that are true from your visual. \n",
    "    * [x] APAC Technology had the largest Profit.  \n",
    "    * [x] Canada Furniture had the smallest Profit. \n",
    "    * [ ] The relationship between profit and shipping costs appears to be positive and strong. \n",
    "    * [x] Furniture in the US had shipping costs approximately 60K greater than Profit.\n",
    "\n",
    "2. Which of the below is true about the usual scatterplot we would see in relating Profit to Shipping Costs?\n",
    "    * [ ] It is easy to see a positive linear relationship between Profit and Shipping Cost. \n",
    "    * [ ] It is easy to see a negative linear relationship between Profit and Shipping Cost. \n",
    "    * [x] It is hard to tell what type of relationship exists between Profit and Shipping Cost."
   ]
  },
  {
   "cell_type": "markdown",
   "metadata": {},
   "source": [
    "#### 20. Video: Hierarchies"
   ]
  },
  {
   "cell_type": "markdown",
   "metadata": {},
   "source": [
    "1. Tableau automatically creates hierarchies for data related to time and dates\n",
    "2. Changing dates to continuous can often prove to be more useful than looking at dates as discrete data types\n",
    "3. Besides using default hierarchies associated with dates, you can also create your own"
   ]
  },
  {
   "cell_type": "markdown",
   "metadata": {},
   "source": [
    "#### 21. Text: Hierarchies"
   ]
  },
  {
   "cell_type": "markdown",
   "metadata": {},
   "source": [
    "**Automatically Hierarchies**\n",
    "\n",
    "Try this: Create a new sheet, drag **Order Date to Columns** and **Profit to Rows**. You should see **a line plot**, this is Tableau's default for time data. There is a **little plus symbol** on the Order Date pill now. Click it and see what happens.\n",
    "\n",
    "What you've done here is \"**drill down**\" into the hierarchy starting with the yearly data then grouping it by **quarter**. Tableau **automatically makes a hierarchy of time periods** from date and time data fields. As you drill down, you get more fine divisions, from year, to quarter, to month, then day.\n",
    "\n",
    "You'll notice the pills have a **little minus sign** in them now. Clicking on it will go back up the hierarchy.\n",
    "\n",
    "You can remove levels of the hierarchy from the plot by dragging the pill out of the shelf. For instance, if you drill down to Month then remove Year and Quarter.\n",
    "\n",
    "It might not be what you expect here, I expect this to show the **monthly profit over the four years** in the data. However, there is **only one value for each month**. Tableau is doing this because Order Date has been set to the **discrete data type**, so it's **aggregating the Profit values for each month**. That is, each value is the sum of Profit for that month over the four years in the data.\n",
    "\n",
    "However, I'd typically like to see this as **one long line over all four years**. To change how this is being plotted, you need a continuous axis and to **convert Order Date to continuous data**. One thing you can do is to open the Order Date field menu (right click, or left click the triangle) and select \"**Convert to Continuous**\".\n",
    "\n",
    "You can also **open the menu on the Month pill** and convert it to continuous.\n",
    "\n",
    "If you select **\"Month\" in the continuous section**, it'll switch to a view with the monthly profit over the whole time range. Try it yourself.\n",
    "\n",
    "You should see a plus sign in the pill, this will also let you drill down further so you can see weekly profit. However, there is **no minus sign** now, so you can't go back up the hierarchy from there.\n",
    "\n",
    "**Manual hierarchies**\n",
    "\n",
    "Tableau created the hierarchy from the date automatically, but you can also create your own hierarchies. For example, each value in **Sub-Category** belongs to one in **Category**. For example, a record with the Sub-Category value \"Bookcases\" always has a Category value of \"Furniture.\" There is a hierarchy here where the Sub-Category values branch out from Category values.\n",
    "\n",
    "You can make a hierarchy by **selecting both Category and Sub-Category (control/command-click both fields)**, then opening the menu and selecting `Hierarchy > Create Hierarchy…`\n",
    "\n",
    "Now you can create a new hierarchy and give it a name. I named it \"**Categories**\". It shows up on the left and you can drag it to the shelves just like a normal field. But now it starts with \"**Category**\" with a **plus sign**, you can drill down to \"**Sub-Categories**.\""
   ]
  },
  {
   "cell_type": "markdown",
   "metadata": {},
   "source": [
    "#### 22. Quiz: Hierarchies"
   ]
  },
  {
   "cell_type": "markdown",
   "metadata": {},
   "source": [
    "**Task List**:\n",
    "\n",
    "* Clear your existing worksheet or create a new worksheet (in the bottom left next to Sheet 1).  \n",
    "* Drag Sales to the Rows and Order Date to the Columns.  \n",
    "* Click on the plus (+) next to Year in the Columns.  \n",
    "* Click on the plus (+) next to the Quarter in the Columns. \n",
    "* Remove the Quarter from the Columns, so only Year and Month remain.  \n",
    "* Convert the Order Date to Continuous and replace in the Columns.  \n",
    "* Click the plus until you are showing MONTH. \n",
    "* Notice the visual advantages of this plot even though it is essentially the same as the one you created above.  \n",
    "* Select Category and Sub-Category. \n",
    "* Click the drop down for Category, and select Hierarchy -> Create Hierarchy.  \n",
    "* Name the hierarchy. I named mine Categories.  \n",
    "* Assure you are working with a blank sheet. \n",
    "* Move Profit to the Columns and your new hierarchy to the Rows.   \n",
    "* Click the '+' next to Categories."
   ]
  },
  {
   "cell_type": "markdown",
   "metadata": {},
   "source": [
    "**QUIZ QUESTION**:\n",
    "\n",
    "1. What can we tell from this plot?\n",
    "    * [ ] In each year, there appears to be an increase in sales from one month to the next month. \n",
    "    * [ ] In each year, there appears to be an increase in sales from one quarter to the next quarter. \n",
    "    * [x] In each quarter, there appears to be an increase in sales from one year to the next year.\n",
    "\n",
    "\n",
    "2. When comparing two months, between which two months do you find a fall in sales for all years? (Select all that apply) \n",
    "    * [ ] April to May  \n",
    "    * [ ] July to August  \n",
    "    * [x] June to July  \n",
    "    * [ ] August to September  \n",
    "    * [x] January to February  \n",
    "    * [x] Previous year December to next year January\n",
    "\n",
    "\n",
    "3. Which Category had the largest profits? \n",
    "    * [ ] Furniture  \n",
    "    * [ ] Office Supplies  \n",
    "    * [x] Technology  \n",
    "    * [ ] We can't tell.\n",
    "\n",
    "\n",
    "4. Match the item to the statement that describes it.\n",
    "    * Tables - The lowest profit furniture item.\n",
    "    * Appliances - The highest profit office supplies item.  \n",
    "    * Copiers - The highest profit technology item.\n",
    "    * Fasteners - The lowest profit office supplies item.\n",
    "    * Bookcases - The highest profit furniture item."
   ]
  },
  {
   "cell_type": "markdown",
   "metadata": {},
   "source": [
    "#### 23. Video: Marks & Filters"
   ]
  },
  {
   "cell_type": "markdown",
   "metadata": {},
   "source": [
    "`pass`"
   ]
  },
  {
   "cell_type": "markdown",
   "metadata": {},
   "source": [
    "#### 24. Text: Marks & Filters I"
   ]
  },
  {
   "cell_type": "markdown",
   "metadata": {},
   "source": [
    "**Marks & Filters**\n",
    "\n",
    "There is so much to do with marks and filters that there is an additional quiz, and some additional text provided beyond the video here.\n",
    "\n",
    "**Marks options**\n",
    "\n",
    "Often, you’ll want to **include more dimensions** in your graph. You can do that through the **Marks card**. It has options such as **color, size, and shape**. You can add dimensions to the plot (increasing granularity) by dragging **dimensions or measures** to the **Marks shelf**.\n",
    "\n",
    "**Color**\n",
    "\n",
    "Most often you'll be encoding data with color. This is easily done in Tableau, simply drag the field to \"**Color**\" in the **Marks card**. Below I made a line plot of the monthly profit, split up by **Segment**.\n",
    "\n",
    "**Color options**\n",
    "\n",
    "Clicking on \"**Color**\" in the Marks card lets you change the** color palette** used to encode the data.\n",
    "\n",
    "In the menu, you can select the palette then click \"**Assign Palette**\" to change the colors and click **Apply** or **OK** to make the change. It's possible to **change individual colors** too, just click on a data item then on a color in the palette.\n",
    "\n",
    "Color is **great for encoding data on maps** too. Below are a couple examples.\n",
    "\n",
    "If you aren't encoding data with color, you can still **change the color of the graphical elements**. Clicking on \"**Color**\" brings up a **color picker** that will set the color for the marks as shown below.\n",
    "\n",
    "Color is **one of the most important factors for making attractive and understandable visualizations**. In the recent update to version 10, Tableau (the company) spent a lot of time getting it right. You can read about their efforts [here](http://www.tableau.com/about/blog/2016/7/colors-upgrade-tableau-10-56782).\n",
    "\n",
    "**Size**\n",
    "\n",
    "Dragging a **field**, either discrete or continuous, to \"**Size**\" will encode the data in **the size of the markers**. You'll most often use this encoding in a **scatter plot**, commonly known as a **bubble plot**.\n",
    "\n",
    "Above I made a scatter plot with average quantity vs average profit for each country. I encoded the average discount using the size of the markers, it's clear that discounts are responsible for the countries with negative profits.\n",
    "\n",
    "As with color, if you aren't encoding data with size, you can set it by clicking on the Markers card and moving the slider.\n",
    "\n",
    "**Shape**\n",
    "\n",
    "As with color and size, you can use the **shape** of the markers to encode data. You'll want to **use discrete data only for this**. Also, if you have too many categories the shapes are too difficult to identify.\n",
    "\n",
    "You can set the **shape** if you aren't encoding any data with it.\n",
    "\n",
    "**Other Cards**\n",
    "\n",
    "The \"**Detail**\" card allows you to bring in a field without any visual encoding. This enables you to **increase granularity without adding any graphical effect**.\n",
    "\n",
    "The \"**Label**\" card **adds in labels** for all of our markers."
   ]
  },
  {
   "cell_type": "markdown",
   "metadata": {},
   "source": [
    "#### 25. Quiz: Marks & Filters I"
   ]
  },
  {
   "cell_type": "markdown",
   "metadata": {},
   "source": [
    "**Task List**:\n",
    "\n",
    "* Assure you are working with a clean Sheet.  \n",
    "* Drag Profit to Rows and Region to Columns.   \n",
    "* Drag Order Date into the Filters menu.  \n",
    "* Select Years then 2014 in the pop up menu. Then hit OK. \n",
    "* Select the drop down on the YEAR(Order Date) within the Filters table and select Show Filter.  \n",
    "* Select Sort from the top Menu. \n",
    "* Add Category to both the Marks table (as a color) and to the Filters table. \n",
    "* Select the drop down on the Category within the Filters table and select Show Filter.  \n",
    "* Drag the Sales to the Detail portion of the Marks table.  \n",
    "* Name this BarChart1, and open a new sheet in the bottom left hand corner. You should see Sheet 2 appear."
   ]
  },
  {
   "cell_type": "markdown",
   "metadata": {},
   "source": [
    "**QUIZ QUESTION**:\n",
    "\n",
    "1. Which Region had the largest profits? \n",
    "    * [ ] North  \n",
    "    * [ ] North Asia  \n",
    "    * [ ] West  \n",
    "    * [x] Central\n",
    "\n",
    "2. Use the bar chart with filters to match each description to the appropriate Region.\n",
    "    * Southeast Asia - The only Region with negative Profit in 2014. It was associated with Furniture. \n",
    "    * Canada - This Region had the lowest Profit across all years when looking at the combination of Office Supplies and Technology sales.\n",
    "    * Oceania - This Region had the second highest Profit for Furniture in 2012. \n",
    "    * North - This Region had the second highest Profit for Office Supplies in 2012.\n",
    "\n",
    "3. Use your chart to check each of the below statements that are true. (Select all that are true) \n",
    "    * [x] In 2014, Africa had Sales of Office Supplies of 95,623.  \n",
    "    * [x] In 2011, Central had Sales of Furniture of 162,796.  \n",
    "    * [x] In 2011, East had Profit of Furniture of -500."
   ]
  },
  {
   "cell_type": "markdown",
   "metadata": {},
   "source": [
    "#### 26. Text: Marks & Filters II"
   ]
  },
  {
   "cell_type": "markdown",
   "metadata": {},
   "source": [
    "**Filters**\n",
    "\n",
    "One of my favorite features of Tableau is **the ability to quickly make interactive filters**. This way you can view only the data you're interested in and allow your users to do the same.\n",
    "\n",
    "**Filtering basics**\n",
    "\n",
    "There are a few different ways to create filters. **First**, you can `make a filter directly from the view`. Suppose you have something like the image below where there are a lot of visual elements and you want to pare it down.\n",
    "\n",
    "You can filter directly from this view by **selecting the data, right clicking to open the context menu, and creating a filter**. I chose a few categories I wanted to keep.\n",
    "\n",
    "Above you see I can select \"**Keep only**\" which filters out everything other than the selected values. I can also choose to exclude the selected values. I'm going to choose \"Keep only\" here.\n",
    "\n",
    "There is now a **Sub-Category pill in the Filters shelf** since I am filtering on that field. Now there are still a lot of regions, so I'm going to choose only a few to look at. Filters can also be created by `dragging a field to the Filters shelf`.\n",
    "\n",
    "If you do this too, **a menu should pop up**. There are four different tabs here that let you filter in different ways. Here I'm just going to select four of the regions. And finally, this is what it looks like with everything filtered.\n",
    "\n",
    "**Interactive filters**\n",
    "\n",
    "This is a static filter which you set in the menu and if you want to change it, you have to go back into the menu. Tableau does something cool here. It let's you **make the filter interactive and control it from the view**.\n",
    "To do this open the menu on the Region pill in the Filters shelf. \n",
    "\n",
    "Clicking \"**Show Filter**\" brings out a control for the filter (you can see it on the right in the image below).\n",
    "\n",
    "You can change the way you control the filter by **opening the menu on the controls**, click the **little triangle**.\n",
    "\n",
    "Try out the different options to see what they do. I chose the Multiple Values (dropdown) to save on screen space.\n",
    "\n",
    "Now it's a **dropdown menu** where I can select the regions I want to see in the view.\n",
    "\n",
    "**More on filters**\n",
    "\n",
    "**Interactive filters like these are one of Tableau's most powerful features**. Tableau has a series of great tutorial videos going into more detail which you can find [here](http://www.tableau.com/learn/tutorials/on-demand/using-filter-shelf). You might have to create an account, but you'll want to anyway, there are a lot of excellent tutorial videos."
   ]
  },
  {
   "cell_type": "markdown",
   "metadata": {},
   "source": [
    "#### 27. Quiz: Marks & Filters II"
   ]
  },
  {
   "cell_type": "markdown",
   "metadata": {},
   "source": [
    "**Task List**:\n",
    "\n",
    "* Assure you are starting with a clean sheet. \n",
    "* Move Profit to the Rows and Order Date to the Columns. Assure the Order Date is continuous.  \n",
    "* Move Segment to the Color portion of the Marks table  \n",
    "* Drill down in the Order Date to the monthly level.  \n",
    "* Select the Color portion of the Marks table and try changing the colors for your visual. \n",
    "* Additionally, you can change the Opacity and Markers in your plot.  \n",
    "* Move the Segment to the Size portion of the Marks table.  \n",
    "* Change the Segment back to Color instead of Size. \n",
    "* Name this chart and create a new worksheet. I named mine LineChart1.  \n",
    "* Check you are on a new, blank worksheet. \n",
    "* Move Profit to the Columns and Region and Sub-Category to the Rows.  \n",
    "* Move Profit to Color in the Marks table.   \n",
    "* Move Sub-Category into the Filters table and select OK. \n",
    "* In the drop down menu of Sub-Category in the Filters table select Show Filter.  \n",
    "* Select the Sort bar in the top menu. \n",
    "* Select the menu on the Filter in the top right. Change your filter to Multiple Values (Drop Down). \n",
    "* Use the previous concept Text: Marks & Filters II to help if you can't find the menu.  \n",
    "* Name this chart and create a new worksheet. I named mine BarChart2."
   ]
  },
  {
   "cell_type": "markdown",
   "metadata": {},
   "source": [
    "**QUIZ QUESTION**:\n",
    "\n",
    "1. Match each segment to the appropriate statement.\n",
    "    * Home Office - Highest profiting segment in November 2011\n",
    "    * Consumer - Lowest profiting segment in January 2011\n",
    "    * Corporate - Lowest profiting segment in February of 2013\n",
    "    \n",
    "2. Which color palette should be used for an audience that is sensitive to color-blindness?\n",
    "    * [x] Blue-Orange palette.  \n",
    "    * [ ] Red-Green palette.  \n",
    "    * [ ] Different shades of blue only.  \n",
    "    * [ ] Different shades of green only.\n",
    "\n",
    "3. Which of the below statements is true for using Size as the visual encoding for Segment? \n",
    "    * [ ] This is an easy way to be able to see the difference in segments.  \n",
    "    * [ ] This is a better way to encode than color. \n",
    "    * [x] This visual encoding is not great. It is hard to see what is going on in the plot.\n",
    "\n",
    "4. Mark all the below that are true for the visual encoding of Profit. \n",
    "    * [x] Color  \n",
    "    * [ ] Shape  \n",
    "    * [ ] Area  \n",
    "    * [x] Length\n",
    "\n",
    "5. Use your filters to match each Region to the appropriate description.\n",
    "    * EMEA - This region lost money on Chairs\n",
    "    * Canada - This region had the lowest profits on Phones\n",
    "    * South - This region lost the most money on Machines\n",
    "    * Southeast Asia - This region lost a lot of money on Envelopes and Fasteners\n",
    "    * West - This region had the highest profits on binders"
   ]
  },
  {
   "cell_type": "markdown",
   "metadata": {},
   "source": [
    "#### 28. Video: Show Me"
   ]
  },
  {
   "cell_type": "markdown",
   "metadata": {},
   "source": [
    "`pass`"
   ]
  },
  {
   "cell_type": "markdown",
   "metadata": {},
   "source": [
    "#### 29. Text: Show Me"
   ]
  },
  {
   "cell_type": "markdown",
   "metadata": {},
   "source": [
    "**Show Me**\n",
    "\n",
    "The Show Me feature is a quick way to start with a basic graph which you can add to afterwards. You can find it in the **top-right of the sheet**. You can see it in action below.\n",
    "\n",
    "You can see that **side-by-side bars** wants one or more **dimensions** and one or more **measures**. Try selecting Market, Category, and Profit. You can hold command control (depending on your operating system) and click on **multiple fields to select them**. With those selected, select side-by-side bars and it’ll make the graph for you.\n",
    "\n",
    "From there you can **customize the graph**. Show Me is usually a good start once you decide what you want to look at or show. Feel free to take some time to play around with the Show Me panel, there are a lot of different plots you can make."
   ]
  },
  {
   "cell_type": "markdown",
   "metadata": {},
   "source": [
    "#### 30. Quiz: Show Me"
   ]
  },
  {
   "cell_type": "markdown",
   "metadata": {},
   "source": [
    "**Task List**:\n",
    " \n",
    "* Assure you are on a new sheet. \n",
    "* Simultaneously select **Market, Category, and Profit**. Notice the plots available.\n",
    "* Select the side by side bar charts. \n",
    "* Create a new sheet or clear your current sheet.  \n",
    "* Simultaneously select **Country and Profit**. \n",
    "* Select the **Map from Show Me** that looks shaded (not the one with the circles).  \n",
    "* Drag **Country** to the **Filters** table. \n",
    "* Select **Show Filter** from the drop down menu associated with Country in the Filters table.  \n",
    "* Change the Filter to **Multiple Values** (dropdown)  \n",
    "* Select different countries to see the updates. Cool right!  \n",
    "* Add a similar filter for **Sub-Category**.  "
   ]
  },
  {
   "cell_type": "markdown",
   "metadata": {},
   "source": [
    "**QUIZ QUESTION**:\n",
    "\n",
    "1. How can we improve the default visual? This should match the Text: Show Me. (Select all that apply)\n",
    "    * [x] These colors should be changed, as the current colors are distracting. \n",
    "    * [ ] Change from a bar to a pie chart, because showing area is less deceiving than showing bar length. \n",
    "    * [x] Provide filters to look into specific markets or categories one at a time.  \n",
    "    * [ ] None it is perfect.\n",
    "\n",
    "2. Use your new map with the filters to match the description, to their corresponding Profit.\n",
    "    * Profit for Bookcases in the United States - `-3,473`  \n",
    "    * All Profits in Brazil - `30,090`\n",
    "    * Profit for Art in India - `1,913`\n",
    "    * Profit for Binders in Indonesia - `887`\n",
    "    * Profit for Phones in France - `7,780`"
   ]
  },
  {
   "cell_type": "markdown",
   "metadata": {},
   "source": [
    "#### 31. Video: Small Multiples & Dual Axis"
   ]
  },
  {
   "cell_type": "markdown",
   "metadata": {},
   "source": [
    "`pass`"
   ]
  },
  {
   "cell_type": "markdown",
   "metadata": {},
   "source": [
    "#### 32. Text: Small Multiples & Dual Axis"
   ]
  },
  {
   "cell_type": "markdown",
   "metadata": {},
   "source": [
    "**Small multiples**\n",
    "\n",
    "Small multiples are **one of my favorite visualization techniques** and Tableau loves them too. Simply **dragging multiple dimensions to the Columns and Rows shelves** creates a small multiple. You saw this before when learning about **hierarchies**.\n",
    "\n",
    "Here we have four separate plots showing how the **profit** grows each **quarter** through the **four years** in the data set. You'll notice the plots are distributed horizontally due to the Order Date fields in the Columns shelf.\n",
    "\n",
    "But, what's driving this growth? Maybe one category is the **profit** leader. You can see this by **dragging Category to the Rows shelf**. This will create more plots with the data split by Category distributed vertically.\n",
    "\n",
    "**Dual Axis**\n",
    "\n",
    "Sometimes you'll want to compare two variables on one plot. If you **drag two measures to the Rows shelf**, you get two plots instead of one. For example, let's try plotting both the profit and sales on one figure. Drag Profit and Sales to the Rows shelf, you should get something like the image below.\n",
    "\n",
    "Here you get two plots, but we really just want one. You can convert this to both lines on one plot by **opening the menu one of the measure pills and selecting \"Dual Axis\"**.\n",
    "\n",
    "You can do a little shortcut by **dragging the second measure to the right side of the view**."
   ]
  },
  {
   "cell_type": "markdown",
   "metadata": {},
   "source": [
    "#### 33. Text: Map Configuration"
   ]
  },
  {
   "cell_type": "markdown",
   "metadata": {},
   "source": [
    "**Map Configuration**\n",
    "\n",
    "If you are taking this course outside of the United States, you will need to change your configuration to the United States using the directions linked in the title above in order to achieve the same results as shown in the videos and quizzes.\n",
    "\n",
    "Link to Tableau's instructions on how to do [this](http://onlinehelp.tableau.com/current/pro/desktop/en-us/maps_editlocation.html)"
   ]
  },
  {
   "cell_type": "markdown",
   "metadata": {},
   "source": [
    "#### 34. Quiz: Small Multiples"
   ]
  },
  {
   "cell_type": "markdown",
   "metadata": {},
   "source": [
    "**Task List**:\n",
    " \n",
    "* Assure you are working with a clean worksheet.  \n",
    "* Change Order Date to discrete if it isn't already. \n",
    "* Drag Order Date to Columns and Profit and Category into Rows.  \n",
    "* Drill to the Quarter level, and then drill to the Month level.    \n",
    "* Create a new worksheet or clear your current worksheet.  \n",
    "* Double click State. Add Profit to Color on the Marks table.   \n",
    "* Add Category to the Rows."
   ]
  },
  {
   "cell_type": "markdown",
   "metadata": {},
   "source": [
    "**QUIZ QUESTION**:\n",
    "\n",
    "1. Sometimes small multiples can help us see elements about our data that might otherwise be hard to see. Use your visual to mark all the below that are true.\n",
    "    * [x] There was an increasing trend in Profit for Office Supplies in Q3 of 2011.  \n",
    "    * [x] There was a decreasing trend in Profit for Furniture in Q1 of 2013. \n",
    "    * [x] There was an increasing trend in Profit for Technology in Q3 of 2014.  \n",
    "    * [x] There was very little change in Profit for Technology in Q1 2012.\n",
    "\n",
    "2. Match each state to the appropriate description.\n",
    "    * California - This state had the largest `total` Profit. \n",
    "    * Vermont - This state had the largest `average` Profit per customer. \n",
    "    * Indiana - This state had the largest `single order` placed in terms of Profit at 8,400. \n",
    "    * Wyoming - This state had the largest `median` Profit at 100\n",
    "\n",
    "3. Match each state to the appropriate description.\n",
    "    * Wyoming - This state only had sales of Furniture, not Office Supplies or Technology. \n",
    "    * North Dakota - This state only had sales of Office Supplies, not Furniture or Technology. \n",
    "    * Texas - This state had the largest total losses on Office Supplies.\n",
    "    * Ohio - This state had the largest total losses on Technology."
   ]
  },
  {
   "cell_type": "markdown",
   "metadata": {},
   "source": [
    "#### 35. Quiz: Dual Axis"
   ]
  },
  {
   "cell_type": "markdown",
   "metadata": {},
   "source": [
    "**Task List**:\n",
    " \n",
    "* Assure you are on a clean worksheet.  \n",
    "* Drag both **Profit and Sales** to the **Rows**. \n",
    "* Drag **Order Date** to the **Columns**. Assure it is **continuous**. Drill to the **Month level**. \n",
    "* Your visual should match the visual under **Dual Axis** in the previous text.  \n",
    "* From the **Sales** drop down select Dual Axis  \n",
    "* Note, you can perform this type of overlap in lots of cases, but it isn't always best."
   ]
  },
  {
   "cell_type": "markdown",
   "metadata": {},
   "source": [
    "**QUIZ QUESTION**:"
   ]
  },
  {
   "cell_type": "markdown",
   "metadata": {},
   "source": [
    "**QUIZ QUESTION**:\n",
    "\n",
    "1. Select the below that is true regarding the downside of this visualization.\n",
    "    * [ ] It is hard to tell the difference between the Sales and Profit lines because they overlap. \n",
    "    * [x] Having two different vertical axes can be confusing for an audience member. \n",
    "    * [ ] The dates don't match up."
   ]
  },
  {
   "cell_type": "markdown",
   "metadata": {},
   "source": [
    "#### 36. Video: Groups & Sets"
   ]
  },
  {
   "cell_type": "markdown",
   "metadata": {},
   "source": [
    "`pass`"
   ]
  },
  {
   "cell_type": "markdown",
   "metadata": {},
   "source": [
    "#### 37. Text: Groups & Sets"
   ]
  },
  {
   "cell_type": "markdown",
   "metadata": {},
   "source": [
    "**Groups and Sets**\n",
    "\n",
    "Tableau has **two different methods for grouping together data**, **groups** and **sets**. They are similar but have differences I'll go over.\n",
    "\n",
    "Grouping data points together can help illuminate your message. For instance, if you want to point out the products that are losing money, you'd want to create a group of those products and color them separately from the positive profit products.\n",
    "\n",
    "**Groups**\n",
    "\n",
    "Groups are typically created from the view by **selecting multiple data points in the view**. For example, I wanted to look at the average quantity sold and average profits for the countries in the data set. You should follow along with me so you can get some experience creating groups and sets.\n",
    "\n",
    "There's something interesting here, it looks like there are two clusters with different average quantities. You can look more into this by grouping together one of the clusters and doing more visualizations. To select the data points with low average quantity, **hold down the mouse and drag a box around the left cluster**. Then you can either **hover over a point** and a small menu will pop up, or **right click on a data point** and a large menu will pop up.\n",
    "\n",
    "From the **hover menu**, you can create the group by **clicking the link icon** (it looks like a **paperclip** to me). From the **right-click menu**, **select \"Group\"**. You should see something like the image below.\n",
    "\n",
    "Now there is a group called **Country (group) 1**, this is the group you just created. I renamed the group to \"**Low Quantity Countries**\". The group is really just a list of the countries you selected in the view as you can see below in the **\"Edit Group\" menu**.\n",
    "\n",
    "Now that you have the group created, you can use it in other sheets. For instance, create a map that shows how the low quantity countries are distributed in the world.\n",
    "\n",
    "Here I used the group we **created (Low Quantity Countries) to color the map**. The blue countries are the ones in the group, the ones with low average quantity. It's apparent that most of these countries are in Africa, the Middle East, and Eastern Europe.\n",
    "\n",
    "**Sets**\n",
    "\n",
    "Sets are similar to groups in that you can **select data points and create a set from them**. However, sets can be **dynamic** where the members of the set will change as the underlying data changes. Groups on the other hand are **static**, the members will always be the members.\n",
    "\n",
    "For example, say you want to see how your poor performing products are affecting the overall profits. You can create a set from the product names or IDs which lose money, where the average profit is below zero. To create the set, open the menu for the Product Name field and choose **Create > Set…**\n",
    "\n",
    "This will bring up the menu for editing a set. Click the \"**Condition**\" tab. Then select By **field: Profit Average < 0** as seen below.\n",
    "\n",
    "This will **create a set of products** where the average profit is less than zero. We can use the set in plots to encode these products that are losing money. Let's look at the total profits for the different sub-categories of products.\n",
    "\n",
    "With the set you just made, you can **split these bars into losses and gains**. The red bars are showing how much money is lost due to the bad products. It looks like Office Supplies products are almost all winners, but Furniture is losing a lot of money."
   ]
  },
  {
   "cell_type": "markdown",
   "metadata": {},
   "source": [
    "#### 38. Quiz: Groups"
   ]
  },
  {
   "cell_type": "markdown",
   "metadata": {},
   "source": [
    "**Task List**:\n",
    "\n",
    "* Move **Profit** to the **Rows** and **Quantity** to the **Columns**. Change to **AVG aggregator** for both.  \n",
    "* Move **Country** to the **Detail** portion of the **Marks** table. \n",
    "* Select the points on the left similar to the second image of the text. Right click and select **Group**. \n",
    "* You should see **Country (group)** added to the **Dimensions** in the left margin. \n",
    "* Click the drop down menu for your new group, select **Edit**, and change the name. \n",
    "* Create a new **worksheet**. \n",
    "* Double click **Country** and select the **shaded map** from the Show Me table. \n",
    "* Now move your newly created group to the **Color** portion of the Marks table.  \n",
    "* Assure your map looks like the one below."
   ]
  },
  {
   "cell_type": "markdown",
   "metadata": {},
   "source": [
    "#### 39. Quiz: Sets"
   ]
  },
  {
   "cell_type": "markdown",
   "metadata": {},
   "source": [
    "**Task List**: \n",
    "\n",
    "* Create a new worksheet.  \n",
    "* From the Product Name drop down select Create > Set....  \n",
    "* Select Condition from the top menu. Then By field:.  \n",
    "* Change the Name of your condition to Bad Products.  \n",
    "* Change the Formula to look at where Profit Average < 0. \n",
    "* You should now see a new set created at the bottom of the Data Menu in the left panel.  \n",
    "* Try creating a new visual using your Set! Might be best to color based on the Set."
   ]
  },
  {
   "cell_type": "markdown",
   "metadata": {},
   "source": [
    "**QUIZ QUESTION**:\n",
    "\n",
    "1. Determine what type of grouping is best for each scenario.\n",
    "    * Set - We want to look at which rows have shipping costs under 50. This should updated each time a new item ships for under 50. \n",
    "    * Group - We notice that there are a few outliers in a scatterplot of Price vs. Sales, and we want to look at how those items are related to one another in a plot of shipping costs. \n",
    "    * Neither a Group nor Set - We want to create 5 categories of profits - very high, high, medium, low, and very low performers."
   ]
  },
  {
   "cell_type": "markdown",
   "metadata": {},
   "source": [
    "#### 40. Video: Calculated Fields"
   ]
  },
  {
   "cell_type": "markdown",
   "metadata": {},
   "source": [
    "`pass`"
   ]
  },
  {
   "cell_type": "markdown",
   "metadata": {},
   "source": [
    "#### 41. Text: Calculated Fields"
   ]
  },
  {
   "cell_type": "markdown",
   "metadata": {},
   "source": [
    "**Calculated fields**\n",
    "\n",
    "There will be times when you want to look at something but there isn't a specific field for it. For instance, maybe you want to know the **profit per item** for each order record. It seems pretty simple, just **divide profit by order** for each record, then **aggregate** it, but how do you actually do the division in Tableau?\n",
    "\n",
    "The answer is **calculated fields**. Calculated fields let you **create new fields** to use in your visualizations. If you have experience working with formulas in Excel, creating calculated fields should feel pretty similar.\n",
    "\n",
    "To create a calculated field, **open the menu on a field** (such as Profit), then **Create > Calculated Field…**. You can also create one by clicking on \"**Analysis**\" in the top menu bar, then selected \"**Create Calculated Field…**\"\n",
    "\n",
    "If you don't see the **functions panel**, click on the **little triangle** on the right edge of the editor.\n",
    "\n",
    "Fields in the editor show up in brackets, like **[Profit]**. You can **do simple arithmetic** here, like adding a constant, or multiplying the field. You can also **use functions** such as absolute value, sine, square root, etc. If you want to make a field all positive, you'd do **ABS([Profit])**. There is a list of functions on the right and some short documentation is shown when you select one.\n",
    "\n",
    "Here we want to create a new field that calculates the profit per item for each record. It's pretty simple, just **[Profit]/[Quantity]** which I've done below. I also **renamed the calculated field** to \"Profit per item\".\n",
    "\n",
    "Once you hit **\"OK\"** and create it, the new field shows up in the data pane. You can use it just like any other field. I made a plot of the average profit per item for each sub-category.\n",
    "\n",
    "You can see the **Profit per item field** on the left. The little equals sign `=#` next to the name **means it is a calculated field**. Now this field has the profit per item for each record. We want to know the **average profit per item** for each sub-category, so drag it to Columns and do an average aggregation.\n",
    "\n",
    "**Aggregation in Calculated Fields**\n",
    "\n",
    "You can also do aggregation directly in a calculated field. For instance, we can also calculate the profit per item by **SUM([Profit])/SUM([Quantity])**. The SUM() functions are aggregations just like you do with fields in views.\n",
    "\n",
    "The two methods for calculating the profit per item look basically the same, but there are some discrepancies like in \"Tables\". I'm going to look at this a little closer so you can see how Tableau works a bit better.\n",
    "\n",
    "If I expand the table to products…\n",
    "\n",
    "Now we see there are some weird things going on. A lot of the results from the two methods are extremely different. The third product has a profit per item of **$9 or -$5**. Looking at the values of Profit and Quantity, **it appears that the aggregation method (SUM([Profit])/SUM([Quantity]) is doing the right thing**. I'll dig down to individual records to see what's happening.\n",
    "\n",
    "At the row level, the two calculations are the same. **It's the averaging of the [Profit]/[Quantity] calculation that is causing the difference**. For the the \"Atlantic Mobile 4-Shelf Bookcases\" product, all the ratios are correct. But when you average them, **(28-112+28+42+28+42)/6 = 9.333**, you get what we see at the product name level.\n",
    "\n",
    "The aggregation in the other calculation takes care of that for us. It always calculates the ratios for the level of granularity we're at. You can see the columns Profit and Quantity doing the summation at the level of granularity and the ratio SUM([Profit])/SUM([Quantity]) is taken from those numbers.\n",
    "\n",
    "The two calculations are answering different questions.\n",
    "\n",
    "1. What is the profit ratio **for a single order** within any product or any other category level?\n",
    "    * Use `Average [Profit]/[Quantity]`\n",
    "2. What is the profit ratio **at any level of a category**?\n",
    "    * Use `SUM([Profit])/SUM([Quantity])`\n",
    "\n",
    "It's important to make sure you are answering the right question when working with data!\n",
    "\n",
    "**Conditional statements**\n",
    "\n",
    "As in Excel and most programming languages, you can use conditional statements like `IF`, `THEN`, `ELS`E in calculations. For example to make a new field to categorize sales as \"good\" and bad\", you could do:\n",
    "\n",
    "`IF SUM([Sales]) > 10000 THEN \"Good\" ELSE \"Bad\"`\n",
    "\n",
    "You'll use this pattern a lot, there is a short hand version with the function IIF. The function works like `IIF(conditions, if true, if false)`\n",
    "\n",
    "`IIF(SUM([Sales]) > 10000, \"Good\", \"Bad\")`\n",
    "\n",
    "**Calculations with strings**\n",
    "\n",
    "Much of the time you'll find yourself working with strings (text) like the product names in this data set. In calculations, you can do things like split up words in a string, find words in a string, and concatenate strings.\n",
    "\n",
    "Here's a great tutorial [video](http://www.tableau.com/learn/tutorials/on-demand/string-calculations) from Tableau and a [blog](http://www.clearlyandsimply.com/clearly_and_simply/2014/06/string-calculations-in-tableau.html) post with a bunch of in depth examples.\n",
    "\n",
    "**More on calculated fields**\n",
    "\n",
    "There is a lot to learn about calculate fields that's outside the scope of this lesson. If you want to know more about calculated fields, the Tableau [documentation](https://onlinehelp.tableau.com/current/pro/desktop/en-us/calculations_calculatedfields.html) is a great place to start. As you're working with Tableau, be sure to visit the documentation often."
   ]
  },
  {
   "cell_type": "markdown",
   "metadata": {},
   "source": [
    "#### 42. Quiz: Calculated Fields"
   ]
  },
  {
   "cell_type": "markdown",
   "metadata": {},
   "source": [
    "**Task List**:\n",
    " \n",
    "* Assure you are on a new worksheet. \n",
    "* From the Profit drop down, select Create > Calculated Field.... \n",
    "* Change Calculation1 to Profit per Item, and the equation to [Profit]/[Quantity]. Name this Profit per Item. Hit OK.  \n",
    "* Notice your new column exists within the measures. \n",
    "* Move Profit per Item to the Columns, and change to AVG aggregator. Move Sub-Category to the Rows.   \n",
    "* Assure you are on a new worksheet. \n",
    "* From the Quantity drop down, select Create > Calculated Field.... \n",
    "* Change Calculation1 to Quantity Factor, and complete Quizzes 2 and 3 below to assist with the statement you will write next.  \n",
    "* Write an IIF Statement for 'High', 'Medium', and 'Low' categories of Quantity Factor with cutoffs at 3 and 8. \n",
    "* Move the Quantity Factor to the Rows and Category to the Columns. \n",
    "* In the drop down menu on Quantity Factor select Measure > count. \n",
    "* Move another Quantity Factor to the Columns. My image is at the bottom for your reference."
   ]
  },
  {
   "cell_type": "markdown",
   "metadata": {},
   "source": [
    "**QUIZ QUESTION**:\n",
    "\n",
    "1. Move each Sub-Category item to its corresponding description.\n",
    "    * Fasteners - This item is the lowest profiting item while still being positive. \n",
    "    * Chairs - On this Item we make an average profit of 11.72. \n",
    "    * Copiers - This is our highest profit/item item. \n",
    "    * Tables - This is our lowest profit/item item. \n",
    "\n",
    "2. For the calculated field of `IIF([Quantity] < 2, 'Low', 'High')` match the following values to their corresponding result.\n",
    "    * 1 - 'Low'\n",
    "    * 3 - 'High'\n",
    "    * 2 - 'High'\n",
    "    * -1 - 'Low'\n",
    "\n",
    "3. For the calculated field of `IIF([Quantity] < 2, 'Low', IIF([Quantity] < 5, 'Medium', 'High'))` match the following values to their corresponding result.\n",
    "    * 1 - 'Low'\n",
    "    * 3 - 'Medium'\n",
    "    * 2 - 'Medium'\n",
    "    * 8 - 'High'\n",
    "    * -1 - 'Low'\n",
    "\n",
    "4. Which of the below statements is true regarding the final visual you created? \n",
    "    * [ ] Most orders have less than 2 of any item sold. \n",
    "    * [ ] The distributions of 'Low', 'Medium', and 'High' are proportionally very different across different categories.  \n",
    "    * [ ] More technology items appear to sell than any other items.  \n",
    "    * [x] Most orders have between 3 and 8 items sold."
   ]
  },
  {
   "cell_type": "markdown",
   "metadata": {},
   "source": [
    "#### 43. Video: Table Calculations"
   ]
  },
  {
   "cell_type": "markdown",
   "metadata": {},
   "source": [
    "`pass`"
   ]
  },
  {
   "cell_type": "markdown",
   "metadata": {},
   "source": [
    "#### 44. Text: Table Calculations"
   ]
  },
  {
   "cell_type": "markdown",
   "metadata": {},
   "source": [
    "**Table Calculations**\n",
    "\n",
    "Table calculations can be really useful for helping you to **compare the data that exists in a plot to other parts of the plot**. This is easier to understand by just doing it - so let's look at an example.\n",
    "\n",
    "Let's compare the amount of profit from one market to the next.\n",
    "\n",
    "Great, but what if we want to **compare the percent of profits from each market to the total profit**.\n",
    "\n",
    "This can be done by doing a Table Calculation. Select the **drop down associated with SUM(Profit)**, and select **Quick Table Calculation... > Percent of Total**. Alternatively, it could be useful to look at compounding profit, which is also easily done from the same menu.\n",
    "\n",
    "A lot of table calculations work well for line plots. Let's take a look at an example. Add the Order Date to the Columns and Sales to the Rows. Make sure the **Order Date is continuous**. Drill down to the **Quarter level**, and select **Quick Table Calculation... > Percent Difference**.\n",
    "\n",
    "In order to get a better idea of how things are moving over time, we might use a **moving average**. You can see below how this is done using the table calculations. Additionally, I broke out the **Category** to see how things change over time for each.\n",
    "\n",
    "This plot is great for seeing the trend of the data, and that sales are increasing, but they aren't great for seeing how sales are changing over time from one quarter to the next. Instead, the last question on the next concept requires the plot below."
   ]
  },
  {
   "cell_type": "markdown",
   "metadata": {},
   "source": [
    "#### 45. Quiz: Table Calculations"
   ]
  },
  {
   "cell_type": "markdown",
   "metadata": {},
   "source": [
    "**Task List**:\n",
    " \n",
    "* Assure you are working with a clean worksheet. \n",
    "* Move **Profit** to the Rows and **Market** to the Columns. **Sort** your bar chart from highest to lowest. \n",
    "* Select the drop down associated with **SUM(Profit)** and select Quick **Table Calculation > Percent of Total.**\n",
    "* Create a new worksheet. \n",
    "* Make sure Order Date is **continuous**, and move it to the Columns. Move **Sales** to the Rows. \n",
    "* Drill down to the **Quarter**, and change the Sales to look at the **Quick Table Calculation > Percent Difference**.  \n",
    "* Move **Category** to the **Color** portion of the Marks table.  "
   ]
  },
  {
   "cell_type": "markdown",
   "metadata": {},
   "source": [
    "**SOLUTIONS**:\n",
    "\n",
    "1. Which of the below is true regarding the bar chart you created?\n",
    "    * [ ] Using Percent of Total is always a better way to view the data, because everything is to scale now. \n",
    "    * [x] Using Percent of Total is better for cases when you want to know the proportion of total profits that went to each market. \n",
    "    * [ ] Using the original SUM(Profit) value chart is better than the Percent of Total, because everything is to scale. \n",
    "    * [ ] There isn't an advantage to one plot over another in any case. Both easily provide the same information.\n",
    "\n",
    "2. This plot shows the percent difference in sales from one quarter to the next. Which of the below statements are true regarding your visual? (Select all that are true) \n",
    "    * [x] All the categories tend to follow similar quarterly trends? \n",
    "    * [x] From Q1 to Q2 tends to have the largest positive percent change for sales. \n",
    "    * [x] From Q4 of the previous year to Q1 of the next year tends to have the largest negative percent change for sales."
   ]
  },
  {
   "cell_type": "markdown",
   "metadata": {},
   "source": [
    "#### 46. Text: Recap"
   ]
  },
  {
   "cell_type": "markdown",
   "metadata": {},
   "source": [
    "#### **Recap & Next Steps**\n",
    "\n",
    "Though there is a ton you can do with Tableau, you are now ready to take on essentially building any visual in Tableau! You have come a long way in a short amount of time, and you should feel comfortable navigating the many facets of the Tableau environment!\n",
    "\n",
    "Below are the topics that were covered in this section. In the next section, you will watch a professional navigate Tableau to gain a few tips, and you will see a few advanced features of Tableau like dashboards and stories\n",
    "\n",
    "**Topics Covered**\n",
    "\n",
    "There are a lot of ways you can interact with data using Tableau. This lesson is going to cover A LOT of information. Don't worry if you don't memorize where everything is stored. The goal is to gain familiarity with Tableau, so you aren't afraid to explore beyond the course materials on your own.\n",
    "\n",
    "Even the below summary might seem overwhelming. It is just here to assist as a nice template of what is to come. Don't worry if you don't follow it all right now. That is what this lesson is for!\n",
    "\n",
    "With that, here are the areas this lesson will cover:\n",
    "\n",
    "**I. Connecting to Data**\n",
    "\n",
    "In this section, you will get started with **importing data into Tableau**. **Tableau public** has fewer options, but **paid versions of Tableau** are quite extensive connecting directly to databases and cloud based data storage systems.\n",
    "\n",
    "**II. Combining Data**\n",
    "\n",
    "In this section, you will learn how to **connect data from multiple sources** for use in your visuals. If you are comfortable with SQL joins, this section should be second nature.\n",
    "\n",
    "**III. Worksheets**\n",
    "\n",
    "The visuals you create will be stored in **worksheets**. This is the template we will be working in for this course.\n",
    "\n",
    "**IV. Aggregations**\n",
    "\n",
    "Tableau performs **aggregations of our data by default**. In this section, you will learn more about how to work with different aggregations, as well as how to break your aggregations into a more granular level of the data.\n",
    "\n",
    "**V. Hierarchies**\n",
    "\n",
    "Hierarchies allow you to **'drill' into your data and questions at different levels**. One of the easiest ways to think of hierarchies is in relation to time. You could look at **your data at a year, month, day, hour, or another level**. Moving across these levels is considered working with hierarchies.\n",
    "\n",
    "You can also perform hierarchical calculations in other ways. Imagine you have a **different companies, with different departments, and teams within those departments**. This creates a hierarchy that you might want to analyze at different levels.\n",
    "\n",
    "**VI. Marks & Filters**\n",
    "\n",
    "**Filtering** is one of the most powerful techniques in creating dashboards. This relates to the marks portion of a dashboard, which controls the **colors, shapes and other attributes of our data**. You can think of this like a **WHERE statement in SQL** used to filter your data to only the parts you are interested in for a specific question.\n",
    "\n",
    "**VII. Show Me**\n",
    "\n",
    "The Show Me portion of Tableau controls **what your ending visual looks like**. There are a lot of options here. In most cases, Tableau will guess what visual you want to create, but sometimes you might have your own ideas for implementation.\n",
    "\n",
    "**VIII. Small Multiples & Dual Axis**\n",
    "\n",
    "Small multiples & dual charts are a way to **visualize data that needs to share an axis for comparison purposes**. [This](http://www.evolytics.com/blog/tableau-201-how-to-make-small-multiples/) and [this](http://onlinehelp.tableau.com/current/pro/desktop/en-us/multiplemeasures_dualaxes.html) are great articles for explaining how these two parts of Tableau work and why you might use them.\n",
    "\n",
    "**IX. Groups & Sets**\n",
    "\n",
    "Groups and sets are two ways to **categorize our data within a visualization**. The difference between these two can be confusing, but we will see when and why you would use each.\n",
    "\n",
    "**X. Calculated Fields**\n",
    "\n",
    "Often you might add these fields to your dataset before adding your data to Tableau, but sometimes you want to add them to a visualization on the fly. Many of these calculated fields are things you have probably done in a spreadsheets application like finding a total or a cost per item.\n",
    "\n",
    "**XI. Table Calculations**\n",
    "\n",
    "Table calculations are often used to **perform comparisons of our data over time or between groups**. A great article on table calculations is available [here](https://www.tableau.com/about/blog/2017/2/top-10-tableau-table-calculations-65417).\n",
    "\n",
    "**Final Thoughts**\n",
    "\n",
    "These shouldn't feel so daunting anymore. To continue learning about Tableau, definitely feel free to practice any of the previous concepts, but also check out the content on [Tableau](https://www.tableau.com/learn/training). Creating an account is free, and they have a ton of resources to help you continue advancing your skills!"
   ]
  },
  {
   "cell_type": "markdown",
   "metadata": {},
   "source": [
    "#### 47. Video: What's Next?"
   ]
  },
  {
   "cell_type": "markdown",
   "metadata": {},
   "source": [
    "So now you have the basics of Tableau. What you want to do next is to collect your figures into a dashboard or a story. With these you can share your plots with others and easily make them interactive, so they can poke around your data."
   ]
  }
 ],
 "metadata": {
  "kernelspec": {
   "display_name": "Python 3",
   "language": "python",
   "name": "python3"
  },
  "language_info": {
   "codemirror_mode": {
    "name": "ipython",
    "version": 3
   },
   "file_extension": ".py",
   "mimetype": "text/x-python",
   "name": "python",
   "nbconvert_exporter": "python",
   "pygments_lexer": "ipython3",
   "version": "3.7.3"
  }
 },
 "nbformat": 4,
 "nbformat_minor": 2
}
