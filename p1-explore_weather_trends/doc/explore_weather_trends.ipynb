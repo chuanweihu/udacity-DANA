{
 "cells": [
  {
   "cell_type": "markdown",
   "metadata": {},
   "source": [
    "# Exploring Weather Trends"
   ]
  },
  {
   "cell_type": "markdown",
   "metadata": {},
   "source": [
    "In this project, I will analyze local and global temperature data and compare the temperature trends where you live (ShenZhen, China) to overall global temperature trends."
   ]
  },
  {
   "cell_type": "markdown",
   "metadata": {},
   "source": [
    "My goal is to create a visualization and prepare a write up describing the similarities and differences between global temperature trends and temperature trends in the closest big city to where you live.\n",
    "there are five steps below:\n",
    "\n",
    "- Find the Nearest City\n",
    "- Find the Period of Time\n",
    "- Merge Two Tables\n",
    "- Calculate Years Simple Moving Average\n",
    "- Create a Line Chart\n",
    "- Make Observations about Similarities and Differences"
   ]
  },
  {
   "cell_type": "markdown",
   "metadata": {},
   "source": [
    "There are three tables in the database:\n",
    "\n",
    "- city_list - This contains a list of cities and countries in the database. Look through them in order to find the city nearest to you\n",
    "- city_data - This contains the average temperatures for each city by year (ºC)\n",
    "- global_data - This contains the average global temperatures by year (ºC)"
   ]
  },
  {
   "cell_type": "code",
   "execution_count": 1,
   "metadata": {},
   "outputs": [],
   "source": [
    "import pandas as pd\n",
    "import matplotlib.pyplot as plt\n",
    "%matplotlib inline\n",
    "\n",
    "import os\n",
    "\n",
    "PROJECT_ROOT_DIR = \"..\"\n",
    "IMAGES_PATH = \"../images\"\n",
    "\n",
    "def save_fig(fig_id, tight_layout=True, fig_extension=\"png\", resolution=300):\n",
    "    path = os.path.join(IMAGES_PATH, fig_id+\".\"+fig_extension)\n",
    "    print(\"Saving figure\", fig_id)\n",
    "    if tight_layout:\n",
    "        plt.tight_layout()\n",
    "    plt.savefig(path, format=fig_extension, dpi=resolution)"
   ]
  },
  {
   "cell_type": "markdown",
   "metadata": {},
   "source": [
    "## 1. Nearest City"
   ]
  },
  {
   "cell_type": "code",
   "execution_count": 2,
   "metadata": {
    "scrolled": true
   },
   "outputs": [
    {
     "name": "stdout",
     "output_type": "stream",
     "text": [
      "\u001b[31mcity_data.csv\u001b[m\u001b[m*   \u001b[31mcity_list.csv\u001b[m\u001b[m*   \u001b[31mglobal_data.csv\u001b[m\u001b[m*\r\n"
     ]
    }
   ],
   "source": [
    "ls ../data/"
   ]
  },
  {
   "cell_type": "code",
   "execution_count": 3,
   "metadata": {},
   "outputs": [],
   "source": [
    "df_city = pd.read_csv(\"../data/city_list.csv\")"
   ]
  },
  {
   "cell_type": "code",
   "execution_count": 4,
   "metadata": {},
   "outputs": [
    {
     "data": {
      "text/html": [
       "<div>\n",
       "<style scoped>\n",
       "    .dataframe tbody tr th:only-of-type {\n",
       "        vertical-align: middle;\n",
       "    }\n",
       "\n",
       "    .dataframe tbody tr th {\n",
       "        vertical-align: top;\n",
       "    }\n",
       "\n",
       "    .dataframe thead th {\n",
       "        text-align: right;\n",
       "    }\n",
       "</style>\n",
       "<table border=\"1\" class=\"dataframe\">\n",
       "  <thead>\n",
       "    <tr style=\"text-align: right;\">\n",
       "      <th></th>\n",
       "      <th>city</th>\n",
       "      <th>country</th>\n",
       "    </tr>\n",
       "  </thead>\n",
       "  <tbody>\n",
       "    <tr>\n",
       "      <th>0</th>\n",
       "      <td>Abidjan</td>\n",
       "      <td>Côte D'Ivoire</td>\n",
       "    </tr>\n",
       "    <tr>\n",
       "      <th>1</th>\n",
       "      <td>Abu Dhabi</td>\n",
       "      <td>United Arab Emirates</td>\n",
       "    </tr>\n",
       "    <tr>\n",
       "      <th>2</th>\n",
       "      <td>Abuja</td>\n",
       "      <td>Nigeria</td>\n",
       "    </tr>\n",
       "    <tr>\n",
       "      <th>3</th>\n",
       "      <td>Accra</td>\n",
       "      <td>Ghana</td>\n",
       "    </tr>\n",
       "    <tr>\n",
       "      <th>4</th>\n",
       "      <td>Adana</td>\n",
       "      <td>Turkey</td>\n",
       "    </tr>\n",
       "  </tbody>\n",
       "</table>\n",
       "</div>"
      ],
      "text/plain": [
       "        city               country\n",
       "0    Abidjan         Côte D'Ivoire\n",
       "1  Abu Dhabi  United Arab Emirates\n",
       "2      Abuja               Nigeria\n",
       "3      Accra                 Ghana\n",
       "4      Adana                Turkey"
      ]
     },
     "execution_count": 4,
     "metadata": {},
     "output_type": "execute_result"
    }
   ],
   "source": [
    "df_city.head()"
   ]
  },
  {
   "cell_type": "code",
   "execution_count": 5,
   "metadata": {},
   "outputs": [
    {
     "data": {
      "text/plain": [
       "United States    52\n",
       "China            34\n",
       "India            22\n",
       "Brazil           11\n",
       "Pakistan          9\n",
       "                 ..\n",
       "France            1\n",
       "Latvia            1\n",
       "Mongolia          1\n",
       "Ghana             1\n",
       "Angola            1\n",
       "Name: country, Length: 137, dtype: int64"
      ]
     },
     "execution_count": 5,
     "metadata": {},
     "output_type": "execute_result"
    }
   ],
   "source": [
    "df_city.country.value_counts()"
   ]
  },
  {
   "cell_type": "code",
   "execution_count": 6,
   "metadata": {},
   "outputs": [],
   "source": [
    "df_cn = df_city.query(\"country=='China'\")"
   ]
  },
  {
   "cell_type": "code",
   "execution_count": 7,
   "metadata": {},
   "outputs": [
    {
     "data": {
      "text/plain": [
       "Chengdu      1\n",
       "Foshan       1\n",
       "Hefei        1\n",
       "Hangzhou     1\n",
       "Lanzhou      1\n",
       "Datong       1\n",
       "Jinan        1\n",
       "Luoyang      1\n",
       "Nanchang     1\n",
       "Changzhou    1\n",
       "Jilin        1\n",
       "Suzhou       1\n",
       "Xuzhou       1\n",
       "Kunming      1\n",
       "Shenyang     1\n",
       "Guangzhou    1\n",
       "Taiyuan      1\n",
       "Xian         1\n",
       "Anshan       1\n",
       "Dalian       1\n",
       "Wuhan        1\n",
       "Wuxi         1\n",
       "Qiqihar      1\n",
       "Shanghai     1\n",
       "Nanjing      1\n",
       "Tangshan     1\n",
       "Fuzhou       1\n",
       "Harbin       1\n",
       "Tianjin      1\n",
       "Nanning      1\n",
       "Changchun    1\n",
       "Qingdao      1\n",
       "Guiyang      1\n",
       "Handan       1\n",
       "Name: city, dtype: int64"
      ]
     },
     "execution_count": 7,
     "metadata": {},
     "output_type": "execute_result"
    }
   ],
   "source": [
    "df_cn.city.value_counts()"
   ]
  },
  {
   "cell_type": "markdown",
   "metadata": {},
   "source": [
    "**Solution**\n",
    "\n",
    "By looking through the upper table, I found that `Guangzhou` is nearest from `ShenZhen`."
   ]
  },
  {
   "cell_type": "markdown",
   "metadata": {},
   "source": [
    "## 2. Period of Time"
   ]
  },
  {
   "cell_type": "code",
   "execution_count": 8,
   "metadata": {},
   "outputs": [],
   "source": [
    "df_city = pd.read_csv(\"../data/city_data.csv\")"
   ]
  },
  {
   "cell_type": "code",
   "execution_count": 9,
   "metadata": {},
   "outputs": [
    {
     "name": "stdout",
     "output_type": "stream",
     "text": [
      "<class 'pandas.core.frame.DataFrame'>\n",
      "RangeIndex: 71311 entries, 0 to 71310\n",
      "Data columns (total 4 columns):\n",
      "year        71311 non-null int64\n",
      "city        71311 non-null object\n",
      "country     71311 non-null object\n",
      "avg_temp    68764 non-null float64\n",
      "dtypes: float64(1), int64(1), object(2)\n",
      "memory usage: 2.2+ MB\n"
     ]
    }
   ],
   "source": [
    "df_city.info()"
   ]
  },
  {
   "cell_type": "code",
   "execution_count": 10,
   "metadata": {},
   "outputs": [],
   "source": [
    "df_gz = df_city.query(\"city=='Guangzhou'\")"
   ]
  },
  {
   "cell_type": "code",
   "execution_count": 11,
   "metadata": {},
   "outputs": [
    {
     "name": "stdout",
     "output_type": "stream",
     "text": [
      "<class 'pandas.core.frame.DataFrame'>\n",
      "Int64Index: 174 entries, 22729 to 22902\n",
      "Data columns (total 4 columns):\n",
      "year        174 non-null int64\n",
      "city        174 non-null object\n",
      "country     174 non-null object\n",
      "avg_temp    174 non-null float64\n",
      "dtypes: float64(1), int64(1), object(2)\n",
      "memory usage: 6.8+ KB\n"
     ]
    }
   ],
   "source": [
    "df_gz.info()"
   ]
  },
  {
   "cell_type": "code",
   "execution_count": 12,
   "metadata": {},
   "outputs": [
    {
     "data": {
      "text/html": [
       "<div>\n",
       "<style scoped>\n",
       "    .dataframe tbody tr th:only-of-type {\n",
       "        vertical-align: middle;\n",
       "    }\n",
       "\n",
       "    .dataframe tbody tr th {\n",
       "        vertical-align: top;\n",
       "    }\n",
       "\n",
       "    .dataframe thead th {\n",
       "        text-align: right;\n",
       "    }\n",
       "</style>\n",
       "<table border=\"1\" class=\"dataframe\">\n",
       "  <thead>\n",
       "    <tr style=\"text-align: right;\">\n",
       "      <th></th>\n",
       "      <th>year</th>\n",
       "      <th>avg_temp</th>\n",
       "    </tr>\n",
       "  </thead>\n",
       "  <tbody>\n",
       "    <tr>\n",
       "      <th>count</th>\n",
       "      <td>174.000000</td>\n",
       "      <td>174.000000</td>\n",
       "    </tr>\n",
       "    <tr>\n",
       "      <th>mean</th>\n",
       "      <td>1926.500000</td>\n",
       "      <td>21.611207</td>\n",
       "    </tr>\n",
       "    <tr>\n",
       "      <th>std</th>\n",
       "      <td>50.373604</td>\n",
       "      <td>0.485201</td>\n",
       "    </tr>\n",
       "    <tr>\n",
       "      <th>min</th>\n",
       "      <td>1840.000000</td>\n",
       "      <td>20.400000</td>\n",
       "    </tr>\n",
       "    <tr>\n",
       "      <th>25%</th>\n",
       "      <td>1883.250000</td>\n",
       "      <td>21.272500</td>\n",
       "    </tr>\n",
       "    <tr>\n",
       "      <th>50%</th>\n",
       "      <td>1926.500000</td>\n",
       "      <td>21.590000</td>\n",
       "    </tr>\n",
       "    <tr>\n",
       "      <th>75%</th>\n",
       "      <td>1969.750000</td>\n",
       "      <td>21.980000</td>\n",
       "    </tr>\n",
       "    <tr>\n",
       "      <th>max</th>\n",
       "      <td>2013.000000</td>\n",
       "      <td>22.930000</td>\n",
       "    </tr>\n",
       "  </tbody>\n",
       "</table>\n",
       "</div>"
      ],
      "text/plain": [
       "              year    avg_temp\n",
       "count   174.000000  174.000000\n",
       "mean   1926.500000   21.611207\n",
       "std      50.373604    0.485201\n",
       "min    1840.000000   20.400000\n",
       "25%    1883.250000   21.272500\n",
       "50%    1926.500000   21.590000\n",
       "75%    1969.750000   21.980000\n",
       "max    2013.000000   22.930000"
      ]
     },
     "execution_count": 12,
     "metadata": {},
     "output_type": "execute_result"
    }
   ],
   "source": [
    "df_gz.describe()"
   ]
  },
  {
   "cell_type": "code",
   "execution_count": 13,
   "metadata": {},
   "outputs": [],
   "source": [
    "df_global = pd.read_csv(\"../data/global_data.csv\")"
   ]
  },
  {
   "cell_type": "code",
   "execution_count": 14,
   "metadata": {},
   "outputs": [
    {
     "name": "stdout",
     "output_type": "stream",
     "text": [
      "<class 'pandas.core.frame.DataFrame'>\n",
      "RangeIndex: 266 entries, 0 to 265\n",
      "Data columns (total 2 columns):\n",
      "year        266 non-null int64\n",
      "avg_temp    266 non-null float64\n",
      "dtypes: float64(1), int64(1)\n",
      "memory usage: 4.3 KB\n"
     ]
    }
   ],
   "source": [
    "df_global.info()"
   ]
  },
  {
   "cell_type": "code",
   "execution_count": 15,
   "metadata": {},
   "outputs": [
    {
     "data": {
      "text/html": [
       "<div>\n",
       "<style scoped>\n",
       "    .dataframe tbody tr th:only-of-type {\n",
       "        vertical-align: middle;\n",
       "    }\n",
       "\n",
       "    .dataframe tbody tr th {\n",
       "        vertical-align: top;\n",
       "    }\n",
       "\n",
       "    .dataframe thead th {\n",
       "        text-align: right;\n",
       "    }\n",
       "</style>\n",
       "<table border=\"1\" class=\"dataframe\">\n",
       "  <thead>\n",
       "    <tr style=\"text-align: right;\">\n",
       "      <th></th>\n",
       "      <th>year</th>\n",
       "      <th>avg_temp</th>\n",
       "    </tr>\n",
       "  </thead>\n",
       "  <tbody>\n",
       "    <tr>\n",
       "      <th>count</th>\n",
       "      <td>266.000000</td>\n",
       "      <td>266.000000</td>\n",
       "    </tr>\n",
       "    <tr>\n",
       "      <th>mean</th>\n",
       "      <td>1882.500000</td>\n",
       "      <td>8.369474</td>\n",
       "    </tr>\n",
       "    <tr>\n",
       "      <th>std</th>\n",
       "      <td>76.931788</td>\n",
       "      <td>0.584747</td>\n",
       "    </tr>\n",
       "    <tr>\n",
       "      <th>min</th>\n",
       "      <td>1750.000000</td>\n",
       "      <td>5.780000</td>\n",
       "    </tr>\n",
       "    <tr>\n",
       "      <th>25%</th>\n",
       "      <td>1816.250000</td>\n",
       "      <td>8.082500</td>\n",
       "    </tr>\n",
       "    <tr>\n",
       "      <th>50%</th>\n",
       "      <td>1882.500000</td>\n",
       "      <td>8.375000</td>\n",
       "    </tr>\n",
       "    <tr>\n",
       "      <th>75%</th>\n",
       "      <td>1948.750000</td>\n",
       "      <td>8.707500</td>\n",
       "    </tr>\n",
       "    <tr>\n",
       "      <th>max</th>\n",
       "      <td>2015.000000</td>\n",
       "      <td>9.830000</td>\n",
       "    </tr>\n",
       "  </tbody>\n",
       "</table>\n",
       "</div>"
      ],
      "text/plain": [
       "              year    avg_temp\n",
       "count   266.000000  266.000000\n",
       "mean   1882.500000    8.369474\n",
       "std      76.931788    0.584747\n",
       "min    1750.000000    5.780000\n",
       "25%    1816.250000    8.082500\n",
       "50%    1882.500000    8.375000\n",
       "75%    1948.750000    8.707500\n",
       "max    2015.000000    9.830000"
      ]
     },
     "execution_count": 15,
     "metadata": {},
     "output_type": "execute_result"
    }
   ],
   "source": [
    "df_global.describe()"
   ]
  },
  {
   "cell_type": "markdown",
   "metadata": {},
   "source": [
    "**Conclusion**\n",
    "\n",
    "As we can analysis `Guangzhou` and `global` database, we can get the time interval of year between `1840` to `2013`."
   ]
  },
  {
   "cell_type": "code",
   "execution_count": 16,
   "metadata": {},
   "outputs": [],
   "source": [
    "# filter assign year\n",
    "df_global = df_global.query(\"year >= 1840 & year <=2013\")"
   ]
  },
  {
   "cell_type": "code",
   "execution_count": 17,
   "metadata": {},
   "outputs": [
    {
     "data": {
      "text/html": [
       "<div>\n",
       "<style scoped>\n",
       "    .dataframe tbody tr th:only-of-type {\n",
       "        vertical-align: middle;\n",
       "    }\n",
       "\n",
       "    .dataframe tbody tr th {\n",
       "        vertical-align: top;\n",
       "    }\n",
       "\n",
       "    .dataframe thead th {\n",
       "        text-align: right;\n",
       "    }\n",
       "</style>\n",
       "<table border=\"1\" class=\"dataframe\">\n",
       "  <thead>\n",
       "    <tr style=\"text-align: right;\">\n",
       "      <th></th>\n",
       "      <th>year</th>\n",
       "      <th>avg_temp</th>\n",
       "    </tr>\n",
       "  </thead>\n",
       "  <tbody>\n",
       "    <tr>\n",
       "      <th>count</th>\n",
       "      <td>174.000000</td>\n",
       "      <td>174.000000</td>\n",
       "    </tr>\n",
       "    <tr>\n",
       "      <th>mean</th>\n",
       "      <td>1926.500000</td>\n",
       "      <td>8.524713</td>\n",
       "    </tr>\n",
       "    <tr>\n",
       "      <th>std</th>\n",
       "      <td>50.373604</td>\n",
       "      <td>0.469801</td>\n",
       "    </tr>\n",
       "    <tr>\n",
       "      <th>min</th>\n",
       "      <td>1840.000000</td>\n",
       "      <td>7.560000</td>\n",
       "    </tr>\n",
       "    <tr>\n",
       "      <th>25%</th>\n",
       "      <td>1883.250000</td>\n",
       "      <td>8.172500</td>\n",
       "    </tr>\n",
       "    <tr>\n",
       "      <th>50%</th>\n",
       "      <td>1926.500000</td>\n",
       "      <td>8.520000</td>\n",
       "    </tr>\n",
       "    <tr>\n",
       "      <th>75%</th>\n",
       "      <td>1969.750000</td>\n",
       "      <td>8.760000</td>\n",
       "    </tr>\n",
       "    <tr>\n",
       "      <th>max</th>\n",
       "      <td>2013.000000</td>\n",
       "      <td>9.730000</td>\n",
       "    </tr>\n",
       "  </tbody>\n",
       "</table>\n",
       "</div>"
      ],
      "text/plain": [
       "              year    avg_temp\n",
       "count   174.000000  174.000000\n",
       "mean   1926.500000    8.524713\n",
       "std      50.373604    0.469801\n",
       "min    1840.000000    7.560000\n",
       "25%    1883.250000    8.172500\n",
       "50%    1926.500000    8.520000\n",
       "75%    1969.750000    8.760000\n",
       "max    2013.000000    9.730000"
      ]
     },
     "execution_count": 17,
     "metadata": {},
     "output_type": "execute_result"
    }
   ],
   "source": [
    "df_global.describe()"
   ]
  },
  {
   "cell_type": "markdown",
   "metadata": {},
   "source": [
    "## 3. Merge Table"
   ]
  },
  {
   "cell_type": "code",
   "execution_count": 18,
   "metadata": {},
   "outputs": [],
   "source": [
    "# filter \"year\" and \"avg_temp\" columns\n",
    "df1 = df_gz.loc[:, [\"year\", \"avg_temp\"]]"
   ]
  },
  {
   "cell_type": "code",
   "execution_count": 19,
   "metadata": {},
   "outputs": [],
   "source": [
    "df1.rename(columns={\"avg_temp\":\"avg_temp_gz\"});"
   ]
  },
  {
   "cell_type": "code",
   "execution_count": 20,
   "metadata": {},
   "outputs": [],
   "source": [
    "df2 = df_global.loc[:, [\"year\", \"avg_temp\"]]"
   ]
  },
  {
   "cell_type": "code",
   "execution_count": 21,
   "metadata": {},
   "outputs": [],
   "source": [
    "df2.rename(columns={\"avg_temp\":\"avg_temp_global\"});"
   ]
  },
  {
   "cell_type": "code",
   "execution_count": 22,
   "metadata": {},
   "outputs": [],
   "source": [
    "# merge two dataframe with the same columns\n",
    "df = df1.merge(df2, left_on=\"year\", right_on=\"year\", suffixes=(\"_gz\", \"_global\"))"
   ]
  },
  {
   "cell_type": "code",
   "execution_count": 23,
   "metadata": {},
   "outputs": [],
   "source": [
    "df['avg_temp_diff'] = df['avg_temp_gz'] - df['avg_temp_global']"
   ]
  },
  {
   "cell_type": "code",
   "execution_count": 24,
   "metadata": {},
   "outputs": [
    {
     "name": "stdout",
     "output_type": "stream",
     "text": [
      "<class 'pandas.core.frame.DataFrame'>\n",
      "Int64Index: 174 entries, 0 to 173\n",
      "Data columns (total 4 columns):\n",
      "year               174 non-null int64\n",
      "avg_temp_gz        174 non-null float64\n",
      "avg_temp_global    174 non-null float64\n",
      "avg_temp_diff      174 non-null float64\n",
      "dtypes: float64(3), int64(1)\n",
      "memory usage: 6.8 KB\n"
     ]
    }
   ],
   "source": [
    "df.info()"
   ]
  },
  {
   "cell_type": "code",
   "execution_count": 25,
   "metadata": {},
   "outputs": [
    {
     "data": {
      "text/html": [
       "<div>\n",
       "<style scoped>\n",
       "    .dataframe tbody tr th:only-of-type {\n",
       "        vertical-align: middle;\n",
       "    }\n",
       "\n",
       "    .dataframe tbody tr th {\n",
       "        vertical-align: top;\n",
       "    }\n",
       "\n",
       "    .dataframe thead th {\n",
       "        text-align: right;\n",
       "    }\n",
       "</style>\n",
       "<table border=\"1\" class=\"dataframe\">\n",
       "  <thead>\n",
       "    <tr style=\"text-align: right;\">\n",
       "      <th></th>\n",
       "      <th>year</th>\n",
       "      <th>avg_temp_gz</th>\n",
       "      <th>avg_temp_global</th>\n",
       "      <th>avg_temp_diff</th>\n",
       "    </tr>\n",
       "  </thead>\n",
       "  <tbody>\n",
       "    <tr>\n",
       "      <th>0</th>\n",
       "      <td>1840</td>\n",
       "      <td>20.98</td>\n",
       "      <td>7.80</td>\n",
       "      <td>13.18</td>\n",
       "    </tr>\n",
       "    <tr>\n",
       "      <th>1</th>\n",
       "      <td>1841</td>\n",
       "      <td>21.02</td>\n",
       "      <td>7.69</td>\n",
       "      <td>13.33</td>\n",
       "    </tr>\n",
       "    <tr>\n",
       "      <th>2</th>\n",
       "      <td>1842</td>\n",
       "      <td>21.16</td>\n",
       "      <td>8.02</td>\n",
       "      <td>13.14</td>\n",
       "    </tr>\n",
       "    <tr>\n",
       "      <th>3</th>\n",
       "      <td>1843</td>\n",
       "      <td>21.25</td>\n",
       "      <td>8.17</td>\n",
       "      <td>13.08</td>\n",
       "    </tr>\n",
       "    <tr>\n",
       "      <th>4</th>\n",
       "      <td>1844</td>\n",
       "      <td>20.86</td>\n",
       "      <td>7.65</td>\n",
       "      <td>13.21</td>\n",
       "    </tr>\n",
       "  </tbody>\n",
       "</table>\n",
       "</div>"
      ],
      "text/plain": [
       "   year  avg_temp_gz  avg_temp_global  avg_temp_diff\n",
       "0  1840        20.98             7.80          13.18\n",
       "1  1841        21.02             7.69          13.33\n",
       "2  1842        21.16             8.02          13.14\n",
       "3  1843        21.25             8.17          13.08\n",
       "4  1844        20.86             7.65          13.21"
      ]
     },
     "execution_count": 25,
     "metadata": {},
     "output_type": "execute_result"
    }
   ],
   "source": [
    "df.head()"
   ]
  },
  {
   "cell_type": "markdown",
   "metadata": {},
   "source": [
    "## 4. Simple Moving Average"
   ]
  },
  {
   "cell_type": "code",
   "execution_count": 26,
   "metadata": {},
   "outputs": [],
   "source": [
    "df['SMA_10_gz'] = df.iloc[:, 1].rolling(window=10).mean().round(2)\n",
    "df['SMA_10_global'] = df.iloc[:, 2].rolling(window=10).mean().round(2)\n",
    "df['SMA_10_diff'] = df['SMA_10_gz'] - df['SMA_10_global']"
   ]
  },
  {
   "cell_type": "code",
   "execution_count": 27,
   "metadata": {},
   "outputs": [
    {
     "data": {
      "text/html": [
       "<div>\n",
       "<style scoped>\n",
       "    .dataframe tbody tr th:only-of-type {\n",
       "        vertical-align: middle;\n",
       "    }\n",
       "\n",
       "    .dataframe tbody tr th {\n",
       "        vertical-align: top;\n",
       "    }\n",
       "\n",
       "    .dataframe thead th {\n",
       "        text-align: right;\n",
       "    }\n",
       "</style>\n",
       "<table border=\"1\" class=\"dataframe\">\n",
       "  <thead>\n",
       "    <tr style=\"text-align: right;\">\n",
       "      <th></th>\n",
       "      <th>year</th>\n",
       "      <th>avg_temp_gz</th>\n",
       "      <th>avg_temp_global</th>\n",
       "      <th>avg_temp_diff</th>\n",
       "      <th>SMA_10_gz</th>\n",
       "      <th>SMA_10_global</th>\n",
       "      <th>SMA_10_diff</th>\n",
       "    </tr>\n",
       "  </thead>\n",
       "  <tbody>\n",
       "    <tr>\n",
       "      <th>0</th>\n",
       "      <td>1840</td>\n",
       "      <td>20.98</td>\n",
       "      <td>7.80</td>\n",
       "      <td>13.18</td>\n",
       "      <td>NaN</td>\n",
       "      <td>NaN</td>\n",
       "      <td>NaN</td>\n",
       "    </tr>\n",
       "    <tr>\n",
       "      <th>1</th>\n",
       "      <td>1841</td>\n",
       "      <td>21.02</td>\n",
       "      <td>7.69</td>\n",
       "      <td>13.33</td>\n",
       "      <td>NaN</td>\n",
       "      <td>NaN</td>\n",
       "      <td>NaN</td>\n",
       "    </tr>\n",
       "    <tr>\n",
       "      <th>2</th>\n",
       "      <td>1842</td>\n",
       "      <td>21.16</td>\n",
       "      <td>8.02</td>\n",
       "      <td>13.14</td>\n",
       "      <td>NaN</td>\n",
       "      <td>NaN</td>\n",
       "      <td>NaN</td>\n",
       "    </tr>\n",
       "    <tr>\n",
       "      <th>3</th>\n",
       "      <td>1843</td>\n",
       "      <td>21.25</td>\n",
       "      <td>8.17</td>\n",
       "      <td>13.08</td>\n",
       "      <td>NaN</td>\n",
       "      <td>NaN</td>\n",
       "      <td>NaN</td>\n",
       "    </tr>\n",
       "    <tr>\n",
       "      <th>4</th>\n",
       "      <td>1844</td>\n",
       "      <td>20.86</td>\n",
       "      <td>7.65</td>\n",
       "      <td>13.21</td>\n",
       "      <td>NaN</td>\n",
       "      <td>NaN</td>\n",
       "      <td>NaN</td>\n",
       "    </tr>\n",
       "    <tr>\n",
       "      <th>5</th>\n",
       "      <td>1845</td>\n",
       "      <td>20.84</td>\n",
       "      <td>7.85</td>\n",
       "      <td>12.99</td>\n",
       "      <td>NaN</td>\n",
       "      <td>NaN</td>\n",
       "      <td>NaN</td>\n",
       "    </tr>\n",
       "    <tr>\n",
       "      <th>6</th>\n",
       "      <td>1846</td>\n",
       "      <td>21.46</td>\n",
       "      <td>8.55</td>\n",
       "      <td>12.91</td>\n",
       "      <td>NaN</td>\n",
       "      <td>NaN</td>\n",
       "      <td>NaN</td>\n",
       "    </tr>\n",
       "    <tr>\n",
       "      <th>7</th>\n",
       "      <td>1847</td>\n",
       "      <td>21.07</td>\n",
       "      <td>8.09</td>\n",
       "      <td>12.98</td>\n",
       "      <td>NaN</td>\n",
       "      <td>NaN</td>\n",
       "      <td>NaN</td>\n",
       "    </tr>\n",
       "    <tr>\n",
       "      <th>8</th>\n",
       "      <td>1848</td>\n",
       "      <td>20.75</td>\n",
       "      <td>7.98</td>\n",
       "      <td>12.77</td>\n",
       "      <td>NaN</td>\n",
       "      <td>NaN</td>\n",
       "      <td>NaN</td>\n",
       "    </tr>\n",
       "    <tr>\n",
       "      <th>9</th>\n",
       "      <td>1849</td>\n",
       "      <td>21.03</td>\n",
       "      <td>7.98</td>\n",
       "      <td>13.05</td>\n",
       "      <td>21.04</td>\n",
       "      <td>7.98</td>\n",
       "      <td>13.06</td>\n",
       "    </tr>\n",
       "  </tbody>\n",
       "</table>\n",
       "</div>"
      ],
      "text/plain": [
       "   year  avg_temp_gz  avg_temp_global  avg_temp_diff  SMA_10_gz  \\\n",
       "0  1840        20.98             7.80          13.18        NaN   \n",
       "1  1841        21.02             7.69          13.33        NaN   \n",
       "2  1842        21.16             8.02          13.14        NaN   \n",
       "3  1843        21.25             8.17          13.08        NaN   \n",
       "4  1844        20.86             7.65          13.21        NaN   \n",
       "5  1845        20.84             7.85          12.99        NaN   \n",
       "6  1846        21.46             8.55          12.91        NaN   \n",
       "7  1847        21.07             8.09          12.98        NaN   \n",
       "8  1848        20.75             7.98          12.77        NaN   \n",
       "9  1849        21.03             7.98          13.05      21.04   \n",
       "\n",
       "   SMA_10_global  SMA_10_diff  \n",
       "0            NaN          NaN  \n",
       "1            NaN          NaN  \n",
       "2            NaN          NaN  \n",
       "3            NaN          NaN  \n",
       "4            NaN          NaN  \n",
       "5            NaN          NaN  \n",
       "6            NaN          NaN  \n",
       "7            NaN          NaN  \n",
       "8            NaN          NaN  \n",
       "9           7.98        13.06  "
      ]
     },
     "execution_count": 27,
     "metadata": {},
     "output_type": "execute_result"
    }
   ],
   "source": [
    "df.head(10)"
   ]
  },
  {
   "cell_type": "code",
   "execution_count": 28,
   "metadata": {},
   "outputs": [
    {
     "name": "stdout",
     "output_type": "stream",
     "text": [
      "<class 'pandas.core.frame.DataFrame'>\n",
      "Int64Index: 174 entries, 0 to 173\n",
      "Data columns (total 7 columns):\n",
      "year               174 non-null int64\n",
      "avg_temp_gz        174 non-null float64\n",
      "avg_temp_global    174 non-null float64\n",
      "avg_temp_diff      174 non-null float64\n",
      "SMA_10_gz          165 non-null float64\n",
      "SMA_10_global      165 non-null float64\n",
      "SMA_10_diff        165 non-null float64\n",
      "dtypes: float64(6), int64(1)\n",
      "memory usage: 10.9 KB\n"
     ]
    }
   ],
   "source": [
    "df.info()"
   ]
  },
  {
   "cell_type": "code",
   "execution_count": 29,
   "metadata": {},
   "outputs": [
    {
     "data": {
      "text/html": [
       "<div>\n",
       "<style scoped>\n",
       "    .dataframe tbody tr th:only-of-type {\n",
       "        vertical-align: middle;\n",
       "    }\n",
       "\n",
       "    .dataframe tbody tr th {\n",
       "        vertical-align: top;\n",
       "    }\n",
       "\n",
       "    .dataframe thead th {\n",
       "        text-align: right;\n",
       "    }\n",
       "</style>\n",
       "<table border=\"1\" class=\"dataframe\">\n",
       "  <thead>\n",
       "    <tr style=\"text-align: right;\">\n",
       "      <th></th>\n",
       "      <th>year</th>\n",
       "      <th>avg_temp_gz</th>\n",
       "      <th>avg_temp_global</th>\n",
       "      <th>avg_temp_diff</th>\n",
       "      <th>SMA_10_gz</th>\n",
       "      <th>SMA_10_global</th>\n",
       "      <th>SMA_10_diff</th>\n",
       "    </tr>\n",
       "  </thead>\n",
       "  <tbody>\n",
       "    <tr>\n",
       "      <th>count</th>\n",
       "      <td>174.000000</td>\n",
       "      <td>174.000000</td>\n",
       "      <td>174.000000</td>\n",
       "      <td>174.000000</td>\n",
       "      <td>165.000000</td>\n",
       "      <td>165.000000</td>\n",
       "      <td>165.000000</td>\n",
       "    </tr>\n",
       "    <tr>\n",
       "      <th>mean</th>\n",
       "      <td>1926.500000</td>\n",
       "      <td>21.611207</td>\n",
       "      <td>8.524713</td>\n",
       "      <td>13.086494</td>\n",
       "      <td>21.609636</td>\n",
       "      <td>8.513576</td>\n",
       "      <td>13.096061</td>\n",
       "    </tr>\n",
       "    <tr>\n",
       "      <th>std</th>\n",
       "      <td>50.373604</td>\n",
       "      <td>0.485201</td>\n",
       "      <td>0.469801</td>\n",
       "      <td>0.333156</td>\n",
       "      <td>0.362001</td>\n",
       "      <td>0.400309</td>\n",
       "      <td>0.167898</td>\n",
       "    </tr>\n",
       "    <tr>\n",
       "      <th>min</th>\n",
       "      <td>1840.000000</td>\n",
       "      <td>20.400000</td>\n",
       "      <td>7.560000</td>\n",
       "      <td>12.120000</td>\n",
       "      <td>20.950000</td>\n",
       "      <td>7.970000</td>\n",
       "      <td>12.610000</td>\n",
       "    </tr>\n",
       "    <tr>\n",
       "      <th>25%</th>\n",
       "      <td>1883.250000</td>\n",
       "      <td>21.272500</td>\n",
       "      <td>8.172500</td>\n",
       "      <td>12.862500</td>\n",
       "      <td>21.310000</td>\n",
       "      <td>8.190000</td>\n",
       "      <td>13.020000</td>\n",
       "    </tr>\n",
       "    <tr>\n",
       "      <th>50%</th>\n",
       "      <td>1926.500000</td>\n",
       "      <td>21.590000</td>\n",
       "      <td>8.520000</td>\n",
       "      <td>13.090000</td>\n",
       "      <td>21.580000</td>\n",
       "      <td>8.530000</td>\n",
       "      <td>13.120000</td>\n",
       "    </tr>\n",
       "    <tr>\n",
       "      <th>75%</th>\n",
       "      <td>1969.750000</td>\n",
       "      <td>21.980000</td>\n",
       "      <td>8.760000</td>\n",
       "      <td>13.310000</td>\n",
       "      <td>21.920000</td>\n",
       "      <td>8.690000</td>\n",
       "      <td>13.210000</td>\n",
       "    </tr>\n",
       "    <tr>\n",
       "      <th>max</th>\n",
       "      <td>2013.000000</td>\n",
       "      <td>22.930000</td>\n",
       "      <td>9.730000</td>\n",
       "      <td>14.130000</td>\n",
       "      <td>22.330000</td>\n",
       "      <td>9.560000</td>\n",
       "      <td>13.440000</td>\n",
       "    </tr>\n",
       "  </tbody>\n",
       "</table>\n",
       "</div>"
      ],
      "text/plain": [
       "              year  avg_temp_gz  avg_temp_global  avg_temp_diff   SMA_10_gz  \\\n",
       "count   174.000000   174.000000       174.000000     174.000000  165.000000   \n",
       "mean   1926.500000    21.611207         8.524713      13.086494   21.609636   \n",
       "std      50.373604     0.485201         0.469801       0.333156    0.362001   \n",
       "min    1840.000000    20.400000         7.560000      12.120000   20.950000   \n",
       "25%    1883.250000    21.272500         8.172500      12.862500   21.310000   \n",
       "50%    1926.500000    21.590000         8.520000      13.090000   21.580000   \n",
       "75%    1969.750000    21.980000         8.760000      13.310000   21.920000   \n",
       "max    2013.000000    22.930000         9.730000      14.130000   22.330000   \n",
       "\n",
       "       SMA_10_global  SMA_10_diff  \n",
       "count     165.000000   165.000000  \n",
       "mean        8.513576    13.096061  \n",
       "std         0.400309     0.167898  \n",
       "min         7.970000    12.610000  \n",
       "25%         8.190000    13.020000  \n",
       "50%         8.530000    13.120000  \n",
       "75%         8.690000    13.210000  \n",
       "max         9.560000    13.440000  "
      ]
     },
     "execution_count": 29,
     "metadata": {},
     "output_type": "execute_result"
    }
   ],
   "source": [
    "df.describe()"
   ]
  },
  {
   "cell_type": "markdown",
   "metadata": {},
   "source": [
    "## 5. Line Chart"
   ]
  },
  {
   "cell_type": "code",
   "execution_count": 30,
   "metadata": {},
   "outputs": [],
   "source": [
    "?plt.subplot"
   ]
  },
  {
   "cell_type": "code",
   "execution_count": 31,
   "metadata": {},
   "outputs": [],
   "source": [
    "x = df['year']\n",
    "\n",
    "y1 = df['avg_temp_gz']\n",
    "y2 = df['avg_temp_global']\n",
    "y3 = df['avg_temp_diff']\n",
    "y4 = df['SMA_10_gz']\n",
    "y5 = df['SMA_10_global']\n",
    "y6 = df['SMA_10_diff']"
   ]
  },
  {
   "cell_type": "code",
   "execution_count": 32,
   "metadata": {},
   "outputs": [
    {
     "data": {
      "image/png": "[encoded data removed]",
      "text/plain": [
       "<Figure size 1080x720 with 3 Axes>"
      ]
     },
     "metadata": {
      "needs_background": "light"
     },
     "output_type": "display_data"
    }
   ],
   "source": [
    "plt.figure(figsize=[15, 10])\n",
    "\n",
    "ax1 = plt.subplot(212)\n",
    "ax1.margins(0.05)\n",
    "ax1.plot(x, y1, label='Years of Guangzhou')\n",
    "ax1.plot(x, y2, label='Years of Global')\n",
    "ax1.plot(x, y3, label=\"Diff\", linestyle='--')\n",
    "ax1.set_title('Guangzhou VS. Global Temperature by Years')\n",
    "ax1.grid(True)\n",
    "ax1.set(xlabel='Year', ylabel='Temperature')\n",
    "\n",
    "ax2 = plt.subplot(221)\n",
    "ax2.margins(x=0.01, y=0.1)\n",
    "ax2.plot(x, y1,)\n",
    "ax2.set_title('Zoomed in Guangzhou')\n",
    "ax2.grid(True)\n",
    "ax2.set(xlabel='Year', ylabel='Temperature')\n",
    "\n",
    "ax3 = plt.subplot(222)\n",
    "ax3.margins(x=0.01, y=0.1)\n",
    "ax3.plot(x, y2)\n",
    "ax3.set_title('Zoomed in Global')\n",
    "ax3.grid(True)\n",
    "ax3.set(xlabel='Year', ylabel='Temperature')\n",
    "plt.show();"
   ]
  },
  {
   "cell_type": "code",
   "execution_count": 33,
   "metadata": {
    "scrolled": true
   },
   "outputs": [
    {
     "name": "stdout",
     "output_type": "stream",
     "text": [
      "Saving figure line_chart_trends\n"
     ]
    },
    {
     "data": {
      "image/png": "[encoded data removed]",
      "text/plain": [
       "<Figure size 1080x720 with 3 Axes>"
      ]
     },
     "metadata": {
      "needs_background": "light"
     },
     "output_type": "display_data"
    }
   ],
   "source": [
    "plt.figure(figsize=[15, 10])\n",
    "\n",
    "ax4 = plt.subplot(212)\n",
    "ax4.grid(True)\n",
    "ax4.margins(0.05)\n",
    "ax4.plot(x, y4, label='Years of Guangzhou')\n",
    "ax4.plot(x, y5, label='Years of Global')\n",
    "ax4.plot(x, y6, label=\"Diff of Guangzhou and Global\", linestyle='--')\n",
    "ax4.set_title('Guangzhou VS. Global Temperature by SMA 10 Years')\n",
    "ax4.legend()\n",
    "\n",
    "ax5 = plt.subplot(221)\n",
    "ax5.grid(True)\n",
    "ax5.margins(x=0.01, y=0.1)\n",
    "ax5.plot(x, y4)\n",
    "ax5.set_title('Zoomed in Guangzhou')\n",
    "\n",
    "\n",
    "ax6 = plt.subplot(222)\n",
    "ax6.grid(True)\n",
    "ax6.margins(x=0.01, y=0.1)\n",
    "ax6.plot(x, y5)\n",
    "ax6.set_title('Zoomed in Global')\n",
    "save_fig(\"line_chart_trends\")"
   ]
  },
  {
   "cell_type": "markdown",
   "metadata": {},
   "source": [
    "## 6. Observations"
   ]
  },
  {
   "cell_type": "code",
   "execution_count": 34,
   "metadata": {},
   "outputs": [
    {
     "data": {
      "text/plain": [
       "1.9499999999999993"
      ]
     },
     "execution_count": 34,
     "metadata": {},
     "output_type": "execute_result"
    }
   ],
   "source": [
    "# calculate the difference temperature between 1840 to 2013 in Guangzhou\n",
    "(df.query(\"year==2013\").avg_temp_gz.values - df.query(\"year==1840\").avg_temp_gz.values)[0]"
   ]
  },
  {
   "cell_type": "code",
   "execution_count": 35,
   "metadata": {},
   "outputs": [
    {
     "data": {
      "text/plain": [
       "1.8099999999999996"
      ]
     },
     "execution_count": 35,
     "metadata": {},
     "output_type": "execute_result"
    }
   ],
   "source": [
    "# calculate the difference temperature between 1840 to 2013 in global\n",
    "(df.query(\"year==2013\").avg_temp_global.values - df.query(\"year==1840\").avg_temp_global.values)[0]"
   ]
  },
  {
   "cell_type": "code",
   "execution_count": 36,
   "metadata": {
    "scrolled": true
   },
   "outputs": [
    {
     "data": {
      "text/plain": [
       "(21.61, 8.52, 13.09)"
      ]
     },
     "execution_count": 36,
     "metadata": {},
     "output_type": "execute_result"
    }
   ],
   "source": [
    "# show the average temperature of Guangzhou and global over the last few hundread years\n",
    "df['avg_temp_gz'].mean().round(2), df['avg_temp_global'].mean().round(2), (df['avg_temp_gz'].mean() - df['avg_temp_global'].mean()).round(2)"
   ]
  },
  {
   "cell_type": "code",
   "execution_count": 37,
   "metadata": {},
   "outputs": [
    {
     "data": {
      "text/plain": [
       "(22.93, 20.4)"
      ]
     },
     "execution_count": 37,
     "metadata": {},
     "output_type": "execute_result"
    }
   ],
   "source": [
    "# show the range of average temperature of Guangzhou\n",
    "df['avg_temp_gz'].max().round(2), df['avg_temp_gz'].min().round(2),"
   ]
  },
  {
   "cell_type": "code",
   "execution_count": 38,
   "metadata": {},
   "outputs": [
    {
     "data": {
      "text/plain": [
       "(9.73, 7.56)"
      ]
     },
     "execution_count": 38,
     "metadata": {},
     "output_type": "execute_result"
    }
   ],
   "source": [
    "# show the range of average temperature of Guangzhou\n",
    "df['avg_temp_global'].max().round(2), df['avg_temp_global'].min().round(2),"
   ]
  },
  {
   "cell_type": "markdown",
   "metadata": {},
   "source": [
    "**Similarities**"
   ]
  },
  {
   "cell_type": "markdown",
   "metadata": {},
   "source": [
    "* Guangzhou and global average temperature are both observed to be generally increasing trend in the same upwards pattern over the last few hundred years."
   ]
  },
  {
   "cell_type": "markdown",
   "metadata": {},
   "source": [
    "* Guangzhou and global average temperature have similar local maximum or minimum in the same year."
   ]
  },
  {
   "cell_type": "markdown",
   "metadata": {},
   "source": [
    "* Both Guangzhou and global have a generally consistent increasing trend over the last few hundred years."
   ]
  },
  {
   "cell_type": "markdown",
   "metadata": {},
   "source": [
    "**Differences**"
   ]
  },
  {
   "cell_type": "markdown",
   "metadata": {},
   "source": [
    "* Guangzhou is hotter on average compared to the global average, and the mean annual temperature over Guangzhou was 21.61 degree Celsius(°C) higher than 13.09 degree Celsius(°C)degree Celsius compared with the global."
   ]
  },
  {
   "cell_type": "markdown",
   "metadata": {},
   "source": [
    "* The range average temperature of Guangzhou is between 20 to 23 degree Celsius(°C) while the global average is between 7 to 10 degree Celsius(°C)."
   ]
  },
  {
   "cell_type": "markdown",
   "metadata": {},
   "source": [
    "* The difference between Guangzhou and Global average is decresing since last 50 years (1963-2013), which means the increase of average temperature in global has generally been faster than Guangzhou."
   ]
  },
  {
   "cell_type": "markdown",
   "metadata": {},
   "source": [
    "* Guangzhou average temperature has decreased over recent five years, while the global average temperature show a rising sharply trend."
   ]
  }
 ],
 "metadata": {
  "kernelspec": {
   "display_name": "Python 3",
   "language": "python",
   "name": "python3"
  },
  "language_info": {
   "codemirror_mode": {
    "name": "ipython",
    "version": 3
   },
   "file_extension": ".py",
   "mimetype": "text/x-python",
   "name": "python",
   "nbconvert_exporter": "python",
   "pygments_lexer": "ipython3",
   "version": "3.7.3"
  }
 },
 "nbformat": 4,
 "nbformat_minor": 2
}
